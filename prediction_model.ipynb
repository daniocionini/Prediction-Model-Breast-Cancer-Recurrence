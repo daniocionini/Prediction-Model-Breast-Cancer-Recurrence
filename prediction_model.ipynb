{
 "cells": [
  {
   "cell_type": "code",
   "execution_count": 1,
   "metadata": {},
   "outputs": [],
   "source": [
    "# import configurations saved from the EDA project\n",
    "from configurations import *"
   ]
  },
  {
   "cell_type": "code",
   "execution_count": 2,
   "metadata": {},
   "outputs": [],
   "source": [
    "# import the necessary libraries\n",
    "from sklearn import preprocessing\n",
    "import math\n",
    "import seaborn as sns\n",
    "\n",
    "from sklearn.ensemble import RandomForestClassifier, VotingClassifier\n",
    "from sklearn.linear_model import LogisticRegression\n",
    "from sklearn.tree import DecisionTreeClassifier\n",
    "from sklearn.neighbors import KNeighborsClassifier\n",
    "from sklearn.svm import SVC\n",
    "from sklearn.discriminant_analysis import LinearDiscriminantAnalysis, QuadraticDiscriminantAnalysis\n",
    "from sklearn.model_selection import cross_val_score, RepeatedStratifiedKFold\n",
    "\n",
    "from sklearn.metrics import accuracy_score, f1_score, roc_auc_score, roc_curve, auc, make_scorer, classification_report, recall_score, precision_score, confusion_matrix, average_precision_score, precision_recall_curve \n",
    "from sklearn.model_selection import cross_val_score, learning_curve, GridSearchCV, StratifiedKFold\n",
    "\n",
    "from imblearn.over_sampling import RandomOverSampler\n",
    "from imblearn.over_sampling import SMOTE\n",
    "\n",
    "import shap\n"
   ]
  },
  {
   "cell_type": "markdown",
   "metadata": {},
   "source": [
    "#### Feature Pre-Processing"
   ]
  },
  {
   "cell_type": "markdown",
   "metadata": {},
   "source": [
    "- nominal features\n",
    "    - menopause\n",
    "    - node_caps\n",
    "    - breast\n",
    "    - breast_quad\n",
    "    - irrad\n",
    "    - class (*target feature*)\n",
    "- ordinal features\n",
    "    - age\n",
    "    - tumour_size\n",
    "    - inv_nodes\n",
    "- numerical feature\n",
    "    - deg_malig"
   ]
  },
  {
   "cell_type": "code",
   "execution_count": 3,
   "metadata": {},
   "outputs": [],
   "source": [
    "columns_to_keep = ['node_caps', 'inv_nodes', 'irrad', 'deg_malig']\n",
    "X_train = X_train[columns_to_keep]"
   ]
  },
  {
   "cell_type": "code",
   "execution_count": 4,
   "metadata": {},
   "outputs": [],
   "source": [
    "# Encode nominal features using one-hot encoding with drop_first=True\n",
    "X_train_nominal = pd.get_dummies(X_train[['node_caps', 'irrad']], drop_first=True)"
   ]
  },
  {
   "cell_type": "code",
   "execution_count": 5,
   "metadata": {},
   "outputs": [],
   "source": [
    "# Perform label encoding for ordinal features\n",
    "label_encoder = preprocessing.LabelEncoder()\n",
    "X_train_ordinal = X_train[['inv_nodes']].copy()  \n",
    "for col in X_train_ordinal.columns:\n",
    "    X_train_ordinal.loc[:, col] = label_encoder.fit_transform(X_train_ordinal[col])"
   ]
  },
  {
   "cell_type": "code",
   "execution_count": 6,
   "metadata": {},
   "outputs": [],
   "source": [
    "X_train_numerical = X_train[['deg_malig']]"
   ]
  },
  {
   "cell_type": "code",
   "execution_count": 7,
   "metadata": {},
   "outputs": [],
   "source": [
    "X_train_encoded = pd.concat([X_train_nominal, X_train_ordinal, X_train_numerical], axis=1)"
   ]
  },
  {
   "cell_type": "code",
   "execution_count": 8,
   "metadata": {},
   "outputs": [
    {
     "data": {
      "text/html": [
       "<div>\n",
       "<style scoped>\n",
       "    .dataframe tbody tr th:only-of-type {\n",
       "        vertical-align: middle;\n",
       "    }\n",
       "\n",
       "    .dataframe tbody tr th {\n",
       "        vertical-align: top;\n",
       "    }\n",
       "\n",
       "    .dataframe thead th {\n",
       "        text-align: right;\n",
       "    }\n",
       "</style>\n",
       "<table border=\"1\" class=\"dataframe\">\n",
       "  <thead>\n",
       "    <tr style=\"text-align: right;\">\n",
       "      <th></th>\n",
       "      <th>node_caps_yes</th>\n",
       "      <th>irrad_yes</th>\n",
       "      <th>inv_nodes</th>\n",
       "      <th>deg_malig</th>\n",
       "    </tr>\n",
       "  </thead>\n",
       "  <tbody>\n",
       "    <tr>\n",
       "      <th>215</th>\n",
       "      <td>False</td>\n",
       "      <td>False</td>\n",
       "      <td>0</td>\n",
       "      <td>2</td>\n",
       "    </tr>\n",
       "    <tr>\n",
       "      <th>41</th>\n",
       "      <td>False</td>\n",
       "      <td>False</td>\n",
       "      <td>0</td>\n",
       "      <td>2</td>\n",
       "    </tr>\n",
       "    <tr>\n",
       "      <th>24</th>\n",
       "      <td>False</td>\n",
       "      <td>False</td>\n",
       "      <td>0</td>\n",
       "      <td>2</td>\n",
       "    </tr>\n",
       "    <tr>\n",
       "      <th>161</th>\n",
       "      <td>True</td>\n",
       "      <td>False</td>\n",
       "      <td>4</td>\n",
       "      <td>2</td>\n",
       "    </tr>\n",
       "    <tr>\n",
       "      <th>144</th>\n",
       "      <td>True</td>\n",
       "      <td>False</td>\n",
       "      <td>5</td>\n",
       "      <td>3</td>\n",
       "    </tr>\n",
       "  </tbody>\n",
       "</table>\n",
       "</div>"
      ],
      "text/plain": [
       "     node_caps_yes  irrad_yes inv_nodes  deg_malig\n",
       "215          False      False         0          2\n",
       "41           False      False         0          2\n",
       "24           False      False         0          2\n",
       "161           True      False         4          2\n",
       "144           True      False         5          3"
      ]
     },
     "execution_count": 8,
     "metadata": {},
     "output_type": "execute_result"
    }
   ],
   "source": [
    "X_train_encoded.head()"
   ]
  },
  {
   "cell_type": "code",
   "execution_count": 9,
   "metadata": {},
   "outputs": [],
   "source": [
    "y_train_encoded = y_train.replace(['no-recurrence-events', 'recurrence-events'], [0,1])"
   ]
  },
  {
   "cell_type": "code",
   "execution_count": 10,
   "metadata": {},
   "outputs": [],
   "source": [
    "# create a validation set to train and evaluate the model\n",
    "X_train_eval, X_eval, y_train_eval, y_eval = train_test_split(X_train_encoded, y_train_encoded, test_size=0.2, stratify=y_train_encoded, random_state=42)"
   ]
  },
  {
   "cell_type": "markdown",
   "metadata": {},
   "source": [
    "#### Dirty Training of Models for Benchmark"
   ]
  },
  {
   "cell_type": "code",
   "execution_count": 11,
   "metadata": {},
   "outputs": [
    {
     "name": "stdout",
     "output_type": "stream",
     "text": [
      "RandomForestClassifier()\n",
      "              precision    recall  f1-score   support\n",
      "\n",
      "           0       0.76      0.91      0.83        32\n",
      "           1       0.62      0.36      0.45        14\n",
      "\n",
      "    accuracy                           0.74        46\n",
      "   macro avg       0.69      0.63      0.64        46\n",
      "weighted avg       0.72      0.74      0.71        46\n",
      "\n",
      "LogisticRegression()\n",
      "              precision    recall  f1-score   support\n",
      "\n",
      "           0       0.77      0.94      0.85        32\n",
      "           1       0.71      0.36      0.48        14\n",
      "\n",
      "    accuracy                           0.76        46\n",
      "   macro avg       0.74      0.65      0.66        46\n",
      "weighted avg       0.75      0.76      0.73        46\n",
      "\n",
      "DecisionTreeClassifier()\n",
      "              precision    recall  f1-score   support\n",
      "\n",
      "           0       0.72      0.97      0.83        32\n",
      "           1       0.67      0.14      0.24        14\n",
      "\n",
      "    accuracy                           0.72        46\n",
      "   macro avg       0.69      0.56      0.53        46\n",
      "weighted avg       0.70      0.72      0.65        46\n",
      "\n",
      "KNeighborsClassifier()\n",
      "              precision    recall  f1-score   support\n",
      "\n",
      "           0       0.76      0.91      0.83        32\n",
      "           1       0.62      0.36      0.45        14\n",
      "\n",
      "    accuracy                           0.74        46\n",
      "   macro avg       0.69      0.63      0.64        46\n",
      "weighted avg       0.72      0.74      0.71        46\n",
      "\n",
      "SVC()\n",
      "              precision    recall  f1-score   support\n",
      "\n",
      "           0       0.76      0.97      0.85        32\n",
      "           1       0.80      0.29      0.42        14\n",
      "\n",
      "    accuracy                           0.76        46\n",
      "   macro avg       0.78      0.63      0.64        46\n",
      "weighted avg       0.77      0.76      0.72        46\n",
      "\n",
      "LinearDiscriminantAnalysis()\n",
      "              precision    recall  f1-score   support\n",
      "\n",
      "           0       0.74      0.91      0.82        32\n",
      "           1       0.57      0.29      0.38        14\n",
      "\n",
      "    accuracy                           0.72        46\n",
      "   macro avg       0.66      0.60      0.60        46\n",
      "weighted avg       0.69      0.72      0.68        46\n",
      "\n",
      "QuadraticDiscriminantAnalysis()\n",
      "              precision    recall  f1-score   support\n",
      "\n",
      "           0       0.82      0.72      0.77        32\n",
      "           1       0.50      0.64      0.56        14\n",
      "\n",
      "    accuracy                           0.70        46\n",
      "   macro avg       0.66      0.68      0.66        46\n",
      "weighted avg       0.72      0.70      0.70        46\n",
      "\n"
     ]
    }
   ],
   "source": [
    "models = [\n",
    "    RandomForestClassifier(),\n",
    "    LogisticRegression(),\n",
    "    DecisionTreeClassifier(),\n",
    "    KNeighborsClassifier(),\n",
    "    SVC(),\n",
    "    LinearDiscriminantAnalysis(),\n",
    "    QuadraticDiscriminantAnalysis()\n",
    "]\n",
    "\n",
    "for model in models:\n",
    "    model.fit(X_train_eval, y_train_eval)\n",
    "    y_pred = model.predict(X_eval)\n",
    "    report = classification_report(y_eval, y_pred)\n",
    "    print(model)\n",
    "    print(report)"
   ]
  },
  {
   "cell_type": "markdown",
   "metadata": {},
   "source": [
    "#### Training of Models with Resampling"
   ]
  },
  {
   "cell_type": "code",
   "execution_count": 12,
   "metadata": {},
   "outputs": [],
   "source": [
    "ros = RandomOverSampler(random_state=42,\n",
    "                        sampling_strategy='minority'\n",
    "                        )\n",
    "#ros = SMOTE(random_state=42)\n",
    "#X_train_resampled, y_train_resampled = ros.fit_resample(X_train_eval, y_train_eval)\n",
    "X_train_resampled, y_train_resampled = X_train_eval, y_train_eval"
   ]
  },
  {
   "cell_type": "code",
   "execution_count": 13,
   "metadata": {},
   "outputs": [],
   "source": [
    "rfc_parameters = {\n",
    "    'n_estimators': [50, 200, 300, 500],\n",
    "    'max_depth': [3, 8, 15],\n",
    "    'min_samples_split': [2, 5, 10],\n",
    "    'class_weight': [{0:1, 1:2}]\n",
    "}\n",
    "\n",
    "knn_parameters = {\n",
    "    'n_neighbors': [5, 7],\n",
    "    'weights': ['uniform', 'distance'],\n",
    "    'algorithm': ['auto', 'kd_tree', 'brute'],\n",
    "    'leaf_size': [10, 30, 50]\n",
    "}\n",
    "\n",
    "lr_parameters = {\n",
    "    'penalty': ['l2', None], \n",
    "    'C': [0.001, 0.01, 0.1, 1, 10, 100],\n",
    "    'class_weight': [{0:1, 1:1.6}]\n",
    "}\n",
    "\n",
    "dtc_parameters = {\n",
    "    'max_depth': [None, 3, 5, 10, 15],\n",
    "    'min_samples_split': [2, 5, 10]\n",
    "}\n",
    "\n",
    "svc_parameters = {\n",
    "    'C': [0.001, 0.01, 0.1, 1, 10, 100],\n",
    "    'kernel': ['linear', 'rbf', 'poly', 'sigmoid']\n",
    "}\n",
    "\n",
    "lda_parameters = {\n",
    "    'solver': ['svd', 'lsqr', 'eigen']\n",
    "}\n",
    "\n",
    "qda_parameters = {\n",
    "    'store_covariance': [False, True]\n",
    "}"
   ]
  },
  {
   "cell_type": "code",
   "execution_count": 14,
   "metadata": {},
   "outputs": [],
   "source": [
    "def best_param(model, X_train, y_train, parameters):\n",
    "    cv = StratifiedKFold(n_splits=5, shuffle=True, random_state=42)\n",
    "    scorer = make_scorer(f1_score)\n",
    "    grid_search = GridSearchCV(estimator=model, param_grid=parameters, cv=cv, scoring=scorer, n_jobs=-1)\n",
    "    grid_search.fit(X_train, y_train)\n",
    "    best_params = grid_search.best_params_\n",
    "    model.set_params(**best_params)\n",
    "    return model\n",
    "\n",
    "\n",
    "def pred(model, X_train, y_train, X_test, y_test):\n",
    "    model.fit(X_train, y_train)\n",
    "    y_pred = model.predict(X_test)\n",
    "    report = classification_report(y_test, y_pred, output_dict=True)\n",
    "    return model, report\n"
   ]
  },
  {
   "cell_type": "code",
   "execution_count": 15,
   "metadata": {},
   "outputs": [
    {
     "name": "stderr",
     "output_type": "stream",
     "text": [
      "Setting penalty=None will ignore the C and l1_ratio parameters\n",
      "Setting penalty=None will ignore the C and l1_ratio parameters\n"
     ]
    },
    {
     "data": {
      "text/html": [
       "<style type=\"text/css\">\n",
       "#T_01e5d_row0_col6, #T_01e5d_row1_col6, #T_01e5d_row2_col6, #T_01e5d_row3_col6, #T_01e5d_row4_col6, #T_01e5d_row5_col6, #T_01e5d_row6_col6 {\n",
       "  background-color: darkgreen;\n",
       "  color: white;\n",
       "}\n",
       "</style>\n",
       "<table id=\"T_01e5d\">\n",
       "  <thead>\n",
       "    <tr>\n",
       "      <th class=\"blank\" >&nbsp;</th>\n",
       "      <th class=\"blank level0\" >&nbsp;</th>\n",
       "      <th id=\"T_01e5d_level0_col0\" class=\"col_heading level0 col0\" >weighted avg_precision</th>\n",
       "      <th id=\"T_01e5d_level0_col1\" class=\"col_heading level0 col1\" >weighted avg_recall</th>\n",
       "      <th id=\"T_01e5d_level0_col2\" class=\"col_heading level0 col2\" >weighted avg_f1-score</th>\n",
       "      <th id=\"T_01e5d_level0_col3\" class=\"col_heading level0 col3\" >precision_0</th>\n",
       "      <th id=\"T_01e5d_level0_col4\" class=\"col_heading level0 col4\" >precision_1</th>\n",
       "      <th id=\"T_01e5d_level0_col5\" class=\"col_heading level0 col5\" >recall_0</th>\n",
       "      <th id=\"T_01e5d_level0_col6\" class=\"col_heading level0 col6\" >recall_1</th>\n",
       "      <th id=\"T_01e5d_level0_col7\" class=\"col_heading level0 col7\" >f1-score_0</th>\n",
       "      <th id=\"T_01e5d_level0_col8\" class=\"col_heading level0 col8\" >f1-score_1</th>\n",
       "      <th id=\"T_01e5d_level0_col9\" class=\"col_heading level0 col9\" >support_0</th>\n",
       "      <th id=\"T_01e5d_level0_col10\" class=\"col_heading level0 col10\" >support_1</th>\n",
       "    </tr>\n",
       "    <tr>\n",
       "      <th class=\"index_name level0\" >&nbsp;</th>\n",
       "      <th class=\"index_name level1\" >processing</th>\n",
       "      <th class=\"blank col0\" >&nbsp;</th>\n",
       "      <th class=\"blank col1\" >&nbsp;</th>\n",
       "      <th class=\"blank col2\" >&nbsp;</th>\n",
       "      <th class=\"blank col3\" >&nbsp;</th>\n",
       "      <th class=\"blank col4\" >&nbsp;</th>\n",
       "      <th class=\"blank col5\" >&nbsp;</th>\n",
       "      <th class=\"blank col6\" >&nbsp;</th>\n",
       "      <th class=\"blank col7\" >&nbsp;</th>\n",
       "      <th class=\"blank col8\" >&nbsp;</th>\n",
       "      <th class=\"blank col9\" >&nbsp;</th>\n",
       "      <th class=\"blank col10\" >&nbsp;</th>\n",
       "    </tr>\n",
       "  </thead>\n",
       "  <tbody>\n",
       "    <tr>\n",
       "      <th id=\"T_01e5d_level0_row0\" class=\"row_heading level0 row0\" >RandomForestClassifier()</th>\n",
       "      <th id=\"T_01e5d_level1_row0\" class=\"row_heading level1 row0\" >Combination Sampling</th>\n",
       "      <td id=\"T_01e5d_row0_col0\" class=\"data row0 col0\" >0.70</td>\n",
       "      <td id=\"T_01e5d_row0_col1\" class=\"data row0 col1\" >0.72</td>\n",
       "      <td id=\"T_01e5d_row0_col2\" class=\"data row0 col2\" >0.70</td>\n",
       "      <td id=\"T_01e5d_row0_col3\" class=\"data row0 col3\" >0.76</td>\n",
       "      <td id=\"T_01e5d_row0_col4\" class=\"data row0 col4\" >0.56</td>\n",
       "      <td id=\"T_01e5d_row0_col5\" class=\"data row0 col5\" >0.88</td>\n",
       "      <td id=\"T_01e5d_row0_col6\" class=\"data row0 col6\" >0.36</td>\n",
       "      <td id=\"T_01e5d_row0_col7\" class=\"data row0 col7\" >0.81</td>\n",
       "      <td id=\"T_01e5d_row0_col8\" class=\"data row0 col8\" >0.43</td>\n",
       "      <td id=\"T_01e5d_row0_col9\" class=\"data row0 col9\" >32</td>\n",
       "      <td id=\"T_01e5d_row0_col10\" class=\"data row0 col10\" >14</td>\n",
       "    </tr>\n",
       "    <tr>\n",
       "      <th id=\"T_01e5d_level0_row1\" class=\"row_heading level0 row1\" >LogisticRegression()</th>\n",
       "      <th id=\"T_01e5d_level1_row1\" class=\"row_heading level1 row1\" >Combination Sampling</th>\n",
       "      <td id=\"T_01e5d_row1_col0\" class=\"data row1 col0\" >0.70</td>\n",
       "      <td id=\"T_01e5d_row1_col1\" class=\"data row1 col1\" >0.72</td>\n",
       "      <td id=\"T_01e5d_row1_col2\" class=\"data row1 col2\" >0.71</td>\n",
       "      <td id=\"T_01e5d_row1_col3\" class=\"data row1 col3\" >0.77</td>\n",
       "      <td id=\"T_01e5d_row1_col4\" class=\"data row1 col4\" >0.55</td>\n",
       "      <td id=\"T_01e5d_row1_col5\" class=\"data row1 col5\" >0.84</td>\n",
       "      <td id=\"T_01e5d_row1_col6\" class=\"data row1 col6\" >0.43</td>\n",
       "      <td id=\"T_01e5d_row1_col7\" class=\"data row1 col7\" >0.81</td>\n",
       "      <td id=\"T_01e5d_row1_col8\" class=\"data row1 col8\" >0.48</td>\n",
       "      <td id=\"T_01e5d_row1_col9\" class=\"data row1 col9\" >32</td>\n",
       "      <td id=\"T_01e5d_row1_col10\" class=\"data row1 col10\" >14</td>\n",
       "    </tr>\n",
       "    <tr>\n",
       "      <th id=\"T_01e5d_level0_row2\" class=\"row_heading level0 row2\" >DecisionTreeClassifier()</th>\n",
       "      <th id=\"T_01e5d_level1_row2\" class=\"row_heading level1 row2\" >Combination Sampling</th>\n",
       "      <td id=\"T_01e5d_row2_col0\" class=\"data row2 col0\" >0.70</td>\n",
       "      <td id=\"T_01e5d_row2_col1\" class=\"data row2 col1\" >0.72</td>\n",
       "      <td id=\"T_01e5d_row2_col2\" class=\"data row2 col2\" >0.65</td>\n",
       "      <td id=\"T_01e5d_row2_col3\" class=\"data row2 col3\" >0.72</td>\n",
       "      <td id=\"T_01e5d_row2_col4\" class=\"data row2 col4\" >0.67</td>\n",
       "      <td id=\"T_01e5d_row2_col5\" class=\"data row2 col5\" >0.97</td>\n",
       "      <td id=\"T_01e5d_row2_col6\" class=\"data row2 col6\" >0.14</td>\n",
       "      <td id=\"T_01e5d_row2_col7\" class=\"data row2 col7\" >0.83</td>\n",
       "      <td id=\"T_01e5d_row2_col8\" class=\"data row2 col8\" >0.24</td>\n",
       "      <td id=\"T_01e5d_row2_col9\" class=\"data row2 col9\" >32</td>\n",
       "      <td id=\"T_01e5d_row2_col10\" class=\"data row2 col10\" >14</td>\n",
       "    </tr>\n",
       "    <tr>\n",
       "      <th id=\"T_01e5d_level0_row3\" class=\"row_heading level0 row3\" >KNeighborsClassifier()</th>\n",
       "      <th id=\"T_01e5d_level1_row3\" class=\"row_heading level1 row3\" >Combination Sampling</th>\n",
       "      <td id=\"T_01e5d_row3_col0\" class=\"data row3 col0\" >0.72</td>\n",
       "      <td id=\"T_01e5d_row3_col1\" class=\"data row3 col1\" >0.74</td>\n",
       "      <td id=\"T_01e5d_row3_col2\" class=\"data row3 col2\" >0.70</td>\n",
       "      <td id=\"T_01e5d_row3_col3\" class=\"data row3 col3\" >0.75</td>\n",
       "      <td id=\"T_01e5d_row3_col4\" class=\"data row3 col4\" >0.67</td>\n",
       "      <td id=\"T_01e5d_row3_col5\" class=\"data row3 col5\" >0.94</td>\n",
       "      <td id=\"T_01e5d_row3_col6\" class=\"data row3 col6\" >0.29</td>\n",
       "      <td id=\"T_01e5d_row3_col7\" class=\"data row3 col7\" >0.83</td>\n",
       "      <td id=\"T_01e5d_row3_col8\" class=\"data row3 col8\" >0.40</td>\n",
       "      <td id=\"T_01e5d_row3_col9\" class=\"data row3 col9\" >32</td>\n",
       "      <td id=\"T_01e5d_row3_col10\" class=\"data row3 col10\" >14</td>\n",
       "    </tr>\n",
       "    <tr>\n",
       "      <th id=\"T_01e5d_level0_row4\" class=\"row_heading level0 row4\" >SVC()</th>\n",
       "      <th id=\"T_01e5d_level1_row4\" class=\"row_heading level1 row4\" >Combination Sampling</th>\n",
       "      <td id=\"T_01e5d_row4_col0\" class=\"data row4 col0\" >0.72</td>\n",
       "      <td id=\"T_01e5d_row4_col1\" class=\"data row4 col1\" >0.74</td>\n",
       "      <td id=\"T_01e5d_row4_col2\" class=\"data row4 col2\" >0.70</td>\n",
       "      <td id=\"T_01e5d_row4_col3\" class=\"data row4 col3\" >0.75</td>\n",
       "      <td id=\"T_01e5d_row4_col4\" class=\"data row4 col4\" >0.67</td>\n",
       "      <td id=\"T_01e5d_row4_col5\" class=\"data row4 col5\" >0.94</td>\n",
       "      <td id=\"T_01e5d_row4_col6\" class=\"data row4 col6\" >0.29</td>\n",
       "      <td id=\"T_01e5d_row4_col7\" class=\"data row4 col7\" >0.83</td>\n",
       "      <td id=\"T_01e5d_row4_col8\" class=\"data row4 col8\" >0.40</td>\n",
       "      <td id=\"T_01e5d_row4_col9\" class=\"data row4 col9\" >32</td>\n",
       "      <td id=\"T_01e5d_row4_col10\" class=\"data row4 col10\" >14</td>\n",
       "    </tr>\n",
       "    <tr>\n",
       "      <th id=\"T_01e5d_level0_row5\" class=\"row_heading level0 row5\" >LinearDiscriminantAnalysis()</th>\n",
       "      <th id=\"T_01e5d_level1_row5\" class=\"row_heading level1 row5\" >Combination Sampling</th>\n",
       "      <td id=\"T_01e5d_row5_col0\" class=\"data row5 col0\" >0.69</td>\n",
       "      <td id=\"T_01e5d_row5_col1\" class=\"data row5 col1\" >0.72</td>\n",
       "      <td id=\"T_01e5d_row5_col2\" class=\"data row5 col2\" >0.68</td>\n",
       "      <td id=\"T_01e5d_row5_col3\" class=\"data row5 col3\" >0.74</td>\n",
       "      <td id=\"T_01e5d_row5_col4\" class=\"data row5 col4\" >0.57</td>\n",
       "      <td id=\"T_01e5d_row5_col5\" class=\"data row5 col5\" >0.91</td>\n",
       "      <td id=\"T_01e5d_row5_col6\" class=\"data row5 col6\" >0.29</td>\n",
       "      <td id=\"T_01e5d_row5_col7\" class=\"data row5 col7\" >0.82</td>\n",
       "      <td id=\"T_01e5d_row5_col8\" class=\"data row5 col8\" >0.38</td>\n",
       "      <td id=\"T_01e5d_row5_col9\" class=\"data row5 col9\" >32</td>\n",
       "      <td id=\"T_01e5d_row5_col10\" class=\"data row5 col10\" >14</td>\n",
       "    </tr>\n",
       "    <tr>\n",
       "      <th id=\"T_01e5d_level0_row6\" class=\"row_heading level0 row6\" >QuadraticDiscriminantAnalysis()</th>\n",
       "      <th id=\"T_01e5d_level1_row6\" class=\"row_heading level1 row6\" >Combination Sampling</th>\n",
       "      <td id=\"T_01e5d_row6_col0\" class=\"data row6 col0\" >0.72</td>\n",
       "      <td id=\"T_01e5d_row6_col1\" class=\"data row6 col1\" >0.70</td>\n",
       "      <td id=\"T_01e5d_row6_col2\" class=\"data row6 col2\" >0.70</td>\n",
       "      <td id=\"T_01e5d_row6_col3\" class=\"data row6 col3\" >0.82</td>\n",
       "      <td id=\"T_01e5d_row6_col4\" class=\"data row6 col4\" >0.50</td>\n",
       "      <td id=\"T_01e5d_row6_col5\" class=\"data row6 col5\" >0.72</td>\n",
       "      <td id=\"T_01e5d_row6_col6\" class=\"data row6 col6\" >0.64</td>\n",
       "      <td id=\"T_01e5d_row6_col7\" class=\"data row6 col7\" >0.77</td>\n",
       "      <td id=\"T_01e5d_row6_col8\" class=\"data row6 col8\" >0.56</td>\n",
       "      <td id=\"T_01e5d_row6_col9\" class=\"data row6 col9\" >32</td>\n",
       "      <td id=\"T_01e5d_row6_col10\" class=\"data row6 col10\" >14</td>\n",
       "    </tr>\n",
       "  </tbody>\n",
       "</table>\n"
      ],
      "text/plain": [
       "<pandas.io.formats.style.Styler at 0x23fb73d95d0>"
      ]
     },
     "execution_count": 15,
     "metadata": {},
     "output_type": "execute_result"
    }
   ],
   "source": [
    "dfs = []\n",
    "\n",
    "model_param_list = [\n",
    "    (RandomForestClassifier(), rfc_parameters),\n",
    "    (KNeighborsClassifier(), knn_parameters),\n",
    "    (LogisticRegression(), lr_parameters),\n",
    "    (DecisionTreeClassifier(), dtc_parameters),\n",
    "    (SVC(), svc_parameters),\n",
    "    (LinearDiscriminantAnalysis(), lda_parameters),\n",
    "    (QuadraticDiscriminantAnalysis(), qda_parameters)\n",
    "    ]\n",
    "\n",
    "\n",
    "for model, model_parameters in zip(models, [rfc_parameters, lr_parameters, dtc_parameters, knn_parameters, svc_parameters, lda_parameters, qda_parameters]): \n",
    "    model_best = best_param(model, X_train_resampled, y_train_resampled, model_parameters)\n",
    "    if 'Random' in str(model_best):\n",
    "        random_model_best = model_best\n",
    "    elif 'Logistic' in str(model_best):\n",
    "        logistic_model_best = model_best\n",
    "    elif 'Decision' in str(model_best):\n",
    "        decision_model_best = model_best\n",
    "    elif 'KN' in str(model_best):\n",
    "        kn_model_best = model_best\n",
    "    elif 'Linear' in str(model_best):\n",
    "        lda_model_best = model_best\n",
    "    elif 'Quadratic' in str(model_best):\n",
    "        qda_model_best = model_best\n",
    "    else:\n",
    "        svc_model_best = model_best\n",
    "    _, report1 = pred(model_best, X_train_resampled, y_train_resampled, X_eval, y_eval)\n",
    "\n",
    "\n",
    "\n",
    "    df = pd.DataFrame({\n",
    "        'processing': ['Combination Sampling'],\n",
    "        'weighted avg_precision': [report1['weighted avg']['precision']],\n",
    "        'weighted avg_recall': [report1['weighted avg']['recall']],\n",
    "        'weighted avg_f1-score': [report1['weighted avg']['f1-score']],\n",
    "        'precision_0': [report1['0']['precision']],\n",
    "        'precision_1': [report1['1']['precision']],\n",
    "        'recall_0': [report1['0']['recall']],\n",
    "        'recall_1': [report1['1']['recall']],\n",
    "        'f1-score_0': [report1['0']['f1-score']],\n",
    "        'f1-score_1': [report1['1']['f1-score']],\n",
    "        'support_0': [report1['0']['support']],\n",
    "        'support_1': [report1['1']['support']]\n",
    "    })\n",
    "\n",
    "    df = df.set_index('processing')\n",
    "    dfs.append(df)\n",
    "\n",
    "\n",
    "\n",
    "\n",
    "\n",
    "# Concatenate all DataFrames\n",
    "result = pd.concat(dfs, keys=[str(i) for i in range(len(dfs))])\n",
    "result = result.round(2)\n",
    "\n",
    "new_labels = {\n",
    "    '0': 'RandomForestClassifier()',\n",
    "    '1': 'LogisticRegression()',\n",
    "    '2': 'DecisionTreeClassifier()',\n",
    "    '3': 'KNeighborsClassifier()',\n",
    "    '4': 'SVC()',\n",
    "    '5': 'LinearDiscriminantAnalysis()',\n",
    "    '6': 'QuadraticDiscriminantAnalysis()'}\n",
    "\n",
    "# Rename the index labels using the dictionary\n",
    "result = result.rename(index=new_labels)\n",
    "\n",
    "\n",
    "\n",
    "format_dict = {\n",
    "    'weighted avg_precision': '{:.2f}',\n",
    "    'weighted avg_recall': '{:.2f}',\n",
    "    'weighted avg_f1-score': '{:.2f}',\n",
    "    'precision_0': '{:.2f}',\n",
    "    'precision_1': '{:.2f}',\n",
    "    'recall_0': '{:.2f}',\n",
    "    'recall_1': '{:.2f}',\n",
    "    'f1-score_0': '{:.2f}',\n",
    "    'f1-score_1': '{:.2f}',\n",
    "}\n",
    "\n",
    "for col in ['support_0', 'support_1']:\n",
    "    format_dict[col] = '{}'\n",
    "\n",
    "highlighted = result.style.apply(lambda x: ['background-color: darkgreen; color: white;' if col == 'recall_1' else '' for col in x.index], axis=1).format(format_dict)\n",
    "\n",
    "\n",
    "highlighted"
   ]
  },
  {
   "cell_type": "code",
   "execution_count": 16,
   "metadata": {},
   "outputs": [
    {
     "data": {
      "text/html": [
       "<style>#sk-container-id-1 {color: black;background-color: white;}#sk-container-id-1 pre{padding: 0;}#sk-container-id-1 div.sk-toggleable {background-color: white;}#sk-container-id-1 label.sk-toggleable__label {cursor: pointer;display: block;width: 100%;margin-bottom: 0;padding: 0.3em;box-sizing: border-box;text-align: center;}#sk-container-id-1 label.sk-toggleable__label-arrow:before {content: \"▸\";float: left;margin-right: 0.25em;color: #696969;}#sk-container-id-1 label.sk-toggleable__label-arrow:hover:before {color: black;}#sk-container-id-1 div.sk-estimator:hover label.sk-toggleable__label-arrow:before {color: black;}#sk-container-id-1 div.sk-toggleable__content {max-height: 0;max-width: 0;overflow: hidden;text-align: left;background-color: #f0f8ff;}#sk-container-id-1 div.sk-toggleable__content pre {margin: 0.2em;color: black;border-radius: 0.25em;background-color: #f0f8ff;}#sk-container-id-1 input.sk-toggleable__control:checked~div.sk-toggleable__content {max-height: 200px;max-width: 100%;overflow: auto;}#sk-container-id-1 input.sk-toggleable__control:checked~label.sk-toggleable__label-arrow:before {content: \"▾\";}#sk-container-id-1 div.sk-estimator input.sk-toggleable__control:checked~label.sk-toggleable__label {background-color: #d4ebff;}#sk-container-id-1 div.sk-label input.sk-toggleable__control:checked~label.sk-toggleable__label {background-color: #d4ebff;}#sk-container-id-1 input.sk-hidden--visually {border: 0;clip: rect(1px 1px 1px 1px);clip: rect(1px, 1px, 1px, 1px);height: 1px;margin: -1px;overflow: hidden;padding: 0;position: absolute;width: 1px;}#sk-container-id-1 div.sk-estimator {font-family: monospace;background-color: #f0f8ff;border: 1px dotted black;border-radius: 0.25em;box-sizing: border-box;margin-bottom: 0.5em;}#sk-container-id-1 div.sk-estimator:hover {background-color: #d4ebff;}#sk-container-id-1 div.sk-parallel-item::after {content: \"\";width: 100%;border-bottom: 1px solid gray;flex-grow: 1;}#sk-container-id-1 div.sk-label:hover label.sk-toggleable__label {background-color: #d4ebff;}#sk-container-id-1 div.sk-serial::before {content: \"\";position: absolute;border-left: 1px solid gray;box-sizing: border-box;top: 0;bottom: 0;left: 50%;z-index: 0;}#sk-container-id-1 div.sk-serial {display: flex;flex-direction: column;align-items: center;background-color: white;padding-right: 0.2em;padding-left: 0.2em;position: relative;}#sk-container-id-1 div.sk-item {position: relative;z-index: 1;}#sk-container-id-1 div.sk-parallel {display: flex;align-items: stretch;justify-content: center;background-color: white;position: relative;}#sk-container-id-1 div.sk-item::before, #sk-container-id-1 div.sk-parallel-item::before {content: \"\";position: absolute;border-left: 1px solid gray;box-sizing: border-box;top: 0;bottom: 0;left: 50%;z-index: -1;}#sk-container-id-1 div.sk-parallel-item {display: flex;flex-direction: column;z-index: 1;position: relative;background-color: white;}#sk-container-id-1 div.sk-parallel-item:first-child::after {align-self: flex-end;width: 50%;}#sk-container-id-1 div.sk-parallel-item:last-child::after {align-self: flex-start;width: 50%;}#sk-container-id-1 div.sk-parallel-item:only-child::after {width: 0;}#sk-container-id-1 div.sk-dashed-wrapped {border: 1px dashed gray;margin: 0 0.4em 0.5em 0.4em;box-sizing: border-box;padding-bottom: 0.4em;background-color: white;}#sk-container-id-1 div.sk-label label {font-family: monospace;font-weight: bold;display: inline-block;line-height: 1.2em;}#sk-container-id-1 div.sk-label-container {text-align: center;}#sk-container-id-1 div.sk-container {/* jupyter's `normalize.less` sets `[hidden] { display: none; }` but bootstrap.min.css set `[hidden] { display: none !important; }` so we also need the `!important` here to be able to override the default hidden behavior on the sphinx rendered scikit-learn.org. See: https://github.com/scikit-learn/scikit-learn/issues/21755 */display: inline-block !important;position: relative;}#sk-container-id-1 div.sk-text-repr-fallback {display: none;}</style><div id=\"sk-container-id-1\" class=\"sk-top-container\"><div class=\"sk-text-repr-fallback\"><pre>LogisticRegression(C=0.001, class_weight={0: 1, 1: 1.6}, penalty=None)</pre><b>In a Jupyter environment, please rerun this cell to show the HTML representation or trust the notebook. <br />On GitHub, the HTML representation is unable to render, please try loading this page with nbviewer.org.</b></div><div class=\"sk-container\" hidden><div class=\"sk-item\"><div class=\"sk-estimator sk-toggleable\"><input class=\"sk-toggleable__control sk-hidden--visually\" id=\"sk-estimator-id-1\" type=\"checkbox\" checked><label for=\"sk-estimator-id-1\" class=\"sk-toggleable__label sk-toggleable__label-arrow\">LogisticRegression</label><div class=\"sk-toggleable__content\"><pre>LogisticRegression(C=0.001, class_weight={0: 1, 1: 1.6}, penalty=None)</pre></div></div></div></div></div>"
      ],
      "text/plain": [
       "LogisticRegression(C=0.001, class_weight={0: 1, 1: 1.6}, penalty=None)"
      ]
     },
     "execution_count": 16,
     "metadata": {},
     "output_type": "execute_result"
    }
   ],
   "source": [
    "logistic_model_best"
   ]
  },
  {
   "cell_type": "code",
   "execution_count": 17,
   "metadata": {},
   "outputs": [],
   "source": [
    "final_model = logistic_model_best"
   ]
  },
  {
   "cell_type": "code",
   "execution_count": 18,
   "metadata": {},
   "outputs": [
    {
     "name": "stdout",
     "output_type": "stream",
     "text": [
      "              precision    recall  f1-score   support\n",
      "\n",
      "           0       0.77      0.84      0.81        32\n",
      "           1       0.55      0.43      0.48        14\n",
      "\n",
      "    accuracy                           0.72        46\n",
      "   macro avg       0.66      0.64      0.64        46\n",
      "weighted avg       0.70      0.72      0.71        46\n",
      "\n"
     ]
    },
    {
     "name": "stderr",
     "output_type": "stream",
     "text": [
      "Setting penalty=None will ignore the C and l1_ratio parameters\n"
     ]
    }
   ],
   "source": [
    "final_model.fit(X_train_resampled, y_train_resampled)\n",
    "y_pred = final_model.predict(X_eval)\n",
    "report = classification_report(y_eval, y_pred)\n",
    "y_score = final_model.predict_proba(X_eval)[:, 1]\n",
    "print(report)"
   ]
  },
  {
   "cell_type": "code",
   "execution_count": 19,
   "metadata": {},
   "outputs": [
    {
     "name": "stdout",
     "output_type": "stream",
     "text": [
      "Mean cross-validation score: 0.7444\n",
      "Standard deviation of cross-validation score: 0.0313\n"
     ]
    }
   ],
   "source": [
    "cv = RepeatedStratifiedKFold(n_splits=5, n_repeats=2, random_state=42)\n",
    "cv_scores = cross_val_score(final_model, X_train_resampled, y_train_resampled, scoring='f1_micro', cv=cv, n_jobs=-1)\n",
    "mean_cv_score = np.mean(cv_scores)\n",
    "std_cv_score = np.std(cv_scores)\n",
    "\n",
    "print(\"Mean cross-validation score:\", round(mean_cv_score,4))\n",
    "print(\"Standard deviation of cross-validation score:\", round(std_cv_score,4))"
   ]
  },
  {
   "cell_type": "code",
   "execution_count": 20,
   "metadata": {},
   "outputs": [
    {
     "name": "stdout",
     "output_type": "stream",
     "text": [
      "[[27  5]\n",
      " [ 8  6]]\n"
     ]
    }
   ],
   "source": [
    "# confusion matrix\n",
    "cm = confusion_matrix(y_eval, y_pred)\n",
    "print(cm)"
   ]
  },
  {
   "attachments": {},
   "cell_type": "markdown",
   "metadata": {},
   "source": [
    "TN = 27: The model correctly predicted instances as the negative class (0).<br>\n",
    "FP = 5: The model incorrectly predicted instances as the positive class (1).<br>\n",
    "FN = 8: The model incorrectly predicted instances as the negative class (0).<br>\n",
    "TP = 6: The model correctly predicted instances as the positive class (1).<br>"
   ]
  },
  {
   "cell_type": "code",
   "execution_count": 21,
   "metadata": {},
   "outputs": [],
   "source": [
    "errors = X_eval[y_eval != y_pred]\n",
    "error_labels = y_eval[y_eval != y_pred]\n",
    "error_predictions = y_pred[y_eval != y_pred]\n",
    "\n",
    "errors_with_labels = errors.assign(true_label=error_labels, predicted_label=error_predictions)"
   ]
  },
  {
   "cell_type": "code",
   "execution_count": 22,
   "metadata": {},
   "outputs": [
    {
     "name": "stdout",
     "output_type": "stream",
     "text": [
      "--- False Negatives ---\n"
     ]
    },
    {
     "data": {
      "text/html": [
       "<div>\n",
       "<style scoped>\n",
       "    .dataframe tbody tr th:only-of-type {\n",
       "        vertical-align: middle;\n",
       "    }\n",
       "\n",
       "    .dataframe tbody tr th {\n",
       "        vertical-align: top;\n",
       "    }\n",
       "\n",
       "    .dataframe thead th {\n",
       "        text-align: right;\n",
       "    }\n",
       "</style>\n",
       "<table border=\"1\" class=\"dataframe\">\n",
       "  <thead>\n",
       "    <tr style=\"text-align: right;\">\n",
       "      <th></th>\n",
       "      <th>node_caps_yes</th>\n",
       "      <th>irrad_yes</th>\n",
       "      <th>inv_nodes</th>\n",
       "      <th>deg_malig</th>\n",
       "      <th>true_label</th>\n",
       "      <th>predicted_label</th>\n",
       "    </tr>\n",
       "  </thead>\n",
       "  <tbody>\n",
       "    <tr>\n",
       "      <th>203</th>\n",
       "      <td>False</td>\n",
       "      <td>False</td>\n",
       "      <td>0</td>\n",
       "      <td>2</td>\n",
       "      <td>1</td>\n",
       "      <td>0</td>\n",
       "    </tr>\n",
       "    <tr>\n",
       "      <th>237</th>\n",
       "      <td>False</td>\n",
       "      <td>False</td>\n",
       "      <td>0</td>\n",
       "      <td>2</td>\n",
       "      <td>1</td>\n",
       "      <td>0</td>\n",
       "    </tr>\n",
       "    <tr>\n",
       "      <th>272</th>\n",
       "      <td>True</td>\n",
       "      <td>False</td>\n",
       "      <td>0</td>\n",
       "      <td>3</td>\n",
       "      <td>1</td>\n",
       "      <td>0</td>\n",
       "    </tr>\n",
       "    <tr>\n",
       "      <th>260</th>\n",
       "      <td>False</td>\n",
       "      <td>False</td>\n",
       "      <td>4</td>\n",
       "      <td>2</td>\n",
       "      <td>1</td>\n",
       "      <td>0</td>\n",
       "    </tr>\n",
       "    <tr>\n",
       "      <th>207</th>\n",
       "      <td>False</td>\n",
       "      <td>False</td>\n",
       "      <td>0</td>\n",
       "      <td>2</td>\n",
       "      <td>1</td>\n",
       "      <td>0</td>\n",
       "    </tr>\n",
       "    <tr>\n",
       "      <th>254</th>\n",
       "      <td>True</td>\n",
       "      <td>False</td>\n",
       "      <td>0</td>\n",
       "      <td>3</td>\n",
       "      <td>1</td>\n",
       "      <td>0</td>\n",
       "    </tr>\n",
       "    <tr>\n",
       "      <th>209</th>\n",
       "      <td>False</td>\n",
       "      <td>False</td>\n",
       "      <td>0</td>\n",
       "      <td>1</td>\n",
       "      <td>1</td>\n",
       "      <td>0</td>\n",
       "    </tr>\n",
       "    <tr>\n",
       "      <th>262</th>\n",
       "      <td>False</td>\n",
       "      <td>False</td>\n",
       "      <td>0</td>\n",
       "      <td>3</td>\n",
       "      <td>1</td>\n",
       "      <td>0</td>\n",
       "    </tr>\n",
       "  </tbody>\n",
       "</table>\n",
       "</div>"
      ],
      "text/plain": [
       "     node_caps_yes  irrad_yes inv_nodes  deg_malig  true_label   \n",
       "203          False      False         0          2           1  \\\n",
       "237          False      False         0          2           1   \n",
       "272           True      False         0          3           1   \n",
       "260          False      False         4          2           1   \n",
       "207          False      False         0          2           1   \n",
       "254           True      False         0          3           1   \n",
       "209          False      False         0          1           1   \n",
       "262          False      False         0          3           1   \n",
       "\n",
       "     predicted_label  \n",
       "203                0  \n",
       "237                0  \n",
       "272                0  \n",
       "260                0  \n",
       "207                0  \n",
       "254                0  \n",
       "209                0  \n",
       "262                0  "
      ]
     },
     "metadata": {},
     "output_type": "display_data"
    },
    {
     "name": "stdout",
     "output_type": "stream",
     "text": [
      "None\n"
     ]
    }
   ],
   "source": [
    "type_2_err = errors_with_labels[(errors_with_labels['true_label'] == 1)\n",
    "                                & (errors_with_labels['predicted_label'] == 0)]\n",
    "\n",
    "print('--- False Negatives ---')\n",
    "print(display(type_2_err))"
   ]
  },
  {
   "cell_type": "code",
   "execution_count": 23,
   "metadata": {},
   "outputs": [
    {
     "name": "stdout",
     "output_type": "stream",
     "text": [
      "--- False Positives ---\n"
     ]
    },
    {
     "data": {
      "text/html": [
       "<div>\n",
       "<style scoped>\n",
       "    .dataframe tbody tr th:only-of-type {\n",
       "        vertical-align: middle;\n",
       "    }\n",
       "\n",
       "    .dataframe tbody tr th {\n",
       "        vertical-align: top;\n",
       "    }\n",
       "\n",
       "    .dataframe thead th {\n",
       "        text-align: right;\n",
       "    }\n",
       "</style>\n",
       "<table border=\"1\" class=\"dataframe\">\n",
       "  <thead>\n",
       "    <tr style=\"text-align: right;\">\n",
       "      <th></th>\n",
       "      <th>node_caps_yes</th>\n",
       "      <th>irrad_yes</th>\n",
       "      <th>inv_nodes</th>\n",
       "      <th>deg_malig</th>\n",
       "      <th>true_label</th>\n",
       "      <th>predicted_label</th>\n",
       "    </tr>\n",
       "  </thead>\n",
       "  <tbody>\n",
       "    <tr>\n",
       "      <th>174</th>\n",
       "      <td>True</td>\n",
       "      <td>True</td>\n",
       "      <td>4</td>\n",
       "      <td>2</td>\n",
       "      <td>0</td>\n",
       "      <td>1</td>\n",
       "    </tr>\n",
       "    <tr>\n",
       "      <th>126</th>\n",
       "      <td>True</td>\n",
       "      <td>False</td>\n",
       "      <td>5</td>\n",
       "      <td>2</td>\n",
       "      <td>0</td>\n",
       "      <td>1</td>\n",
       "    </tr>\n",
       "    <tr>\n",
       "      <th>150</th>\n",
       "      <td>True</td>\n",
       "      <td>False</td>\n",
       "      <td>2</td>\n",
       "      <td>3</td>\n",
       "      <td>0</td>\n",
       "      <td>1</td>\n",
       "    </tr>\n",
       "    <tr>\n",
       "      <th>190</th>\n",
       "      <td>False</td>\n",
       "      <td>True</td>\n",
       "      <td>1</td>\n",
       "      <td>3</td>\n",
       "      <td>0</td>\n",
       "      <td>1</td>\n",
       "    </tr>\n",
       "    <tr>\n",
       "      <th>155</th>\n",
       "      <td>False</td>\n",
       "      <td>True</td>\n",
       "      <td>4</td>\n",
       "      <td>2</td>\n",
       "      <td>0</td>\n",
       "      <td>1</td>\n",
       "    </tr>\n",
       "  </tbody>\n",
       "</table>\n",
       "</div>"
      ],
      "text/plain": [
       "     node_caps_yes  irrad_yes inv_nodes  deg_malig  true_label   \n",
       "174           True       True         4          2           0  \\\n",
       "126           True      False         5          2           0   \n",
       "150           True      False         2          3           0   \n",
       "190          False       True         1          3           0   \n",
       "155          False       True         4          2           0   \n",
       "\n",
       "     predicted_label  \n",
       "174                1  \n",
       "126                1  \n",
       "150                1  \n",
       "190                1  \n",
       "155                1  "
      ]
     },
     "metadata": {},
     "output_type": "display_data"
    },
    {
     "name": "stdout",
     "output_type": "stream",
     "text": [
      "None\n"
     ]
    }
   ],
   "source": [
    "type_1_err = errors_with_labels[(errors_with_labels['true_label'] == 0)\n",
    "                                & (errors_with_labels['predicted_label'] == 1)]\n",
    "\n",
    "print('--- False Positives ---')\n",
    "print(display(type_1_err))"
   ]
  },
  {
   "cell_type": "code",
   "execution_count": 24,
   "metadata": {},
   "outputs": [
    {
     "data": {
      "image/png": "[encoded data removed]",
      "text/plain": [
       "<Figure size 1500x2000 with 4 Axes>"
      ]
     },
     "metadata": {},
     "output_type": "display_data"
    }
   ],
   "source": [
    "features = X_train_encoded.columns\n",
    "\n",
    "# Calculate the number of rows and columns for the subplots\n",
    "n_features = len(features)\n",
    "ncols = 2\n",
    "nrows = math.ceil(n_features / ncols)\n",
    "\n",
    "fig, axes = plt.subplots(nrows=nrows, ncols=ncols, figsize=(15, 20))\n",
    "\n",
    "for index, feature in enumerate(features):\n",
    "    row, col = divmod(index, ncols)\n",
    "    \n",
    "    # Calculate the misclassification rate for each feature value\n",
    "    misclassification_counts = errors_with_labels[feature].value_counts()\n",
    "    overall_counts = X_eval[feature].value_counts()\n",
    "    misclassification_rate = misclassification_counts / overall_counts\n",
    "\n",
    "    # Calculate the classification rate for each feature value\n",
    "    classification_counts = X_eval[y_eval == y_pred][feature].value_counts()\n",
    "    classification_rate = classification_counts / overall_counts\n",
    "\n",
    "    # Create a stacked bar chart\n",
    "    rate_df = pd.DataFrame({'Correctly Classified': classification_rate, 'Misclassified': misclassification_rate}).fillna(0)\n",
    "    rate_df.plot(kind='barh', stacked=True, ax=axes[row, col])\n",
    "    axes[row, col].set_xlabel('Proportion')\n",
    "    axes[row, col].set_ylabel(feature)\n",
    "    axes[row, col].set_title(f'{feature}')\n",
    "    axes[row, col].legend()\n",
    "\n",
    "\n",
    "# Remove any unused subplots\n",
    "for i in range(index+1, nrows*ncols):\n",
    "    row, col = divmod(i, ncols)\n",
    "    fig.delaxes(axes[row, col])\n",
    "\n",
    "fig.tight_layout()\n",
    "plt.show()\n"
   ]
  },
  {
   "cell_type": "code",
   "execution_count": 25,
   "metadata": {},
   "outputs": [
    {
     "name": "stderr",
     "output_type": "stream",
     "text": [
      "Setting penalty=None will ignore the C and l1_ratio parameters\n",
      "Setting penalty=None will ignore the C and l1_ratio parameters\n",
      "Setting penalty=None will ignore the C and l1_ratio parameters\n",
      "Setting penalty=None will ignore the C and l1_ratio parameters\n",
      "Setting penalty=None will ignore the C and l1_ratio parameters\n",
      "Setting penalty=None will ignore the C and l1_ratio parameters\n",
      "Setting penalty=None will ignore the C and l1_ratio parameters\n",
      "Setting penalty=None will ignore the C and l1_ratio parameters\n",
      "Setting penalty=None will ignore the C and l1_ratio parameters\n",
      "Setting penalty=None will ignore the C and l1_ratio parameters\n",
      "Setting penalty=None will ignore the C and l1_ratio parameters\n",
      "Setting penalty=None will ignore the C and l1_ratio parameters\n",
      "Setting penalty=None will ignore the C and l1_ratio parameters\n",
      "Setting penalty=None will ignore the C and l1_ratio parameters\n",
      "Setting penalty=None will ignore the C and l1_ratio parameters\n",
      "Setting penalty=None will ignore the C and l1_ratio parameters\n",
      "Setting penalty=None will ignore the C and l1_ratio parameters\n",
      "Setting penalty=None will ignore the C and l1_ratio parameters\n",
      "Setting penalty=None will ignore the C and l1_ratio parameters\n",
      "Setting penalty=None will ignore the C and l1_ratio parameters\n",
      "Setting penalty=None will ignore the C and l1_ratio parameters\n",
      "Setting penalty=None will ignore the C and l1_ratio parameters\n",
      "Setting penalty=None will ignore the C and l1_ratio parameters\n",
      "Setting penalty=None will ignore the C and l1_ratio parameters\n",
      "Setting penalty=None will ignore the C and l1_ratio parameters\n"
     ]
    },
    {
     "data": {
      "image/png": "[encoded data removed]",
      "text/plain": [
       "<Figure size 640x480 with 1 Axes>"
      ]
     },
     "metadata": {},
     "output_type": "display_data"
    }
   ],
   "source": [
    "# Learning Curve\n",
    "train_sizes, train_scores, valid_scores = learning_curve(final_model, X_train_resampled, y_train_resampled, cv=5, scoring='f1_macro')\n",
    "\n",
    "train_scores_mean = np.mean(train_scores, axis=1)\n",
    "train_scores_std = np.std(train_scores, axis=1)\n",
    "valid_scores_mean = np.mean(valid_scores, axis=1)\n",
    "valid_scores_std = np.std(valid_scores, axis=1)\n",
    "\n",
    "plt.fill_between(train_sizes, train_scores_mean - train_scores_std,\n",
    "                 train_scores_mean + train_scores_std, alpha=0.1, color=\"r\")\n",
    "plt.fill_between(train_sizes, valid_scores_mean - valid_scores_std,\n",
    "                 valid_scores_mean + valid_scores_std, alpha=0.1, color=\"g\")\n",
    "plt.plot(train_sizes, train_scores_mean, 'o-', color=\"r\",\n",
    "         label=\"Training score\")\n",
    "plt.plot(train_sizes, valid_scores_mean, 'o-', color=\"g\",\n",
    "         label=\"Cross-validation score\")\n",
    "\n",
    "plt.xlabel(\"Training examples\")\n",
    "plt.ylabel(\"Score\")\n",
    "plt.legend(loc=\"best\")\n",
    "plt.show()"
   ]
  },
  {
   "cell_type": "code",
   "execution_count": 26,
   "metadata": {},
   "outputs": [
    {
     "data": {
      "image/png": "[encoded data removed]",
      "text/plain": [
       "<Figure size 640x480 with 1 Axes>"
      ]
     },
     "metadata": {},
     "output_type": "display_data"
    }
   ],
   "source": [
    "precision, recall, _ = precision_recall_curve(y_eval, y_score)\n",
    "average_precision = average_precision_score(y_eval, y_score)\n",
    "\n",
    "# plot the precision-recall curve\n",
    "plt.step(recall, precision, color='b', alpha=0.2, where='post')\n",
    "plt.fill_between(recall, precision, step='post', alpha=0.2, color='b')\n",
    "\n",
    "plt.xlabel('Recall')\n",
    "plt.ylabel('Precision')\n",
    "plt.ylim([0.0, 1.05])\n",
    "plt.xlim([0.0, 1.0])\n",
    "plt.title('Precision-Recall curve: AP={0:0.2f}'.format(average_precision))\n",
    "plt.show()"
   ]
  },
  {
   "cell_type": "code",
   "execution_count": 27,
   "metadata": {},
   "outputs": [
    {
     "data": {
      "image/png": "[encoded data removed]",
      "text/plain": [
       "<Figure size 640x480 with 1 Axes>"
      ]
     },
     "metadata": {},
     "output_type": "display_data"
    }
   ],
   "source": [
    "fpr, tpr, _ = roc_curve(y_eval, y_score)\n",
    "roc_auc = auc(fpr, tpr)\n",
    "\n",
    "# plot the ROC curve\n",
    "plt.plot(fpr, tpr, label='ROC curve (area = %0.2f)' % roc_auc)\n",
    "plt.fill_between(fpr, tpr, 0, color='blue', alpha=0.1)\n",
    "plt.plot([0, 1], [0, 1], 'k--')\n",
    "plt.xlim([0.0, 1.0])\n",
    "plt.ylim([0.0, 1.05])\n",
    "plt.xlabel('False Positive Rate')\n",
    "plt.ylabel('True Positive Rate')\n",
    "plt.title('ROC curve for Decision Tree Classifier')\n",
    "plt.legend(loc=\"lower right\")\n",
    "plt.show()\n"
   ]
  },
  {
   "cell_type": "code",
   "execution_count": 28,
   "metadata": {},
   "outputs": [],
   "source": [
    "#explainer = shap.Explainer(final_model.predict, X_train_resampled)\n",
    "#shap_values = explainer(X_eval)\n",
    "\n",
    "\n",
    "#shap.plots.waterfall(shap_values[0])\n"
   ]
  },
  {
   "cell_type": "code",
   "execution_count": 29,
   "metadata": {},
   "outputs": [],
   "source": [
    "#shap.plots.beeswarm(shap_values)"
   ]
  },
  {
   "cell_type": "code",
   "execution_count": 30,
   "metadata": {},
   "outputs": [
    {
     "name": "stderr",
     "output_type": "stream",
     "text": [
      "Setting penalty=None will ignore the C and l1_ratio parameters\n"
     ]
    },
    {
     "data": {
      "text/html": [
       "<style>#sk-container-id-2 {color: black;background-color: white;}#sk-container-id-2 pre{padding: 0;}#sk-container-id-2 div.sk-toggleable {background-color: white;}#sk-container-id-2 label.sk-toggleable__label {cursor: pointer;display: block;width: 100%;margin-bottom: 0;padding: 0.3em;box-sizing: border-box;text-align: center;}#sk-container-id-2 label.sk-toggleable__label-arrow:before {content: \"▸\";float: left;margin-right: 0.25em;color: #696969;}#sk-container-id-2 label.sk-toggleable__label-arrow:hover:before {color: black;}#sk-container-id-2 div.sk-estimator:hover label.sk-toggleable__label-arrow:before {color: black;}#sk-container-id-2 div.sk-toggleable__content {max-height: 0;max-width: 0;overflow: hidden;text-align: left;background-color: #f0f8ff;}#sk-container-id-2 div.sk-toggleable__content pre {margin: 0.2em;color: black;border-radius: 0.25em;background-color: #f0f8ff;}#sk-container-id-2 input.sk-toggleable__control:checked~div.sk-toggleable__content {max-height: 200px;max-width: 100%;overflow: auto;}#sk-container-id-2 input.sk-toggleable__control:checked~label.sk-toggleable__label-arrow:before {content: \"▾\";}#sk-container-id-2 div.sk-estimator input.sk-toggleable__control:checked~label.sk-toggleable__label {background-color: #d4ebff;}#sk-container-id-2 div.sk-label input.sk-toggleable__control:checked~label.sk-toggleable__label {background-color: #d4ebff;}#sk-container-id-2 input.sk-hidden--visually {border: 0;clip: rect(1px 1px 1px 1px);clip: rect(1px, 1px, 1px, 1px);height: 1px;margin: -1px;overflow: hidden;padding: 0;position: absolute;width: 1px;}#sk-container-id-2 div.sk-estimator {font-family: monospace;background-color: #f0f8ff;border: 1px dotted black;border-radius: 0.25em;box-sizing: border-box;margin-bottom: 0.5em;}#sk-container-id-2 div.sk-estimator:hover {background-color: #d4ebff;}#sk-container-id-2 div.sk-parallel-item::after {content: \"\";width: 100%;border-bottom: 1px solid gray;flex-grow: 1;}#sk-container-id-2 div.sk-label:hover label.sk-toggleable__label {background-color: #d4ebff;}#sk-container-id-2 div.sk-serial::before {content: \"\";position: absolute;border-left: 1px solid gray;box-sizing: border-box;top: 0;bottom: 0;left: 50%;z-index: 0;}#sk-container-id-2 div.sk-serial {display: flex;flex-direction: column;align-items: center;background-color: white;padding-right: 0.2em;padding-left: 0.2em;position: relative;}#sk-container-id-2 div.sk-item {position: relative;z-index: 1;}#sk-container-id-2 div.sk-parallel {display: flex;align-items: stretch;justify-content: center;background-color: white;position: relative;}#sk-container-id-2 div.sk-item::before, #sk-container-id-2 div.sk-parallel-item::before {content: \"\";position: absolute;border-left: 1px solid gray;box-sizing: border-box;top: 0;bottom: 0;left: 50%;z-index: -1;}#sk-container-id-2 div.sk-parallel-item {display: flex;flex-direction: column;z-index: 1;position: relative;background-color: white;}#sk-container-id-2 div.sk-parallel-item:first-child::after {align-self: flex-end;width: 50%;}#sk-container-id-2 div.sk-parallel-item:last-child::after {align-self: flex-start;width: 50%;}#sk-container-id-2 div.sk-parallel-item:only-child::after {width: 0;}#sk-container-id-2 div.sk-dashed-wrapped {border: 1px dashed gray;margin: 0 0.4em 0.5em 0.4em;box-sizing: border-box;padding-bottom: 0.4em;background-color: white;}#sk-container-id-2 div.sk-label label {font-family: monospace;font-weight: bold;display: inline-block;line-height: 1.2em;}#sk-container-id-2 div.sk-label-container {text-align: center;}#sk-container-id-2 div.sk-container {/* jupyter's `normalize.less` sets `[hidden] { display: none; }` but bootstrap.min.css set `[hidden] { display: none !important; }` so we also need the `!important` here to be able to override the default hidden behavior on the sphinx rendered scikit-learn.org. See: https://github.com/scikit-learn/scikit-learn/issues/21755 */display: inline-block !important;position: relative;}#sk-container-id-2 div.sk-text-repr-fallback {display: none;}</style><div id=\"sk-container-id-2\" class=\"sk-top-container\"><div class=\"sk-text-repr-fallback\"><pre>LogisticRegression(C=0.001, class_weight={0: 1, 1: 1.6}, penalty=None)</pre><b>In a Jupyter environment, please rerun this cell to show the HTML representation or trust the notebook. <br />On GitHub, the HTML representation is unable to render, please try loading this page with nbviewer.org.</b></div><div class=\"sk-container\" hidden><div class=\"sk-item\"><div class=\"sk-estimator sk-toggleable\"><input class=\"sk-toggleable__control sk-hidden--visually\" id=\"sk-estimator-id-2\" type=\"checkbox\" checked><label for=\"sk-estimator-id-2\" class=\"sk-toggleable__label sk-toggleable__label-arrow\">LogisticRegression</label><div class=\"sk-toggleable__content\"><pre>LogisticRegression(C=0.001, class_weight={0: 1, 1: 1.6}, penalty=None)</pre></div></div></div></div></div>"
      ],
      "text/plain": [
       "LogisticRegression(C=0.001, class_weight={0: 1, 1: 1.6}, penalty=None)"
      ]
     },
     "execution_count": 30,
     "metadata": {},
     "output_type": "execute_result"
    }
   ],
   "source": [
    "X_train_final, y_train_final = ros.fit_resample(X_train_encoded, y_train_encoded)\n",
    "final_model.fit(X_train_final, y_train_final)"
   ]
  },
  {
   "cell_type": "code",
   "execution_count": 31,
   "metadata": {},
   "outputs": [],
   "source": [
    "def encoding(X_dataset, y_dataset):\n",
    "    X_dataset = X_dataset[columns_to_keep]\n",
    "    #X_test_nominal = pd.get_dummies(X_dataset[['node_caps', 'breast_quad', 'irrad']], drop_first=True)\n",
    "    X_test_nominal = pd.get_dummies(X_dataset[['node_caps', 'irrad']], drop_first=True)\n",
    "    label_encoder = preprocessing.LabelEncoder()\n",
    "    #X_test_ordinal = X_dataset[['inv_nodes', 'tumour_size']].copy()\n",
    "    X_test_ordinal = X_dataset[['inv_nodes']].copy()\n",
    "    for col in X_test_ordinal.columns:\n",
    "        X_test_ordinal[col] = label_encoder.fit_transform(X_test_ordinal[col])  \n",
    "    X_test_numerical = X_dataset[['deg_malig']]                                                                                                \n",
    "    X_test_encoded = pd.concat([X_test_nominal, X_test_ordinal, X_test_numerical], axis=1) \n",
    "    y_test_encoded = y_dataset.replace(['no-recurrence-events', 'recurrence-events'], [0,1]) \n",
    "    return X_test_encoded, y_test_encoded           "
   ]
  },
  {
   "cell_type": "code",
   "execution_count": 32,
   "metadata": {},
   "outputs": [],
   "source": [
    "X_test_encoded, y_test_encoded = encoding(X_test, y_test)"
   ]
  },
  {
   "cell_type": "code",
   "execution_count": 33,
   "metadata": {},
   "outputs": [
    {
     "name": "stdout",
     "output_type": "stream",
     "text": [
      "Model Performance on Unseen Data\n",
      "                         precision    recall  f1-score   support\n",
      "\n",
      "0: no-recurrence-events       0.81      0.63      0.71        41\n",
      "   1: recurrence-events       0.42      0.65      0.51        17\n",
      "\n",
      "               accuracy                           0.64        58\n",
      "              macro avg       0.62      0.64      0.61        58\n",
      "           weighted avg       0.70      0.64      0.65        58\n",
      "\n"
     ]
    }
   ],
   "source": [
    "y_pred = final_model.predict(X_test_encoded)\n",
    "y_test_score = final_model.predict_proba(X_test_encoded)[:, 1]\n",
    "\n",
    "\n",
    "target_names = ['0: no-recurrence-events', '1: recurrence-events']\n",
    "report = classification_report(y_test_encoded, y_pred, target_names=target_names)\n",
    "print('Model Performance on Unseen Data')\n",
    "print(report)"
   ]
  },
  {
   "cell_type": "code",
   "execution_count": 34,
   "metadata": {},
   "outputs": [
    {
     "name": "stdout",
     "output_type": "stream",
     "text": [
      "[[26 15]\n",
      " [ 6 11]]\n"
     ]
    }
   ],
   "source": [
    "# confusion matrix\n",
    "cm = confusion_matrix(y_test_encoded, y_pred)\n",
    "print(cm)"
   ]
  },
  {
   "cell_type": "code",
   "execution_count": 35,
   "metadata": {},
   "outputs": [
    {
     "name": "stdout",
     "output_type": "stream",
     "text": [
      "--- False Negatives Final Model ---\n"
     ]
    },
    {
     "data": {
      "text/html": [
       "<div>\n",
       "<style scoped>\n",
       "    .dataframe tbody tr th:only-of-type {\n",
       "        vertical-align: middle;\n",
       "    }\n",
       "\n",
       "    .dataframe tbody tr th {\n",
       "        vertical-align: top;\n",
       "    }\n",
       "\n",
       "    .dataframe thead th {\n",
       "        text-align: right;\n",
       "    }\n",
       "</style>\n",
       "<table border=\"1\" class=\"dataframe\">\n",
       "  <thead>\n",
       "    <tr style=\"text-align: right;\">\n",
       "      <th></th>\n",
       "      <th>node_caps_yes</th>\n",
       "      <th>irrad_yes</th>\n",
       "      <th>inv_nodes</th>\n",
       "      <th>deg_malig</th>\n",
       "      <th>true_label</th>\n",
       "      <th>predicted_label</th>\n",
       "    </tr>\n",
       "  </thead>\n",
       "  <tbody>\n",
       "    <tr>\n",
       "      <th>219</th>\n",
       "      <td>False</td>\n",
       "      <td>False</td>\n",
       "      <td>0</td>\n",
       "      <td>1</td>\n",
       "      <td>1</td>\n",
       "      <td>0</td>\n",
       "    </tr>\n",
       "    <tr>\n",
       "      <th>281</th>\n",
       "      <td>False</td>\n",
       "      <td>False</td>\n",
       "      <td>0</td>\n",
       "      <td>2</td>\n",
       "      <td>1</td>\n",
       "      <td>0</td>\n",
       "    </tr>\n",
       "    <tr>\n",
       "      <th>256</th>\n",
       "      <td>False</td>\n",
       "      <td>True</td>\n",
       "      <td>0</td>\n",
       "      <td>1</td>\n",
       "      <td>1</td>\n",
       "      <td>0</td>\n",
       "    </tr>\n",
       "    <tr>\n",
       "      <th>202</th>\n",
       "      <td>False</td>\n",
       "      <td>False</td>\n",
       "      <td>0</td>\n",
       "      <td>1</td>\n",
       "      <td>1</td>\n",
       "      <td>0</td>\n",
       "    </tr>\n",
       "    <tr>\n",
       "      <th>217</th>\n",
       "      <td>False</td>\n",
       "      <td>False</td>\n",
       "      <td>0</td>\n",
       "      <td>2</td>\n",
       "      <td>1</td>\n",
       "      <td>0</td>\n",
       "    </tr>\n",
       "    <tr>\n",
       "      <th>211</th>\n",
       "      <td>False</td>\n",
       "      <td>False</td>\n",
       "      <td>0</td>\n",
       "      <td>2</td>\n",
       "      <td>1</td>\n",
       "      <td>0</td>\n",
       "    </tr>\n",
       "  </tbody>\n",
       "</table>\n",
       "</div>"
      ],
      "text/plain": [
       "     node_caps_yes  irrad_yes  inv_nodes  deg_malig  true_label   \n",
       "219          False      False          0          1           1  \\\n",
       "281          False      False          0          2           1   \n",
       "256          False       True          0          1           1   \n",
       "202          False      False          0          1           1   \n",
       "217          False      False          0          2           1   \n",
       "211          False      False          0          2           1   \n",
       "\n",
       "     predicted_label  \n",
       "219                0  \n",
       "281                0  \n",
       "256                0  \n",
       "202                0  \n",
       "217                0  \n",
       "211                0  "
      ]
     },
     "metadata": {},
     "output_type": "display_data"
    },
    {
     "name": "stdout",
     "output_type": "stream",
     "text": [
      "None\n"
     ]
    }
   ],
   "source": [
    "errors = X_test_encoded[y_test_encoded != y_pred]\n",
    "error_labels = y_test_encoded[y_test_encoded != y_pred]\n",
    "error_predictions = y_pred[y_test_encoded != y_pred]\n",
    "\n",
    "errors_with_labels = errors.assign(true_label=error_labels, predicted_label=error_predictions)\n",
    "\n",
    "type_2_err_final = errors_with_labels[(errors_with_labels['true_label'] == 1)\n",
    "                                & (errors_with_labels['predicted_label'] == 0)]\n",
    "\n",
    "\n",
    "print('--- False Negatives Final Model ---')\n",
    "print(display(type_2_err_final))\n"
   ]
  },
  {
   "cell_type": "code",
   "execution_count": 36,
   "metadata": {},
   "outputs": [
    {
     "name": "stdout",
     "output_type": "stream",
     "text": [
      "--- False Positives Final Model ---\n"
     ]
    },
    {
     "data": {
      "text/html": [
       "<div>\n",
       "<style scoped>\n",
       "    .dataframe tbody tr th:only-of-type {\n",
       "        vertical-align: middle;\n",
       "    }\n",
       "\n",
       "    .dataframe tbody tr th {\n",
       "        vertical-align: top;\n",
       "    }\n",
       "\n",
       "    .dataframe thead th {\n",
       "        text-align: right;\n",
       "    }\n",
       "</style>\n",
       "<table border=\"1\" class=\"dataframe\">\n",
       "  <thead>\n",
       "    <tr style=\"text-align: right;\">\n",
       "      <th></th>\n",
       "      <th>node_caps_yes</th>\n",
       "      <th>irrad_yes</th>\n",
       "      <th>inv_nodes</th>\n",
       "      <th>deg_malig</th>\n",
       "      <th>true_label</th>\n",
       "      <th>predicted_label</th>\n",
       "    </tr>\n",
       "  </thead>\n",
       "  <tbody>\n",
       "    <tr>\n",
       "      <th>134</th>\n",
       "      <td>False</td>\n",
       "      <td>True</td>\n",
       "      <td>0</td>\n",
       "      <td>2</td>\n",
       "      <td>0</td>\n",
       "      <td>1</td>\n",
       "    </tr>\n",
       "    <tr>\n",
       "      <th>151</th>\n",
       "      <td>True</td>\n",
       "      <td>False</td>\n",
       "      <td>3</td>\n",
       "      <td>3</td>\n",
       "      <td>0</td>\n",
       "      <td>1</td>\n",
       "    </tr>\n",
       "    <tr>\n",
       "      <th>200</th>\n",
       "      <td>False</td>\n",
       "      <td>False</td>\n",
       "      <td>0</td>\n",
       "      <td>3</td>\n",
       "      <td>0</td>\n",
       "      <td>1</td>\n",
       "    </tr>\n",
       "    <tr>\n",
       "      <th>160</th>\n",
       "      <td>False</td>\n",
       "      <td>True</td>\n",
       "      <td>0</td>\n",
       "      <td>3</td>\n",
       "      <td>0</td>\n",
       "      <td>1</td>\n",
       "    </tr>\n",
       "    <tr>\n",
       "      <th>167</th>\n",
       "      <td>True</td>\n",
       "      <td>True</td>\n",
       "      <td>2</td>\n",
       "      <td>2</td>\n",
       "      <td>0</td>\n",
       "      <td>1</td>\n",
       "    </tr>\n",
       "    <tr>\n",
       "      <th>179</th>\n",
       "      <td>False</td>\n",
       "      <td>True</td>\n",
       "      <td>0</td>\n",
       "      <td>3</td>\n",
       "      <td>0</td>\n",
       "      <td>1</td>\n",
       "    </tr>\n",
       "    <tr>\n",
       "      <th>88</th>\n",
       "      <td>False</td>\n",
       "      <td>False</td>\n",
       "      <td>0</td>\n",
       "      <td>3</td>\n",
       "      <td>0</td>\n",
       "      <td>1</td>\n",
       "    </tr>\n",
       "    <tr>\n",
       "      <th>14</th>\n",
       "      <td>False</td>\n",
       "      <td>False</td>\n",
       "      <td>0</td>\n",
       "      <td>3</td>\n",
       "      <td>0</td>\n",
       "      <td>1</td>\n",
       "    </tr>\n",
       "    <tr>\n",
       "      <th>129</th>\n",
       "      <td>True</td>\n",
       "      <td>True</td>\n",
       "      <td>5</td>\n",
       "      <td>2</td>\n",
       "      <td>0</td>\n",
       "      <td>1</td>\n",
       "    </tr>\n",
       "    <tr>\n",
       "      <th>149</th>\n",
       "      <td>False</td>\n",
       "      <td>False</td>\n",
       "      <td>0</td>\n",
       "      <td>3</td>\n",
       "      <td>0</td>\n",
       "      <td>1</td>\n",
       "    </tr>\n",
       "    <tr>\n",
       "      <th>197</th>\n",
       "      <td>False</td>\n",
       "      <td>True</td>\n",
       "      <td>0</td>\n",
       "      <td>2</td>\n",
       "      <td>0</td>\n",
       "      <td>1</td>\n",
       "    </tr>\n",
       "    <tr>\n",
       "      <th>169</th>\n",
       "      <td>False</td>\n",
       "      <td>True</td>\n",
       "      <td>0</td>\n",
       "      <td>2</td>\n",
       "      <td>0</td>\n",
       "      <td>1</td>\n",
       "    </tr>\n",
       "    <tr>\n",
       "      <th>189</th>\n",
       "      <td>True</td>\n",
       "      <td>False</td>\n",
       "      <td>0</td>\n",
       "      <td>2</td>\n",
       "      <td>0</td>\n",
       "      <td>1</td>\n",
       "    </tr>\n",
       "    <tr>\n",
       "      <th>130</th>\n",
       "      <td>True</td>\n",
       "      <td>True</td>\n",
       "      <td>5</td>\n",
       "      <td>2</td>\n",
       "      <td>0</td>\n",
       "      <td>1</td>\n",
       "    </tr>\n",
       "    <tr>\n",
       "      <th>184</th>\n",
       "      <td>False</td>\n",
       "      <td>True</td>\n",
       "      <td>5</td>\n",
       "      <td>3</td>\n",
       "      <td>0</td>\n",
       "      <td>1</td>\n",
       "    </tr>\n",
       "  </tbody>\n",
       "</table>\n",
       "</div>"
      ],
      "text/plain": [
       "     node_caps_yes  irrad_yes  inv_nodes  deg_malig  true_label   \n",
       "134          False       True          0          2           0  \\\n",
       "151           True      False          3          3           0   \n",
       "200          False      False          0          3           0   \n",
       "160          False       True          0          3           0   \n",
       "167           True       True          2          2           0   \n",
       "179          False       True          0          3           0   \n",
       "88           False      False          0          3           0   \n",
       "14           False      False          0          3           0   \n",
       "129           True       True          5          2           0   \n",
       "149          False      False          0          3           0   \n",
       "197          False       True          0          2           0   \n",
       "169          False       True          0          2           0   \n",
       "189           True      False          0          2           0   \n",
       "130           True       True          5          2           0   \n",
       "184          False       True          5          3           0   \n",
       "\n",
       "     predicted_label  \n",
       "134                1  \n",
       "151                1  \n",
       "200                1  \n",
       "160                1  \n",
       "167                1  \n",
       "179                1  \n",
       "88                 1  \n",
       "14                 1  \n",
       "129                1  \n",
       "149                1  \n",
       "197                1  \n",
       "169                1  \n",
       "189                1  \n",
       "130                1  \n",
       "184                1  "
      ]
     },
     "metadata": {},
     "output_type": "display_data"
    },
    {
     "name": "stdout",
     "output_type": "stream",
     "text": [
      "None\n"
     ]
    }
   ],
   "source": [
    "type_1_err_final = errors_with_labels[(errors_with_labels['true_label'] == 0)\n",
    "                                & (errors_with_labels['predicted_label'] == 1)]\n",
    "\n",
    "\n",
    "print('--- False Positives Final Model ---')\n",
    "print(display(type_1_err_final))\n"
   ]
  },
  {
   "cell_type": "code",
   "execution_count": 37,
   "metadata": {},
   "outputs": [
    {
     "data": {
      "image/png": "[encoded data removed]",
      "text/plain": [
       "<Figure size 640x480 with 1 Axes>"
      ]
     },
     "metadata": {},
     "output_type": "display_data"
    }
   ],
   "source": [
    "# Calculate ROC curve and AUC for the combined train and validation set\n",
    "fpr_eval, tpr_eval, _ = roc_curve(y_eval, y_score)\n",
    "roc_auc_eval = auc(fpr_eval, tpr_eval)\n",
    "\n",
    "# Calculate ROC curve and AUC for the test set\n",
    "fpr_test, tpr_test, _ = roc_curve(y_test_encoded, y_test_score)\n",
    "roc_auc_test = auc(fpr_test, tpr_test)\n",
    "\n",
    "# Plot the ROC curves\n",
    "plt.plot(fpr_eval, tpr_eval, label='Train & Validation ROC curve (area = %0.2f)' % roc_auc_eval, color='blue')\n",
    "plt.fill_between(fpr_eval, tpr_eval, 0, color='blue', alpha=0.1)\n",
    "\n",
    "plt.plot(fpr_test, tpr_test, label='Test ROC curve (area = %0.2f)' % roc_auc_test, color='grey')\n",
    "plt.fill_between(fpr_test, tpr_test, 0, color='grey', alpha=0.1)\n",
    "\n",
    "plt.plot([0, 1], [0, 1], 'k--')\n",
    "plt.xlim([0.0, 1.0])\n",
    "plt.ylim([0.0, 1.05])\n",
    "plt.xlabel('False Positive Rate')\n",
    "plt.ylabel('True Positive Rate')\n",
    "plt.title('ROC curve for Decision Tree Classifier')\n",
    "plt.legend(loc=\"lower right\")\n",
    "plt.show()\n"
   ]
  },
  {
   "cell_type": "code",
   "execution_count": 38,
   "metadata": {},
   "outputs": [
    {
     "data": {
      "text/html": [
       "<style>#sk-container-id-3 {color: black;background-color: white;}#sk-container-id-3 pre{padding: 0;}#sk-container-id-3 div.sk-toggleable {background-color: white;}#sk-container-id-3 label.sk-toggleable__label {cursor: pointer;display: block;width: 100%;margin-bottom: 0;padding: 0.3em;box-sizing: border-box;text-align: center;}#sk-container-id-3 label.sk-toggleable__label-arrow:before {content: \"▸\";float: left;margin-right: 0.25em;color: #696969;}#sk-container-id-3 label.sk-toggleable__label-arrow:hover:before {color: black;}#sk-container-id-3 div.sk-estimator:hover label.sk-toggleable__label-arrow:before {color: black;}#sk-container-id-3 div.sk-toggleable__content {max-height: 0;max-width: 0;overflow: hidden;text-align: left;background-color: #f0f8ff;}#sk-container-id-3 div.sk-toggleable__content pre {margin: 0.2em;color: black;border-radius: 0.25em;background-color: #f0f8ff;}#sk-container-id-3 input.sk-toggleable__control:checked~div.sk-toggleable__content {max-height: 200px;max-width: 100%;overflow: auto;}#sk-container-id-3 input.sk-toggleable__control:checked~label.sk-toggleable__label-arrow:before {content: \"▾\";}#sk-container-id-3 div.sk-estimator input.sk-toggleable__control:checked~label.sk-toggleable__label {background-color: #d4ebff;}#sk-container-id-3 div.sk-label input.sk-toggleable__control:checked~label.sk-toggleable__label {background-color: #d4ebff;}#sk-container-id-3 input.sk-hidden--visually {border: 0;clip: rect(1px 1px 1px 1px);clip: rect(1px, 1px, 1px, 1px);height: 1px;margin: -1px;overflow: hidden;padding: 0;position: absolute;width: 1px;}#sk-container-id-3 div.sk-estimator {font-family: monospace;background-color: #f0f8ff;border: 1px dotted black;border-radius: 0.25em;box-sizing: border-box;margin-bottom: 0.5em;}#sk-container-id-3 div.sk-estimator:hover {background-color: #d4ebff;}#sk-container-id-3 div.sk-parallel-item::after {content: \"\";width: 100%;border-bottom: 1px solid gray;flex-grow: 1;}#sk-container-id-3 div.sk-label:hover label.sk-toggleable__label {background-color: #d4ebff;}#sk-container-id-3 div.sk-serial::before {content: \"\";position: absolute;border-left: 1px solid gray;box-sizing: border-box;top: 0;bottom: 0;left: 50%;z-index: 0;}#sk-container-id-3 div.sk-serial {display: flex;flex-direction: column;align-items: center;background-color: white;padding-right: 0.2em;padding-left: 0.2em;position: relative;}#sk-container-id-3 div.sk-item {position: relative;z-index: 1;}#sk-container-id-3 div.sk-parallel {display: flex;align-items: stretch;justify-content: center;background-color: white;position: relative;}#sk-container-id-3 div.sk-item::before, #sk-container-id-3 div.sk-parallel-item::before {content: \"\";position: absolute;border-left: 1px solid gray;box-sizing: border-box;top: 0;bottom: 0;left: 50%;z-index: -1;}#sk-container-id-3 div.sk-parallel-item {display: flex;flex-direction: column;z-index: 1;position: relative;background-color: white;}#sk-container-id-3 div.sk-parallel-item:first-child::after {align-self: flex-end;width: 50%;}#sk-container-id-3 div.sk-parallel-item:last-child::after {align-self: flex-start;width: 50%;}#sk-container-id-3 div.sk-parallel-item:only-child::after {width: 0;}#sk-container-id-3 div.sk-dashed-wrapped {border: 1px dashed gray;margin: 0 0.4em 0.5em 0.4em;box-sizing: border-box;padding-bottom: 0.4em;background-color: white;}#sk-container-id-3 div.sk-label label {font-family: monospace;font-weight: bold;display: inline-block;line-height: 1.2em;}#sk-container-id-3 div.sk-label-container {text-align: center;}#sk-container-id-3 div.sk-container {/* jupyter's `normalize.less` sets `[hidden] { display: none; }` but bootstrap.min.css set `[hidden] { display: none !important; }` so we also need the `!important` here to be able to override the default hidden behavior on the sphinx rendered scikit-learn.org. See: https://github.com/scikit-learn/scikit-learn/issues/21755 */display: inline-block !important;position: relative;}#sk-container-id-3 div.sk-text-repr-fallback {display: none;}</style><div id=\"sk-container-id-3\" class=\"sk-top-container\"><div class=\"sk-text-repr-fallback\"><pre>Pipeline(steps=[(&#x27;preprocessor&#x27;,\n",
       "                 ColumnTransformer(transformers=[(&#x27;onehot&#x27;, OneHotEncoder(),\n",
       "                                                  [&#x27;node_caps&#x27;, &#x27;breast_quad&#x27;,\n",
       "                                                   &#x27;irrad&#x27;]),\n",
       "                                                 (&#x27;ordinal&#x27;, OrdinalEncoder(),\n",
       "                                                  [&#x27;inv_nodes&#x27;, &#x27;tumour_size&#x27;]),\n",
       "                                                 (&#x27;numerical&#x27;, &#x27;passthrough&#x27;,\n",
       "                                                  [&#x27;deg_malig&#x27;])])),\n",
       "                (&#x27;ros&#x27;,\n",
       "                 RandomOverSampler(random_state=42,\n",
       "                                   sampling_strategy=&#x27;minority&#x27;)),\n",
       "                (&#x27;model&#x27;, KNeighborsClassifier())])</pre><b>In a Jupyter environment, please rerun this cell to show the HTML representation or trust the notebook. <br />On GitHub, the HTML representation is unable to render, please try loading this page with nbviewer.org.</b></div><div class=\"sk-container\" hidden><div class=\"sk-item sk-dashed-wrapped\"><div class=\"sk-label-container\"><div class=\"sk-label sk-toggleable\"><input class=\"sk-toggleable__control sk-hidden--visually\" id=\"sk-estimator-id-3\" type=\"checkbox\" ><label for=\"sk-estimator-id-3\" class=\"sk-toggleable__label sk-toggleable__label-arrow\">Pipeline</label><div class=\"sk-toggleable__content\"><pre>Pipeline(steps=[(&#x27;preprocessor&#x27;,\n",
       "                 ColumnTransformer(transformers=[(&#x27;onehot&#x27;, OneHotEncoder(),\n",
       "                                                  [&#x27;node_caps&#x27;, &#x27;breast_quad&#x27;,\n",
       "                                                   &#x27;irrad&#x27;]),\n",
       "                                                 (&#x27;ordinal&#x27;, OrdinalEncoder(),\n",
       "                                                  [&#x27;inv_nodes&#x27;, &#x27;tumour_size&#x27;]),\n",
       "                                                 (&#x27;numerical&#x27;, &#x27;passthrough&#x27;,\n",
       "                                                  [&#x27;deg_malig&#x27;])])),\n",
       "                (&#x27;ros&#x27;,\n",
       "                 RandomOverSampler(random_state=42,\n",
       "                                   sampling_strategy=&#x27;minority&#x27;)),\n",
       "                (&#x27;model&#x27;, KNeighborsClassifier())])</pre></div></div></div><div class=\"sk-serial\"><div class=\"sk-item sk-dashed-wrapped\"><div class=\"sk-label-container\"><div class=\"sk-label sk-toggleable\"><input class=\"sk-toggleable__control sk-hidden--visually\" id=\"sk-estimator-id-4\" type=\"checkbox\" ><label for=\"sk-estimator-id-4\" class=\"sk-toggleable__label sk-toggleable__label-arrow\">preprocessor: ColumnTransformer</label><div class=\"sk-toggleable__content\"><pre>ColumnTransformer(transformers=[(&#x27;onehot&#x27;, OneHotEncoder(),\n",
       "                                 [&#x27;node_caps&#x27;, &#x27;breast_quad&#x27;, &#x27;irrad&#x27;]),\n",
       "                                (&#x27;ordinal&#x27;, OrdinalEncoder(),\n",
       "                                 [&#x27;inv_nodes&#x27;, &#x27;tumour_size&#x27;]),\n",
       "                                (&#x27;numerical&#x27;, &#x27;passthrough&#x27;, [&#x27;deg_malig&#x27;])])</pre></div></div></div><div class=\"sk-parallel\"><div class=\"sk-parallel-item\"><div class=\"sk-item\"><div class=\"sk-label-container\"><div class=\"sk-label sk-toggleable\"><input class=\"sk-toggleable__control sk-hidden--visually\" id=\"sk-estimator-id-5\" type=\"checkbox\" ><label for=\"sk-estimator-id-5\" class=\"sk-toggleable__label sk-toggleable__label-arrow\">onehot</label><div class=\"sk-toggleable__content\"><pre>[&#x27;node_caps&#x27;, &#x27;breast_quad&#x27;, &#x27;irrad&#x27;]</pre></div></div></div><div class=\"sk-serial\"><div class=\"sk-item\"><div class=\"sk-estimator sk-toggleable\"><input class=\"sk-toggleable__control sk-hidden--visually\" id=\"sk-estimator-id-6\" type=\"checkbox\" ><label for=\"sk-estimator-id-6\" class=\"sk-toggleable__label sk-toggleable__label-arrow\">OneHotEncoder</label><div class=\"sk-toggleable__content\"><pre>OneHotEncoder()</pre></div></div></div></div></div></div><div class=\"sk-parallel-item\"><div class=\"sk-item\"><div class=\"sk-label-container\"><div class=\"sk-label sk-toggleable\"><input class=\"sk-toggleable__control sk-hidden--visually\" id=\"sk-estimator-id-7\" type=\"checkbox\" ><label for=\"sk-estimator-id-7\" class=\"sk-toggleable__label sk-toggleable__label-arrow\">ordinal</label><div class=\"sk-toggleable__content\"><pre>[&#x27;inv_nodes&#x27;, &#x27;tumour_size&#x27;]</pre></div></div></div><div class=\"sk-serial\"><div class=\"sk-item\"><div class=\"sk-estimator sk-toggleable\"><input class=\"sk-toggleable__control sk-hidden--visually\" id=\"sk-estimator-id-8\" type=\"checkbox\" ><label for=\"sk-estimator-id-8\" class=\"sk-toggleable__label sk-toggleable__label-arrow\">OrdinalEncoder</label><div class=\"sk-toggleable__content\"><pre>OrdinalEncoder()</pre></div></div></div></div></div></div><div class=\"sk-parallel-item\"><div class=\"sk-item\"><div class=\"sk-label-container\"><div class=\"sk-label sk-toggleable\"><input class=\"sk-toggleable__control sk-hidden--visually\" id=\"sk-estimator-id-9\" type=\"checkbox\" ><label for=\"sk-estimator-id-9\" class=\"sk-toggleable__label sk-toggleable__label-arrow\">numerical</label><div class=\"sk-toggleable__content\"><pre>[&#x27;deg_malig&#x27;]</pre></div></div></div><div class=\"sk-serial\"><div class=\"sk-item\"><div class=\"sk-estimator sk-toggleable\"><input class=\"sk-toggleable__control sk-hidden--visually\" id=\"sk-estimator-id-10\" type=\"checkbox\" ><label for=\"sk-estimator-id-10\" class=\"sk-toggleable__label sk-toggleable__label-arrow\">passthrough</label><div class=\"sk-toggleable__content\"><pre>passthrough</pre></div></div></div></div></div></div></div></div><div class=\"sk-item\"><div class=\"sk-estimator sk-toggleable\"><input class=\"sk-toggleable__control sk-hidden--visually\" id=\"sk-estimator-id-11\" type=\"checkbox\" ><label for=\"sk-estimator-id-11\" class=\"sk-toggleable__label sk-toggleable__label-arrow\">RandomOverSampler</label><div class=\"sk-toggleable__content\"><pre>RandomOverSampler(random_state=42, sampling_strategy=&#x27;minority&#x27;)</pre></div></div></div><div class=\"sk-item\"><div class=\"sk-estimator sk-toggleable\"><input class=\"sk-toggleable__control sk-hidden--visually\" id=\"sk-estimator-id-12\" type=\"checkbox\" ><label for=\"sk-estimator-id-12\" class=\"sk-toggleable__label sk-toggleable__label-arrow\">KNeighborsClassifier</label><div class=\"sk-toggleable__content\"><pre>KNeighborsClassifier()</pre></div></div></div></div></div></div></div>"
      ],
      "text/plain": [
       "Pipeline(steps=[('preprocessor',\n",
       "                 ColumnTransformer(transformers=[('onehot', OneHotEncoder(),\n",
       "                                                  ['node_caps', 'breast_quad',\n",
       "                                                   'irrad']),\n",
       "                                                 ('ordinal', OrdinalEncoder(),\n",
       "                                                  ['inv_nodes', 'tumour_size']),\n",
       "                                                 ('numerical', 'passthrough',\n",
       "                                                  ['deg_malig'])])),\n",
       "                ('ros',\n",
       "                 RandomOverSampler(random_state=42,\n",
       "                                   sampling_strategy='minority')),\n",
       "                ('model', KNeighborsClassifier())])"
      ]
     },
     "metadata": {},
     "output_type": "display_data"
    }
   ],
   "source": [
    "from sklearn import set_config\n",
    "from IPython.display import display\n",
    "from imblearn.pipeline import Pipeline\n",
    "from sklearn.preprocessing import OneHotEncoder, OrdinalEncoder\n",
    "from sklearn.compose import ColumnTransformer\n",
    "from imblearn.over_sampling import RandomOverSampler\n",
    "from sklearn.neighbors import KNeighborsClassifier\n",
    "\n",
    "# Define the columns for OneHotEncoder (nominal) and OrdinalEncoder (ordinal)\n",
    "nominal_features = ['node_caps', 'breast_quad', 'irrad']  # list of column indices or names for nominal features\n",
    "ordinal_features = ['inv_nodes', 'tumour_size']  # list of column indices or names for ordinal features\n",
    "numerical_features = ['deg_malig']\n",
    "\n",
    "# Create a ColumnTransformer that applies different encoders to different subsets of features\n",
    "preprocessor = ColumnTransformer(transformers=[\n",
    "    ('onehot', OneHotEncoder(), nominal_features),\n",
    "    ('ordinal', OrdinalEncoder(), ordinal_features),\n",
    "    ('numerical', 'passthrough', numerical_features)\n",
    "])\n",
    "\n",
    "# Enable the diagram display option\n",
    "set_config(display='diagram')\n",
    "\n",
    "# Create a pipeline with a preprocessor, a random over sampler, and a K-neighbors classifier\n",
    "pipeline = Pipeline([\n",
    "    ('preprocessor', preprocessor),\n",
    "    ('ros', RandomOverSampler(random_state=42, sampling_strategy='minority')),\n",
    "    ('model', KNeighborsClassifier())\n",
    "])\n",
    "\n",
    "# Display the pipeline in the Jupyter notebook\n",
    "display(pipeline)\n"
   ]
  }
 ],
 "metadata": {
  "kernelspec": {
   "display_name": "Python 3",
   "language": "python",
   "name": "python3"
  },
  "language_info": {
   "codemirror_mode": {
    "name": "ipython",
    "version": 3
   },
   "file_extension": ".py",
   "mimetype": "text/x-python",
   "name": "python",
   "nbconvert_exporter": "python",
   "pygments_lexer": "ipython3",
   "version": "3.10.11"
  },
  "vscode": {
   "interpreter": {
    "hash": "88af22fe04d06c4e495e074b0632349f29d04136c19fd8eb45f7e3371b637b87"
   }
  }
 },
 "nbformat": 4,
 "nbformat_minor": 2
}
