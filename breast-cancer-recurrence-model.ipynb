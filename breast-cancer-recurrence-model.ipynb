{
 "cells": [
  {
   "cell_type": "code",
   "execution_count": 17,
   "metadata": {},
   "outputs": [],
   "source": [
    "# import libraries\n",
    "import pandas as pd\n",
    "pd.set_option('display.max_colwidth', None) #setting max colwidth to view the entire dataset when using the print() command\n",
    "import matplotlib.pyplot as plt\n",
    "import numpy as np"
   ]
  },
  {
   "cell_type": "code",
   "execution_count": 18,
   "metadata": {},
   "outputs": [],
   "source": [
    "# import the files\n",
    "data = open(\"./dataset/breast-cancer.data\")\n",
    "feat = open(\"./dataset/breast-cancer.names\")\n",
    "\n",
    "data = data.read()\n",
    "feat = feat.read()"
   ]
  },
  {
   "cell_type": "code",
   "execution_count": 19,
   "metadata": {},
   "outputs": [
    {
     "name": "stdout",
     "output_type": "stream",
     "text": [
      "no-recurrence-events,30-39,premeno,30-34,0-2,no,3,left,left_low,no\n",
      "no-recurrence-events,40-49,premeno,20-24,0-2,no,2,right,right_up,no\n"
     ]
    }
   ],
   "source": [
    "# preview the first two rows of the dataset\n",
    "print(data.split('\\n',1)[0])\n",
    "print(data.split('\\n',2)[1])"
   ]
  },
  {
   "cell_type": "code",
   "execution_count": 20,
   "metadata": {},
   "outputs": [
    {
     "name": "stdout",
     "output_type": "stream",
     "text": [
      "Citation Request:\n",
      "   This breast cancer domain was obtained from the University Medical Centre,\n",
      "   Institute of Oncology, Ljubljana, Yugoslavia.  Thanks go to M. Zwitter and \n",
      "   M. Soklic for providing the data.  Please include this citation if you plan\n",
      "   to use this database.\n",
      "\n",
      "1. Title: Breast cancer data (Michalski has used this)\n",
      "\n",
      "2. Sources: \n",
      "   -- Matjaz Zwitter & Milan Soklic (physicians)\n",
      "      Institute of Oncology \n",
      "      University Medical Center\n",
      "      Ljubljana, Yugoslavia\n",
      "   -- Donors: Ming Tan and Jeff Schlimmer (Jeffrey.Schlimmer@a.gp.cs.cmu.edu)\n",
      "   -- Date: 11 July 1988\n",
      "\n",
      "3. Past Usage: (Several: here are some)\n",
      "     -- Michalski,R.S., Mozetic,I., Hong,J., & Lavrac,N. (1986). The \n",
      "        Multi-Purpose Incremental Learning System AQ15 and its Testing \n",
      "        Application to Three Medical Domains.  In Proceedings of the \n",
      "        Fifth National Conference on Artificial Intelligence, 1041-1045,\n",
      "        Philadelphia, PA: Morgan Kaufmann.\n",
      "        -- accuracy range: 66%-72%\n",
      "     -- Clark,P. & Niblett,T. (1987). Induction in Noisy Domains.  In \n",
      "        Progress in Machine Learning (from the Proceedings of the 2nd\n",
      "        European Working Session on Learning), 11-30, Bled, \n",
      "        Yugoslavia: Sigma Press.\n",
      "        -- 8 test results given: 65%-72% accuracy range\n",
      "     -- Tan, M., & Eshelman, L. (1988). Using weighted networks to \n",
      "        represent classification knowledge in noisy domains.  Proceedings \n",
      "        of the Fifth International Conference on Machine Learning, 121-134,\n",
      "        Ann Arbor, MI.\n",
      "        -- 4 systems tested: accuracy range was 68%-73.5%\n",
      "    -- Cestnik,G., Konenenko,I, & Bratko,I. (1987). Assistant-86: A\n",
      "       Knowledge-Elicitation Tool for Sophisticated Users.  In I.Bratko\n",
      "       & N.Lavrac (Eds.) Progress in Machine Learning, 31-45, Sigma Press.\n",
      "       -- Assistant-86: 78% accuracy\n",
      "\n",
      "4. Relevant Information:\n",
      "     This is one of three domains provided by the Oncology Institute\n",
      "     that has repeatedly appeared in the machine learning literature.\n",
      "     (See also lymphography and primary-tumor.)\n",
      "\n",
      "     This data set includes 201 instances of one class and 85 instances of\n",
      "     another class.  The instances are described by 9 attributes, some of\n",
      "     which are linear and some are nominal.\n",
      "\n",
      "5. Number of Instances: 286\n",
      "\n",
      "6. Number of Attributes: 9 + the class attribute\n",
      "\n",
      "7. Attribute Information:\n",
      "   1. Class: no-recurrence-events, recurrence-events\n",
      "   2. age: 10-19, 20-29, 30-39, 40-49, 50-59, 60-69, 70-79, 80-89, 90-99.\n",
      "   3. menopause: lt40, ge40, premeno.\n",
      "   4. tumor-size: 0-4, 5-9, 10-14, 15-19, 20-24, 25-29, 30-34, 35-39, 40-44,\n",
      "                  45-49, 50-54, 55-59.\n",
      "   5. inv-nodes: 0-2, 3-5, 6-8, 9-11, 12-14, 15-17, 18-20, 21-23, 24-26,\n",
      "                 27-29, 30-32, 33-35, 36-39.\n",
      "   6. node-caps: yes, no.\n",
      "   7. deg-malig: 1, 2, 3.\n",
      "   8. breast: left, right.\n",
      "   9. breast-quad: left-up, left-low, right-up,\tright-low, central.\n",
      "  10. irradiat:\tyes, no.\n",
      "\n",
      "8. Missing Attribute Values: (denoted by \"?\")\n",
      "   Attribute #:  Number of instances with missing values:\n",
      "   6.             8\n",
      "   9.             1.\n",
      "\n",
      "9. Class Distribution:\n",
      "    1. no-recurrence-events: 201 instances\n",
      "    2. recurrence-events: 85 instances\n",
      "\n"
     ]
    }
   ],
   "source": [
    "# view information about the dataset\n",
    "print(feat)"
   ]
  },
  {
   "cell_type": "code",
   "execution_count": 21,
   "metadata": {},
   "outputs": [],
   "source": [
    "# replace missing dataset attributes to NAN\n",
    "data = data.replace('?','')"
   ]
  },
  {
   "cell_type": "code",
   "execution_count": 22,
   "metadata": {},
   "outputs": [],
   "source": [
    "from io import StringIO"
   ]
  },
  {
   "cell_type": "code",
   "execution_count": 23,
   "metadata": {},
   "outputs": [
    {
     "name": "stdout",
     "output_type": "stream",
     "text": [
      "<class 'pandas.core.frame.DataFrame'>\n"
     ]
    }
   ],
   "source": [
    "# convert data from str to dataframe\n",
    "data = StringIO(data)\n",
    "data = pd.read_csv(data, sep=\",\")\n",
    "print(type(data)) #check the data variable is a pandas.core.frame.DataFrame"
   ]
  },
  {
   "cell_type": "code",
   "execution_count": 24,
   "metadata": {},
   "outputs": [
    {
     "data": {
      "text/plain": [
       "Index(['class', 'age', 'menopause', 'tumour_size', 'inv_nodes', 'node_caps',\n",
       "       'deg_malig', 'breast', 'breast_quad', 'irrad'],\n",
       "      dtype='object')"
      ]
     },
     "execution_count": 24,
     "metadata": {},
     "output_type": "execute_result"
    }
   ],
   "source": [
    "data.columns = ['class', 'age', 'menopause', 'tumour_size', 'inv_nodes', 'node_caps', 'deg_malig', 'breast', 'breast_quad', 'irrad']\n",
    "data.columns"
   ]
  },
  {
   "cell_type": "code",
   "execution_count": 25,
   "metadata": {},
   "outputs": [],
   "source": [
    "data['class'] = data['class'].replace(['no-recurrence-events','recurrence-events'], [0,1])\n",
    "data['age'] = data['age'].replace(['20-29', '30-39','40-49','50-59','60-69','70-79'],[0,1,2,3,4,5])\n",
    "data['menopause'] = data['menopause'].replace(['premeno','ge40','lt40'],[0,1,2])\n",
    "data['tumour_size'] = data['tumour_size'].replace(['0-4','5-9','10-14','15-19','20-24','25-29','30-34','35-39','40-44','45-49','50-54'],[0,1,2,3,4,5,6,7,8,9,10])\n",
    "data['inv_nodes'] = data['inv_nodes'].replace(['0-2','3-5','6-8','9-11','12-14','15-17','24-26'],[0,1,2,3,4,5,6])\n",
    "data['node_caps'] = data['node_caps'].replace(['no','yes'],[0,1])\n",
    "data['breast'] = data['breast'].replace(['left','right'],[0,1])\n",
    "data['breast_quad'] = data['breast_quad'].replace(['left_low','left_up','right_up','right_low','central'],[0,1,2,3,4])\n",
    "data['irrad'] = data['irrad'].replace(['no','yes'],[0,1])"
   ]
  },
  {
   "cell_type": "code",
   "execution_count": 26,
   "metadata": {},
   "outputs": [],
   "source": [
    "# replace missing data \n",
    "data['node_caps'] = data['node_caps'].fillna(5)\n",
    "data['breast_quad'] = data['breast_quad'].fillna(8)"
   ]
  },
  {
   "cell_type": "code",
   "execution_count": 27,
   "metadata": {},
   "outputs": [],
   "source": [
    "X = data.drop(['class'], axis = 1)\n",
    "y = data['class']"
   ]
  },
  {
   "cell_type": "code",
   "execution_count": 28,
   "metadata": {},
   "outputs": [],
   "source": [
    "from sklearn.model_selection import train_test_split\n",
    "X_train, X_test, y_train, y_test = train_test_split(X, y, test_size=0.2, stratify=y, random_state=42)"
   ]
  },
  {
   "cell_type": "code",
   "execution_count": 29,
   "metadata": {},
   "outputs": [
    {
     "data": {
      "text/plain": [
       "(228, 9)"
      ]
     },
     "execution_count": 29,
     "metadata": {},
     "output_type": "execute_result"
    }
   ],
   "source": [
    "X_train.shape"
   ]
  },
  {
   "cell_type": "code",
   "execution_count": 30,
   "metadata": {},
   "outputs": [
    {
     "data": {
      "text/plain": [
       "(228,)"
      ]
     },
     "execution_count": 30,
     "metadata": {},
     "output_type": "execute_result"
    }
   ],
   "source": [
    "y_train.shape"
   ]
  },
  {
   "cell_type": "code",
   "execution_count": 31,
   "metadata": {},
   "outputs": [
    {
     "name": "stdout",
     "output_type": "stream",
     "text": [
      "<class 'pandas.core.frame.DataFrame'>\n",
      "Int64Index: 228 entries, 214 to 250\n",
      "Data columns (total 9 columns):\n",
      " #   Column       Non-Null Count  Dtype  \n",
      "---  ------       --------------  -----  \n",
      " 0   age          228 non-null    int64  \n",
      " 1   menopause    228 non-null    int64  \n",
      " 2   tumour_size  228 non-null    int64  \n",
      " 3   inv_nodes    228 non-null    int64  \n",
      " 4   node_caps    228 non-null    float64\n",
      " 5   deg_malig    228 non-null    int64  \n",
      " 6   breast       228 non-null    int64  \n",
      " 7   breast_quad  228 non-null    float64\n",
      " 8   irrad        228 non-null    int64  \n",
      "dtypes: float64(2), int64(7)\n",
      "memory usage: 17.8 KB\n"
     ]
    }
   ],
   "source": [
    "X_train.info()"
   ]
  },
  {
   "cell_type": "code",
   "execution_count": 32,
   "metadata": {},
   "outputs": [
    {
     "data": {
      "text/plain": [
       "<AxesSubplot:>"
      ]
     },
     "execution_count": 32,
     "metadata": {},
     "output_type": "execute_result"
    },
    {
     "data": {
      "image/png": "[encoded data removed]",
      "text/plain": [
       "<Figure size 640x480 with 1 Axes>"
      ]
     },
     "metadata": {},
     "output_type": "display_data"
    }
   ],
   "source": [
    "class_ = y_train.value_counts()\n",
    "class_.plot.barh()"
   ]
  },
  {
   "attachments": {},
   "cell_type": "markdown",
   "metadata": {},
   "source": [
    "#### Model"
   ]
  },
  {
   "attachments": {},
   "cell_type": "markdown",
   "metadata": {},
   "source": [
    "- target class is unbalanced\n",
    "- in general, 10.4% is the rate of breast cancer recurrence after 5 years from the initial cancer. Unbalanced may be representative of real-world situation\n",
    "- type of errors in real-world deployment of the model:\n",
    "  - false negatives: failing to detect likely recurrence *\"patient won't experience recurrence but likely will\"*\n",
    "  - false positives: marking recurrence when patient likely won't *\"patient will experience recurrence, but likely won't\"*\n",
    "  - damaging: false negatives > false positives\n",
    "- cost-sensitive model that is designed to prioritize recall over precision may be more appropriate\n",
    "  - *cost-sensitive model: \"takes into account consequences of different types of errors when making predictions\"*\n",
    "  - *recall: \"ability to detect all instances of the disease\"*\n",
    "  - *precision: \"correctly identify positive instances\"*\n",
    "  - *F1-score: \"a mix of precision and recall. Good when the target class is unbalanced\"*\n",
    "  <br>\n",
    "  <br>\n",
    "- several options:\n",
    "  - try to evaluate the model using appropriate evaluation metrics\n",
    "    - F1-score, ROC-AUC\n",
    "  - model a cost-sensitive model that prioritizes recall over precision and test the model again\n",
    "  - balance the target class using sampling methods\n",
    "  - setting a minimum threshold for prediction"
   ]
  },
  {
   "cell_type": "code",
   "execution_count": 33,
   "metadata": {},
   "outputs": [],
   "source": [
    "from sklearn.ensemble import RandomForestClassifier\n",
    "from sklearn.linear_model import LogisticRegression\n",
    "from sklearn.tree import DecisionTreeClassifier\n",
    "from sklearn.neighbors import KNeighborsClassifier\n",
    "from sklearn.svm import SVC\n",
    "\n",
    "from sklearn.metrics import accuracy_score\n",
    "from sklearn.metrics import f1_score\n",
    "from sklearn.metrics import roc_auc_score\n",
    "from sklearn.metrics import roc_curve\n",
    "from sklearn.model_selection import cross_val_score\n",
    "from sklearn.metrics import recall_score, precision_score\n",
    "\n",
    "from imblearn.over_sampling import RandomOverSampler\n",
    "\n",
    "from IPython.display import display\n",
    "\n",
    "def normal_pred(model, X_train, y_train, X_test, y_test):\n",
    "    #normal model\n",
    "    model = model\n",
    "    model.fit(X_train, y_train)\n",
    "    y_pred = model.predict(X_test)\n",
    "    n_acc = model.score(X_train, y_train)\n",
    "    n_f1 = f1_score(y_test, y_pred, average='binary')\n",
    "    y_score = model.predict_proba(X_test)[:, 1]\n",
    "    n_roc_auc = roc_auc_score(y_test, y_score)\n",
    "    n_rec = recall_score(y_test, y_pred)\n",
    "    n_pre = precision_score(y_test, y_pred)\n",
    "    return n_acc, n_f1, n_roc_auc, n_rec, n_pre\n",
    "\n",
    "\n",
    "\n",
    "def cost_sensitive(model, X_train, y_train, X_test, y_test):\n",
    "    if model == 'RandomForestClassifier()':\n",
    "        model = RandomForestClassifier(class_weight={0: 1, 1: 2})\n",
    "    if model == 'LogisticRegression()':\n",
    "        model = LogisticRegression(class_weight={0: 1, 1: 2})\n",
    "    if model == 'DecisionTreeClassifier()':\n",
    "        model = DecisionTreeClassifier(class_weight={0: 1, 1: 2})\n",
    "    if model == 'KNeighborsClassifier(n_neighbors=5)':\n",
    "        model = KnNeighborsClassifier(n_neighbors=5,class_weight={0: 1, 1: 2})\n",
    "    # cost-sensitive prioritizing recall model\n",
    "    model.fit(X_train, y_train)\n",
    "    y_pred = model.predict(X_test)\n",
    "    c_acc = model.score(X_train, y_train)\n",
    "    c_f1 = f1_score(y_test, y_pred, average='binary')\n",
    "    c_roc_auc = 0\n",
    "    c_rec = recall_score(y_test, y_pred)\n",
    "    c_pre = precision_score(y_test, y_pred)\n",
    "    return c_acc, c_f1, c_roc_auc, c_rec, c_pre\n",
    "\n",
    "\n",
    "def resampling(model, X_train, y_train, X_test, y_test):\n",
    "    # resampling to make target class balanced\n",
    "    ros = RandomOverSampler(random_state=42)\n",
    "    X_resampled, y_resampled = ros.fit_resample(X_train, y_train)\n",
    "    model = model \n",
    "    model.fit(X_resampled, y_resampled)\n",
    "    y_pred = model.predict(X_test)\n",
    "    r_acc = model.score(X_train, y_train)\n",
    "    r_f1 = f1_score(y_test, y_pred, average='binary')\n",
    "    y_score = model.predict_proba(X_test)[:, 1]\n",
    "    r_roc_auc = roc_auc_score(y_test, y_score)\n",
    "    r_rec = recall_score(y_test, y_pred)\n",
    "    r_pre = precision_score(y_test, y_pred)\n",
    "    return r_acc, r_f1, r_roc_auc, r_rec, r_pre\n",
    "\n",
    "\n",
    "def threshold(model, X_train, y_train, X_test, y_test):\n",
    "    model = model\n",
    "    model.fit(X_train, y_train)\n",
    "    y_score = model.predict_proba(X_test)[:, 1]\n",
    "    threshold = 0.35\n",
    "    y_pred = (y_score >= threshold).astype(int)\n",
    "    t_acc = 0\n",
    "    t_f1 = f1_score(y_test, y_pred, average='binary')\n",
    "    t_roc_auc = roc_auc_score(y_test, y_pred)\n",
    "    t_rec = recall_score(y_test, y_pred)\n",
    "    t_pre = precision_score(y_test, y_pred)\n",
    "    return t_acc, t_f1, t_roc_auc, t_rec, t_pre\n",
    "\n",
    "\n",
    "def cross_val(model, X_train, y_train):\n",
    "    scores = cross_val_score(model, X_train, y_train, cv=5)\n",
    "    mean_score = np.mean(scores)\n",
    "    std_score = np.std(scores)\n",
    "    return mean_score, std_score\n",
    "\n",
    "\n",
    "def metrics_table(a,b,c,d,e,f,g,h,i,l,m,n,o,p,q,r,s,t,u,v,mean,std,model):\n",
    "    data = [[a,b,c,d,e],[f,g,h,i,l],[m,n,o,p,q],[r,s,t,u,v]]\n",
    "    index = ['Normal', 'Cost-sensitive Resampling', 'Sampling to Balanced', 'Minimum Threshold']\n",
    "    table = pd.DataFrame(data, columns=['Accuracy', 'F1-score', 'ROC-AUC', 'Recall', 'Precision'], index=index)\n",
    "    table = table.style.highlight_between(left=0.68, right=0.99, color=\"#276221\")\n",
    "    print(model, 'Cross-Validation Mean:', mean, 'Standard-dev:', std)\n",
    "    print(display(table))\n",
    "    print('\\n')\n",
    "\n",
    "\n",
    "def mod_eval(model, X_train, y_train, X_test, y_test):\n",
    "    n_acc, n_f1, n_roc_auc, n_rec, n_pre = normal_pred(model, X_train, y_train, X_test, y_test)\n",
    "    c_acc, c_f1, c_roc_auc, c_rec, c_pre = cost_sensitive(model, X_train, y_train, X_test, y_test)\n",
    "    r_acc, r_f1, r_roc_auc, r_rec, r_pre = resampling(model, X_train, y_train, X_test, y_test)\n",
    "    t_acc, t_f1, t_roc_auc, t_rec, t_pre = threshold(model, X_train, y_train, X_test, y_test)\n",
    "    mean_score, std_score = cross_val(model, X_train, y_train)\n",
    "    metrics_table(n_acc,n_f1,n_roc_auc,n_rec,n_pre,c_acc,c_f1,c_roc_auc,c_rec,c_pre,r_acc,r_f1,r_roc_auc,r_rec,r_pre,t_acc,t_f1,t_roc_auc,t_rec,t_pre,mean_score,std_score,model)"
   ]
  },
  {
   "cell_type": "code",
   "execution_count": 34,
   "metadata": {},
   "outputs": [
    {
     "name": "stdout",
     "output_type": "stream",
     "text": [
      "RandomForestClassifier() Cross-Validation Mean: 0.7193236714975846 Standard-dev: 0.04820181305865933\n"
     ]
    },
    {
     "data": {
      "text/html": [
       "<style type=\"text/css\">\n",
       "#T_bbd22_row0_col0, #T_bbd22_row1_col0, #T_bbd22_row2_col0 {\n",
       "  background-color: #276221;\n",
       "}\n",
       "</style>\n",
       "<table id=\"T_bbd22_\">\n",
       "  <thead>\n",
       "    <tr>\n",
       "      <th class=\"blank level0\" >&nbsp;</th>\n",
       "      <th class=\"col_heading level0 col0\" >Accuracy</th>\n",
       "      <th class=\"col_heading level0 col1\" >F1-score</th>\n",
       "      <th class=\"col_heading level0 col2\" >ROC-AUC</th>\n",
       "      <th class=\"col_heading level0 col3\" >Recall</th>\n",
       "      <th class=\"col_heading level0 col4\" >Precision</th>\n",
       "    </tr>\n",
       "  </thead>\n",
       "  <tbody>\n",
       "    <tr>\n",
       "      <th id=\"T_bbd22_level0_row0\" class=\"row_heading level0 row0\" >Normal</th>\n",
       "      <td id=\"T_bbd22_row0_col0\" class=\"data row0 col0\" >0.986842</td>\n",
       "      <td id=\"T_bbd22_row0_col1\" class=\"data row0 col1\" >0.387097</td>\n",
       "      <td id=\"T_bbd22_row0_col2\" class=\"data row0 col2\" >0.575735</td>\n",
       "      <td id=\"T_bbd22_row0_col3\" class=\"data row0 col3\" >0.352941</td>\n",
       "      <td id=\"T_bbd22_row0_col4\" class=\"data row0 col4\" >0.428571</td>\n",
       "    </tr>\n",
       "    <tr>\n",
       "      <th id=\"T_bbd22_level0_row1\" class=\"row_heading level0 row1\" >Cost-sensitive Resampling</th>\n",
       "      <td id=\"T_bbd22_row1_col0\" class=\"data row1 col0\" >0.986842</td>\n",
       "      <td id=\"T_bbd22_row1_col1\" class=\"data row1 col1\" >0.466667</td>\n",
       "      <td id=\"T_bbd22_row1_col2\" class=\"data row1 col2\" >0.000000</td>\n",
       "      <td id=\"T_bbd22_row1_col3\" class=\"data row1 col3\" >0.411765</td>\n",
       "      <td id=\"T_bbd22_row1_col4\" class=\"data row1 col4\" >0.538462</td>\n",
       "    </tr>\n",
       "    <tr>\n",
       "      <th id=\"T_bbd22_level0_row2\" class=\"row_heading level0 row2\" >Sampling to Balanced</th>\n",
       "      <td id=\"T_bbd22_row2_col0\" class=\"data row2 col0\" >0.986842</td>\n",
       "      <td id=\"T_bbd22_row2_col1\" class=\"data row2 col1\" >0.424242</td>\n",
       "      <td id=\"T_bbd22_row2_col2\" class=\"data row2 col2\" >0.584559</td>\n",
       "      <td id=\"T_bbd22_row2_col3\" class=\"data row2 col3\" >0.411765</td>\n",
       "      <td id=\"T_bbd22_row2_col4\" class=\"data row2 col4\" >0.437500</td>\n",
       "    </tr>\n",
       "    <tr>\n",
       "      <th id=\"T_bbd22_level0_row3\" class=\"row_heading level0 row3\" >Minimum Threshold</th>\n",
       "      <td id=\"T_bbd22_row3_col0\" class=\"data row3 col0\" >0.000000</td>\n",
       "      <td id=\"T_bbd22_row3_col1\" class=\"data row3 col1\" >0.358974</td>\n",
       "      <td id=\"T_bbd22_row3_col2\" class=\"data row3 col2\" >0.518382</td>\n",
       "      <td id=\"T_bbd22_row3_col3\" class=\"data row3 col3\" >0.411765</td>\n",
       "      <td id=\"T_bbd22_row3_col4\" class=\"data row3 col4\" >0.318182</td>\n",
       "    </tr>\n",
       "  </tbody>\n",
       "</table>\n"
      ],
      "text/plain": [
       "<pandas.io.formats.style.Styler at 0x15128bdb0a0>"
      ]
     },
     "metadata": {},
     "output_type": "display_data"
    },
    {
     "name": "stdout",
     "output_type": "stream",
     "text": [
      "None\n",
      "\n",
      "\n",
      "LogisticRegression() Cross-Validation Mean: 0.7371980676328502 Standard-dev: 0.055925255927063905\n"
     ]
    },
    {
     "data": {
      "text/html": [
       "<style type=\"text/css\">\n",
       "#T_53c0f_row0_col0, #T_53c0f_row1_col0, #T_53c0f_row2_col0 {\n",
       "  background-color: #276221;\n",
       "}\n",
       "</style>\n",
       "<table id=\"T_53c0f_\">\n",
       "  <thead>\n",
       "    <tr>\n",
       "      <th class=\"blank level0\" >&nbsp;</th>\n",
       "      <th class=\"col_heading level0 col0\" >Accuracy</th>\n",
       "      <th class=\"col_heading level0 col1\" >F1-score</th>\n",
       "      <th class=\"col_heading level0 col2\" >ROC-AUC</th>\n",
       "      <th class=\"col_heading level0 col3\" >Recall</th>\n",
       "      <th class=\"col_heading level0 col4\" >Precision</th>\n",
       "    </tr>\n",
       "  </thead>\n",
       "  <tbody>\n",
       "    <tr>\n",
       "      <th id=\"T_53c0f_level0_row0\" class=\"row_heading level0 row0\" >Normal</th>\n",
       "      <td id=\"T_53c0f_row0_col0\" class=\"data row0 col0\" >0.741228</td>\n",
       "      <td id=\"T_53c0f_row0_col1\" class=\"data row0 col1\" >0.516129</td>\n",
       "      <td id=\"T_53c0f_row0_col2\" class=\"data row0 col2\" >0.660294</td>\n",
       "      <td id=\"T_53c0f_row0_col3\" class=\"data row0 col3\" >0.470588</td>\n",
       "      <td id=\"T_53c0f_row0_col4\" class=\"data row0 col4\" >0.571429</td>\n",
       "    </tr>\n",
       "    <tr>\n",
       "      <th id=\"T_53c0f_level0_row1\" class=\"row_heading level0 row1\" >Cost-sensitive Resampling</th>\n",
       "      <td id=\"T_53c0f_row1_col0\" class=\"data row1 col0\" >0.741228</td>\n",
       "      <td id=\"T_53c0f_row1_col1\" class=\"data row1 col1\" >0.516129</td>\n",
       "      <td id=\"T_53c0f_row1_col2\" class=\"data row1 col2\" >0.000000</td>\n",
       "      <td id=\"T_53c0f_row1_col3\" class=\"data row1 col3\" >0.470588</td>\n",
       "      <td id=\"T_53c0f_row1_col4\" class=\"data row1 col4\" >0.571429</td>\n",
       "    </tr>\n",
       "    <tr>\n",
       "      <th id=\"T_53c0f_level0_row2\" class=\"row_heading level0 row2\" >Sampling to Balanced</th>\n",
       "      <td id=\"T_53c0f_row2_col0\" class=\"data row2 col0\" >0.706140</td>\n",
       "      <td id=\"T_53c0f_row2_col1\" class=\"data row2 col1\" >0.500000</td>\n",
       "      <td id=\"T_53c0f_row2_col2\" class=\"data row2 col2\" >0.635294</td>\n",
       "      <td id=\"T_53c0f_row2_col3\" class=\"data row2 col3\" >0.588235</td>\n",
       "      <td id=\"T_53c0f_row2_col4\" class=\"data row2 col4\" >0.434783</td>\n",
       "    </tr>\n",
       "    <tr>\n",
       "      <th id=\"T_53c0f_level0_row3\" class=\"row_heading level0 row3\" >Minimum Threshold</th>\n",
       "      <td id=\"T_53c0f_row3_col0\" class=\"data row3 col0\" >0.000000</td>\n",
       "      <td id=\"T_53c0f_row3_col1\" class=\"data row3 col1\" >0.487805</td>\n",
       "      <td id=\"T_53c0f_row3_col2\" class=\"data row3 col2\" >0.619118</td>\n",
       "      <td id=\"T_53c0f_row3_col3\" class=\"data row3 col3\" >0.588235</td>\n",
       "      <td id=\"T_53c0f_row3_col4\" class=\"data row3 col4\" >0.416667</td>\n",
       "    </tr>\n",
       "  </tbody>\n",
       "</table>\n"
      ],
      "text/plain": [
       "<pandas.io.formats.style.Styler at 0x15129f7b280>"
      ]
     },
     "metadata": {},
     "output_type": "display_data"
    },
    {
     "name": "stdout",
     "output_type": "stream",
     "text": [
      "None\n",
      "\n",
      "\n",
      "DecisionTreeClassifier() Cross-Validation Mean: 0.679903381642512 Standard-dev: 0.06660054131486459\n"
     ]
    },
    {
     "data": {
      "text/html": [
       "<style type=\"text/css\">\n",
       "#T_0f222_row0_col0, #T_0f222_row1_col0, #T_0f222_row2_col0 {\n",
       "  background-color: #276221;\n",
       "}\n",
       "</style>\n",
       "<table id=\"T_0f222_\">\n",
       "  <thead>\n",
       "    <tr>\n",
       "      <th class=\"blank level0\" >&nbsp;</th>\n",
       "      <th class=\"col_heading level0 col0\" >Accuracy</th>\n",
       "      <th class=\"col_heading level0 col1\" >F1-score</th>\n",
       "      <th class=\"col_heading level0 col2\" >ROC-AUC</th>\n",
       "      <th class=\"col_heading level0 col3\" >Recall</th>\n",
       "      <th class=\"col_heading level0 col4\" >Precision</th>\n",
       "    </tr>\n",
       "  </thead>\n",
       "  <tbody>\n",
       "    <tr>\n",
       "      <th id=\"T_0f222_level0_row0\" class=\"row_heading level0 row0\" >Normal</th>\n",
       "      <td id=\"T_0f222_row0_col0\" class=\"data row0 col0\" >0.986842</td>\n",
       "      <td id=\"T_0f222_row0_col1\" class=\"data row0 col1\" >0.324324</td>\n",
       "      <td id=\"T_0f222_row0_col2\" class=\"data row0 col2\" >0.501471</td>\n",
       "      <td id=\"T_0f222_row0_col3\" class=\"data row0 col3\" >0.352941</td>\n",
       "      <td id=\"T_0f222_row0_col4\" class=\"data row0 col4\" >0.300000</td>\n",
       "    </tr>\n",
       "    <tr>\n",
       "      <th id=\"T_0f222_level0_row1\" class=\"row_heading level0 row1\" >Cost-sensitive Resampling</th>\n",
       "      <td id=\"T_0f222_row1_col0\" class=\"data row1 col0\" >0.986842</td>\n",
       "      <td id=\"T_0f222_row1_col1\" class=\"data row1 col1\" >0.368421</td>\n",
       "      <td id=\"T_0f222_row1_col2\" class=\"data row1 col2\" >0.000000</td>\n",
       "      <td id=\"T_0f222_row1_col3\" class=\"data row1 col3\" >0.411765</td>\n",
       "      <td id=\"T_0f222_row1_col4\" class=\"data row1 col4\" >0.333333</td>\n",
       "    </tr>\n",
       "    <tr>\n",
       "      <th id=\"T_0f222_level0_row2\" class=\"row_heading level0 row2\" >Sampling to Balanced</th>\n",
       "      <td id=\"T_0f222_row2_col0\" class=\"data row2 col0\" >0.986842</td>\n",
       "      <td id=\"T_0f222_row2_col1\" class=\"data row2 col1\" >0.363636</td>\n",
       "      <td id=\"T_0f222_row2_col2\" class=\"data row2 col2\" >0.551471</td>\n",
       "      <td id=\"T_0f222_row2_col3\" class=\"data row2 col3\" >0.352941</td>\n",
       "      <td id=\"T_0f222_row2_col4\" class=\"data row2 col4\" >0.375000</td>\n",
       "    </tr>\n",
       "    <tr>\n",
       "      <th id=\"T_0f222_level0_row3\" class=\"row_heading level0 row3\" >Minimum Threshold</th>\n",
       "      <td id=\"T_0f222_row3_col0\" class=\"data row3 col0\" >0.000000</td>\n",
       "      <td id=\"T_0f222_row3_col1\" class=\"data row3 col1\" >0.333333</td>\n",
       "      <td id=\"T_0f222_row3_col2\" class=\"data row3 col2\" >0.513971</td>\n",
       "      <td id=\"T_0f222_row3_col3\" class=\"data row3 col3\" >0.352941</td>\n",
       "      <td id=\"T_0f222_row3_col4\" class=\"data row3 col4\" >0.315789</td>\n",
       "    </tr>\n",
       "  </tbody>\n",
       "</table>\n"
      ],
      "text/plain": [
       "<pandas.io.formats.style.Styler at 0x15129be3f40>"
      ]
     },
     "metadata": {},
     "output_type": "display_data"
    },
    {
     "name": "stdout",
     "output_type": "stream",
     "text": [
      "None\n",
      "\n",
      "\n",
      "KNeighborsClassifier() Cross-Validation Mean: 0.697487922705314 Standard-dev: 0.03646162268495201\n"
     ]
    },
    {
     "data": {
      "text/html": [
       "<style type=\"text/css\">\n",
       "#T_f6fe9_row0_col0, #T_f6fe9_row1_col0, #T_f6fe9_row2_col0 {\n",
       "  background-color: #276221;\n",
       "}\n",
       "</style>\n",
       "<table id=\"T_f6fe9_\">\n",
       "  <thead>\n",
       "    <tr>\n",
       "      <th class=\"blank level0\" >&nbsp;</th>\n",
       "      <th class=\"col_heading level0 col0\" >Accuracy</th>\n",
       "      <th class=\"col_heading level0 col1\" >F1-score</th>\n",
       "      <th class=\"col_heading level0 col2\" >ROC-AUC</th>\n",
       "      <th class=\"col_heading level0 col3\" >Recall</th>\n",
       "      <th class=\"col_heading level0 col4\" >Precision</th>\n",
       "    </tr>\n",
       "  </thead>\n",
       "  <tbody>\n",
       "    <tr>\n",
       "      <th id=\"T_f6fe9_level0_row0\" class=\"row_heading level0 row0\" >Normal</th>\n",
       "      <td id=\"T_f6fe9_row0_col0\" class=\"data row0 col0\" >0.780702</td>\n",
       "      <td id=\"T_f6fe9_row0_col1\" class=\"data row0 col1\" >0.320000</td>\n",
       "      <td id=\"T_f6fe9_row0_col2\" class=\"data row0 col2\" >0.495588</td>\n",
       "      <td id=\"T_f6fe9_row0_col3\" class=\"data row0 col3\" >0.235294</td>\n",
       "      <td id=\"T_f6fe9_row0_col4\" class=\"data row0 col4\" >0.500000</td>\n",
       "    </tr>\n",
       "    <tr>\n",
       "      <th id=\"T_f6fe9_level0_row1\" class=\"row_heading level0 row1\" >Cost-sensitive Resampling</th>\n",
       "      <td id=\"T_f6fe9_row1_col0\" class=\"data row1 col0\" >0.780702</td>\n",
       "      <td id=\"T_f6fe9_row1_col1\" class=\"data row1 col1\" >0.320000</td>\n",
       "      <td id=\"T_f6fe9_row1_col2\" class=\"data row1 col2\" >0.000000</td>\n",
       "      <td id=\"T_f6fe9_row1_col3\" class=\"data row1 col3\" >0.235294</td>\n",
       "      <td id=\"T_f6fe9_row1_col4\" class=\"data row1 col4\" >0.500000</td>\n",
       "    </tr>\n",
       "    <tr>\n",
       "      <th id=\"T_f6fe9_level0_row2\" class=\"row_heading level0 row2\" >Sampling to Balanced</th>\n",
       "      <td id=\"T_f6fe9_row2_col0\" class=\"data row2 col0\" >0.754386</td>\n",
       "      <td id=\"T_f6fe9_row2_col1\" class=\"data row2 col1\" >0.333333</td>\n",
       "      <td id=\"T_f6fe9_row2_col2\" class=\"data row2 col2\" >0.573529</td>\n",
       "      <td id=\"T_f6fe9_row2_col3\" class=\"data row2 col3\" >0.294118</td>\n",
       "      <td id=\"T_f6fe9_row2_col4\" class=\"data row2 col4\" >0.384615</td>\n",
       "    </tr>\n",
       "    <tr>\n",
       "      <th id=\"T_f6fe9_level0_row3\" class=\"row_heading level0 row3\" >Minimum Threshold</th>\n",
       "      <td id=\"T_f6fe9_row3_col0\" class=\"data row3 col0\" >0.000000</td>\n",
       "      <td id=\"T_f6fe9_row3_col1\" class=\"data row3 col1\" >0.243902</td>\n",
       "      <td id=\"T_f6fe9_row3_col2\" class=\"data row3 col2\" >0.409559</td>\n",
       "      <td id=\"T_f6fe9_row3_col3\" class=\"data row3 col3\" >0.294118</td>\n",
       "      <td id=\"T_f6fe9_row3_col4\" class=\"data row3 col4\" >0.208333</td>\n",
       "    </tr>\n",
       "  </tbody>\n",
       "</table>\n"
      ],
      "text/plain": [
       "<pandas.io.formats.style.Styler at 0x15128ca2c10>"
      ]
     },
     "metadata": {},
     "output_type": "display_data"
    },
    {
     "name": "stdout",
     "output_type": "stream",
     "text": [
      "None\n",
      "\n",
      "\n",
      "SVC(kernel='linear', probability=True) Cross-Validation Mean: 0.7108212560386473 Standard-dev: 0.03551247127090702\n"
     ]
    },
    {
     "data": {
      "text/html": [
       "<style type=\"text/css\">\n",
       "#T_e11b9_row0_col0, #T_e11b9_row1_col0, #T_e11b9_row2_col0 {\n",
       "  background-color: #276221;\n",
       "}\n",
       "</style>\n",
       "<table id=\"T_e11b9_\">\n",
       "  <thead>\n",
       "    <tr>\n",
       "      <th class=\"blank level0\" >&nbsp;</th>\n",
       "      <th class=\"col_heading level0 col0\" >Accuracy</th>\n",
       "      <th class=\"col_heading level0 col1\" >F1-score</th>\n",
       "      <th class=\"col_heading level0 col2\" >ROC-AUC</th>\n",
       "      <th class=\"col_heading level0 col3\" >Recall</th>\n",
       "      <th class=\"col_heading level0 col4\" >Precision</th>\n",
       "    </tr>\n",
       "  </thead>\n",
       "  <tbody>\n",
       "    <tr>\n",
       "      <th id=\"T_e11b9_level0_row0\" class=\"row_heading level0 row0\" >Normal</th>\n",
       "      <td id=\"T_e11b9_row0_col0\" class=\"data row0 col0\" >0.750000</td>\n",
       "      <td id=\"T_e11b9_row0_col1\" class=\"data row0 col1\" >0.320000</td>\n",
       "      <td id=\"T_e11b9_row0_col2\" class=\"data row0 col2\" >0.633824</td>\n",
       "      <td id=\"T_e11b9_row0_col3\" class=\"data row0 col3\" >0.235294</td>\n",
       "      <td id=\"T_e11b9_row0_col4\" class=\"data row0 col4\" >0.500000</td>\n",
       "    </tr>\n",
       "    <tr>\n",
       "      <th id=\"T_e11b9_level0_row1\" class=\"row_heading level0 row1\" >Cost-sensitive Resampling</th>\n",
       "      <td id=\"T_e11b9_row1_col0\" class=\"data row1 col0\" >0.750000</td>\n",
       "      <td id=\"T_e11b9_row1_col1\" class=\"data row1 col1\" >0.320000</td>\n",
       "      <td id=\"T_e11b9_row1_col2\" class=\"data row1 col2\" >0.000000</td>\n",
       "      <td id=\"T_e11b9_row1_col3\" class=\"data row1 col3\" >0.235294</td>\n",
       "      <td id=\"T_e11b9_row1_col4\" class=\"data row1 col4\" >0.500000</td>\n",
       "    </tr>\n",
       "    <tr>\n",
       "      <th id=\"T_e11b9_level0_row2\" class=\"row_heading level0 row2\" >Sampling to Balanced</th>\n",
       "      <td id=\"T_e11b9_row2_col0\" class=\"data row2 col0\" >0.710526</td>\n",
       "      <td id=\"T_e11b9_row2_col1\" class=\"data row2 col1\" >0.512821</td>\n",
       "      <td id=\"T_e11b9_row2_col2\" class=\"data row2 col2\" >0.630882</td>\n",
       "      <td id=\"T_e11b9_row2_col3\" class=\"data row2 col3\" >0.588235</td>\n",
       "      <td id=\"T_e11b9_row2_col4\" class=\"data row2 col4\" >0.454545</td>\n",
       "    </tr>\n",
       "    <tr>\n",
       "      <th id=\"T_e11b9_level0_row3\" class=\"row_heading level0 row3\" >Minimum Threshold</th>\n",
       "      <td id=\"T_e11b9_row3_col0\" class=\"data row3 col0\" >0.000000</td>\n",
       "      <td id=\"T_e11b9_row3_col1\" class=\"data row3 col1\" >0.384615</td>\n",
       "      <td id=\"T_e11b9_row3_col2\" class=\"data row3 col2\" >0.597059</td>\n",
       "      <td id=\"T_e11b9_row3_col3\" class=\"data row3 col3\" >0.294118</td>\n",
       "      <td id=\"T_e11b9_row3_col4\" class=\"data row3 col4\" >0.555556</td>\n",
       "    </tr>\n",
       "  </tbody>\n",
       "</table>\n"
      ],
      "text/plain": [
       "<pandas.io.formats.style.Styler at 0x1512a36b5e0>"
      ]
     },
     "metadata": {},
     "output_type": "display_data"
    },
    {
     "name": "stdout",
     "output_type": "stream",
     "text": [
      "None\n",
      "\n",
      "\n"
     ]
    }
   ],
   "source": [
    "models = [RandomForestClassifier(),LogisticRegression(), DecisionTreeClassifier(), KNeighborsClassifier(n_neighbors=5), SVC(kernel='linear', probability=True)]\n",
    "\n",
    "for model in models:\n",
    "    mod_eval(model, X_train, y_train, X_test, y_test)"
   ]
  },
  {
   "attachments": {},
   "cell_type": "markdown",
   "metadata": {},
   "source": [
    "#### Feature Engineering"
   ]
  },
  {
   "cell_type": "code",
   "execution_count": 35,
   "metadata": {},
   "outputs": [
    {
     "data": {
      "image/png": "[encoded data removed]",
      "text/plain": [
       "<Figure size 1500x1500 with 1 Axes>"
      ]
     },
     "metadata": {},
     "output_type": "display_data"
    }
   ],
   "source": [
    "# perform correlation between attributes with non-continuous data\n",
    "from scipy.stats import chi2_contingency\n",
    "\n",
    "columns = X_train.columns\n",
    "results = []\n",
    "for i, column1 in enumerate(columns):\n",
    "    for column2 in columns[i + 1:]:\n",
    "        table = pd.crosstab(X_train[column1], X_train[column2])\n",
    "        chi2, p, dof, expected = chi2_contingency(table)\n",
    "        if p <= 0.05 and p >= 0.001 :\n",
    "            results.append([column1, column2, chi2, p])\n",
    "\n",
    "# plot the results\n",
    "x = [f\"{result[0]} - {result[1]}\" for result in results]\n",
    "y = [result[2] for result in results]\n",
    "p = [result[3] for result in results]\n",
    "\n",
    "fig, ax = plt.subplots()\n",
    "fig.set_size_inches(15,15)\n",
    "ax.bar(x, y)\n",
    "\n",
    "for i, v in enumerate(y):\n",
    "    ax.text(i, v + 0.5, f\"p = {p[i]:.4f}\", ha='center')\n",
    "\n",
    "plt.title(\"Chi-Square Test Results\")\n",
    "plt.xlabel(\"Pairs of Features\")\n",
    "plt.ylabel(\"Chi-Square Statistic\")\n",
    "plt.xticks(rotation=45)\n",
    "plt.show()"
   ]
  },
  {
   "cell_type": "code",
   "execution_count": 36,
   "metadata": {},
   "outputs": [],
   "source": [
    "X_train['size_agg'] = X_train['tumour_size'] + X_train['deg_malig']\n",
    "X_test['size_agg'] = X_test['tumour_size'] + X_test['deg_malig']"
   ]
  },
  {
   "attachments": {},
   "cell_type": "markdown",
   "metadata": {},
   "source": [
    "#### Feature Importance & Selection"
   ]
  },
  {
   "cell_type": "code",
   "execution_count": 37,
   "metadata": {},
   "outputs": [
    {
     "data": {
      "text/plain": [
       "([0, 1, 2, 3, 4, 5, 6, 7, 8, 9],\n",
       " [Text(0, 0, ''),\n",
       "  Text(0, 0, ''),\n",
       "  Text(0, 0, ''),\n",
       "  Text(0, 0, ''),\n",
       "  Text(0, 0, ''),\n",
       "  Text(0, 0, ''),\n",
       "  Text(0, 0, ''),\n",
       "  Text(0, 0, ''),\n",
       "  Text(0, 0, ''),\n",
       "  Text(0, 0, '')])"
      ]
     },
     "execution_count": 37,
     "metadata": {},
     "output_type": "execute_result"
    },
    {
     "data": {
      "image/png": "[encoded data removed]",
      "text/plain": [
       "<Figure size 1200x1200 with 1 Axes>"
      ]
     },
     "metadata": {},
     "output_type": "display_data"
    }
   ],
   "source": [
    "clf = RandomForestClassifier()\n",
    "clf.fit(X_train,y_train)\n",
    "\n",
    "plt.figure(figsize=(12,12))\n",
    "plt.bar(X_train.columns, clf.feature_importances_)\n",
    "plt.xticks(rotation=45)"
   ]
  },
  {
   "cell_type": "code",
   "execution_count": 38,
   "metadata": {},
   "outputs": [],
   "source": [
    "important_features = ['tumour_size', 'breast_quad', 'size_agg']\n",
    "X_train = X_train[important_features]\n",
    "X_test = X_test[important_features]"
   ]
  },
  {
   "cell_type": "code",
   "execution_count": 39,
   "metadata": {},
   "outputs": [
    {
     "name": "stdout",
     "output_type": "stream",
     "text": [
      "RandomForestClassifier() Cross-Validation Mean: 0.7065700483091788 Standard-dev: 0.05745470562284395\n"
     ]
    },
    {
     "data": {
      "text/html": [
       "<style type=\"text/css\">\n",
       "#T_3dfbd_row0_col0, #T_3dfbd_row0_col2, #T_3dfbd_row1_col0, #T_3dfbd_row2_col0, #T_3dfbd_row2_col1, #T_3dfbd_row2_col2, #T_3dfbd_row2_col3, #T_3dfbd_row3_col2 {\n",
       "  background-color: #276221;\n",
       "}\n",
       "</style>\n",
       "<table id=\"T_3dfbd_\">\n",
       "  <thead>\n",
       "    <tr>\n",
       "      <th class=\"blank level0\" >&nbsp;</th>\n",
       "      <th class=\"col_heading level0 col0\" >Accuracy</th>\n",
       "      <th class=\"col_heading level0 col1\" >F1-score</th>\n",
       "      <th class=\"col_heading level0 col2\" >ROC-AUC</th>\n",
       "      <th class=\"col_heading level0 col3\" >Recall</th>\n",
       "      <th class=\"col_heading level0 col4\" >Precision</th>\n",
       "    </tr>\n",
       "  </thead>\n",
       "  <tbody>\n",
       "    <tr>\n",
       "      <th id=\"T_3dfbd_level0_row0\" class=\"row_heading level0 row0\" >Normal</th>\n",
       "      <td id=\"T_3dfbd_row0_col0\" class=\"data row0 col0\" >0.837719</td>\n",
       "      <td id=\"T_3dfbd_row0_col1\" class=\"data row0 col1\" >0.562500</td>\n",
       "      <td id=\"T_3dfbd_row0_col2\" class=\"data row0 col2\" >0.714706</td>\n",
       "      <td id=\"T_3dfbd_row0_col3\" class=\"data row0 col3\" >0.529412</td>\n",
       "      <td id=\"T_3dfbd_row0_col4\" class=\"data row0 col4\" >0.600000</td>\n",
       "    </tr>\n",
       "    <tr>\n",
       "      <th id=\"T_3dfbd_level0_row1\" class=\"row_heading level0 row1\" >Cost-sensitive Resampling</th>\n",
       "      <td id=\"T_3dfbd_row1_col0\" class=\"data row1 col0\" >0.837719</td>\n",
       "      <td id=\"T_3dfbd_row1_col1\" class=\"data row1 col1\" >0.444444</td>\n",
       "      <td id=\"T_3dfbd_row1_col2\" class=\"data row1 col2\" >0.000000</td>\n",
       "      <td id=\"T_3dfbd_row1_col3\" class=\"data row1 col3\" >0.352941</td>\n",
       "      <td id=\"T_3dfbd_row1_col4\" class=\"data row1 col4\" >0.600000</td>\n",
       "    </tr>\n",
       "    <tr>\n",
       "      <th id=\"T_3dfbd_level0_row2\" class=\"row_heading level0 row2\" >Sampling to Balanced</th>\n",
       "      <td id=\"T_3dfbd_row2_col0\" class=\"data row2 col0\" >0.802632</td>\n",
       "      <td id=\"T_3dfbd_row2_col1\" class=\"data row2 col1\" >0.684211</td>\n",
       "      <td id=\"T_3dfbd_row2_col2\" class=\"data row2 col2\" >0.739706</td>\n",
       "      <td id=\"T_3dfbd_row2_col3\" class=\"data row2 col3\" >0.764706</td>\n",
       "      <td id=\"T_3dfbd_row2_col4\" class=\"data row2 col4\" >0.619048</td>\n",
       "    </tr>\n",
       "    <tr>\n",
       "      <th id=\"T_3dfbd_level0_row3\" class=\"row_heading level0 row3\" >Minimum Threshold</th>\n",
       "      <td id=\"T_3dfbd_row3_col0\" class=\"data row3 col0\" >0.000000</td>\n",
       "      <td id=\"T_3dfbd_row3_col1\" class=\"data row3 col1\" >0.578947</td>\n",
       "      <td id=\"T_3dfbd_row3_col2\" class=\"data row3 col2\" >0.698529</td>\n",
       "      <td id=\"T_3dfbd_row3_col3\" class=\"data row3 col3\" >0.647059</td>\n",
       "      <td id=\"T_3dfbd_row3_col4\" class=\"data row3 col4\" >0.523810</td>\n",
       "    </tr>\n",
       "  </tbody>\n",
       "</table>\n"
      ],
      "text/plain": [
       "<pandas.io.formats.style.Styler at 0x15129d420a0>"
      ]
     },
     "metadata": {},
     "output_type": "display_data"
    },
    {
     "name": "stdout",
     "output_type": "stream",
     "text": [
      "None\n",
      "\n",
      "\n",
      "LogisticRegression() Cross-Validation Mean: 0.6884057971014493 Standard-dev: 0.05033807152717079\n"
     ]
    },
    {
     "data": {
      "text/html": [
       "<style type=\"text/css\">\n",
       "#T_3ba6d_row0_col0, #T_3ba6d_row1_col0 {\n",
       "  background-color: #276221;\n",
       "}\n",
       "</style>\n",
       "<table id=\"T_3ba6d_\">\n",
       "  <thead>\n",
       "    <tr>\n",
       "      <th class=\"blank level0\" >&nbsp;</th>\n",
       "      <th class=\"col_heading level0 col0\" >Accuracy</th>\n",
       "      <th class=\"col_heading level0 col1\" >F1-score</th>\n",
       "      <th class=\"col_heading level0 col2\" >ROC-AUC</th>\n",
       "      <th class=\"col_heading level0 col3\" >Recall</th>\n",
       "      <th class=\"col_heading level0 col4\" >Precision</th>\n",
       "    </tr>\n",
       "  </thead>\n",
       "  <tbody>\n",
       "    <tr>\n",
       "      <th id=\"T_3ba6d_level0_row0\" class=\"row_heading level0 row0\" >Normal</th>\n",
       "      <td id=\"T_3ba6d_row0_col0\" class=\"data row0 col0\" >0.728070</td>\n",
       "      <td id=\"T_3ba6d_row0_col1\" class=\"data row0 col1\" >0.516129</td>\n",
       "      <td id=\"T_3ba6d_row0_col2\" class=\"data row0 col2\" >0.668382</td>\n",
       "      <td id=\"T_3ba6d_row0_col3\" class=\"data row0 col3\" >0.470588</td>\n",
       "      <td id=\"T_3ba6d_row0_col4\" class=\"data row0 col4\" >0.571429</td>\n",
       "    </tr>\n",
       "    <tr>\n",
       "      <th id=\"T_3ba6d_level0_row1\" class=\"row_heading level0 row1\" >Cost-sensitive Resampling</th>\n",
       "      <td id=\"T_3ba6d_row1_col0\" class=\"data row1 col0\" >0.728070</td>\n",
       "      <td id=\"T_3ba6d_row1_col1\" class=\"data row1 col1\" >0.516129</td>\n",
       "      <td id=\"T_3ba6d_row1_col2\" class=\"data row1 col2\" >0.000000</td>\n",
       "      <td id=\"T_3ba6d_row1_col3\" class=\"data row1 col3\" >0.470588</td>\n",
       "      <td id=\"T_3ba6d_row1_col4\" class=\"data row1 col4\" >0.571429</td>\n",
       "    </tr>\n",
       "    <tr>\n",
       "      <th id=\"T_3ba6d_level0_row2\" class=\"row_heading level0 row2\" >Sampling to Balanced</th>\n",
       "      <td id=\"T_3ba6d_row2_col0\" class=\"data row2 col0\" >0.679825</td>\n",
       "      <td id=\"T_3ba6d_row2_col1\" class=\"data row2 col1\" >0.476190</td>\n",
       "      <td id=\"T_3ba6d_row2_col2\" class=\"data row2 col2\" >0.668382</td>\n",
       "      <td id=\"T_3ba6d_row2_col3\" class=\"data row2 col3\" >0.588235</td>\n",
       "      <td id=\"T_3ba6d_row2_col4\" class=\"data row2 col4\" >0.400000</td>\n",
       "    </tr>\n",
       "    <tr>\n",
       "      <th id=\"T_3ba6d_level0_row3\" class=\"row_heading level0 row3\" >Minimum Threshold</th>\n",
       "      <td id=\"T_3ba6d_row3_col0\" class=\"data row3 col0\" >0.000000</td>\n",
       "      <td id=\"T_3ba6d_row3_col1\" class=\"data row3 col1\" >0.487805</td>\n",
       "      <td id=\"T_3ba6d_row3_col2\" class=\"data row3 col2\" >0.619118</td>\n",
       "      <td id=\"T_3ba6d_row3_col3\" class=\"data row3 col3\" >0.588235</td>\n",
       "      <td id=\"T_3ba6d_row3_col4\" class=\"data row3 col4\" >0.416667</td>\n",
       "    </tr>\n",
       "  </tbody>\n",
       "</table>\n"
      ],
      "text/plain": [
       "<pandas.io.formats.style.Styler at 0x1512a457be0>"
      ]
     },
     "metadata": {},
     "output_type": "display_data"
    },
    {
     "name": "stdout",
     "output_type": "stream",
     "text": [
      "None\n",
      "\n",
      "\n",
      "DecisionTreeClassifier() Cross-Validation Mean: 0.7149758454106281 Standard-dev: 0.03005902538148305\n"
     ]
    },
    {
     "data": {
      "text/html": [
       "<style type=\"text/css\">\n",
       "#T_1eec3_row0_col0, #T_1eec3_row0_col2, #T_1eec3_row1_col0, #T_1eec3_row2_col0, #T_1eec3_row2_col2, #T_1eec3_row2_col3 {\n",
       "  background-color: #276221;\n",
       "}\n",
       "</style>\n",
       "<table id=\"T_1eec3_\">\n",
       "  <thead>\n",
       "    <tr>\n",
       "      <th class=\"blank level0\" >&nbsp;</th>\n",
       "      <th class=\"col_heading level0 col0\" >Accuracy</th>\n",
       "      <th class=\"col_heading level0 col1\" >F1-score</th>\n",
       "      <th class=\"col_heading level0 col2\" >ROC-AUC</th>\n",
       "      <th class=\"col_heading level0 col3\" >Recall</th>\n",
       "      <th class=\"col_heading level0 col4\" >Precision</th>\n",
       "    </tr>\n",
       "  </thead>\n",
       "  <tbody>\n",
       "    <tr>\n",
       "      <th id=\"T_1eec3_level0_row0\" class=\"row_heading level0 row0\" >Normal</th>\n",
       "      <td id=\"T_1eec3_row0_col0\" class=\"data row0 col0\" >0.837719</td>\n",
       "      <td id=\"T_1eec3_row0_col1\" class=\"data row0 col1\" >0.240000</td>\n",
       "      <td id=\"T_1eec3_row0_col2\" class=\"data row0 col2\" >0.690441</td>\n",
       "      <td id=\"T_1eec3_row0_col3\" class=\"data row0 col3\" >0.176471</td>\n",
       "      <td id=\"T_1eec3_row0_col4\" class=\"data row0 col4\" >0.375000</td>\n",
       "    </tr>\n",
       "    <tr>\n",
       "      <th id=\"T_1eec3_level0_row1\" class=\"row_heading level0 row1\" >Cost-sensitive Resampling</th>\n",
       "      <td id=\"T_1eec3_row1_col0\" class=\"data row1 col0\" >0.837719</td>\n",
       "      <td id=\"T_1eec3_row1_col1\" class=\"data row1 col1\" >0.240000</td>\n",
       "      <td id=\"T_1eec3_row1_col2\" class=\"data row1 col2\" >0.000000</td>\n",
       "      <td id=\"T_1eec3_row1_col3\" class=\"data row1 col3\" >0.176471</td>\n",
       "      <td id=\"T_1eec3_row1_col4\" class=\"data row1 col4\" >0.375000</td>\n",
       "    </tr>\n",
       "    <tr>\n",
       "      <th id=\"T_1eec3_level0_row2\" class=\"row_heading level0 row2\" >Sampling to Balanced</th>\n",
       "      <td id=\"T_1eec3_row2_col0\" class=\"data row2 col0\" >0.802632</td>\n",
       "      <td id=\"T_1eec3_row2_col1\" class=\"data row2 col1\" >0.650000</td>\n",
       "      <td id=\"T_1eec3_row2_col2\" class=\"data row2 col2\" >0.733824</td>\n",
       "      <td id=\"T_1eec3_row2_col3\" class=\"data row2 col3\" >0.764706</td>\n",
       "      <td id=\"T_1eec3_row2_col4\" class=\"data row2 col4\" >0.565217</td>\n",
       "    </tr>\n",
       "    <tr>\n",
       "      <th id=\"T_1eec3_level0_row3\" class=\"row_heading level0 row3\" >Minimum Threshold</th>\n",
       "      <td id=\"T_1eec3_row3_col0\" class=\"data row3 col0\" >0.000000</td>\n",
       "      <td id=\"T_1eec3_row3_col1\" class=\"data row3 col1\" >0.540541</td>\n",
       "      <td id=\"T_1eec3_row3_col2\" class=\"data row3 col2\" >0.669118</td>\n",
       "      <td id=\"T_1eec3_row3_col3\" class=\"data row3 col3\" >0.588235</td>\n",
       "      <td id=\"T_1eec3_row3_col4\" class=\"data row3 col4\" >0.500000</td>\n",
       "    </tr>\n",
       "  </tbody>\n",
       "</table>\n"
      ],
      "text/plain": [
       "<pandas.io.formats.style.Styler at 0x1512a4b7e80>"
      ]
     },
     "metadata": {},
     "output_type": "display_data"
    },
    {
     "name": "stdout",
     "output_type": "stream",
     "text": [
      "None\n",
      "\n",
      "\n",
      "KNeighborsClassifier() Cross-Validation Mean: 0.6714009661835749 Standard-dev: 0.11494596290924677\n"
     ]
    },
    {
     "data": {
      "text/html": [
       "<style type=\"text/css\">\n",
       "#T_9f254_row0_col0, #T_9f254_row1_col0, #T_9f254_row2_col0, #T_9f254_row2_col2 {\n",
       "  background-color: #276221;\n",
       "}\n",
       "</style>\n",
       "<table id=\"T_9f254_\">\n",
       "  <thead>\n",
       "    <tr>\n",
       "      <th class=\"blank level0\" >&nbsp;</th>\n",
       "      <th class=\"col_heading level0 col0\" >Accuracy</th>\n",
       "      <th class=\"col_heading level0 col1\" >F1-score</th>\n",
       "      <th class=\"col_heading level0 col2\" >ROC-AUC</th>\n",
       "      <th class=\"col_heading level0 col3\" >Recall</th>\n",
       "      <th class=\"col_heading level0 col4\" >Precision</th>\n",
       "    </tr>\n",
       "  </thead>\n",
       "  <tbody>\n",
       "    <tr>\n",
       "      <th id=\"T_9f254_level0_row0\" class=\"row_heading level0 row0\" >Normal</th>\n",
       "      <td id=\"T_9f254_row0_col0\" class=\"data row0 col0\" >0.802632</td>\n",
       "      <td id=\"T_9f254_row0_col1\" class=\"data row0 col1\" >0.500000</td>\n",
       "      <td id=\"T_9f254_row0_col2\" class=\"data row0 col2\" >0.668382</td>\n",
       "      <td id=\"T_9f254_row0_col3\" class=\"data row0 col3\" >0.411765</td>\n",
       "      <td id=\"T_9f254_row0_col4\" class=\"data row0 col4\" >0.636364</td>\n",
       "    </tr>\n",
       "    <tr>\n",
       "      <th id=\"T_9f254_level0_row1\" class=\"row_heading level0 row1\" >Cost-sensitive Resampling</th>\n",
       "      <td id=\"T_9f254_row1_col0\" class=\"data row1 col0\" >0.802632</td>\n",
       "      <td id=\"T_9f254_row1_col1\" class=\"data row1 col1\" >0.500000</td>\n",
       "      <td id=\"T_9f254_row1_col2\" class=\"data row1 col2\" >0.000000</td>\n",
       "      <td id=\"T_9f254_row1_col3\" class=\"data row1 col3\" >0.411765</td>\n",
       "      <td id=\"T_9f254_row1_col4\" class=\"data row1 col4\" >0.636364</td>\n",
       "    </tr>\n",
       "    <tr>\n",
       "      <th id=\"T_9f254_level0_row2\" class=\"row_heading level0 row2\" >Sampling to Balanced</th>\n",
       "      <td id=\"T_9f254_row2_col0\" class=\"data row2 col0\" >0.785088</td>\n",
       "      <td id=\"T_9f254_row2_col1\" class=\"data row2 col1\" >0.500000</td>\n",
       "      <td id=\"T_9f254_row2_col2\" class=\"data row2 col2\" >0.680882</td>\n",
       "      <td id=\"T_9f254_row2_col3\" class=\"data row2 col3\" >0.529412</td>\n",
       "      <td id=\"T_9f254_row2_col4\" class=\"data row2 col4\" >0.473684</td>\n",
       "    </tr>\n",
       "    <tr>\n",
       "      <th id=\"T_9f254_level0_row3\" class=\"row_heading level0 row3\" >Minimum Threshold</th>\n",
       "      <td id=\"T_9f254_row3_col0\" class=\"data row3 col0\" >0.000000</td>\n",
       "      <td id=\"T_9f254_row3_col1\" class=\"data row3 col1\" >0.478261</td>\n",
       "      <td id=\"T_9f254_row3_col2\" class=\"data row3 col2\" >0.598529</td>\n",
       "      <td id=\"T_9f254_row3_col3\" class=\"data row3 col3\" >0.647059</td>\n",
       "      <td id=\"T_9f254_row3_col4\" class=\"data row3 col4\" >0.379310</td>\n",
       "    </tr>\n",
       "  </tbody>\n",
       "</table>\n"
      ],
      "text/plain": [
       "<pandas.io.formats.style.Styler at 0x1512a429550>"
      ]
     },
     "metadata": {},
     "output_type": "display_data"
    },
    {
     "name": "stdout",
     "output_type": "stream",
     "text": [
      "None\n",
      "\n",
      "\n",
      "SVC(kernel='linear', probability=True) Cross-Validation Mean: 0.6840579710144927 Standard-dev: 0.03149224933327669\n"
     ]
    },
    {
     "name": "stderr",
     "output_type": "stream",
     "text": [
      "c:\\Users\\datac\\AppData\\Local\\Programs\\Python\\Python39\\lib\\site-packages\\sklearn\\metrics\\_classification.py:1318: UndefinedMetricWarning: Precision is ill-defined and being set to 0.0 due to no predicted samples. Use `zero_division` parameter to control this behavior.\n",
      "  _warn_prf(average, modifier, msg_start, len(result))\n",
      "c:\\Users\\datac\\AppData\\Local\\Programs\\Python\\Python39\\lib\\site-packages\\sklearn\\metrics\\_classification.py:1318: UndefinedMetricWarning: Precision is ill-defined and being set to 0.0 due to no predicted samples. Use `zero_division` parameter to control this behavior.\n",
      "  _warn_prf(average, modifier, msg_start, len(result))\n",
      "c:\\Users\\datac\\AppData\\Local\\Programs\\Python\\Python39\\lib\\site-packages\\sklearn\\metrics\\_classification.py:1318: UndefinedMetricWarning: Precision is ill-defined and being set to 0.0 due to no predicted samples. Use `zero_division` parameter to control this behavior.\n",
      "  _warn_prf(average, modifier, msg_start, len(result))\n"
     ]
    },
    {
     "data": {
      "text/html": [
       "<style type=\"text/css\">\n",
       "#T_47044_row0_col0, #T_47044_row1_col0, #T_47044_row2_col3 {\n",
       "  background-color: #276221;\n",
       "}\n",
       "</style>\n",
       "<table id=\"T_47044_\">\n",
       "  <thead>\n",
       "    <tr>\n",
       "      <th class=\"blank level0\" >&nbsp;</th>\n",
       "      <th class=\"col_heading level0 col0\" >Accuracy</th>\n",
       "      <th class=\"col_heading level0 col1\" >F1-score</th>\n",
       "      <th class=\"col_heading level0 col2\" >ROC-AUC</th>\n",
       "      <th class=\"col_heading level0 col3\" >Recall</th>\n",
       "      <th class=\"col_heading level0 col4\" >Precision</th>\n",
       "    </tr>\n",
       "  </thead>\n",
       "  <tbody>\n",
       "    <tr>\n",
       "      <th id=\"T_47044_level0_row0\" class=\"row_heading level0 row0\" >Normal</th>\n",
       "      <td id=\"T_47044_row0_col0\" class=\"data row0 col0\" >0.701754</td>\n",
       "      <td id=\"T_47044_row0_col1\" class=\"data row0 col1\" >0.000000</td>\n",
       "      <td id=\"T_47044_row0_col2\" class=\"data row0 col2\" >0.600735</td>\n",
       "      <td id=\"T_47044_row0_col3\" class=\"data row0 col3\" >0.000000</td>\n",
       "      <td id=\"T_47044_row0_col4\" class=\"data row0 col4\" >0.000000</td>\n",
       "    </tr>\n",
       "    <tr>\n",
       "      <th id=\"T_47044_level0_row1\" class=\"row_heading level0 row1\" >Cost-sensitive Resampling</th>\n",
       "      <td id=\"T_47044_row1_col0\" class=\"data row1 col0\" >0.701754</td>\n",
       "      <td id=\"T_47044_row1_col1\" class=\"data row1 col1\" >0.000000</td>\n",
       "      <td id=\"T_47044_row1_col2\" class=\"data row1 col2\" >0.000000</td>\n",
       "      <td id=\"T_47044_row1_col3\" class=\"data row1 col3\" >0.000000</td>\n",
       "      <td id=\"T_47044_row1_col4\" class=\"data row1 col4\" >0.000000</td>\n",
       "    </tr>\n",
       "    <tr>\n",
       "      <th id=\"T_47044_level0_row2\" class=\"row_heading level0 row2\" >Sampling to Balanced</th>\n",
       "      <td id=\"T_47044_row2_col0\" class=\"data row2 col0\" >0.570175</td>\n",
       "      <td id=\"T_47044_row2_col1\" class=\"data row2 col1\" >0.490566</td>\n",
       "      <td id=\"T_47044_row2_col2\" class=\"data row2 col2\" >0.651471</td>\n",
       "      <td id=\"T_47044_row2_col3\" class=\"data row2 col3\" >0.764706</td>\n",
       "      <td id=\"T_47044_row2_col4\" class=\"data row2 col4\" >0.361111</td>\n",
       "    </tr>\n",
       "    <tr>\n",
       "      <th id=\"T_47044_level0_row3\" class=\"row_heading level0 row3\" >Minimum Threshold</th>\n",
       "      <td id=\"T_47044_row3_col0\" class=\"data row3 col0\" >0.000000</td>\n",
       "      <td id=\"T_47044_row3_col1\" class=\"data row3 col1\" >0.000000</td>\n",
       "      <td id=\"T_47044_row3_col2\" class=\"data row3 col2\" >0.500000</td>\n",
       "      <td id=\"T_47044_row3_col3\" class=\"data row3 col3\" >0.000000</td>\n",
       "      <td id=\"T_47044_row3_col4\" class=\"data row3 col4\" >0.000000</td>\n",
       "    </tr>\n",
       "  </tbody>\n",
       "</table>\n"
      ],
      "text/plain": [
       "<pandas.io.formats.style.Styler at 0x15129beddf0>"
      ]
     },
     "metadata": {},
     "output_type": "display_data"
    },
    {
     "name": "stdout",
     "output_type": "stream",
     "text": [
      "None\n",
      "\n",
      "\n"
     ]
    }
   ],
   "source": [
    "for model in models:\n",
    "    mod_eval(model, X_train, y_train, X_test, y_test)"
   ]
  }
 ],
 "metadata": {
  "kernelspec": {
   "display_name": "Python 3",
   "language": "python",
   "name": "python3"
  },
  "language_info": {
   "codemirror_mode": {
    "name": "ipython",
    "version": 3
   },
   "file_extension": ".py",
   "mimetype": "text/x-python",
   "name": "python",
   "nbconvert_exporter": "python",
   "pygments_lexer": "ipython3",
   "version": "3.9.6"
  },
  "orig_nbformat": 4,
  "vscode": {
   "interpreter": {
    "hash": "bd87b69d6fc76c572fede75f7bc461ac068fdc8b40cdeead53c03d51dc6c0c1e"
   }
  }
 },
 "nbformat": 4,
 "nbformat_minor": 2
}
