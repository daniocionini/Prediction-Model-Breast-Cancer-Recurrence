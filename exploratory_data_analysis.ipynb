{
 "cells": [
  {
   "attachments": {},
   "cell_type": "markdown",
   "metadata": {},
   "source": [
    "## Exploratory Data Analysis"
   ]
  },
  {
   "cell_type": "code",
   "execution_count": 47,
   "metadata": {},
   "outputs": [],
   "source": [
    "# import configuration file\n",
    "from configurations import *\n",
    "\n",
    "# import needed libraries\n",
    "import matplotlib.pyplot as plt\n",
    "import seaborn as sns \n",
    "\n",
    "from scipy import stats\n",
    "import missingno as msno\n",
    "\n",
    "pd.set_option('display.max_colwidth', None) #setting max colwidth to view the entire dataset when using the print() command\n",
    "from IPython.display import display\n",
    "%matplotlib inline\n",
    "import matplotlib.patches as mpatches"
   ]
  },
  {
   "cell_type": "code",
   "execution_count": 49,
   "metadata": {},
   "outputs": [
    {
     "data": {
      "text/html": [
       "<div>\n",
       "<style scoped>\n",
       "    .dataframe tbody tr th:only-of-type {\n",
       "        vertical-align: middle;\n",
       "    }\n",
       "\n",
       "    .dataframe tbody tr th {\n",
       "        vertical-align: top;\n",
       "    }\n",
       "\n",
       "    .dataframe thead th {\n",
       "        text-align: right;\n",
       "    }\n",
       "</style>\n",
       "<table border=\"1\" class=\"dataframe\">\n",
       "  <thead>\n",
       "    <tr style=\"text-align: right;\">\n",
       "      <th></th>\n",
       "      <th>class</th>\n",
       "      <th>age</th>\n",
       "      <th>menopause</th>\n",
       "      <th>tumour_size</th>\n",
       "      <th>inv_nodes</th>\n",
       "      <th>node_caps</th>\n",
       "      <th>deg_malig</th>\n",
       "      <th>breast</th>\n",
       "      <th>breast_quad</th>\n",
       "      <th>irrad</th>\n",
       "    </tr>\n",
       "  </thead>\n",
       "  <tbody>\n",
       "    <tr>\n",
       "      <th>0</th>\n",
       "      <td>no-recurrence-events</td>\n",
       "      <td>50-59</td>\n",
       "      <td>no-premeno</td>\n",
       "      <td>0-9</td>\n",
       "      <td>0-2</td>\n",
       "      <td>no</td>\n",
       "      <td>1</td>\n",
       "      <td>left</td>\n",
       "      <td>left_low</td>\n",
       "      <td>no</td>\n",
       "    </tr>\n",
       "    <tr>\n",
       "      <th>1</th>\n",
       "      <td>no-recurrence-events</td>\n",
       "      <td>40-49</td>\n",
       "      <td>premeno</td>\n",
       "      <td>10-14</td>\n",
       "      <td>0-2</td>\n",
       "      <td>no</td>\n",
       "      <td>1</td>\n",
       "      <td>right</td>\n",
       "      <td>right_low</td>\n",
       "      <td>no</td>\n",
       "    </tr>\n",
       "    <tr>\n",
       "      <th>2</th>\n",
       "      <td>no-recurrence-events</td>\n",
       "      <td>40-49</td>\n",
       "      <td>premeno</td>\n",
       "      <td>25-29</td>\n",
       "      <td>0-2</td>\n",
       "      <td>no</td>\n",
       "      <td>1</td>\n",
       "      <td>right</td>\n",
       "      <td>right_low</td>\n",
       "      <td>no</td>\n",
       "    </tr>\n",
       "    <tr>\n",
       "      <th>3</th>\n",
       "      <td>recurrence-events</td>\n",
       "      <td>50-59</td>\n",
       "      <td>no-premeno</td>\n",
       "      <td>30-34</td>\n",
       "      <td>6-8</td>\n",
       "      <td>yes</td>\n",
       "      <td>2</td>\n",
       "      <td>left</td>\n",
       "      <td>right_low</td>\n",
       "      <td>yes</td>\n",
       "    </tr>\n",
       "    <tr>\n",
       "      <th>4</th>\n",
       "      <td>no-recurrence-events</td>\n",
       "      <td>30-39</td>\n",
       "      <td>premeno</td>\n",
       "      <td>25-29</td>\n",
       "      <td>0-2</td>\n",
       "      <td>no</td>\n",
       "      <td>1</td>\n",
       "      <td>left</td>\n",
       "      <td>central</td>\n",
       "      <td>no</td>\n",
       "    </tr>\n",
       "  </tbody>\n",
       "</table>\n",
       "</div>"
      ],
      "text/plain": [
       "                  class    age   menopause tumour_size inv_nodes node_caps   \n",
       "0  no-recurrence-events  50-59  no-premeno         0-9       0-2        no  \\\n",
       "1  no-recurrence-events  40-49     premeno       10-14       0-2        no   \n",
       "2  no-recurrence-events  40-49     premeno       25-29       0-2        no   \n",
       "3     recurrence-events  50-59  no-premeno       30-34       6-8       yes   \n",
       "4  no-recurrence-events  30-39     premeno       25-29       0-2        no   \n",
       "\n",
       "   deg_malig breast breast_quad irrad  \n",
       "0          1   left    left_low    no  \n",
       "1          1  right   right_low    no  \n",
       "2          1  right   right_low    no  \n",
       "3          2   left   right_low   yes  \n",
       "4          1   left     central    no  "
      ]
     },
     "execution_count": 49,
     "metadata": {},
     "output_type": "execute_result"
    }
   ],
   "source": [
    "# all EDA will be performed using the data_train set\n",
    "data_train.head()"
   ]
  },
  {
   "attachments": {},
   "cell_type": "markdown",
   "metadata": {},
   "source": [
    "### Identify the Target Attribute"
   ]
  },
  {
   "cell_type": "markdown",
   "metadata": {},
   "source": [
    "The aim of the ML model is to **predict wether a given patient is subject to experience a recurrence** after being treated for breast cancer.<br>\n",
    "\n",
    "Given the dataset I have identified ```'class'``` as the perfect target attribute.<br>\n",
    "This feature is categorical and contains text-type data *(no-recurrence-events, recurrence-events)*<br>"
   ]
  },
  {
   "attachments": {},
   "cell_type": "markdown",
   "metadata": {},
   "source": [
    "### Datatype Exploration"
   ]
  },
  {
   "attachments": {},
   "cell_type": "markdown",
   "metadata": {},
   "source": [
    "The features in the dataset can be divided into groups:\n",
    "- Categorical Features, *further sub-divided into*<br><br>\n",
    "    - **Nominal Features** *(values aren't numerical and don't follow a natural order)*<br><br>\n",
    "    - **Ordinal Features** *(values aren't numerical and follow a natural order)*<br><br>\n",
    "- **Numerical Features** *(numerical values)*<br><br>"
   ]
  },
  {
   "cell_type": "code",
   "execution_count": 2,
   "metadata": {},
   "outputs": [
    {
     "data": {
      "text/plain": [
       "Index(['class', 'age', 'menopause', 'tumour_size', 'inv_nodes', 'node_caps',\n",
       "       'deg_malig', 'breast', 'breast_quad', 'irrad'],\n",
       "      dtype='object')"
      ]
     },
     "execution_count": 2,
     "metadata": {},
     "output_type": "execute_result"
    }
   ],
   "source": [
    "data_train.columns"
   ]
  },
  {
   "cell_type": "code",
   "execution_count": 3,
   "metadata": {},
   "outputs": [
    {
     "data": {
      "text/html": [
       "<div>\n",
       "<style scoped>\n",
       "    .dataframe tbody tr th:only-of-type {\n",
       "        vertical-align: middle;\n",
       "    }\n",
       "\n",
       "    .dataframe tbody tr th {\n",
       "        vertical-align: top;\n",
       "    }\n",
       "\n",
       "    .dataframe thead th {\n",
       "        text-align: right;\n",
       "    }\n",
       "</style>\n",
       "<table border=\"1\" class=\"dataframe\">\n",
       "  <thead>\n",
       "    <tr style=\"text-align: right;\">\n",
       "      <th></th>\n",
       "      <th>data_type</th>\n",
       "    </tr>\n",
       "  </thead>\n",
       "  <tbody>\n",
       "    <tr>\n",
       "      <th>class</th>\n",
       "      <td>nominal</td>\n",
       "    </tr>\n",
       "    <tr>\n",
       "      <th>age</th>\n",
       "      <td>ordinal</td>\n",
       "    </tr>\n",
       "    <tr>\n",
       "      <th>menopause</th>\n",
       "      <td>nominal</td>\n",
       "    </tr>\n",
       "    <tr>\n",
       "      <th>tumour_size</th>\n",
       "      <td>ordinal</td>\n",
       "    </tr>\n",
       "    <tr>\n",
       "      <th>inv_nodes</th>\n",
       "      <td>ordinal</td>\n",
       "    </tr>\n",
       "    <tr>\n",
       "      <th>node_caps</th>\n",
       "      <td>nominal</td>\n",
       "    </tr>\n",
       "    <tr>\n",
       "      <th>deg_malig</th>\n",
       "      <td>numerical</td>\n",
       "    </tr>\n",
       "    <tr>\n",
       "      <th>breast</th>\n",
       "      <td>nominal</td>\n",
       "    </tr>\n",
       "    <tr>\n",
       "      <th>breast_quad</th>\n",
       "      <td>nominal</td>\n",
       "    </tr>\n",
       "    <tr>\n",
       "      <th>irrad</th>\n",
       "      <td>nominal</td>\n",
       "    </tr>\n",
       "  </tbody>\n",
       "</table>\n",
       "</div>"
      ],
      "text/plain": [
       "             data_type\n",
       "class          nominal\n",
       "age            ordinal\n",
       "menopause      nominal\n",
       "tumour_size    ordinal\n",
       "inv_nodes      ordinal\n",
       "node_caps      nominal\n",
       "deg_malig    numerical\n",
       "breast         nominal\n",
       "breast_quad    nominal\n",
       "irrad          nominal"
      ]
     },
     "metadata": {},
     "output_type": "display_data"
    }
   ],
   "source": [
    "# DataFrame specification for each feature\n",
    "df_datatype = pd.DataFrame.from_dict(\n",
    "    {\n",
    "        \"class\" : \"nominal\",\n",
    "        \"age\" : \"ordinal\",\n",
    "        \"menopause\": \"nominal\",\n",
    "        \"tumour_size\": \"ordinal\",\n",
    "        \"inv_nodes\": \"ordinal\",\n",
    "        \"node_caps\": \"nominal\",\n",
    "        \"deg_malig\": \"numerical\",\n",
    "        \"breast\": \"nominal\",\n",
    "        \"breast_quad\": \"nominal\",\n",
    "        \"irrad\": \"nominal\"\n",
    "    },\n",
    "    orient = \"index\",\n",
    "    columns=[\"data_type\",]\n",
    ")\n",
    "\n",
    "display(df_datatype)"
   ]
  },
  {
   "attachments": {},
   "cell_type": "markdown",
   "metadata": {},
   "source": [
    "### Identify Missing Values"
   ]
  },
  {
   "cell_type": "code",
   "execution_count": 50,
   "metadata": {},
   "outputs": [
    {
     "data": {
      "text/plain": [
       "<Axes: >"
      ]
     },
     "execution_count": 50,
     "metadata": {},
     "output_type": "execute_result"
    },
    {
     "data": {
      "image/png": "[encoded data removed]",
      "text/plain": [
       "<Figure size 2500x1000 with 2 Axes>"
      ]
     },
     "metadata": {},
     "output_type": "display_data"
    }
   ],
   "source": [
    "# identifying where the missing values are in the dataset\n",
    "msno.matrix(data_train, color=(0.12156863, 0.46666667, 0.70588235))"
   ]
  },
  {
   "cell_type": "code",
   "execution_count": 51,
   "metadata": {},
   "outputs": [
    {
     "data": {
      "text/html": [
       "<div>\n",
       "<style scoped>\n",
       "    .dataframe tbody tr th:only-of-type {\n",
       "        vertical-align: middle;\n",
       "    }\n",
       "\n",
       "    .dataframe tbody tr th {\n",
       "        vertical-align: top;\n",
       "    }\n",
       "\n",
       "    .dataframe thead th {\n",
       "        text-align: right;\n",
       "    }\n",
       "</style>\n",
       "<table border=\"1\" class=\"dataframe\">\n",
       "  <thead>\n",
       "    <tr style=\"text-align: right;\">\n",
       "      <th></th>\n",
       "      <th>missing values</th>\n",
       "      <th>% missing values</th>\n",
       "    </tr>\n",
       "  </thead>\n",
       "  <tbody>\n",
       "    <tr>\n",
       "      <th>class</th>\n",
       "      <td>0</td>\n",
       "      <td>0.0</td>\n",
       "    </tr>\n",
       "    <tr>\n",
       "      <th>age</th>\n",
       "      <td>0</td>\n",
       "      <td>0.0</td>\n",
       "    </tr>\n",
       "    <tr>\n",
       "      <th>menopause</th>\n",
       "      <td>0</td>\n",
       "      <td>0.0</td>\n",
       "    </tr>\n",
       "    <tr>\n",
       "      <th>tumour_size</th>\n",
       "      <td>0</td>\n",
       "      <td>0.0</td>\n",
       "    </tr>\n",
       "    <tr>\n",
       "      <th>inv_nodes</th>\n",
       "      <td>0</td>\n",
       "      <td>0.0</td>\n",
       "    </tr>\n",
       "    <tr>\n",
       "      <th>node_caps</th>\n",
       "      <td>7</td>\n",
       "      <td>3.5</td>\n",
       "    </tr>\n",
       "    <tr>\n",
       "      <th>deg_malig</th>\n",
       "      <td>0</td>\n",
       "      <td>0.0</td>\n",
       "    </tr>\n",
       "    <tr>\n",
       "      <th>breast</th>\n",
       "      <td>0</td>\n",
       "      <td>0.0</td>\n",
       "    </tr>\n",
       "    <tr>\n",
       "      <th>breast_quad</th>\n",
       "      <td>1</td>\n",
       "      <td>0.5</td>\n",
       "    </tr>\n",
       "    <tr>\n",
       "      <th>irrad</th>\n",
       "      <td>0</td>\n",
       "      <td>0.0</td>\n",
       "    </tr>\n",
       "  </tbody>\n",
       "</table>\n",
       "</div>"
      ],
      "text/plain": [
       "             missing values  % missing values\n",
       "class                     0               0.0\n",
       "age                       0               0.0\n",
       "menopause                 0               0.0\n",
       "tumour_size               0               0.0\n",
       "inv_nodes                 0               0.0\n",
       "node_caps                 7               3.5\n",
       "deg_malig                 0               0.0\n",
       "breast                    0               0.0\n",
       "breast_quad               1               0.5\n",
       "irrad                     0               0.0"
      ]
     },
     "metadata": {},
     "output_type": "display_data"
    }
   ],
   "source": [
    "# create a DataFrame with missing values informations\n",
    "df_missing_value = data_train.isna().sum().to_frame(name=\"missing values\")\n",
    "df_missing_value['% missing values'] = ((data_train.isna().sum()) *100) / len(data_train)\n",
    "display(df_missing_value)"
   ]
  },
  {
   "cell_type": "code",
   "execution_count": 7,
   "metadata": {},
   "outputs": [
    {
     "data": {
      "text/html": [
       "<div>\n",
       "<style scoped>\n",
       "    .dataframe tbody tr th:only-of-type {\n",
       "        vertical-align: middle;\n",
       "    }\n",
       "\n",
       "    .dataframe tbody tr th {\n",
       "        vertical-align: top;\n",
       "    }\n",
       "\n",
       "    .dataframe thead th {\n",
       "        text-align: right;\n",
       "    }\n",
       "</style>\n",
       "<table border=\"1\" class=\"dataframe\">\n",
       "  <thead>\n",
       "    <tr style=\"text-align: right;\">\n",
       "      <th></th>\n",
       "      <th>class</th>\n",
       "      <th>age</th>\n",
       "      <th>menopause</th>\n",
       "      <th>tumour_size</th>\n",
       "      <th>inv_nodes</th>\n",
       "      <th>node_caps</th>\n",
       "      <th>deg_malig</th>\n",
       "      <th>breast</th>\n",
       "      <th>breast_quad</th>\n",
       "      <th>irrad</th>\n",
       "    </tr>\n",
       "  </thead>\n",
       "  <tbody>\n",
       "    <tr>\n",
       "      <th>40</th>\n",
       "      <td>recurrence-events</td>\n",
       "      <td>50-59</td>\n",
       "      <td>ge40</td>\n",
       "      <td>30-34</td>\n",
       "      <td>0-2</td>\n",
       "      <td>no</td>\n",
       "      <td>3</td>\n",
       "      <td>left</td>\n",
       "      <td>NaN</td>\n",
       "      <td>no</td>\n",
       "    </tr>\n",
       "    <tr>\n",
       "      <th>54</th>\n",
       "      <td>recurrence-events</td>\n",
       "      <td>50-59</td>\n",
       "      <td>lt40</td>\n",
       "      <td>20-24</td>\n",
       "      <td>0-2</td>\n",
       "      <td>NaN</td>\n",
       "      <td>1</td>\n",
       "      <td>left</td>\n",
       "      <td>left_up</td>\n",
       "      <td>no</td>\n",
       "    </tr>\n",
       "    <tr>\n",
       "      <th>64</th>\n",
       "      <td>no-recurrence-events</td>\n",
       "      <td>50-59</td>\n",
       "      <td>ge40</td>\n",
       "      <td>30-34</td>\n",
       "      <td>9-11</td>\n",
       "      <td>NaN</td>\n",
       "      <td>3</td>\n",
       "      <td>left</td>\n",
       "      <td>left_up</td>\n",
       "      <td>yes</td>\n",
       "    </tr>\n",
       "    <tr>\n",
       "      <th>102</th>\n",
       "      <td>recurrence-events</td>\n",
       "      <td>50-59</td>\n",
       "      <td>lt40</td>\n",
       "      <td>20-24</td>\n",
       "      <td>0-2</td>\n",
       "      <td>NaN</td>\n",
       "      <td>1</td>\n",
       "      <td>left</td>\n",
       "      <td>left_low</td>\n",
       "      <td>no</td>\n",
       "    </tr>\n",
       "    <tr>\n",
       "      <th>131</th>\n",
       "      <td>no-recurrence-events</td>\n",
       "      <td>60-69</td>\n",
       "      <td>ge40</td>\n",
       "      <td>25-29</td>\n",
       "      <td>3-5</td>\n",
       "      <td>NaN</td>\n",
       "      <td>1</td>\n",
       "      <td>right</td>\n",
       "      <td>left_low</td>\n",
       "      <td>yes</td>\n",
       "    </tr>\n",
       "    <tr>\n",
       "      <th>141</th>\n",
       "      <td>no-recurrence-events</td>\n",
       "      <td>40-49</td>\n",
       "      <td>premeno</td>\n",
       "      <td>25-29</td>\n",
       "      <td>0-2</td>\n",
       "      <td>NaN</td>\n",
       "      <td>2</td>\n",
       "      <td>left</td>\n",
       "      <td>right_low</td>\n",
       "      <td>yes</td>\n",
       "    </tr>\n",
       "    <tr>\n",
       "      <th>167</th>\n",
       "      <td>recurrence-events</td>\n",
       "      <td>70-79</td>\n",
       "      <td>ge40</td>\n",
       "      <td>15-19</td>\n",
       "      <td>9-11</td>\n",
       "      <td>NaN</td>\n",
       "      <td>1</td>\n",
       "      <td>left</td>\n",
       "      <td>left_low</td>\n",
       "      <td>yes</td>\n",
       "    </tr>\n",
       "    <tr>\n",
       "      <th>182</th>\n",
       "      <td>no-recurrence-events</td>\n",
       "      <td>60-69</td>\n",
       "      <td>ge40</td>\n",
       "      <td>25-29</td>\n",
       "      <td>3-5</td>\n",
       "      <td>NaN</td>\n",
       "      <td>1</td>\n",
       "      <td>right</td>\n",
       "      <td>left_up</td>\n",
       "      <td>yes</td>\n",
       "    </tr>\n",
       "  </tbody>\n",
       "</table>\n",
       "</div>"
      ],
      "text/plain": [
       "                    class    age menopause tumour_size inv_nodes node_caps   \n",
       "40      recurrence-events  50-59      ge40       30-34       0-2        no  \\\n",
       "54      recurrence-events  50-59      lt40       20-24       0-2       NaN   \n",
       "64   no-recurrence-events  50-59      ge40       30-34      9-11       NaN   \n",
       "102     recurrence-events  50-59      lt40       20-24       0-2       NaN   \n",
       "131  no-recurrence-events  60-69      ge40       25-29       3-5       NaN   \n",
       "141  no-recurrence-events  40-49   premeno       25-29       0-2       NaN   \n",
       "167     recurrence-events  70-79      ge40       15-19      9-11       NaN   \n",
       "182  no-recurrence-events  60-69      ge40       25-29       3-5       NaN   \n",
       "\n",
       "     deg_malig breast breast_quad irrad  \n",
       "40           3   left         NaN    no  \n",
       "54           1   left     left_up    no  \n",
       "64           3   left     left_up   yes  \n",
       "102          1   left    left_low    no  \n",
       "131          1  right    left_low   yes  \n",
       "141          2   left   right_low   yes  \n",
       "167          1   left    left_low   yes  \n",
       "182          1  right     left_up   yes  "
      ]
     },
     "execution_count": 7,
     "metadata": {},
     "output_type": "execute_result"
    }
   ],
   "source": [
    "# visualizing the missing values inside the dataset\n",
    "rows_with_missing_values = data_train[data_train.isnull().any(axis=1)]\n",
    "rows_with_missing_values"
   ]
  },
  {
   "attachments": {},
   "cell_type": "markdown",
   "metadata": {},
   "source": [
    "### Noisiness of Data"
   ]
  },
  {
   "cell_type": "code",
   "execution_count": 52,
   "metadata": {},
   "outputs": [
    {
     "data": {
      "text/html": [
       "<div>\n",
       "<style scoped>\n",
       "    .dataframe tbody tr th:only-of-type {\n",
       "        vertical-align: middle;\n",
       "    }\n",
       "\n",
       "    .dataframe tbody tr th {\n",
       "        vertical-align: top;\n",
       "    }\n",
       "\n",
       "    .dataframe thead th {\n",
       "        text-align: right;\n",
       "    }\n",
       "</style>\n",
       "<table border=\"1\" class=\"dataframe\">\n",
       "  <thead>\n",
       "    <tr style=\"text-align: right;\">\n",
       "      <th></th>\n",
       "      <th>type of noise</th>\n",
       "    </tr>\n",
       "  </thead>\n",
       "  <tbody>\n",
       "    <tr>\n",
       "      <th>class</th>\n",
       "      <td>noise-free</td>\n",
       "    </tr>\n",
       "    <tr>\n",
       "      <th>age</th>\n",
       "      <td>noise-free</td>\n",
       "    </tr>\n",
       "    <tr>\n",
       "      <th>menopause</th>\n",
       "      <td>noise-free</td>\n",
       "    </tr>\n",
       "    <tr>\n",
       "      <th>tumour_size</th>\n",
       "      <td>noise-free</td>\n",
       "    </tr>\n",
       "    <tr>\n",
       "      <th>inv_nodes</th>\n",
       "      <td>noise-free</td>\n",
       "    </tr>\n",
       "    <tr>\n",
       "      <th>node_caps</th>\n",
       "      <td>noise-free</td>\n",
       "    </tr>\n",
       "    <tr>\n",
       "      <th>deg_malig</th>\n",
       "      <td>noise-free</td>\n",
       "    </tr>\n",
       "    <tr>\n",
       "      <th>breast</th>\n",
       "      <td>noise-free</td>\n",
       "    </tr>\n",
       "    <tr>\n",
       "      <th>breast_quad</th>\n",
       "      <td>noise-free</td>\n",
       "    </tr>\n",
       "    <tr>\n",
       "      <th>irrad</th>\n",
       "      <td>noise-free</td>\n",
       "    </tr>\n",
       "  </tbody>\n",
       "</table>\n",
       "</div>"
      ],
      "text/plain": [
       "            type of noise\n",
       "class          noise-free\n",
       "age            noise-free\n",
       "menopause      noise-free\n",
       "tumour_size    noise-free\n",
       "inv_nodes      noise-free\n",
       "node_caps      noise-free\n",
       "deg_malig      noise-free\n",
       "breast         noise-free\n",
       "breast_quad    noise-free\n",
       "irrad          noise-free"
      ]
     },
     "metadata": {},
     "output_type": "display_data"
    }
   ],
   "source": [
    "# assuming all features are noise-free\n",
    "df_type_noise = pd.DataFrame(\n",
    "    data={\"type of noise\": len(data_train.columns) * [\"noise-free\"]}, index=data_train.columns\n",
    ")\n",
    "display(df_type_noise)"
   ]
  },
  {
   "attachments": {},
   "cell_type": "markdown",
   "metadata": {},
   "source": [
    "### Dataset Features Exploration"
   ]
  },
  {
   "attachments": {},
   "cell_type": "markdown",
   "metadata": {},
   "source": [
    "#### Nominal Features"
   ]
  },
  {
   "cell_type": "code",
   "execution_count": 55,
   "metadata": {},
   "outputs": [
    {
     "name": "stdout",
     "output_type": "stream",
     "text": [
      "Index(['class', 'menopause', 'node_caps', 'breast', 'breast_quad', 'irrad'], dtype='object')\n",
      "° 6 nominal features\n"
     ]
    }
   ],
   "source": [
    "# list only nominal features\n",
    "list_nominal = df_datatype.loc[lambda x: x[\"data_type\"] == \"nominal\"].index\n",
    "print(list_nominal)\n",
    "print(f\"° {len(list_nominal)} nominal features\")"
   ]
  },
  {
   "cell_type": "code",
   "execution_count": 11,
   "metadata": {},
   "outputs": [
    {
     "data": {
      "image/png": "[encoded data removed]",
      "text/plain": [
       "<Figure size 1400x1400 with 6 Axes>"
      ]
     },
     "metadata": {},
     "output_type": "display_data"
    }
   ],
   "source": [
    "# create subplot\n",
    "fig, axs = plt.subplots(nrows=3, ncols=2, figsize=(14, 14))\n",
    "fig.tight_layout(h_pad=8.0)\n",
    "\n",
    "# loop through tickers and axes\n",
    "k = 0\n",
    "for i in range(0, axs.shape[0]):\n",
    "    for j in range(0, axs.shape[1]):\n",
    "        # ad-hoc way to plot countplot in subplot\n",
    "        sns.countplot(data=data, x=list_nominal[k], ax=axs[i, j])\n",
    "\n",
    "        # chart formatting\n",
    "        axs[i, j].tick_params(axis=\"x\", rotation=90)\n",
    "        axs[i, j].set_title(list_nominal[k])\n",
    "        axs[i, j].set_xlabel(\"\")\n",
    "        k += 1\n",
    "\n",
    "plt.xticks(fontsize=6)\n",
    "plt.yticks(fontsize=6)\n",
    "plt.show()"
   ]
  },
  {
   "attachments": {},
   "cell_type": "markdown",
   "metadata": {},
   "source": [
    "The target feature ```'class'``` is heavily imbalanced."
   ]
  },
  {
   "attachments": {},
   "cell_type": "markdown",
   "metadata": {},
   "source": [
    "#### Ordinal Features"
   ]
  },
  {
   "cell_type": "code",
   "execution_count": 56,
   "metadata": {},
   "outputs": [
    {
     "name": "stdout",
     "output_type": "stream",
     "text": [
      "Index(['age', 'tumour_size', 'inv_nodes'], dtype='object')\n",
      "° 3 ordinal features\n"
     ]
    }
   ],
   "source": [
    "list_ordinal = df_datatype.loc[lambda x: x[\"data_type\"] == \"ordinal\"].index\n",
    "print(list_ordinal)\n",
    "print(f\"° {len(list_ordinal)} ordinal features\")"
   ]
  },
  {
   "cell_type": "code",
   "execution_count": 58,
   "metadata": {},
   "outputs": [
    {
     "data": {
      "text/plain": [
       "<Axes: xlabel='inv_nodes', ylabel='Count'>"
      ]
     },
     "execution_count": 58,
     "metadata": {},
     "output_type": "execute_result"
    },
    {
     "data": {
      "image/png": "[encoded data removed]",
      "text/plain": [
       "<Figure size 800x600 with 3 Axes>"
      ]
     },
     "metadata": {},
     "output_type": "display_data"
    }
   ],
   "source": [
    "fig, axs = plt.subplots(nrows=3, ncols=1, figsize=(8, 6))\n",
    "fig.tight_layout(w_pad=3.0)\n",
    "\n",
    "sns.histplot(\n",
    "    data=data_train, x=list_ordinal[0], binwidth=3, bins=40, discrete=True, ax=axs[0]\n",
    ")\n",
    "sns.histplot(\n",
    "    data=data_train, x=list_ordinal[1], binwidth=3, bins=40, discrete=True, ax=axs[1]\n",
    ")\n",
    "\n",
    "sns.histplot(\n",
    "    data=data_train, x=list_ordinal[2], binwidth=3, bins=40, discrete=True, ax=axs[2]\n",
    ")"
   ]
  },
  {
   "attachments": {},
   "cell_type": "markdown",
   "metadata": {},
   "source": [
    "#### Numerical Features"
   ]
  },
  {
   "cell_type": "code",
   "execution_count": 60,
   "metadata": {},
   "outputs": [
    {
     "name": "stdout",
     "output_type": "stream",
     "text": [
      "Index(['deg_malig'], dtype='object')\n",
      "° 1 numerical feature\n"
     ]
    }
   ],
   "source": [
    "list_numerical = df_datatype.loc[lambda x: x[\"data_type\"] == \"numerical\"].index\n",
    "print(list_numerical)\n",
    "print(f\"° {len(list_numerical)} numerical feature\")"
   ]
  },
  {
   "cell_type": "code",
   "execution_count": 65,
   "metadata": {},
   "outputs": [
    {
     "data": {
      "text/plain": [
       "<Axes: xlabel='deg_malig', ylabel='Count'>"
      ]
     },
     "execution_count": 65,
     "metadata": {},
     "output_type": "execute_result"
    },
    {
     "data": {
      "image/png": "[encoded data removed]",
      "text/plain": [
       "<Figure size 640x480 with 1 Axes>"
      ]
     },
     "metadata": {},
     "output_type": "display_data"
    }
   ],
   "source": [
    "sns.histplot(data=data_train, x=list_numerical[0])"
   ]
  },
  {
   "attachments": {},
   "cell_type": "markdown",
   "metadata": {},
   "source": [
    "### Numerical Value Outliers"
   ]
  },
  {
   "cell_type": "code",
   "execution_count": 69,
   "metadata": {},
   "outputs": [
    {
     "data": {
      "text/html": [
       "<div>\n",
       "<style scoped>\n",
       "    .dataframe tbody tr th:only-of-type {\n",
       "        vertical-align: middle;\n",
       "    }\n",
       "\n",
       "    .dataframe tbody tr th {\n",
       "        vertical-align: top;\n",
       "    }\n",
       "\n",
       "    .dataframe thead th {\n",
       "        text-align: right;\n",
       "    }\n",
       "</style>\n",
       "<table border=\"1\" class=\"dataframe\">\n",
       "  <thead>\n",
       "    <tr style=\"text-align: right;\">\n",
       "      <th></th>\n",
       "      <th>3xstd</th>\n",
       "      <th>n outlier (3xstd)</th>\n",
       "      <th>% outlier (3xstd)</th>\n",
       "    </tr>\n",
       "  </thead>\n",
       "  <tbody>\n",
       "    <tr>\n",
       "      <th>deg_malig</th>\n",
       "      <td>2.22</td>\n",
       "      <td>58</td>\n",
       "      <td>28.999999999999996 %</td>\n",
       "    </tr>\n",
       "  </tbody>\n",
       "</table>\n",
       "</div>"
      ],
      "text/plain": [
       "           3xstd  n outlier (3xstd)     % outlier (3xstd)\n",
       "deg_malig   2.22                 58  28.999999999999996 %"
      ]
     },
     "metadata": {},
     "output_type": "display_data"
    }
   ],
   "source": [
    "# initialize empty dataframe\n",
    "df_outlier = pd.DataFrame()\n",
    "\n",
    "# select threshold between {3,4}\n",
    "thr = 3\n",
    "\n",
    "# generate summary of outlier\n",
    "for feat in list(list_numerical):\n",
    "    df_outlier = pd.concat(\n",
    "        [\n",
    "            df_outlier,\n",
    "            pd.DataFrame(\n",
    "                data={\n",
    "                    f\"{thr}xstd\": round(thr * data_train[feat].std(), 2),\n",
    "                    f\"n outlier ({thr}xstd)\": data_train.loc[\n",
    "                        lambda x: x[feat] > thr * x[feat].std(), feat\n",
    "                    ].count(),\n",
    "                    f\"% outlier ({thr}xstd)\": str(\n",
    "                        round(\n",
    "                            data_train.loc[\n",
    "                                lambda x: x[feat] > thr * x[feat].std(), feat\n",
    "                            ].count()\n",
    "                            / data_train.shape[0],\n",
    "                            2,\n",
    "                        )\n",
    "                        * 100\n",
    "                    )\n",
    "                    + \" %\",\n",
    "                },\n",
    "                index=[feat],\n",
    "            ),\n",
    "        ]\n",
    "    )\n",
    "\n",
    "display(df_outlier)"
   ]
  },
  {
   "attachments": {},
   "cell_type": "markdown",
   "metadata": {},
   "source": [
    "### EDA Summary"
   ]
  },
  {
   "cell_type": "code",
   "execution_count": 70,
   "metadata": {},
   "outputs": [
    {
     "data": {
      "text/html": [
       "<div>\n",
       "<style scoped>\n",
       "    .dataframe tbody tr th:only-of-type {\n",
       "        vertical-align: middle;\n",
       "    }\n",
       "\n",
       "    .dataframe tbody tr th {\n",
       "        vertical-align: top;\n",
       "    }\n",
       "\n",
       "    .dataframe thead th {\n",
       "        text-align: right;\n",
       "    }\n",
       "</style>\n",
       "<table border=\"1\" class=\"dataframe\">\n",
       "  <thead>\n",
       "    <tr style=\"text-align: right;\">\n",
       "      <th></th>\n",
       "      <th>data_type</th>\n",
       "      <th>missing values</th>\n",
       "      <th>% missing values</th>\n",
       "      <th>type of noise</th>\n",
       "    </tr>\n",
       "  </thead>\n",
       "  <tbody>\n",
       "    <tr>\n",
       "      <th>class</th>\n",
       "      <td>nominal</td>\n",
       "      <td>0</td>\n",
       "      <td>0.0</td>\n",
       "      <td>noise-free</td>\n",
       "    </tr>\n",
       "    <tr>\n",
       "      <th>age</th>\n",
       "      <td>ordinal</td>\n",
       "      <td>0</td>\n",
       "      <td>0.0</td>\n",
       "      <td>noise-free</td>\n",
       "    </tr>\n",
       "    <tr>\n",
       "      <th>menopause</th>\n",
       "      <td>nominal</td>\n",
       "      <td>0</td>\n",
       "      <td>0.0</td>\n",
       "      <td>noise-free</td>\n",
       "    </tr>\n",
       "    <tr>\n",
       "      <th>tumour_size</th>\n",
       "      <td>ordinal</td>\n",
       "      <td>0</td>\n",
       "      <td>0.0</td>\n",
       "      <td>noise-free</td>\n",
       "    </tr>\n",
       "    <tr>\n",
       "      <th>inv_nodes</th>\n",
       "      <td>ordinal</td>\n",
       "      <td>0</td>\n",
       "      <td>0.0</td>\n",
       "      <td>noise-free</td>\n",
       "    </tr>\n",
       "    <tr>\n",
       "      <th>node_caps</th>\n",
       "      <td>nominal</td>\n",
       "      <td>7</td>\n",
       "      <td>3.5</td>\n",
       "      <td>noise-free</td>\n",
       "    </tr>\n",
       "    <tr>\n",
       "      <th>deg_malig</th>\n",
       "      <td>numerical</td>\n",
       "      <td>0</td>\n",
       "      <td>0.0</td>\n",
       "      <td>noise-free</td>\n",
       "    </tr>\n",
       "    <tr>\n",
       "      <th>breast</th>\n",
       "      <td>nominal</td>\n",
       "      <td>0</td>\n",
       "      <td>0.0</td>\n",
       "      <td>noise-free</td>\n",
       "    </tr>\n",
       "    <tr>\n",
       "      <th>breast_quad</th>\n",
       "      <td>nominal</td>\n",
       "      <td>1</td>\n",
       "      <td>0.5</td>\n",
       "      <td>noise-free</td>\n",
       "    </tr>\n",
       "    <tr>\n",
       "      <th>irrad</th>\n",
       "      <td>nominal</td>\n",
       "      <td>0</td>\n",
       "      <td>0.0</td>\n",
       "      <td>noise-free</td>\n",
       "    </tr>\n",
       "  </tbody>\n",
       "</table>\n",
       "</div>"
      ],
      "text/plain": [
       "             data_type  missing values  % missing values type of noise\n",
       "class          nominal               0               0.0    noise-free\n",
       "age            ordinal               0               0.0    noise-free\n",
       "menopause      nominal               0               0.0    noise-free\n",
       "tumour_size    ordinal               0               0.0    noise-free\n",
       "inv_nodes      ordinal               0               0.0    noise-free\n",
       "node_caps      nominal               7               3.5    noise-free\n",
       "deg_malig    numerical               0               0.0    noise-free\n",
       "breast         nominal               0               0.0    noise-free\n",
       "breast_quad    nominal               1               0.5    noise-free\n",
       "irrad          nominal               0               0.0    noise-free"
      ]
     },
     "execution_count": 70,
     "metadata": {},
     "output_type": "execute_result"
    }
   ],
   "source": [
    "df_datatype.join(df_missing_value).join(df_type_noise)"
   ]
  },
  {
   "attachments": {},
   "cell_type": "markdown",
   "metadata": {},
   "source": [
    "### Target Feature Exploration"
   ]
  },
  {
   "cell_type": "code",
   "execution_count": 19,
   "metadata": {},
   "outputs": [
    {
     "data": {
      "text/html": [
       "<div>\n",
       "<style scoped>\n",
       "    .dataframe tbody tr th:only-of-type {\n",
       "        vertical-align: middle;\n",
       "    }\n",
       "\n",
       "    .dataframe tbody tr th {\n",
       "        vertical-align: top;\n",
       "    }\n",
       "\n",
       "    .dataframe thead th {\n",
       "        text-align: right;\n",
       "    }\n",
       "</style>\n",
       "<table border=\"1\" class=\"dataframe\">\n",
       "  <thead>\n",
       "    <tr style=\"text-align: right;\">\n",
       "      <th></th>\n",
       "      <th>count</th>\n",
       "      <th>proportion</th>\n",
       "    </tr>\n",
       "    <tr>\n",
       "      <th>class</th>\n",
       "      <th></th>\n",
       "      <th></th>\n",
       "    </tr>\n",
       "  </thead>\n",
       "  <tbody>\n",
       "    <tr>\n",
       "      <th>no-recurrence-events</th>\n",
       "      <td>201</td>\n",
       "      <td>0.7</td>\n",
       "    </tr>\n",
       "    <tr>\n",
       "      <th>recurrence-events</th>\n",
       "      <td>85</td>\n",
       "      <td>0.3</td>\n",
       "    </tr>\n",
       "  </tbody>\n",
       "</table>\n",
       "</div>"
      ],
      "text/plain": [
       "                      count  proportion\n",
       "class                                  \n",
       "no-recurrence-events    201         0.7\n",
       "recurrence-events        85         0.3"
      ]
     },
     "execution_count": 19,
     "metadata": {},
     "output_type": "execute_result"
    }
   ],
   "source": [
    "# computing count and proportion\n",
    "pd.concat(\n",
    "    [data[TARGET_NAME].value_counts(), data[TARGET_NAME].value_counts(normalize=True)], axis=1\n",
    ").round(2)"
   ]
  },
  {
   "attachments": {},
   "cell_type": "markdown",
   "metadata": {},
   "source": [
    "##### Prevalence"
   ]
  },
  {
   "cell_type": "code",
   "execution_count": 20,
   "metadata": {},
   "outputs": [
    {
     "name": "stdout",
     "output_type": "stream",
     "text": [
      "Prevalence for Target:class = 0.30\n"
     ]
    }
   ],
   "source": [
    "print(\n",
    "    f\"Prevalence for Target:{TARGET_NAME} = {data.loc[lambda x:x[TARGET_NAME]=='recurrence-events'].shape[0]/data.shape[0]:.2f}\"\n",
    ")"
   ]
  },
  {
   "attachments": {},
   "cell_type": "markdown",
   "metadata": {},
   "source": [
    "**Summary**\n",
    "\n",
    "- Target feature `class` has a prevalence of 0.3 and heavily imbalanced;\n",
    "- There are 6 nominal, 3 ordinal and 1 numerical features;\n",
    "- There are 8 total missing values in `node_caps` (3.5%) and `breast_quad` (0.5%);\n",
    "- Some features are highly imbalanced, clustering some of the values is expected to create a more predictive feature."
   ]
  }
 ],
 "metadata": {
  "kernelspec": {
   "display_name": "Python 3",
   "language": "python",
   "name": "python3"
  },
  "language_info": {
   "codemirror_mode": {
    "name": "ipython",
    "version": 3
   },
   "file_extension": ".py",
   "mimetype": "text/x-python",
   "name": "python",
   "nbconvert_exporter": "python",
   "pygments_lexer": "ipython3",
   "version": "3.10.11"
  },
  "orig_nbformat": 4,
  "vscode": {
   "interpreter": {
    "hash": "88af22fe04d06c4e495e074b0632349f29d04136c19fd8eb45f7e3371b637b87"
   }
  }
 },
 "nbformat": 4,
 "nbformat_minor": 2
}
