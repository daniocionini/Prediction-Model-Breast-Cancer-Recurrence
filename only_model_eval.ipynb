{
 "cells": [
  {
   "cell_type": "code",
   "execution_count": 742,
   "metadata": {},
   "outputs": [],
   "source": [
    "# import libraries\n",
    "import pandas as pd\n",
    "pd.set_option('display.max_colwidth', None) #setting max colwidth to view the entire dataset when using the print() command\n",
    "import matplotlib.pyplot as plt\n",
    "import numpy as np"
   ]
  },
  {
   "cell_type": "code",
   "execution_count": 743,
   "metadata": {},
   "outputs": [],
   "source": [
    "# import the files\n",
    "data = open(\"./dataset/breast-cancer.data\")\n",
    "feat = open(\"./dataset/breast-cancer.names\")\n",
    "\n",
    "data = data.read()\n",
    "feat = feat.read()"
   ]
  },
  {
   "cell_type": "code",
   "execution_count": 744,
   "metadata": {},
   "outputs": [],
   "source": [
    "# replace missing dataset attributes to NAN\n",
    "data = data.replace('?','')"
   ]
  },
  {
   "cell_type": "code",
   "execution_count": 745,
   "metadata": {},
   "outputs": [],
   "source": [
    "from io import StringIO"
   ]
  },
  {
   "cell_type": "code",
   "execution_count": 746,
   "metadata": {},
   "outputs": [],
   "source": [
    "# convert data from str to dataframe\n",
    "data = StringIO(data)\n",
    "data = pd.read_csv(data, sep=\",\")"
   ]
  },
  {
   "cell_type": "code",
   "execution_count": 747,
   "metadata": {},
   "outputs": [],
   "source": [
    "data.columns = ['class', 'age', 'menopause', 'tumour_size', 'inv_nodes', 'node_caps', 'deg_malig', 'breast', 'breast_quad', 'irrad']"
   ]
  },
  {
   "cell_type": "code",
   "execution_count": 748,
   "metadata": {},
   "outputs": [],
   "source": [
    "data['class'] = data['class'].replace(['no-recurrence-events','recurrence-events'], [0,1])\n",
    "data['age'] = data['age'].replace(['20-29', '30-39','40-49','50-59','60-69','70-79'],[0,1,2,3,4,5])\n",
    "data['menopause'] = data['menopause'].replace(['premeno','ge40','lt40'],[0,1,2])\n",
    "data['tumour_size'] = data['tumour_size'].replace(['0-4','5-9','10-14','15-19','20-24','25-29','30-34','35-39','40-44','45-49','50-54'],[0,1,2,3,4,5,6,7,8,9,10])\n",
    "data['inv_nodes'] = data['inv_nodes'].replace(['0-2','3-5','6-8','9-11','12-14','15-17','24-26'],[0,1,2,3,4,5,6])\n",
    "data['node_caps'] = data['node_caps'].replace(['no','yes'],[0,1])\n",
    "data['breast'] = data['breast'].replace(['left','right'],[0,1])\n",
    "data['breast_quad'] = data['breast_quad'].replace(['left_low','left_up','right_up','right_low','central'],[0,1,2,3,4])\n",
    "data['irrad'] = data['irrad'].replace(['no','yes'],[0,1])"
   ]
  },
  {
   "cell_type": "code",
   "execution_count": 749,
   "metadata": {},
   "outputs": [],
   "source": [
    "# replace missing data \n",
    "data['node_caps'] = data['node_caps'].fillna(5)\n",
    "data['breast_quad'] = data['breast_quad'].fillna(8)"
   ]
  },
  {
   "cell_type": "code",
   "execution_count": 750,
   "metadata": {},
   "outputs": [],
   "source": [
    "X = data.drop(['class'], axis = 1)\n",
    "y = data['class']"
   ]
  },
  {
   "cell_type": "code",
   "execution_count": 751,
   "metadata": {},
   "outputs": [],
   "source": [
    "from sklearn.model_selection import train_test_split\n",
    "X_train, X_test, y_train, y_test = train_test_split(X, y, test_size=0.2, stratify=y, random_state=42)"
   ]
  },
  {
   "cell_type": "code",
   "execution_count": 752,
   "metadata": {},
   "outputs": [],
   "source": [
    "X_train['size_agg'] = X_train['tumour_size'] + X_train['deg_malig']\n",
    "\n",
    "X_test['size_agg'] = X_test['tumour_size'] + X_test['deg_malig']"
   ]
  },
  {
   "cell_type": "code",
   "execution_count": 753,
   "metadata": {},
   "outputs": [],
   "source": [
    "important_features = ['tumour_size', 'breast_quad', 'size_agg']\n",
    "X_train = X_train[important_features]\n",
    "X_test = X_test[important_features]"
   ]
  },
  {
   "cell_type": "code",
   "execution_count": 754,
   "metadata": {},
   "outputs": [
    {
     "name": "stdout",
     "output_type": "stream",
     "text": [
      "0.8026315789473685\n",
      "0.6842105263157895\n",
      "0.763235294117647\n",
      "0.7647058823529411\n",
      "0.6190476190476191\n"
     ]
    }
   ],
   "source": [
    "from sklearn.ensemble import RandomForestClassifier\n",
    "from sklearn.linear_model import LogisticRegression\n",
    "from sklearn.tree import DecisionTreeClassifier\n",
    "\n",
    "\n",
    "\n",
    "from sklearn.metrics import accuracy_score\n",
    "from sklearn.metrics import f1_score\n",
    "from sklearn.metrics import roc_auc_score\n",
    "from sklearn.metrics import roc_curve\n",
    "from sklearn.model_selection import cross_val_score\n",
    "from sklearn.metrics import recall_score, precision_score\n",
    "\n",
    "from imblearn.over_sampling import RandomOverSampler\n",
    "\n",
    "from IPython.display import display\n",
    "\n",
    "ros = RandomOverSampler(random_state=42)\n",
    "X_resampled, y_resampled = ros.fit_resample(X_train, y_train)\n",
    "model = DecisionTreeClassifier()\n",
    "\n",
    "\n",
    "model.fit(X_resampled, y_resampled)\n",
    "\n",
    "y_score = model.predict_proba(X_test)[:, 1]\n",
    "\n",
    "y_pred = model.predict(X_test)\n",
    "\n",
    "\n",
    "\n",
    "\n",
    "print(model.score(X_train, y_train))\n",
    "print(f1_score(y_test, y_pred, average='binary'))\n",
    "print(roc_auc_score(y_test, y_score))\n",
    "print(recall_score(y_test, y_pred))\n",
    "print(precision_score(y_test, y_pred))"
   ]
  }
 ],
 "metadata": {
  "kernelspec": {
   "display_name": "Python 3",
   "language": "python",
   "name": "python3"
  },
  "language_info": {
   "codemirror_mode": {
    "name": "ipython",
    "version": 3
   },
   "file_extension": ".py",
   "mimetype": "text/x-python",
   "name": "python",
   "nbconvert_exporter": "python",
   "pygments_lexer": "ipython3",
   "version": "3.10.9"
  },
  "orig_nbformat": 4,
  "vscode": {
   "interpreter": {
    "hash": "84140caeb59a95a7cc9fbee49062d8efd32fa1a4c38af631ee742e1665681e93"
   }
  }
 },
 "nbformat": 4,
 "nbformat_minor": 2
}
