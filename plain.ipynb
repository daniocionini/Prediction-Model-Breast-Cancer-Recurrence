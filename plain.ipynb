{
 "cells": [
  {
   "cell_type": "code",
   "execution_count": 49,
   "metadata": {},
   "outputs": [],
   "source": [
    "# import libraries\n",
    "import pandas as pd\n",
    "pd.set_option('display.max_colwidth', None) #setting max colwidth to view the entire dataset when using the print() command\n",
    "import matplotlib.pyplot as plt\n",
    "import numpy as np\n",
    "\n",
    "\n",
    "from sklearn.ensemble import RandomForestClassifier\n",
    "from sklearn.linear_model import LogisticRegression\n",
    "from sklearn.tree import DecisionTreeClassifier\n",
    "\n",
    "\n",
    "\n",
    "from sklearn.metrics import accuracy_score\n",
    "from sklearn.metrics import f1_score\n",
    "from sklearn.metrics import roc_auc_score\n",
    "from sklearn.metrics import roc_curve\n",
    "from sklearn.model_selection import cross_val_score\n",
    "from sklearn.metrics import recall_score, precision_score\n",
    "\n",
    "from imblearn.over_sampling import RandomOverSampler\n",
    "from imblearn.over_sampling import SMOTE\n",
    "from IPython.display import display\n",
    "\n",
    "# import the files\n",
    "data = open(\"./dataset/breast-cancer.data\")\n",
    "feat = open(\"./dataset/breast-cancer.names\")\n",
    "\n",
    "data = data.read()\n",
    "feat = feat.read()\n",
    "\n",
    "# replace missing dataset attributes to NAN\n",
    "data = data.replace('?','')\n",
    "\n",
    "from io import StringIO\n",
    "\n",
    "# convert data from str to dataframe\n",
    "data = StringIO(data)\n",
    "data = pd.read_csv(data, sep=\",\")\n",
    "\n",
    "data.columns = ['class', 'age', 'menopause', 'tumour_size', 'inv_nodes', 'node_caps', 'deg_malig', 'breast', 'breast_quad', 'irrad']\n",
    "\n",
    "data['class'] = data['class'].replace(['no-recurrence-events','recurrence-events'], [0,1])\n",
    "data['age'] = data['age'].replace(['20-29', '30-39','40-49','50-59','60-69','70-79'],[0,1,2,3,4,5])\n",
    "data['menopause'] = data['menopause'].replace(['premeno','ge40','lt40'],[0,1,2])\n",
    "data['tumour_size'] = data['tumour_size'].replace(['0-4','5-9','10-14','15-19','20-24','25-29','30-34','35-39','40-44','45-49','50-54'],[0,1,2,3,4,5,6,7,8,9,10])\n",
    "data['inv_nodes'] = data['inv_nodes'].replace(['0-2','3-5','6-8','9-11','12-14','15-17','24-26'],[0,1,2,3,4,5,6])\n",
    "data['node_caps'] = data['node_caps'].replace(['no','yes'],[0,1])\n",
    "data['breast'] = data['breast'].replace(['left','right'],[0,1])\n",
    "data['breast_quad'] = data['breast_quad'].replace(['left_low','left_up','right_up','right_low','central'],[0,1,2,3,4])\n",
    "data['irrad'] = data['irrad'].replace(['no','yes'],[0,1])\n",
    "\n",
    "# replace missing data \n",
    "data['node_caps'] = data['node_caps'].fillna(5)\n",
    "data['breast_quad'] = data['breast_quad'].fillna(8)\n",
    "\n",
    "X = data.drop(['class'], axis = 1)\n",
    "y = data['class']\n",
    "\n",
    "from sklearn.model_selection import train_test_split\n",
    "X_train, X_test, y_train, y_test = train_test_split(X, y, test_size=0.2, stratify=y, random_state=42)\n",
    "\n",
    "X_train['size_agg'] = X_train['tumour_size'] + X_train['deg_malig'] \n",
    "\n",
    "X_test['size_agg'] = X_test['tumour_size'] + X_test['deg_malig']"
   ]
  },
  {
   "cell_type": "code",
   "execution_count": 50,
   "metadata": {},
   "outputs": [
    {
     "data": {
      "text/plain": [
       "\"\\ndef model(X_train, X_test, y_train, y_test, feat, feat2, feat3):\\n\\n    ros = RandomOverSampler(random_state=42)\\n    X_resampled, y_resampled = ros.fit_resample(X_train, y_train)\\n    model = DecisionTreeClassifier() \\n\\n    model.fit(X_resampled, y_resampled)\\n\\n    y_score = model.predict_proba(X_test)[:, 1]\\n\\n    y_pred = model.predict(X_test)\\n\\n    acc = model.score(X_train, y_train)\\n    f1 = f1_score(y_test, y_pred, average='binary')\\n    roc = roc_auc_score(y_test, y_score)\\n    rec = recall_score(y_test, y_pred)\\n    pre = precision_score(y_test, y_pred)\\n\\n    if f1 > 0.68:\\n        print('\\n','Analysed feature:',feat,'//', feat2,'//', feat3)\\n        print(X_train.columns)\\n        print(ros)\\n        print('Acc:',acc)\\n        print('F1:',f1)\\n        print('ROC-AUC:',roc)\\n        print('Recc:',rec)\\n        print('Prec:',pre)  \\n   \\n\\n\""
      ]
     },
     "execution_count": 50,
     "metadata": {},
     "output_type": "execute_result"
    }
   ],
   "source": [
    "\"\"\"\n",
    "def model(X_train, X_test, y_train, y_test, feat, feat2, feat3):\n",
    "\n",
    "    ros = RandomOverSampler(random_state=42)\n",
    "    X_resampled, y_resampled = ros.fit_resample(X_train, y_train)\n",
    "    model = DecisionTreeClassifier() \n",
    "\n",
    "    model.fit(X_resampled, y_resampled)\n",
    "\n",
    "    y_score = model.predict_proba(X_test)[:, 1]\n",
    "\n",
    "    y_pred = model.predict(X_test)\n",
    "\n",
    "    acc = model.score(X_train, y_train)\n",
    "    f1 = f1_score(y_test, y_pred, average='binary')\n",
    "    roc = roc_auc_score(y_test, y_score)\n",
    "    rec = recall_score(y_test, y_pred)\n",
    "    pre = precision_score(y_test, y_pred)\n",
    "\n",
    "    if f1 > 0.68:\n",
    "        print('\\n','Analysed feature:',feat,'//', feat2,'//', feat3)\n",
    "        print(X_train.columns)\n",
    "        print(ros)\n",
    "        print('Acc:',acc)\n",
    "        print('F1:',f1)\n",
    "        print('ROC-AUC:',roc)\n",
    "        print('Recc:',rec)\n",
    "        print('Prec:',pre)  \n",
    "   \n",
    "\n",
    "\"\"\""
   ]
  },
  {
   "cell_type": "code",
   "execution_count": 51,
   "metadata": {},
   "outputs": [
    {
     "data": {
      "text/plain": [
       "\"\\nfeatures = ['age', 'menopause', 'tumour_size', 'inv_nodes', 'node_caps', 'deg_malig', 'breast', 'breast_quad', 'irrad']\\ndef mix(features, X_train, X_test, y_train, y_test):\\n    for feat in features:\\n        for feat2 in features:\\n            for feat3 in features:\\n                important = ['tumour_size', 'breast_quad', 'size_agg']\\n                important.append(feat)\\n                important.append(feat2)\\n                important.append(feat3)\\n                X_train_n = X_train[important]\\n                X_test_n = X_test[important]\\n                model(X_train_n, X_test_n, y_train, y_test, feat, feat2, feat3)\\n\\n\""
      ]
     },
     "execution_count": 51,
     "metadata": {},
     "output_type": "execute_result"
    }
   ],
   "source": [
    "\"\"\"\n",
    "features = ['age', 'menopause', 'tumour_size', 'inv_nodes', 'node_caps', 'deg_malig', 'breast', 'breast_quad', 'irrad']\n",
    "def mix(features, X_train, X_test, y_train, y_test):\n",
    "    for feat in features:\n",
    "        for feat2 in features:\n",
    "            for feat3 in features:\n",
    "                important = ['tumour_size', 'breast_quad', 'size_agg']\n",
    "                important.append(feat)\n",
    "                important.append(feat2)\n",
    "                important.append(feat3)\n",
    "                X_train_n = X_train[important]\n",
    "                X_test_n = X_test[important]\n",
    "                model(X_train_n, X_test_n, y_train, y_test, feat, feat2, feat3)\n",
    "\n",
    "\"\"\""
   ]
  },
  {
   "cell_type": "code",
   "execution_count": 52,
   "metadata": {},
   "outputs": [],
   "source": [
    "#mix(features, X_train, X_test, y_train, y_test)"
   ]
  },
  {
   "cell_type": "code",
   "execution_count": 53,
   "metadata": {},
   "outputs": [],
   "source": [
    "important_features = ['tumour_size', 'breast_quad', 'size_agg']\n",
    "X_train = X_train[important_features]\n",
    "X_test = X_test[important_features]"
   ]
  },
  {
   "cell_type": "code",
   "execution_count": 54,
   "metadata": {},
   "outputs": [],
   "source": [
    "def mix(X_train, y_train):\n",
    "    k = 1\n",
    "    while k < 68:\n",
    "        print(k)\n",
    "        smote = SMOTE(random_state=42,  k_neighbors=k)\n",
    "        X_resampled, y_resampled = smote.fit_resample(X_train, y_train)\n",
    "        model = DecisionTreeClassifier()\n",
    "        model.fit(X_resampled, y_resampled)\n",
    "        y_score = model.predict_proba(X_test)[:, 1]\n",
    "        y_pred = model.predict(X_test)\n",
    "        acc = model.score(X_train, y_train)\n",
    "        f1 = f1_score(y_test, y_pred, average='binary')\n",
    "        roc = roc_auc_score(y_test, y_score)\n",
    "        rec = recall_score(y_test, y_pred)\n",
    "        pre = precision_score(y_test, y_pred)        \n",
    "        if f1 > 0.58:\n",
    "            print('Acc:',acc)\n",
    "            print('F1:',f1)\n",
    "            print('ROC-AUC:',roc)\n",
    "            print('Recc:',rec)\n",
    "            print('Prec:',pre)  \n",
    "        k += 1\n",
    "\n",
    "\n"
   ]
  },
  {
   "cell_type": "code",
   "execution_count": 55,
   "metadata": {},
   "outputs": [
    {
     "name": "stdout",
     "output_type": "stream",
     "text": [
      "1\n",
      "Acc: 0.8070175438596491\n",
      "F1: 0.6315789473684211\n",
      "ROC-AUC: 0.7330882352941176\n",
      "Recc: 0.7058823529411765\n",
      "Prec: 0.5714285714285714\n",
      "2\n",
      "3\n",
      "Acc: 0.8201754385964912\n",
      "F1: 0.5882352941176471\n",
      "ROC-AUC: 0.7264705882352941\n",
      "Recc: 0.5882352941176471\n",
      "Prec: 0.5882352941176471\n",
      "4\n",
      "5\n",
      "6\n",
      "7\n",
      "Acc: 0.8201754385964912\n",
      "F1: 0.6060606060606061\n",
      "ROC-AUC: 0.7404411764705883\n",
      "Recc: 0.5882352941176471\n",
      "Prec: 0.625\n",
      "8\n",
      "9\n",
      "10\n",
      "11\n",
      "12\n",
      "13\n",
      "14\n",
      "15\n",
      "16\n",
      "17\n",
      "18\n",
      "19\n",
      "20\n",
      "21\n",
      "22\n",
      "23\n",
      "24\n",
      "25\n",
      "26\n",
      "27\n",
      "28\n",
      "29\n",
      "30\n",
      "31\n",
      "32\n",
      "33\n",
      "34\n",
      "35\n",
      "36\n",
      "37\n",
      "38\n",
      "39\n",
      "40\n",
      "41\n",
      "42\n",
      "43\n",
      "44\n",
      "45\n",
      "46\n",
      "47\n",
      "48\n",
      "49\n",
      "50\n",
      "51\n",
      "52\n",
      "53\n",
      "54\n",
      "55\n",
      "56\n",
      "57\n",
      "58\n",
      "59\n",
      "60\n",
      "61\n",
      "62\n",
      "63\n",
      "64\n",
      "65\n",
      "66\n",
      "67\n"
     ]
    }
   ],
   "source": [
    "mix(X_train, y_train)"
   ]
  }
 ],
 "metadata": {
  "kernelspec": {
   "display_name": "Python 3",
   "language": "python",
   "name": "python3"
  },
  "language_info": {
   "codemirror_mode": {
    "name": "ipython",
    "version": 3
   },
   "file_extension": ".py",
   "mimetype": "text/x-python",
   "name": "python",
   "nbconvert_exporter": "python",
   "pygments_lexer": "ipython3",
   "version": "3.10.10"
  },
  "orig_nbformat": 4,
  "vscode": {
   "interpreter": {
    "hash": "84140caeb59a95a7cc9fbee49062d8efd32fa1a4c38af631ee742e1665681e93"
   }
  }
 },
 "nbformat": 4,
 "nbformat_minor": 2
}
