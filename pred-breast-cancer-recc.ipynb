{
 "cells": [
  {
   "cell_type": "markdown",
   "id": "a0e1e76a",
   "metadata": {},
   "source": [
    "# Breast Cancer Recurrence Prediction using Machine Learning"
   ]
  },
  {
   "cell_type": "markdown",
   "id": "7dc1aaa6",
   "metadata": {},
   "source": [
    "## Dataset"
   ]
  },
  {
   "cell_type": "markdown",
   "id": "cc6fa524",
   "metadata": {},
   "source": [
    "Variables in this dataset are:\n",
    "\n",
    "***Class***: whether or not there has been a recurrence of cancer<br>\n",
    "***Age***: patient's age at the time of diagnosis<br>\n",
    "***Menopause***: menopausal status of the patient at the time of diagnosis, pre-menopausal (*premeno*) or post-menopausal (*ge40*, *lt40*) at the time of diagnosis:<br>\n",
    "***Tumour Size***: the size of the tumour (mm) at the time of diagnosis<br>\n",
    "***Invasive Nodes***: the total number of lymph nodes confirming Breast Cancer at the time of the histological examination<br>\n",
    "***Node Caps***: whether the tumour penetrated in the lymph node capsule<br>\n",
    "***Degree of Malignancy***: divided into 1 -2 or 3, depending on the malignancy of the tumour<br>\n",
    "***Breast***: the position of the tumour (left or right breast)<br>\n",
    "***Breast Quadrant***: the quadrant of the breast where the tumour is present<br>\n",
    "***Irradiation***: whether radiation therapy has been used as a treatment to destroy cancer cells<br>"
   ]
  },
  {
   "cell_type": "markdown",
   "id": "0a65b80a",
   "metadata": {},
   "source": [
    "The data is provided as two separate ```.data``` files<br>\n",
    "- ```breast-cancer.data```, containing the dataset \n",
    "- ```breast-cancer.names```, containing relevant informations about the dataset"
   ]
  },
  {
   "cell_type": "code",
   "execution_count": null,
   "id": "6a7387a2",
   "metadata": {},
   "outputs": [],
   "source": [
    "# import the files\n",
    "data = open(\"./dataset/breast-cancer.data\")\n",
    "feat = open(\"./dataset/breast-cancer.names\")\n",
    "\n",
    "data = data.read()\n",
    "feat = feat.read()"
   ]
  },
  {
   "cell_type": "code",
   "execution_count": null,
   "id": "d6788759",
   "metadata": {},
   "outputs": [],
   "source": [
    "# preview the first two rows of the dataset\n",
    "print(data.split('\\n',1)[0])\n",
    "print(data.split('\\n',2)[1])"
   ]
  },
  {
   "cell_type": "code",
   "execution_count": null,
   "id": "029c46bc",
   "metadata": {},
   "outputs": [],
   "source": [
    "# view information about the dataset\n",
    "print(feat)"
   ]
  },
  {
   "cell_type": "markdown",
   "id": "66b5738c",
   "metadata": {},
   "source": [
    "In the informative, file we have important information about the dataset at *7. Attribute Information*. It is specified that the dataset includes missing values denoted with the attribute **'?'**"
   ]
  },
  {
   "cell_type": "code",
   "execution_count": null,
   "id": "d01540a7",
   "metadata": {},
   "outputs": [],
   "source": [
    "# replace missing dataset attributes to NAN\n",
    "data = data.replace('?','')"
   ]
  },
  {
   "cell_type": "markdown",
   "id": "2035fc00",
   "metadata": {},
   "source": [
    "<ins>*for Giovanni Notes*:</ins> I prefered to replace the missing data attribute from ***?*** to ***NAN*** straight away while still as a ***str*** file"
   ]
  },
  {
   "cell_type": "markdown",
   "id": "4ac7ca65",
   "metadata": {},
   "source": [
    "## Exploratory Data Analysis"
   ]
  },
  {
   "cell_type": "markdown",
   "id": "32fcd110",
   "metadata": {},
   "source": [
    "### Transforming to DataFrame"
   ]
  },
  {
   "cell_type": "markdown",
   "id": "aad0039d",
   "metadata": {},
   "source": [
    "The data is stored as ```str```. It is necessary to convert it to ```DataFrame``` format"
   ]
  },
  {
   "cell_type": "code",
   "execution_count": null,
   "id": "813c08ee",
   "metadata": {},
   "outputs": [],
   "source": [
    "# import libraries\n",
    "import pandas as pd\n",
    "pd.set_option('display.max_colwidth', None) #setting max colwidth to view the entire dataset when using the print() command\n",
    "from io import StringIO\n",
    "import matplotlib.pyplot as plt\n",
    "import numpy as np"
   ]
  },
  {
   "cell_type": "code",
   "execution_count": null,
   "id": "3139d23f",
   "metadata": {},
   "outputs": [],
   "source": [
    "# convert data from str to dataframe\n",
    "data = StringIO(data)\n",
    "data = pd.read_csv(data, sep=\",\")\n",
    "print(type(data)) #check the data variable is a pandas.core.frame.DataFrame"
   ]
  },
  {
   "cell_type": "markdown",
   "id": "d0f27551",
   "metadata": {},
   "source": [
    "Now that the data is correctly converted into a DataFrame table, I will rename the columns according to the attributes in the ```.names``` file"
   ]
  },
  {
   "cell_type": "code",
   "execution_count": null,
   "id": "b9db38b0",
   "metadata": {},
   "outputs": [],
   "source": [
    "data.columns = ['class', 'age', 'menopause', 'tumour_size', 'inv_nodes', 'node_caps', 'deg_malig', 'breast', 'breast_quad', 'irrad']\n",
    "data.columns"
   ]
  },
  {
   "cell_type": "code",
   "execution_count": null,
   "id": "88725229",
   "metadata": {},
   "outputs": [],
   "source": [
    "# preview the DataFrame table created\n",
    "data.head()"
   ]
  },
  {
   "cell_type": "markdown",
   "id": "b5e283b0",
   "metadata": {},
   "source": [
    "### Explore the Dataset"
   ]
  },
  {
   "cell_type": "code",
   "execution_count": null,
   "id": "bd0b3edf",
   "metadata": {},
   "outputs": [],
   "source": [
    "data.info()"
   ]
  },
  {
   "cell_type": "markdown",
   "id": "773b7aa6",
   "metadata": {},
   "source": [
    "All the variables in the dataset are of type ```object```, except for ```'deg_malig'```."
   ]
  },
  {
   "cell_type": "markdown",
   "id": "90cf268b",
   "metadata": {},
   "source": [
    "<ins>*for Giovanni Notes*:</ins> the data shows in fact there are missing values *277 of 285* in ```'node_caps'``` attribute and *284 of 285* in ```'breast_quad'```"
   ]
  },
  {
   "cell_type": "code",
   "execution_count": null,
   "id": "33400213",
   "metadata": {},
   "outputs": [],
   "source": [
    "data.describe()"
   ]
  },
  {
   "cell_type": "markdown",
   "id": "0852a469",
   "metadata": {},
   "source": [
    "<ins>*for Giovanni Notes*:</ins> is it useless to print ```.describe()``` in this case?"
   ]
  },
  {
   "cell_type": "markdown",
   "id": "229ae8f0",
   "metadata": {},
   "source": [
    "### Explore the Attributes"
   ]
  },
  {
   "cell_type": "markdown",
   "id": "a7ec1398",
   "metadata": {},
   "source": [
    "I want to have a more thorough look at the data inside each attribute, starting from ```'class'``` which contains information about recurrence of Breast Cancer."
   ]
  },
  {
   "cell_type": "code",
   "execution_count": null,
   "id": "edff4a8d",
   "metadata": {},
   "outputs": [],
   "source": [
    "class_ = data['class'].value_counts()\n",
    "class_.plot.barh()"
   ]
  },
  {
   "cell_type": "markdown",
   "id": "3d8ac034",
   "metadata": {},
   "source": [
    "About 70% of the dataset includes patients that didn't experience a recurrence of the disease."
   ]
  },
  {
   "cell_type": "code",
   "execution_count": null,
   "id": "bc5b9d2a",
   "metadata": {},
   "outputs": [],
   "source": [
    "age_ = data['age'].value_counts()\n",
    "age_.plot.barh()"
   ]
  },
  {
   "cell_type": "markdown",
   "id": "46c537c8",
   "metadata": {},
   "source": [
    "Most patients in the dataset fall into the age group *40-59* which will probably result in a somewhat even value count of Pre-menopause (*premeno*) and Menopause (*lt40* and *ge40* are both values representing menopause)."
   ]
  },
  {
   "cell_type": "code",
   "execution_count": null,
   "id": "db78a99b",
   "metadata": {},
   "outputs": [],
   "source": [
    "menopause_ = data['menopause'].value_counts()\n",
    "menopause_.plot.barh()"
   ]
  },
  {
   "cell_type": "code",
   "execution_count": null,
   "id": "ba6f9089",
   "metadata": {},
   "outputs": [],
   "source": [
    "tumour_size_ = data['tumour_size'].value_counts()\n",
    "tumour_size_.plot.barh()"
   ]
  },
  {
   "cell_type": "markdown",
   "id": "c24b1113",
   "metadata": {},
   "source": [
    "```'tumour_size'``` is expressed in mm.<br>\n",
    "In the dataset, most tumour sizes fall into the *20mm-34mm* group."
   ]
  },
  {
   "cell_type": "code",
   "execution_count": null,
   "id": "c7a0065b",
   "metadata": {},
   "outputs": [],
   "source": [
    "inv_nodes_ = data['inv_nodes'].value_counts()\n",
    "inv_nodes_.plot.barh()"
   ]
  },
  {
   "cell_type": "markdown",
   "id": "1a87d120",
   "metadata": {},
   "source": [
    "Most number of lymph nodes that resulted invaded by the tumour fall into the group \"*0-2* lymph nodes invaded\"."
   ]
  },
  {
   "cell_type": "code",
   "execution_count": null,
   "id": "f7f03084",
   "metadata": {},
   "outputs": [],
   "source": [
    "node_caps_ = data['node_caps'].value_counts()\n",
    "node_caps_.plot.barh()"
   ]
  },
  {
   "cell_type": "markdown",
   "id": "bb37eb62",
   "metadata": {},
   "source": [
    "Most lymph nodes that were removed from the patient didn't result to have the capsule perforated."
   ]
  },
  {
   "cell_type": "code",
   "execution_count": null,
   "id": "a3731067",
   "metadata": {},
   "outputs": [],
   "source": [
    "deg_malig_ = data['deg_malig'].value_counts()\n",
    "deg_malig_.plot.barh()"
   ]
  },
  {
   "cell_type": "markdown",
   "id": "3db51aab",
   "metadata": {},
   "source": [
    "The most common degree of malignancy for the patients in the dataset is *2*."
   ]
  },
  {
   "cell_type": "code",
   "execution_count": null,
   "id": "4d44466f",
   "metadata": {},
   "outputs": [],
   "source": [
    "breast_ = data['breast'].value_counts()\n",
    "breast_.plot.barh()"
   ]
  },
  {
   "cell_type": "code",
   "execution_count": null,
   "id": "02a88868",
   "metadata": {},
   "outputs": [],
   "source": [
    "breast_quad_= data['breast_quad'].value_counts()\n",
    "breast_quad_.plot.barh()"
   ]
  },
  {
   "cell_type": "markdown",
   "id": "d5e9254e",
   "metadata": {},
   "source": [
    "The breast count is even *right* and *left* while the quadrant has a higher value count on the *left_up* and *left_low* group."
   ]
  },
  {
   "cell_type": "code",
   "execution_count": null,
   "id": "1b93bfee",
   "metadata": {},
   "outputs": [],
   "source": [
    "irrad_ = data['irrad'].value_counts()\n",
    "irrad_.plot.barh()"
   ]
  },
  {
   "cell_type": "markdown",
   "id": "249c3ed1",
   "metadata": {},
   "source": [
    "Most of the patients in this dataset didn't undergo Radiation Therapy.<br>\n",
    "<font size=\"3\">_*radiation therapy: a cancer treatment that uses high doses of radiation to kill cancer cells and shrink tumours.*_</font>"
   ]
  },
  {
   "cell_type": "markdown",
   "id": "5ff800ef",
   "metadata": {},
   "source": [
    "**Missing Values**<br>\n",
    "There were missing values on the dataset."
   ]
  },
  {
   "cell_type": "code",
   "execution_count": null,
   "id": "f3ef9d08",
   "metadata": {},
   "outputs": [],
   "source": [
    "# identify where the missing values are in the dataset\n",
    "data.isna().any()"
   ]
  },
  {
   "cell_type": "markdown",
   "id": "e1a43144",
   "metadata": {},
   "source": [
    "Both ```'node_caps'``` and ```'breast_quad'``` columns have missing values."
   ]
  },
  {
   "cell_type": "code",
   "execution_count": null,
   "id": "c5c9066f",
   "metadata": {},
   "outputs": [],
   "source": [
    "# find % of missing values per single attribute in the dataset\n",
    "nan = data.isna().sum()\n",
    "tot = data.count()\n",
    "perc = (nan*100)/tot"
   ]
  },
  {
   "cell_type": "code",
   "execution_count": null,
   "id": "124b2ef4",
   "metadata": {},
   "outputs": [],
   "source": [
    "perc"
   ]
  },
  {
   "cell_type": "markdown",
   "id": "8f624780",
   "metadata": {},
   "source": [
    "I will replace ```object``` attributes to ```int64``` to have valid data to train the machine learning model and to analyse the correlation between attributes.<br>\n",
    "So I will replace missing data with a value that won't be relevant to the analysis."
   ]
  },
  {
   "cell_type": "code",
   "execution_count": null,
   "id": "06509542",
   "metadata": {},
   "outputs": [],
   "source": [
    "# replace missing data \n",
    "data['node_caps'] = data['node_caps'].fillna(5)\n",
    "data['breast_quad'] = data['breast_quad'].fillna(8)"
   ]
  },
  {
   "cell_type": "markdown",
   "id": "09912daf",
   "metadata": {},
   "source": [
    "I will check outliers on the only numerical column in the dataset ```'deg_malig'```."
   ]
  },
  {
   "cell_type": "code",
   "execution_count": null,
   "id": "6d46046f",
   "metadata": {},
   "outputs": [],
   "source": [
    "# import the library\n",
    "import seaborn as sns"
   ]
  },
  {
   "cell_type": "code",
   "execution_count": null,
   "id": "ad057a82",
   "metadata": {},
   "outputs": [],
   "source": [
    "sns.boxplot(x=data['deg_malig'])"
   ]
  },
  {
   "cell_type": "markdown",
   "id": "be702c3c",
   "metadata": {},
   "source": [
    "Now I replace all DataFrame values into numerical values to convert column type from ```'object'``` to ```'int64'```."
   ]
  },
  {
   "cell_type": "code",
   "execution_count": null,
   "id": "ea44d052",
   "metadata": {},
   "outputs": [],
   "source": [
    "data['class'] = data['class'].replace(['no-recurrence-events','recurrence-events'], [0,1])\n",
    "data['age'] = data['age'].replace(['20-29', '30-39','40-49','50-59','60-69','70-79'],[0,1,2,3,4,5])\n",
    "data['menopause'] = data['menopause'].replace(['premeno','ge40','lt40'],[0,1,2])\n",
    "data['tumour_size'] = data['tumour_size'].replace(['0-4','5-9','10-14','15-19','20-24','25-29','30-34','35-39','40-44','45-49','50-54'],[0,1,2,3,4,5,6,7,8,9,10])\n",
    "data['inv_nodes'] = data['inv_nodes'].replace(['0-2','3-5','6-8','9-11','12-14','15-17','24-26'],[0,1,2,3,4,5,6])\n",
    "data['node_caps'] = data['node_caps'].replace(['no','yes'],[0,1])\n",
    "data['breast'] = data['breast'].replace(['left','right'],[0,1])\n",
    "data['breast_quad'] = data['breast_quad'].replace(['left_low','left_up','right_up','right_low','central'],[0,1,2,3,4])\n",
    "data['irrad'] = data['irrad'].replace(['no','yes'],[0,1])"
   ]
  },
  {
   "cell_type": "markdown",
   "id": "9f810684",
   "metadata": {},
   "source": [
    "A quick overview on the newly modified dataset using a histogram, respectively for ```'no-recurrence-events'``` and ```'recurrence-events'```."
   ]
  },
  {
   "cell_type": "code",
   "execution_count": null,
   "id": "52198448",
   "metadata": {},
   "outputs": [],
   "source": [
    "data.groupby('class').hist(figsize=(9,9))"
   ]
  },
  {
   "cell_type": "markdown",
   "id": "05f3ad28",
   "metadata": {},
   "source": [
    "### Correlation Between Attributes and Identification of Target Attributes"
   ]
  },
  {
   "cell_type": "markdown",
   "id": "7b5cb055",
   "metadata": {},
   "source": [
    "**Reference Information about Breast Cancer**"
   ]
  },
  {
   "cell_type": "markdown",
   "id": "ab9e31ae",
   "metadata": {},
   "source": [
    "According to the research paper *The incidence of Breast Cancer Recurrence 10-32 Years After Primary Diagnosis*, \"[...] **Women with high lymph node burden, large tumor size, and estrogen receptor–positive tumors had increased risk of late recurrence**.\"<br>\n",
    "<font size='2'>*(J Natl Cancer Inst. 2022 Mar; 114(3): 391–399. Published online 2021 Nov 8. doi: 10.1093/jnci/djab202 PMCID: PMC8902439PMID: 34747484)*</font>\n",
    "\n",
    "<br>\n",
    "\n",
    "According to the medical paper *Understanding ER-positive breast cancer*, \"[...] **Females with a longer lifetime exposure to estrogen and progesterone may have a higher risk of developing hormone receptor-positive breast cancer. This includes women who start menstruating early or reach menopause late**.\"<br>\n",
    "<font size='2'>*(Medically reviewed by Faith Selchick, DNP, AOCNP, Nursing, Oncology — By Jenna Fletcher on May 22, 2022)*</font>\n",
    "\n",
    "<br>\n",
    "\n",
    "According to the medical paper *Hormone therapy for breast cancer*, \"[...] **Hormone therapy following surgery, radiation or chemotherapy has been shown to reduce the risk of breast cancer recurrence in people with early-stage hormone-sensitive breast cancers. It can also effectively reduce the risk of metastatic breast cancer growth and progression in people with hormone-sensitive tumors**.\"<br>\n",
    "<font size='2'>*(https://www.mayoclinic.org/tests-procedures/hormone-therapy-for-breast-cancer/about/pac-20384943)*</font>\n",
    "\n",
    "<br>\n",
    "\n",
    "According to the medical paper *Radiotherapy for breast cancer*, \"[...] **People with a very low risk of the cancer coming back may only have port of the breast treated with radiotherapy. Or they may not have radiotherapy at all**.\"<br>\n",
    "<font size='2'>*(https://www.cancerresearchuk.org/about-cancer/breast-cancer/treatment/radiotherapy/radiotherapy-treatment)*</font>\n",
    "\n",
    "<br>\n",
    "\n",
    "\n",
    "According to the medical paper *What Types of Breast Cancer Have the Highest Recurrence Rates?*, \"[...] **Aggressive breast cancers are harder to treat, more likely to spread, and more likely to recur. The two types of breast cancer most likely to recur are inflammatory breast cancer (IBC) and triple-negative breast cancer (TNBC)**.\"<br>\n",
    "<font size='2'>*(Medically reviewed by Faith Selchick, DNP, AOCNP, Nursing, Oncology — By S. Behring on December 19, 2022)*</font>"
   ]
  },
  {
   "cell_type": "markdown",
   "id": "e929dcde",
   "metadata": {},
   "source": [
    "<br>\n",
    "\n",
    "**Target Attribute Identification**"
   ]
  },
  {
   "cell_type": "markdown",
   "id": "c530a7a4",
   "metadata": {},
   "source": [
    "The target attribute is ```'class'``` as the ML model should predict if a patient is likely to experience a recurrence of Breast Cancer."
   ]
  },
  {
   "cell_type": "markdown",
   "id": "86d608b0",
   "metadata": {},
   "source": [
    "<br>\n",
    "\n",
    "**Correlation Between Attributes**"
   ]
  },
  {
   "cell_type": "code",
   "execution_count": null,
   "id": "703b264d",
   "metadata": {},
   "outputs": [],
   "source": [
    "# compute the correlation between attributes\n",
    "data.corr()"
   ]
  },
  {
   "cell_type": "markdown",
   "id": "8fc29afc",
   "metadata": {},
   "source": [
    "There is an evident correlation between ```'age'``` and ```'menopause'```, for obvious reasons.<br>\n",
    "```'node_caps'```, ```'inv_nodes'```, ```'deg_malig'``` and ```'irrad'```are also correlated.<br>\n",
    "\n",
    "I want to visualize the correlations using a Heatmap."
   ]
  },
  {
   "cell_type": "code",
   "execution_count": null,
   "id": "7ac3844d",
   "metadata": {},
   "outputs": [],
   "source": [
    "fig, ax = plt.subplots(figsize=(10,10)) \n",
    "sns.heatmap(data.corr(), cmap='BrBG', annot=True, linewidth=.5)"
   ]
  },
  {
   "cell_type": "markdown",
   "id": "85aba5c5",
   "metadata": {},
   "source": [
    "Before analyzing the correlations between the attributes, I want to visualize the correlation between the target attribute ```'class'``` and the other attributes of the dataset."
   ]
  },
  {
   "cell_type": "code",
   "execution_count": null,
   "id": "45177ba2",
   "metadata": {},
   "outputs": [],
   "source": [
    "fig, ax = plt.subplots(figsize=(10,10))\n",
    "sns.heatmap(data.corr()[['class']].sort_values(\n",
    "    by='class', ascending=False),annot=True,cmap='BrBG')"
   ]
  },
  {
   "cell_type": "markdown",
   "id": "4e58c83c",
   "metadata": {},
   "source": [
    "The highest correlation with the target attribute ```'class'``` (*recurrence or not recurrence event*) is the degree of malignancy ```'deg_malig'``` of the tumour.<br>\n",
    "\n",
    "As stated earlier, *aggressive breast cancers are harder to treat, more likely to spread and more likely to reoccur*. I notice also that the number of invaded lymph nodes ```'inv_nodes'``` is highly correlated with the ```'class'``` as well as ```'node_caps'``` (*whether the tumor penetrated in the lumph node capsule*), preceding ```'irrad'``` in the correlation heatmap. "
   ]
  },
  {
   "cell_type": "markdown",
   "id": "a5d0391d",
   "metadata": {},
   "source": [
    "I want to dig deeper into the correlation between the target attribute and the *degree of malignancy* of the tumour.<br>\n",
    "One hypothesis is that the more aggressive cancer is the more likely the patient will experience recurrence."
   ]
  },
  {
   "cell_type": "code",
   "execution_count": null,
   "id": "cd8cb075",
   "metadata": {},
   "outputs": [],
   "source": [
    "from IPython.display import display"
   ]
  },
  {
   "cell_type": "markdown",
   "id": "92b33b51",
   "metadata": {},
   "source": [
    "<ins>*for Giovanni Notes*:</ins> *'from IPython.display import display'* is only used in the *corr_analysis* function to visualize the table in a standard Jupyther Notebook format.<br>\n",
    "\n",
    "<ins>*for Giovanni Notes*:</ins> I created a series of functions to make correlation analysis between attributes easier as I am performing the same tasks for each pair of attributes."
   ]
  },
  {
   "cell_type": "code",
   "execution_count": null,
   "id": "0195ee64",
   "metadata": {},
   "outputs": [],
   "source": [
    "# create functions to analyse correlations between attributes including crosstab(), heatmap(), plot()\n",
    "def corr_analysis(x,y):\n",
    "    display(crosstab(x,y))\n",
    "    heatmap(x,y)\n",
    "    plot(crosstab(x,y),x,y)\n",
    "    return \n",
    "\n",
    "\n",
    "# create a crosstab\n",
    "def crosstab(x,y):\n",
    "    crosstab = pd.crosstab(\n",
    "                    data[x],\n",
    "                    data[y],\n",
    "                    margins=True,\n",
    "                    normalize=True,\n",
    "                )\n",
    "    return crosstab\n",
    "\n",
    "\n",
    "# visualize the correlation in the crosstab using a heatmap\n",
    "def heatmap(x,y):\n",
    "    heatmap = sns.heatmap(pd.crosstab(data[x], data[y]), cmap=\"YlGnBu\", annot=True)\n",
    "    return heatmap\n",
    "\n",
    "    \n",
    "# plot the crosstab\n",
    "def plot(crosstab, x, y):\n",
    "    crosstab.plot.bar(rot=0, width=0.4)\n",
    "    x = str(x)\n",
    "    y = str(y)\n",
    "    plt.xlabel(x)\n",
    "    plt.ylabel(\"Correlation %\")\n",
    "    plt.title('Correlation Plot Between '+ x +' and '+ y)\n",
    "    return"
   ]
  },
  {
   "cell_type": "code",
   "execution_count": null,
   "id": "bb644cb7",
   "metadata": {},
   "outputs": [],
   "source": [
    "# run the function with 'class' and 'deg_malig'\n",
    "corr_analysis('class', 'deg_malig')"
   ]
  },
  {
   "cell_type": "markdown",
   "id": "08e3e32f",
   "metadata": {},
   "source": [
    "By a quick look at the barplot, there is a proportional correlation between the aggressiveness of the tumour and the recurrence event.<br>\n",
    "I want to dig deeper into that and see if the **proportion of patients having the highest degree of malignancy over all the patients of that class had a recurrence event higher than the patient who didn't experience recurrence**."
   ]
  },
  {
   "cell_type": "markdown",
   "id": "5bbf7267",
   "metadata": {},
   "source": [
    "<ins>*for Giovanni Notes*:</ins> I created a series of function to make proportion calculations between attribute values easier as I am performing the same tasks for each pair of attributes."
   ]
  },
  {
   "cell_type": "code",
   "execution_count": null,
   "id": "2e0ba461",
   "metadata": {},
   "outputs": [],
   "source": [
    "# function to calculate proportion based on attribute values\n",
    "def proportion(x,x_n,y,y_n):\n",
    "    tot = data[data[x]==x_n]\n",
    "    part = tot[tot[y]==y_n]\n",
    "    part = part[x].value_counts()\n",
    "    tot = tot[x].value_counts()\n",
    "    result = round(((part / tot) *100), 2)\n",
    "    result = float(result)\n",
    "    return result"
   ]
  },
  {
   "cell_type": "markdown",
   "id": "cd35d6f8",
   "metadata": {},
   "source": [
    "<ins>*for Giovanni Notes*:</ins> I am saving the proportion() results into bp_n _n+1 to plot the results later"
   ]
  },
  {
   "cell_type": "code",
   "execution_count": null,
   "id": "560acf50",
   "metadata": {},
   "outputs": [],
   "source": [
    "bp1 = proportion('deg_malig',3,'class',1)\n",
    "print(bp1,\"% of patients who got the tumour with the highest aggressiveness experienced a recurrence\")"
   ]
  },
  {
   "cell_type": "code",
   "execution_count": null,
   "id": "bcbbcf74",
   "metadata": {},
   "outputs": [],
   "source": [
    "bp2 = proportion('deg_malig',1,'class',0)\n",
    "print(bp2,\"% of patients who got the tumour with the lowest aggressiveness didn't experience a recurrence\")"
   ]
  },
  {
   "cell_type": "markdown",
   "id": "ee81ed9c",
   "metadata": {},
   "source": [
    "**46.43%** of patients who got the tumour with the highest aggressiveness didn't experience a recurrence while **16.9%** of patients who got the tumour with the lowest aggressiveness did experience a recurrence.<br>\n",
    "In the bar plot I notice a high proportion of degree type 2 for the patients class who didn't experience recurrence."
   ]
  },
  {
   "cell_type": "code",
   "execution_count": null,
   "id": "4f2d8b19",
   "metadata": {},
   "outputs": [],
   "source": [
    "bp3 = proportion('deg_malig',2,'class',0)\n",
    "print(bp3,\"% of patients who got the tumour with 2 degrees of malignancy didn't experienced a recurrence\")"
   ]
  },
  {
   "cell_type": "code",
   "execution_count": null,
   "id": "9cda2dc0",
   "metadata": {},
   "outputs": [],
   "source": [
    "plt.barh(['high aggressiveness, yes recurrence','lowest aggressiveness, no recurrence', 'medium aggressiveness, no recurrence'], [bp1,bp2,bp3], color='maroon')\n",
    "plt.xlim(0, 100)\n",
    "plt.show()"
   ]
  },
  {
   "cell_type": "markdown",
   "id": "7e81d124",
   "metadata": {},
   "source": [
    "For the median degree of malignancy (type 2), a total of **21.54%** of patients experienced a recurrence.<br>\n",
    "\n",
    "From this quick analysis, I can say that the correlation between aggressiveness of the tumour and probability of recurrence is stronger for low degrees of malignancy. It isn't a only factor for high degrees of aggressiveness."
   ]
  },
  {
   "cell_type": "markdown",
   "id": "68a68b13",
   "metadata": {},
   "source": [
    "Generally, the more aggressive (*malignant*) is the tumour the more it will spread and attack lymph nodes. For the same reason, there will be a higher percentage of patients with tumour that penetrated the lymph nodes capsule. <br>\n",
    "\n",
    "Usually for biopsy, about 10 to 40 nodes that contain cancer cells are removed for analysis. If the lymph node has a very low to no cancer cells count it is usually not removed and the patient has to undergo further therapies, such as Radiation Therapy.\n",
    "\n",
    "<font size=\"3\">_*biopsy: an examination of tissue removed from a living body to discover the presence, cause, or extent of a disease.*_</font>"
   ]
  },
  {
   "cell_type": "markdown",
   "id": "bb8978f7",
   "metadata": {},
   "source": [
    "I want to dig deeper into the correlation between ```'class'``` with ```'inv_nodes'``` and ```'node_caps'```."
   ]
  },
  {
   "cell_type": "code",
   "execution_count": null,
   "id": "109190ba",
   "metadata": {},
   "outputs": [],
   "source": [
    "corr_analysis('class', 'inv_nodes')"
   ]
  },
  {
   "cell_type": "code",
   "execution_count": null,
   "id": "1ebab83c",
   "metadata": {},
   "outputs": [],
   "source": [
    "corr_analysis('class', 'node_caps')"
   ]
  },
  {
   "cell_type": "markdown",
   "id": "86ee3d23",
   "metadata": {},
   "source": [
    "By a quick look at the two barplots, there seems to be a proportional correlation between the number of lymph nodes, whether they had the capsule pierced and the recurrence class.<br>\n",
    "\n",
    "I want to dig deeper into that. I want to see if the **proportion of patients having a high invasion of lymph nodes count had higher capsules pierced over all the patients that had pierced lymph node capsules**."
   ]
  },
  {
   "cell_type": "code",
   "execution_count": null,
   "id": "8c9a6693",
   "metadata": {},
   "outputs": [],
   "source": [
    "corr_analysis('inv_nodes', 'node_caps')"
   ]
  },
  {
   "cell_type": "code",
   "execution_count": null,
   "id": "b1726a24",
   "metadata": {},
   "outputs": [],
   "source": [
    "# run through a while loop to iterate proportion() for 7 times\n",
    "count = 0  \n",
    "lis = [] # list to append results and plot later\n",
    "\n",
    "while count < 7:\n",
    "    res = proportion('inv_nodes',count,'node_caps',1)\n",
    "    print(res,\"% of patients who got group\",count,'lymph nodes and had lymph nodes with pierced capsule')\n",
    "    lis.append(res)\n",
    "    count +=1"
   ]
  },
  {
   "cell_type": "markdown",
   "id": "1643f851",
   "metadata": {},
   "source": [
    "<ins>*for Giovanni Notes*:</ins> inv_nodes values are divided into 7 different groups so iterated the function for each group"
   ]
  },
  {
   "cell_type": "code",
   "execution_count": null,
   "id": "4737f546",
   "metadata": {},
   "outputs": [],
   "source": [
    "yax = np.array(lis)\n",
    "plt.plot(yax, color = 'r')\n",
    "plt.show()"
   ]
  },
  {
   "cell_type": "markdown",
   "id": "476ab7c9",
   "metadata": {},
   "source": [
    "The more the number of invaded lymph nodes the more likely their capsule will be perforated.<br>\n",
    "What is the correlation with number of invaded lymph nodes, nodes with pierced capsule and a recurrence event?\n",
    "\n",
    "I want to dig into that by computing the **proportion of patients with degree of malignancy 3 and group number of invaded nodes over all patients of that class**."
   ]
  },
  {
   "cell_type": "code",
   "execution_count": null,
   "id": "7aeebbc0",
   "metadata": {},
   "outputs": [],
   "source": [
    "corr_analysis('inv_nodes', 'deg_malig')"
   ]
  },
  {
   "cell_type": "code",
   "execution_count": null,
   "id": "4aa0cb80",
   "metadata": {},
   "outputs": [],
   "source": [
    "# run through a while loop to iterate proportion() for 7 times\n",
    "count = 0  \n",
    "lis = [] # list to append results and plot later\n",
    "\n",
    "while count < 7:\n",
    "    res = proportion('inv_nodes',count,'deg_malig',3)\n",
    "    print(res,\"% of patients who got group\",count,'lymph nodes and had degree of malignancy type 3')\n",
    "    lis.append(res)\n",
    "    count +=1"
   ]
  },
  {
   "cell_type": "code",
   "execution_count": null,
   "id": "3b1fd874",
   "metadata": {},
   "outputs": [],
   "source": [
    "yax = np.array(lis)\n",
    "plt.plot(yax, color = 'r')\n",
    "plt.show()"
   ]
  },
  {
   "cell_type": "markdown",
   "id": "5530efb0",
   "metadata": {},
   "source": [
    "For all patients having the highes degree of malignancy, there is a bigger portion having more invaded lymph nodes."
   ]
  },
  {
   "cell_type": "code",
   "execution_count": null,
   "id": "f5e6e6d0",
   "metadata": {},
   "outputs": [],
   "source": [
    "corr_analysis('deg_malig', 'node_caps')"
   ]
  },
  {
   "cell_type": "markdown",
   "id": "e91f00cc",
   "metadata": {},
   "source": [
    "Radiation as a therapy is not mandatory for every patient. It is used to reduce the patient's risk of breast cancer recurring after surgery. It is also commonly used to ease the symptoms caused by cancer that has spread to other parts of the body (*metastatic breast cancer*).<br>\n",
    "\n",
    "I want to see the correlation between ```'class'``` and ```'irrad'```."
   ]
  },
  {
   "cell_type": "code",
   "execution_count": null,
   "id": "8ebb811e",
   "metadata": {},
   "outputs": [],
   "source": [
    "corr_analysis('class', 'irrad')"
   ]
  },
  {
   "cell_type": "code",
   "execution_count": null,
   "id": "d9fef4a7",
   "metadata": {},
   "outputs": [],
   "source": [
    "bp1 = proportion('irrad',1,'class',0)\n",
    "print(bp1,\"% of patients that got radiation therapy and didn't experience recurrence later on\")"
   ]
  },
  {
   "cell_type": "code",
   "execution_count": null,
   "id": "60c07884",
   "metadata": {},
   "outputs": [],
   "source": [
    "bp2 = proportion('irrad',0,'class',1)\n",
    "print(bp2,\"% of patients that didn't get radiation therapy and experienced recurrence later on\")"
   ]
  },
  {
   "cell_type": "code",
   "execution_count": null,
   "id": "ca6db12b",
   "metadata": {},
   "outputs": [],
   "source": [
    "plt.barh(['yes radiation, no recurrence','no radiation, yes recurrence'], [bp1,bp2], color='maroon')\n",
    "plt.xlim(0, 100)\n",
    "plt.show()"
   ]
  },
  {
   "cell_type": "markdown",
   "id": "4b5266aa",
   "metadata": {},
   "source": [
    "There are about 45.59% of patients that got radiation therapy and still experienced recurrence later on and about 75.12% of patients that didn't get radiation therapy and didn't experience recurrence.<br>\n",
    "\n",
    "I can assume that radiation therapy prevents recurrence but not for all patients.\n",
    "\n",
    "There is clearly a higher proportion of patient that got radiation therapy ```'irrad' == 1``` and still experienced a recurrence of the disease ```'class' == 1```.<br>\n",
    "**According to this dataset, undergoing radiation therapy isn't enough to prevent recurrence.**\n",
    "\n",
    "I want to visualize the correlation between ```'class'``` and ```'tumour_size'```."
   ]
  },
  {
   "cell_type": "code",
   "execution_count": null,
   "id": "91f311fb",
   "metadata": {},
   "outputs": [],
   "source": [
    "corr_analysis('tumour_size', 'class')"
   ]
  },
  {
   "cell_type": "code",
   "execution_count": null,
   "id": "f1881ce5",
   "metadata": {},
   "outputs": [],
   "source": [
    "# run through a while loop to iterate proportion() for 11 times\n",
    "count = 0  \n",
    "lis = [] # list to append results and plot later\n",
    "\n",
    "while count < 11:\n",
    "    res = proportion('tumour_size',count,'class',1)\n",
    "    print(res,\"% of patients who had group\",count,'tumour size and experienced a recurrence event')\n",
    "    lis.append(res)\n",
    "    count +=1"
   ]
  },
  {
   "cell_type": "code",
   "execution_count": null,
   "id": "ac258354",
   "metadata": {},
   "outputs": [],
   "source": [
    "# replace nan value to 0.0 ans store to new list f_lis\n",
    "import math\n",
    "f_lis = []\n",
    "\n",
    "for n in lis:\n",
    "    if math.isnan(n):\n",
    "        n=0.0\n",
    "        f_lis.append(n)\n",
    "    else:\n",
    "        f_lis.append(n)"
   ]
  },
  {
   "cell_type": "code",
   "execution_count": null,
   "id": "55ba26fa",
   "metadata": {},
   "outputs": [],
   "source": [
    "yax = np.array(f_lis)\n",
    "plt.plot(yax, color = 'r')\n",
    "plt.show()"
   ]
  },
  {
   "cell_type": "markdown",
   "id": "32c9df1a",
   "metadata": {},
   "source": [
    "The higher the size of the tumour the more proportion of patients that experienced recurrence.<br>\n",
    "I want to compute the same proportion looking at the aggressiveness of the tumour and its size."
   ]
  },
  {
   "cell_type": "code",
   "execution_count": null,
   "id": "3afe3aa8",
   "metadata": {},
   "outputs": [],
   "source": [
    "# run through a while loop to iterate proportion() for 11 times\n",
    "count = 0  \n",
    "lis = [] # list to append results and plot later\n",
    "\n",
    "while count < 11:\n",
    "    res = proportion('tumour_size',count,'deg_malig',1)\n",
    "    print(res,\"% of patients who had group\",count,'tumour size and lowest degree of malignancy')\n",
    "    lis.append(res)\n",
    "    count +=1"
   ]
  },
  {
   "cell_type": "code",
   "execution_count": null,
   "id": "94dc6677",
   "metadata": {},
   "outputs": [],
   "source": [
    "yax = np.array(lis)\n",
    "plt.plot(yax, color = 'r')\n",
    "plt.show()"
   ]
  },
  {
   "cell_type": "markdown",
   "id": "9de0f538",
   "metadata": {},
   "source": [
    "<ins>*for Giovanni Notes*:</ins> There is an unexpected peak at 9 group tumour size. I don't feel is relevant."
   ]
  },
  {
   "cell_type": "code",
   "execution_count": null,
   "id": "5aa81411",
   "metadata": {},
   "outputs": [],
   "source": [
    "# run through a while loop to iterate proportion() for 11 times\n",
    "count = 0  \n",
    "lis = [] # list to append results and plot later\n",
    "\n",
    "while count < 11:\n",
    "    res = proportion('tumour_size',count,'deg_malig',3)\n",
    "    print(res,\"% of patients who had group\",count,'tumour size and highest degree of malignancy')\n",
    "    lis.append(res)\n",
    "    count +=1"
   ]
  },
  {
   "cell_type": "code",
   "execution_count": null,
   "id": "751791d1",
   "metadata": {},
   "outputs": [],
   "source": [
    "# replace nan value to 0.0 ans store to new list f_lis\n",
    "import math\n",
    "f_lis = []\n",
    "\n",
    "for n in lis:\n",
    "    if math.isnan(n):\n",
    "        n=0.0\n",
    "        f_lis.append(n)\n",
    "    else:\n",
    "        f_lis.append(n)"
   ]
  },
  {
   "cell_type": "code",
   "execution_count": null,
   "id": "213eabf9",
   "metadata": {},
   "outputs": [],
   "source": [
    "yax = np.array(f_lis)\n",
    "plt.plot(yax, color = 'r')\n",
    "plt.show()"
   ]
  },
  {
   "cell_type": "markdown",
   "id": "7f8ef2a6",
   "metadata": {},
   "source": [
    "The size of the tumour is higher in value for patients with high aggressiveness than patients with low aggressiveness.<br>\n",
    "\n",
    "From this exploratory analysis I can conclude that, in fact:\n",
    "- high aggressiveness is linked with probability of recurrence of the tumour.\n",
    "- high number of invaded lymph nodes results in high probability that their caps will be perforated by the tumour.\n",
    "- the highest the aggressiveness the more lymph nodes will be invaded by the tumour.\n",
    "- patients who get radiation are less likely to experience recurrence, but that is not the case for all patients.\n",
    "- tumour size, aggressiveness and recurrence events are linked. The more aggressive is the tumour, the more it will be in size and the higher the probability to experience a recurrence."
   ]
  },
  {
   "cell_type": "markdown",
   "id": "ec3896fe",
   "metadata": {},
   "source": [
    "<ins>*for Giovanni Notes*:</ins> I didn't investigate:\n",
    "- menopause with aggressiveness and recurrence as I don't feel I have enough relevant data to evaluate if *longer exposure to estrogen results in higher rate of breast cancer appearing and recurrence*.\n",
    "- left or right breast nor the quadrant."
   ]
  },
  {
   "cell_type": "markdown",
   "id": "fabe71ee",
   "metadata": {},
   "source": [
    "\n",
    "> For further insights about this data and real-time updates check out **my Dash dashboard** deployed on **Amazon Web Services** using AWS Elastic Beanstalk:<br>\n",
    "http://dashboardbreastcanceranalysis-env.eba-cpv243mm.eu-west-2.elasticbeanstalk.com/\n"
   ]
  },
  {
   "cell_type": "markdown",
   "id": "9b002dab",
   "metadata": {},
   "source": [
    "<ins>*for Giovanni Notes*:</ins> my code and requirement ```.txt``` file are inside the repository respectively named ```application.py``` and ```requirements.txt```"
   ]
  },
  {
   "cell_type": "markdown",
   "id": "444fcb78",
   "metadata": {},
   "source": [
    "## Feature Selection"
   ]
  },
  {
   "cell_type": "markdown",
   "id": "b4e31d86",
   "metadata": {},
   "source": [
    "The target variable is ```'class'``` as the output of the model should be wether or note the patient is subject to recurrence of the disease.<br>\n",
    "\n",
    "I want to proceed with feature selection to understand the most important features for the model. "
   ]
  },
  {
   "cell_type": "code",
   "execution_count": null,
   "id": "d29dd4a2",
   "metadata": {},
   "outputs": [],
   "source": [
    "# Independent and dependent variables\n",
    "y = data['class']\n",
    "X = data.drop(['class'], axis = 1)"
   ]
  },
  {
   "cell_type": "code",
   "execution_count": null,
   "id": "6a589dd2",
   "metadata": {},
   "outputs": [],
   "source": [
    "from sklearn.model_selection import train_test_split\n",
    "# Split into train and test data\n",
    "X_train, X_test, y_train, y_test = train_test_split(X, y, random_state=42, test_size=0.33)    "
   ]
  },
  {
   "cell_type": "code",
   "execution_count": null,
   "id": "e0ca0ed8",
   "metadata": {},
   "outputs": [],
   "source": [
    "# vsualize the correlation between train features with a heatmap\n",
    "cor = X_train.corr()\n",
    "plt.figure(figsize=(12,12))\n",
    "sns.heatmap(cor, cmap=\"YlGnBu\", annot=True)\n",
    "plt.show()  "
   ]
  },
  {
   "cell_type": "markdown",
   "id": "58a11dab",
   "metadata": {},
   "source": [
    "#### Feature Selection Using Random Forest Classifier"
   ]
  },
  {
   "cell_type": "code",
   "execution_count": null,
   "id": "ae6b7231",
   "metadata": {},
   "outputs": [],
   "source": [
    "from sklearn.ensemble import RandomForestClassifier\n",
    "\n",
    "clf = RandomForestClassifier()\n",
    "clf.fit(X_train,y_train)\n",
    "\n",
    "plt.figure(figsize=(12,12))\n",
    "plt.bar(X_train.columns, clf.feature_importances_)\n",
    "plt.xticks(rotation=45)"
   ]
  },
  {
   "cell_type": "markdown",
   "id": "210fe01f",
   "metadata": {},
   "source": [
    "The above histogram shows the importance of each feature.<br>\n",
    "In this case, ```'tumour_size'```, ```'age'```, ```'breast_quad'``` and ```'deg_malig'``` have the highest importance."
   ]
  },
  {
   "cell_type": "markdown",
   "id": "56685f3d",
   "metadata": {},
   "source": [
    "#### Training different models to evaluate performance"
   ]
  },
  {
   "cell_type": "code",
   "execution_count": null,
   "id": "427a1d52",
   "metadata": {},
   "outputs": [],
   "source": [
    "# import the libraries\n",
    "from sklearn.metrics import accuracy_score\n",
    "from sklearn import metrics\n",
    "\n",
    "from sklearn.linear_model import LogisticRegression\n",
    "from sklearn.neighbors import KNeighborsRegressor\n",
    "from sklearn.naive_bayes import GaussianNB\n",
    "from sklearn.tree import DecisionTreeClassifier"
   ]
  },
  {
   "cell_type": "markdown",
   "id": "5c4743d0",
   "metadata": {},
   "source": [
    "<ins>*for Giovanni Notes*:</ins> I created a quick function to view the metrics of all the models I chose to evaluate."
   ]
  },
  {
   "cell_type": "code",
   "execution_count": null,
   "id": "36b954c0",
   "metadata": {},
   "outputs": [],
   "source": [
    "# create function\n",
    "def model_metrics(model):\n",
    "    model=model\n",
    "    model.fit(X_train,y_train)\n",
    "    y_pred = model.predict(X_test)\n",
    "    print(model,'score:',round(model.score(X_train,y_train),4))\n",
    "    mae = metrics.mean_absolute_error(y_test, y_pred)\n",
    "    mse = metrics.mean_squared_error(y_test, y_pred)\n",
    "    print(model,'mean squared error:',round(mse,4))\n",
    "    print(model,'mean absolute error:',round(mae,4),'\\n')"
   ]
  },
  {
   "cell_type": "code",
   "execution_count": null,
   "id": "1d87a3e4",
   "metadata": {},
   "outputs": [],
   "source": [
    "# store the models to evaluate into a list\n",
    "models_list = [RandomForestClassifier(),LogisticRegression(),KNeighborsRegressor(n_neighbors=1),GaussianNB(),DecisionTreeClassifier()]"
   ]
  },
  {
   "cell_type": "code",
   "execution_count": null,
   "id": "3733ca01",
   "metadata": {},
   "outputs": [],
   "source": [
    "# iterate through the list\n",
    "for model in models_list:\n",
    "    model_metrics(model)"
   ]
  },
  {
   "cell_type": "markdown",
   "id": "47dc9903",
   "metadata": {},
   "source": [
    "##### Cross-validation "
   ]
  },
  {
   "cell_type": "code",
   "execution_count": null,
   "id": "8ca40ab5",
   "metadata": {},
   "outputs": [],
   "source": [
    "from sklearn.model_selection import KFold, cross_val_score\n",
    "import statistics\n",
    "\n",
    "k_f = KFold(n_splits=10, shuffle=True)"
   ]
  },
  {
   "cell_type": "code",
   "execution_count": null,
   "id": "6efebd90",
   "metadata": {},
   "outputs": [],
   "source": [
    "def crossvalidation_score(model):\n",
    "    model_score = cross_val_score(model, X, y, cv =k_f, scoring='accuracy')\n",
    "    print('----',model,':','----')\n",
    "    print(model_score,'\\n')\n",
    "    print('Mean:',model_score.mean())\n",
    "    print('Standard Deviation:',statistics.stdev(model_score), '\\n')"
   ]
  },
  {
   "cell_type": "code",
   "execution_count": null,
   "id": "7f6ba691",
   "metadata": {},
   "outputs": [],
   "source": [
    "# iterate through the list\n",
    "for model in models_list:\n",
    "    crossvalidation_score(model)"
   ]
  },
  {
   "cell_type": "markdown",
   "id": "5bea5e66",
   "metadata": {},
   "source": [
    "There is more data I would integrate in the prediction model to increase real-world applications and prediction precision:\n",
    "- Biometric Data\n",
    "- Genetic Data"
   ]
  }
 ],
 "metadata": {
  "kernelspec": {
   "display_name": "Python 3 (ipykernel)",
   "language": "python",
   "name": "python3"
  },
  "language_info": {
   "codemirror_mode": {
    "name": "ipython",
    "version": 3
   },
   "file_extension": ".py",
   "mimetype": "text/x-python",
   "name": "python",
   "nbconvert_exporter": "python",
   "pygments_lexer": "ipython3",
   "version": "3.9.6"
  },
  "vscode": {
   "interpreter": {
    "hash": "bd87b69d6fc76c572fede75f7bc461ac068fdc8b40cdeead53c03d51dc6c0c1e"
   }
  }
 },
 "nbformat": 4,
 "nbformat_minor": 5
}
