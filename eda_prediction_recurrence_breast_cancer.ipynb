{
 "cells": [
  {
   "cell_type": "markdown",
   "metadata": {},
   "source": [
    "# Breast Cancer Recurrence Prediction using Machine Learning"
   ]
  },
  {
   "cell_type": "markdown",
   "metadata": {},
   "source": [
    "## Exploratory Data Analysis"
   ]
  },
  {
   "cell_type": "markdown",
   "metadata": {},
   "source": [
    "### Dataset"
   ]
  },
  {
   "cell_type": "markdown",
   "metadata": {},
   "source": [
    "The data is provided as two separate ```.data``` files<br>\n",
    "- ```breast-cancer.data```, containing the dataset \n",
    "- ```breast-cancer.names```, containing relevant informations about the dataset"
   ]
  },
  {
   "cell_type": "code",
   "execution_count": 1,
   "metadata": {},
   "outputs": [],
   "source": [
    "# import libraries\n",
    "import matplotlib.pyplot as plt\n",
    "import numpy as np\n",
    "import pandas as pd\n",
    "\n",
    "from statsmodels.stats.power import TTestIndPower\n",
    "from scipy import stats\n",
    "import warnings\n",
    "import missingno as msno\n",
    "\n",
    "from sklearn.model_selection import train_test_split\n",
    "\n",
    "pd.set_option('display.max_colwidth', None) #setting max colwidth to view the entire dataset when using the print() command\n",
    "from IPython.display import display\n",
    "%matplotlib inline\n",
    "import matplotlib.patches as mpatches\n",
    "\n",
    "\n",
    "# set random seed\n",
    "np.random.seed(42)"
   ]
  },
  {
   "cell_type": "code",
   "execution_count": 2,
   "metadata": {},
   "outputs": [
    {
     "data": {
      "text/html": [
       "<div>\n",
       "<style scoped>\n",
       "    .dataframe tbody tr th:only-of-type {\n",
       "        vertical-align: middle;\n",
       "    }\n",
       "\n",
       "    .dataframe tbody tr th {\n",
       "        vertical-align: top;\n",
       "    }\n",
       "\n",
       "    .dataframe thead th {\n",
       "        text-align: right;\n",
       "    }\n",
       "</style>\n",
       "<table border=\"1\" class=\"dataframe\">\n",
       "  <thead>\n",
       "    <tr style=\"text-align: right;\">\n",
       "      <th></th>\n",
       "      <th>class</th>\n",
       "      <th>age</th>\n",
       "      <th>menopause</th>\n",
       "      <th>tumour_size</th>\n",
       "      <th>inv_nodes</th>\n",
       "      <th>node_caps</th>\n",
       "      <th>deg_malig</th>\n",
       "      <th>breast</th>\n",
       "      <th>breast_quad</th>\n",
       "      <th>irrad</th>\n",
       "    </tr>\n",
       "  </thead>\n",
       "  <tbody>\n",
       "    <tr>\n",
       "      <th>0</th>\n",
       "      <td>no-recurrence-events</td>\n",
       "      <td>30-39</td>\n",
       "      <td>premeno</td>\n",
       "      <td>30-34</td>\n",
       "      <td>0-2</td>\n",
       "      <td>no</td>\n",
       "      <td>3</td>\n",
       "      <td>left</td>\n",
       "      <td>left_low</td>\n",
       "      <td>no</td>\n",
       "    </tr>\n",
       "    <tr>\n",
       "      <th>1</th>\n",
       "      <td>no-recurrence-events</td>\n",
       "      <td>40-49</td>\n",
       "      <td>premeno</td>\n",
       "      <td>20-24</td>\n",
       "      <td>0-2</td>\n",
       "      <td>no</td>\n",
       "      <td>2</td>\n",
       "      <td>right</td>\n",
       "      <td>right_up</td>\n",
       "      <td>no</td>\n",
       "    </tr>\n",
       "    <tr>\n",
       "      <th>2</th>\n",
       "      <td>no-recurrence-events</td>\n",
       "      <td>40-49</td>\n",
       "      <td>premeno</td>\n",
       "      <td>20-24</td>\n",
       "      <td>0-2</td>\n",
       "      <td>no</td>\n",
       "      <td>2</td>\n",
       "      <td>left</td>\n",
       "      <td>left_low</td>\n",
       "      <td>no</td>\n",
       "    </tr>\n",
       "  </tbody>\n",
       "</table>\n",
       "</div>"
      ],
      "text/plain": [
       "                  class    age menopause tumour_size inv_nodes node_caps  \\\n",
       "0  no-recurrence-events  30-39   premeno       30-34       0-2        no   \n",
       "1  no-recurrence-events  40-49   premeno       20-24       0-2        no   \n",
       "2  no-recurrence-events  40-49   premeno       20-24       0-2        no   \n",
       "\n",
       "   deg_malig breast breast_quad irrad  \n",
       "0          3   left    left_low    no  \n",
       "1          2  right    right_up    no  \n",
       "2          2   left    left_low    no  "
      ]
     },
     "execution_count": 2,
     "metadata": {},
     "output_type": "execute_result"
    }
   ],
   "source": [
    "# import and preview the dataset\n",
    "data = pd.read_csv('./dataset/breast-cancer.data', header=None)\n",
    "data.columns = ['class', 'age', 'menopause', 'tumour_size', 'inv_nodes', 'node_caps', 'deg_malig', 'breast', 'breast_quad', 'irrad']\n",
    "data.head(3)"
   ]
  },
  {
   "cell_type": "code",
   "execution_count": 3,
   "metadata": {},
   "outputs": [],
   "source": [
    "# replace missing values from ? to np.NaN\n",
    "data = data.replace(\"?\", np.nan)"
   ]
  },
  {
   "cell_type": "markdown",
   "metadata": {},
   "source": [
    "### Power Analysis"
   ]
  },
  {
   "cell_type": "markdown",
   "metadata": {},
   "source": [
    "I want to determine if the available data points included in the provided dataset are enough to successfully train a model for the objective stated.<br>\n",
    "For this prediction model, I want to avoid as much as possible false positives and especially false negatives.<br>\n",
    "I will use power analysis and set:\n",
    "- Effect Size to 0.5\n",
    "- Alpha to 0.001\n",
    "- Power to 0.9\n",
    "\n",
    "Most of the features are categorical type data. To run the power analysis I will need to store the dataset into a new variable ```power_analysis``` and convert the categorical data type to numerical data type. "
   ]
  },
  {
   "cell_type": "code",
   "execution_count": 4,
   "metadata": {},
   "outputs": [
    {
     "data": {
      "text/html": [
       "<div>\n",
       "<style scoped>\n",
       "    .dataframe tbody tr th:only-of-type {\n",
       "        vertical-align: middle;\n",
       "    }\n",
       "\n",
       "    .dataframe tbody tr th {\n",
       "        vertical-align: top;\n",
       "    }\n",
       "\n",
       "    .dataframe thead th {\n",
       "        text-align: right;\n",
       "    }\n",
       "</style>\n",
       "<table border=\"1\" class=\"dataframe\">\n",
       "  <thead>\n",
       "    <tr style=\"text-align: right;\">\n",
       "      <th></th>\n",
       "      <th>class</th>\n",
       "      <th>age</th>\n",
       "      <th>menopause</th>\n",
       "      <th>tumour_size</th>\n",
       "      <th>inv_nodes</th>\n",
       "      <th>node_caps</th>\n",
       "      <th>deg_malig</th>\n",
       "      <th>breast</th>\n",
       "      <th>breast_quad</th>\n",
       "      <th>irrad</th>\n",
       "    </tr>\n",
       "  </thead>\n",
       "  <tbody>\n",
       "    <tr>\n",
       "      <th>0</th>\n",
       "      <td>no-recurrence-events</td>\n",
       "      <td>30-39</td>\n",
       "      <td>premeno</td>\n",
       "      <td>30-34</td>\n",
       "      <td>0-2</td>\n",
       "      <td>no</td>\n",
       "      <td>3</td>\n",
       "      <td>left</td>\n",
       "      <td>left_low</td>\n",
       "      <td>no</td>\n",
       "    </tr>\n",
       "    <tr>\n",
       "      <th>1</th>\n",
       "      <td>no-recurrence-events</td>\n",
       "      <td>40-49</td>\n",
       "      <td>premeno</td>\n",
       "      <td>20-24</td>\n",
       "      <td>0-2</td>\n",
       "      <td>no</td>\n",
       "      <td>2</td>\n",
       "      <td>right</td>\n",
       "      <td>right_up</td>\n",
       "      <td>no</td>\n",
       "    </tr>\n",
       "    <tr>\n",
       "      <th>2</th>\n",
       "      <td>no-recurrence-events</td>\n",
       "      <td>40-49</td>\n",
       "      <td>premeno</td>\n",
       "      <td>20-24</td>\n",
       "      <td>0-2</td>\n",
       "      <td>no</td>\n",
       "      <td>2</td>\n",
       "      <td>left</td>\n",
       "      <td>left_low</td>\n",
       "      <td>no</td>\n",
       "    </tr>\n",
       "  </tbody>\n",
       "</table>\n",
       "</div>"
      ],
      "text/plain": [
       "                  class    age menopause tumour_size inv_nodes node_caps  \\\n",
       "0  no-recurrence-events  30-39   premeno       30-34       0-2        no   \n",
       "1  no-recurrence-events  40-49   premeno       20-24       0-2        no   \n",
       "2  no-recurrence-events  40-49   premeno       20-24       0-2        no   \n",
       "\n",
       "   deg_malig breast breast_quad irrad  \n",
       "0          3   left    left_low    no  \n",
       "1          2  right    right_up    no  \n",
       "2          2   left    left_low    no  "
      ]
     },
     "execution_count": 4,
     "metadata": {},
     "output_type": "execute_result"
    }
   ],
   "source": [
    "# save dataset to new variable\n",
    "power_analysis = data[['class', 'age', 'menopause', 'tumour_size', 'inv_nodes', 'node_caps', 'deg_malig', 'breast', 'breast_quad', 'irrad']]\n",
    "power_analysis.head(3)"
   ]
  },
  {
   "cell_type": "code",
   "execution_count": 5,
   "metadata": {},
   "outputs": [
    {
     "data": {
      "text/html": [
       "<div>\n",
       "<style scoped>\n",
       "    .dataframe tbody tr th:only-of-type {\n",
       "        vertical-align: middle;\n",
       "    }\n",
       "\n",
       "    .dataframe tbody tr th {\n",
       "        vertical-align: top;\n",
       "    }\n",
       "\n",
       "    .dataframe thead th {\n",
       "        text-align: right;\n",
       "    }\n",
       "</style>\n",
       "<table border=\"1\" class=\"dataframe\">\n",
       "  <thead>\n",
       "    <tr style=\"text-align: right;\">\n",
       "      <th></th>\n",
       "      <th>class</th>\n",
       "      <th>age</th>\n",
       "      <th>menopause</th>\n",
       "      <th>tumour_size</th>\n",
       "      <th>inv_nodes</th>\n",
       "      <th>node_caps</th>\n",
       "      <th>deg_malig</th>\n",
       "      <th>breast</th>\n",
       "      <th>breast_quad</th>\n",
       "      <th>irrad</th>\n",
       "    </tr>\n",
       "  </thead>\n",
       "  <tbody>\n",
       "    <tr>\n",
       "      <th>0</th>\n",
       "      <td>0</td>\n",
       "      <td>1</td>\n",
       "      <td>2</td>\n",
       "      <td>5</td>\n",
       "      <td>0</td>\n",
       "      <td>0</td>\n",
       "      <td>3</td>\n",
       "      <td>0</td>\n",
       "      <td>1</td>\n",
       "      <td>0</td>\n",
       "    </tr>\n",
       "    <tr>\n",
       "      <th>1</th>\n",
       "      <td>0</td>\n",
       "      <td>2</td>\n",
       "      <td>2</td>\n",
       "      <td>3</td>\n",
       "      <td>0</td>\n",
       "      <td>0</td>\n",
       "      <td>2</td>\n",
       "      <td>1</td>\n",
       "      <td>4</td>\n",
       "      <td>0</td>\n",
       "    </tr>\n",
       "    <tr>\n",
       "      <th>2</th>\n",
       "      <td>0</td>\n",
       "      <td>2</td>\n",
       "      <td>2</td>\n",
       "      <td>3</td>\n",
       "      <td>0</td>\n",
       "      <td>0</td>\n",
       "      <td>2</td>\n",
       "      <td>0</td>\n",
       "      <td>1</td>\n",
       "      <td>0</td>\n",
       "    </tr>\n",
       "  </tbody>\n",
       "</table>\n",
       "</div>"
      ],
      "text/plain": [
       "   class  age  menopause  tumour_size  inv_nodes  node_caps  deg_malig  \\\n",
       "0      0    1          2            5          0          0          3   \n",
       "1      0    2          2            3          0          0          2   \n",
       "2      0    2          2            3          0          0          2   \n",
       "\n",
       "   breast  breast_quad  irrad  \n",
       "0       0            1      0  \n",
       "1       1            4      0  \n",
       "2       0            1      0  "
      ]
     },
     "execution_count": 5,
     "metadata": {},
     "output_type": "execute_result"
    }
   ],
   "source": [
    "# convert data columns to numerical type except for deg_malig\n",
    "for col in power_analysis.columns:\n",
    "    if col != 'deg_malig':\n",
    "        power_analysis[col] = pd.Categorical(power_analysis[col]).codes\n",
    "    else:\n",
    "        continue\n",
    "\n",
    "power_analysis.head(3)"
   ]
  },
  {
   "cell_type": "code",
   "execution_count": 6,
   "metadata": {},
   "outputs": [
    {
     "name": "stdout",
     "output_type": "stream",
     "text": [
      "Required Sample Size: 170\n"
     ]
    }
   ],
   "source": [
    "# Define effect size, alpha, and power\n",
    "effect_size = 0.5\n",
    "alpha = 0.001\n",
    "power = 0.9\n",
    "\n",
    "# Count the total number of categories across all categorical features\n",
    "n_classes = len(set(power_analysis[power_analysis.columns].values.flatten()))\n",
    "\n",
    "\n",
    "# Create a TTestIndPower object for a two-sample t-test\n",
    "analysis = TTestIndPower()\n",
    "\n",
    "# Calculate the required sample size\n",
    "sample_size = analysis.solve_power(effect_size=effect_size, alpha=alpha, power=power)\n",
    "\n",
    "print('Required Sample Size:', round(sample_size))"
   ]
  },
  {
   "cell_type": "markdown",
   "metadata": {},
   "source": [
    "#### Sensitivity Analysis"
   ]
  },
  {
   "cell_type": "code",
   "execution_count": 7,
   "metadata": {},
   "outputs": [
    {
     "name": "stdout",
     "output_type": "stream",
     "text": [
      "Effect size: 0.2, Required sample size: 1048\n",
      "Effect size: 0.8, Required sample size: 68\n"
     ]
    }
   ],
   "source": [
    "# Define a list of effect sizes to test\n",
    "effect_sizes = [0.2, 0.8]\n",
    "\n",
    "# Calculate the required sample size for each effect size\n",
    "for effect_size in effect_sizes:\n",
    "    sample_size = analysis.solve_power(effect_size=effect_size, alpha=alpha, power=power)\n",
    "    print(f\"Effect size: {effect_size}, Required sample size: {round(sample_size)}\")"
   ]
  },
  {
   "cell_type": "markdown",
   "metadata": {},
   "source": [
    "#### Achieved Power"
   ]
  },
  {
   "cell_type": "code",
   "execution_count": 8,
   "metadata": {},
   "outputs": [
    {
     "name": "stdout",
     "output_type": "stream",
     "text": [
      "Achieved power:  0.95\n"
     ]
    }
   ],
   "source": [
    "effect_size = 0.5\n",
    "alpha = 0.001\n",
    "\n",
    "# Count the total number of categories across all categorical features\n",
    "n_classes = len(set(power_analysis[power_analysis.columns].values.flatten()))\n",
    "\n",
    "# Create a TTestIndPower object for a two-sample t-test\n",
    "analysis = TTestIndPower()\n",
    "\n",
    "# Define the sample size\n",
    "sample_size = 200\n",
    "\n",
    "# Calculate the achieved power\n",
    "achieved_power = analysis.power(effect_size=effect_size, nobs1=sample_size, alpha=alpha, ratio=1, df=None, alternative='two-sided')\n",
    "\n",
    "print(f\"Achieved power: \", round(achieved_power,2))"
   ]
  },
  {
   "cell_type": "markdown",
   "metadata": {},
   "source": [
    "The dataset is large enough to continue working on the prediction model."
   ]
  },
  {
   "cell_type": "markdown",
   "metadata": {},
   "source": [
    "### Identify and Explore the target attribute"
   ]
  },
  {
   "cell_type": "code",
   "execution_count": 9,
   "metadata": {},
   "outputs": [
    {
     "name": "stdout",
     "output_type": "stream",
     "text": [
      "<class 'pandas.core.frame.DataFrame'>\n",
      "RangeIndex: 286 entries, 0 to 285\n",
      "Data columns (total 10 columns):\n",
      " #   Column       Non-Null Count  Dtype \n",
      "---  ------       --------------  ----- \n",
      " 0   class        286 non-null    object\n",
      " 1   age          286 non-null    object\n",
      " 2   menopause    286 non-null    object\n",
      " 3   tumour_size  286 non-null    object\n",
      " 4   inv_nodes    286 non-null    object\n",
      " 5   node_caps    278 non-null    object\n",
      " 6   deg_malig    286 non-null    int64 \n",
      " 7   breast       286 non-null    object\n",
      " 8   breast_quad  285 non-null    object\n",
      " 9   irrad        286 non-null    object\n",
      "dtypes: int64(1), object(9)\n",
      "memory usage: 22.5+ KB\n"
     ]
    }
   ],
   "source": [
    "data.info()"
   ]
  },
  {
   "cell_type": "markdown",
   "metadata": {},
   "source": [
    "The aim of the ML model is to **predict wether a given patient is subject to experience a recurrence** after being treated for breast cancer.<br>\n",
    "\n",
    "Given the dataset I have identified ```'class'``` as the perfect target attribute.<br>\n",
    "This feature is categorical and contains text-type data *(no-recurrence-events, recurrence-events)*<br>"
   ]
  },
  {
   "cell_type": "code",
   "execution_count": 10,
   "metadata": {},
   "outputs": [
    {
     "name": "stdout",
     "output_type": "stream",
     "text": [
      "Size data: 0.16 Mb\n"
     ]
    }
   ],
   "source": [
    "size_b = data.memory_usage(deep=True).sum()\n",
    "size_mb = size_b / (1024 * 1024)\n",
    "print(f\"Size data: {size_mb:.2f} Mb\")"
   ]
  },
  {
   "cell_type": "markdown",
   "metadata": {},
   "source": [
    "### Split the dataset into Train and Test set"
   ]
  },
  {
   "cell_type": "code",
   "execution_count": 11,
   "metadata": {},
   "outputs": [
    {
     "name": "stdout",
     "output_type": "stream",
     "text": [
      "# sample train set: 200\n",
      "# sample test set: 86\n"
     ]
    }
   ],
   "source": [
    "TARGET_NAME = \"class\"\n",
    "X_train, X_test, y_train, y_test = train_test_split(data.drop(columns=[TARGET_NAME]), \n",
    "                                                    data[TARGET_NAME], \n",
    "                                                    test_size=0.30,\n",
    "                                                    stratify=data[TARGET_NAME],\n",
    "                                                    random_state=42)\n",
    "\n",
    "# re-merger x,y for both train and test\n",
    "data_train = pd.merge(left=y_train , right=X_train, left_index=True, right_index=True)\n",
    "data_test  = pd.merge(left=y_test  , right=X_test, left_index=True, right_index=True)\n",
    "\n",
    "print(f\"# sample train set: {data_train.shape[0]}\")\n",
    "print(f\"# sample test set: {data_test.shape[0]}\")"
   ]
  },
  {
   "cell_type": "markdown",
   "metadata": {},
   "source": [
    "#### Preview the Train set DataFrame"
   ]
  },
  {
   "cell_type": "code",
   "execution_count": 12,
   "metadata": {},
   "outputs": [
    {
     "data": {
      "text/html": [
       "<div>\n",
       "<style scoped>\n",
       "    .dataframe tbody tr th:only-of-type {\n",
       "        vertical-align: middle;\n",
       "    }\n",
       "\n",
       "    .dataframe tbody tr th {\n",
       "        vertical-align: top;\n",
       "    }\n",
       "\n",
       "    .dataframe thead th {\n",
       "        text-align: right;\n",
       "    }\n",
       "</style>\n",
       "<table border=\"1\" class=\"dataframe\">\n",
       "  <thead>\n",
       "    <tr style=\"text-align: right;\">\n",
       "      <th></th>\n",
       "      <th>class</th>\n",
       "      <th>age</th>\n",
       "      <th>menopause</th>\n",
       "      <th>tumour_size</th>\n",
       "      <th>inv_nodes</th>\n",
       "      <th>node_caps</th>\n",
       "      <th>deg_malig</th>\n",
       "      <th>breast</th>\n",
       "      <th>breast_quad</th>\n",
       "      <th>irrad</th>\n",
       "    </tr>\n",
       "  </thead>\n",
       "  <tbody>\n",
       "    <tr>\n",
       "      <th>62</th>\n",
       "      <td>no-recurrence-events</td>\n",
       "      <td>50-59</td>\n",
       "      <td>ge40</td>\n",
       "      <td>0-4</td>\n",
       "      <td>0-2</td>\n",
       "      <td>no</td>\n",
       "      <td>1</td>\n",
       "      <td>left</td>\n",
       "      <td>left_low</td>\n",
       "      <td>no</td>\n",
       "    </tr>\n",
       "    <tr>\n",
       "      <th>61</th>\n",
       "      <td>no-recurrence-events</td>\n",
       "      <td>40-49</td>\n",
       "      <td>premeno</td>\n",
       "      <td>10-14</td>\n",
       "      <td>0-2</td>\n",
       "      <td>no</td>\n",
       "      <td>1</td>\n",
       "      <td>right</td>\n",
       "      <td>right_low</td>\n",
       "      <td>no</td>\n",
       "    </tr>\n",
       "    <tr>\n",
       "      <th>66</th>\n",
       "      <td>no-recurrence-events</td>\n",
       "      <td>40-49</td>\n",
       "      <td>premeno</td>\n",
       "      <td>25-29</td>\n",
       "      <td>0-2</td>\n",
       "      <td>no</td>\n",
       "      <td>1</td>\n",
       "      <td>right</td>\n",
       "      <td>right_low</td>\n",
       "      <td>no</td>\n",
       "    </tr>\n",
       "    <tr>\n",
       "      <th>258</th>\n",
       "      <td>recurrence-events</td>\n",
       "      <td>50-59</td>\n",
       "      <td>ge40</td>\n",
       "      <td>30-34</td>\n",
       "      <td>6-8</td>\n",
       "      <td>yes</td>\n",
       "      <td>2</td>\n",
       "      <td>left</td>\n",
       "      <td>right_low</td>\n",
       "      <td>yes</td>\n",
       "    </tr>\n",
       "    <tr>\n",
       "      <th>77</th>\n",
       "      <td>no-recurrence-events</td>\n",
       "      <td>30-39</td>\n",
       "      <td>premeno</td>\n",
       "      <td>25-29</td>\n",
       "      <td>0-2</td>\n",
       "      <td>no</td>\n",
       "      <td>1</td>\n",
       "      <td>left</td>\n",
       "      <td>central</td>\n",
       "      <td>no</td>\n",
       "    </tr>\n",
       "  </tbody>\n",
       "</table>\n",
       "</div>"
      ],
      "text/plain": [
       "                    class    age menopause tumour_size inv_nodes node_caps  \\\n",
       "62   no-recurrence-events  50-59      ge40         0-4       0-2        no   \n",
       "61   no-recurrence-events  40-49   premeno       10-14       0-2        no   \n",
       "66   no-recurrence-events  40-49   premeno       25-29       0-2        no   \n",
       "258     recurrence-events  50-59      ge40       30-34       6-8       yes   \n",
       "77   no-recurrence-events  30-39   premeno       25-29       0-2        no   \n",
       "\n",
       "     deg_malig breast breast_quad irrad  \n",
       "62           1   left    left_low    no  \n",
       "61           1  right   right_low    no  \n",
       "66           1  right   right_low    no  \n",
       "258          2   left   right_low   yes  \n",
       "77           1   left     central    no  "
      ]
     },
     "execution_count": 12,
     "metadata": {},
     "output_type": "execute_result"
    }
   ],
   "source": [
    "data_train.head()"
   ]
  },
  {
   "cell_type": "code",
   "execution_count": 13,
   "metadata": {},
   "outputs": [],
   "source": [
    "data_train.to_csv(\n",
    "    path_or_buf=\"./data_train.csv\",\n",
    "    header=True,\n",
    "    index=False,\n",
    ")\n",
    "\n",
    "data_test.to_csv(\n",
    "    path_or_buf=\"./data_test.csv\",\n",
    "    header=True,\n",
    "    index=False,\n",
    ")"
   ]
  },
  {
   "cell_type": "markdown",
   "metadata": {},
   "source": [
    "### Explore the Train set"
   ]
  },
  {
   "cell_type": "markdown",
   "metadata": {},
   "source": [
    "#### Identify Missing Values"
   ]
  },
  {
   "cell_type": "code",
   "execution_count": 14,
   "metadata": {},
   "outputs": [
    {
     "data": {
      "text/plain": [
       "Text(0.5, 1.0, 'Missing Values Matrix Plot')"
      ]
     },
     "execution_count": 14,
     "metadata": {},
     "output_type": "execute_result"
    },
    {
     "data": {
      "image/png": "[encoded data removed]",
      "text/plain": [
       "<Figure size 2500x1000 with 2 Axes>"
      ]
     },
     "metadata": {},
     "output_type": "display_data"
    }
   ],
   "source": [
    "# identify where the missing values are in the dataset\n",
    "msno.matrix(data_train, color=(0.12156863, 0.46666667, 0.70588235))\n",
    "plt.title(\"Missing Values Matrix Plot\")"
   ]
  },
  {
   "cell_type": "code",
   "execution_count": 15,
   "metadata": {},
   "outputs": [
    {
     "data": {
      "text/plain": [
       "class          0.0\n",
       "age            0.0\n",
       "menopause      0.0\n",
       "tumour_size    0.0\n",
       "inv_nodes      0.0\n",
       "node_caps      3.5\n",
       "deg_malig      0.0\n",
       "breast         0.0\n",
       "breast_quad    0.5\n",
       "irrad          0.0\n",
       "dtype: float64"
      ]
     },
     "execution_count": 15,
     "metadata": {},
     "output_type": "execute_result"
    }
   ],
   "source": [
    "# find % of missing values per single attribute in the dataset\n",
    "nan = data_train.isna().sum()\n",
    "tot = len(X_train)\n",
    "perc = (nan * 100) / tot\n",
    "round(perc, 2)"
   ]
  },
  {
   "cell_type": "code",
   "execution_count": 16,
   "metadata": {},
   "outputs": [
    {
     "data": {
      "text/html": [
       "<div>\n",
       "<style scoped>\n",
       "    .dataframe tbody tr th:only-of-type {\n",
       "        vertical-align: middle;\n",
       "    }\n",
       "\n",
       "    .dataframe tbody tr th {\n",
       "        vertical-align: top;\n",
       "    }\n",
       "\n",
       "    .dataframe thead th {\n",
       "        text-align: right;\n",
       "    }\n",
       "</style>\n",
       "<table border=\"1\" class=\"dataframe\">\n",
       "  <thead>\n",
       "    <tr style=\"text-align: right;\">\n",
       "      <th></th>\n",
       "      <th>class</th>\n",
       "      <th>age</th>\n",
       "      <th>menopause</th>\n",
       "      <th>tumour_size</th>\n",
       "      <th>inv_nodes</th>\n",
       "      <th>node_caps</th>\n",
       "      <th>deg_malig</th>\n",
       "      <th>breast</th>\n",
       "      <th>breast_quad</th>\n",
       "      <th>irrad</th>\n",
       "    </tr>\n",
       "  </thead>\n",
       "  <tbody>\n",
       "    <tr>\n",
       "      <th>206</th>\n",
       "      <td>recurrence-events</td>\n",
       "      <td>50-59</td>\n",
       "      <td>ge40</td>\n",
       "      <td>30-34</td>\n",
       "      <td>0-2</td>\n",
       "      <td>no</td>\n",
       "      <td>3</td>\n",
       "      <td>left</td>\n",
       "      <td>NaN</td>\n",
       "      <td>no</td>\n",
       "    </tr>\n",
       "    <tr>\n",
       "      <th>263</th>\n",
       "      <td>recurrence-events</td>\n",
       "      <td>50-59</td>\n",
       "      <td>lt40</td>\n",
       "      <td>20-24</td>\n",
       "      <td>0-2</td>\n",
       "      <td>NaN</td>\n",
       "      <td>1</td>\n",
       "      <td>left</td>\n",
       "      <td>left_up</td>\n",
       "      <td>no</td>\n",
       "    </tr>\n",
       "    <tr>\n",
       "      <th>183</th>\n",
       "      <td>no-recurrence-events</td>\n",
       "      <td>50-59</td>\n",
       "      <td>ge40</td>\n",
       "      <td>30-34</td>\n",
       "      <td>9-11</td>\n",
       "      <td>NaN</td>\n",
       "      <td>3</td>\n",
       "      <td>left</td>\n",
       "      <td>left_up</td>\n",
       "      <td>yes</td>\n",
       "    </tr>\n",
       "    <tr>\n",
       "      <th>264</th>\n",
       "      <td>recurrence-events</td>\n",
       "      <td>50-59</td>\n",
       "      <td>lt40</td>\n",
       "      <td>20-24</td>\n",
       "      <td>0-2</td>\n",
       "      <td>NaN</td>\n",
       "      <td>1</td>\n",
       "      <td>left</td>\n",
       "      <td>left_low</td>\n",
       "      <td>no</td>\n",
       "    </tr>\n",
       "    <tr>\n",
       "      <th>164</th>\n",
       "      <td>no-recurrence-events</td>\n",
       "      <td>60-69</td>\n",
       "      <td>ge40</td>\n",
       "      <td>25-29</td>\n",
       "      <td>3-5</td>\n",
       "      <td>NaN</td>\n",
       "      <td>1</td>\n",
       "      <td>right</td>\n",
       "      <td>left_low</td>\n",
       "      <td>yes</td>\n",
       "    </tr>\n",
       "    <tr>\n",
       "      <th>145</th>\n",
       "      <td>no-recurrence-events</td>\n",
       "      <td>40-49</td>\n",
       "      <td>premeno</td>\n",
       "      <td>25-29</td>\n",
       "      <td>0-2</td>\n",
       "      <td>NaN</td>\n",
       "      <td>2</td>\n",
       "      <td>left</td>\n",
       "      <td>right_low</td>\n",
       "      <td>yes</td>\n",
       "    </tr>\n",
       "    <tr>\n",
       "      <th>233</th>\n",
       "      <td>recurrence-events</td>\n",
       "      <td>70-79</td>\n",
       "      <td>ge40</td>\n",
       "      <td>15-19</td>\n",
       "      <td>9-11</td>\n",
       "      <td>NaN</td>\n",
       "      <td>1</td>\n",
       "      <td>left</td>\n",
       "      <td>left_low</td>\n",
       "      <td>yes</td>\n",
       "    </tr>\n",
       "    <tr>\n",
       "      <th>163</th>\n",
       "      <td>no-recurrence-events</td>\n",
       "      <td>60-69</td>\n",
       "      <td>ge40</td>\n",
       "      <td>25-29</td>\n",
       "      <td>3-5</td>\n",
       "      <td>NaN</td>\n",
       "      <td>1</td>\n",
       "      <td>right</td>\n",
       "      <td>left_up</td>\n",
       "      <td>yes</td>\n",
       "    </tr>\n",
       "  </tbody>\n",
       "</table>\n",
       "</div>"
      ],
      "text/plain": [
       "                    class    age menopause tumour_size inv_nodes node_caps  \\\n",
       "206     recurrence-events  50-59      ge40       30-34       0-2        no   \n",
       "263     recurrence-events  50-59      lt40       20-24       0-2       NaN   \n",
       "183  no-recurrence-events  50-59      ge40       30-34      9-11       NaN   \n",
       "264     recurrence-events  50-59      lt40       20-24       0-2       NaN   \n",
       "164  no-recurrence-events  60-69      ge40       25-29       3-5       NaN   \n",
       "145  no-recurrence-events  40-49   premeno       25-29       0-2       NaN   \n",
       "233     recurrence-events  70-79      ge40       15-19      9-11       NaN   \n",
       "163  no-recurrence-events  60-69      ge40       25-29       3-5       NaN   \n",
       "\n",
       "     deg_malig breast breast_quad irrad  \n",
       "206          3   left         NaN    no  \n",
       "263          1   left     left_up    no  \n",
       "183          3   left     left_up   yes  \n",
       "264          1   left    left_low    no  \n",
       "164          1  right    left_low   yes  \n",
       "145          2   left   right_low   yes  \n",
       "233          1   left    left_low   yes  \n",
       "163          1  right     left_up   yes  "
      ]
     },
     "execution_count": 16,
     "metadata": {},
     "output_type": "execute_result"
    }
   ],
   "source": [
    "rows_with_missing_values = data_train[data_train.isnull().any(axis=1)]\n",
    "rows_with_missing_values"
   ]
  },
  {
   "cell_type": "markdown",
   "metadata": {},
   "source": [
    "#### Explore the values distribution of the attributes on Train set"
   ]
  },
  {
   "cell_type": "code",
   "execution_count": 17,
   "metadata": {},
   "outputs": [
    {
     "data": {
      "image/png": "[encoded data removed]",
      "text/plain": [
       "<Figure size 2000x800 with 10 Axes>"
      ]
     },
     "metadata": {},
     "output_type": "display_data"
    }
   ],
   "source": [
    "class_ = data_train['class'].value_counts()\n",
    "age_ = data_train['age'].value_counts()\n",
    "menopause_ = data_train['menopause'].value_counts()\n",
    "tumour_size_ = data_train['tumour_size'].value_counts()\n",
    "inv_nodes_ = data_train['inv_nodes'].value_counts()\n",
    "node_caps_ = data_train['node_caps'].value_counts()\n",
    "deg_malig_ = data_train['deg_malig'].value_counts()\n",
    "breast_ = data_train['breast'].value_counts()\n",
    "breast_quad_ = data_train['breast_quad'].value_counts()\n",
    "irrad_ = data_train['irrad'].value_counts()\n",
    "\n",
    "\n",
    "\n",
    "\n",
    "# Create a figure with a 2x2 grid of subplots\n",
    "fig, axs = plt.subplots(2, 5, gridspec_kw={'height_ratios': [12,12]})\n",
    "fig.set_size_inches(20,8)\n",
    "\n",
    "\n",
    "\n",
    "class_.plot.barh(ax=axs[0, 0], color='r')\n",
    "age_.plot.barh(ax=axs[0, 1])\n",
    "menopause_.plot.barh(ax=axs[0, 2])\n",
    "tumour_size_.plot.barh(ax=axs[0, 3])\n",
    "inv_nodes_.plot.barh(ax=axs[0, 4])\n",
    "node_caps_.plot.barh(ax=axs[1, 0])\n",
    "deg_malig_.plot.barh(ax=axs[1, 1])\n",
    "breast_.plot.barh(ax=axs[1, 2])\n",
    "breast_quad_.plot.barh(ax=axs[1, 3])\n",
    "irrad_.plot.barh(ax=axs[1, 4])\n",
    "\n",
    "\n",
    "# Set the title for each subplot\n",
    "axs[0, 0].set_title('Class')\n",
    "axs[0, 1].set_title('Age')\n",
    "axs[0, 2].set_title('Menopause')\n",
    "axs[0, 3].set_title('Tumour Size')\n",
    "axs[0, 4].set_title('Invaded Nodes')\n",
    "axs[1, 0].set_title('Node Capsule Perforated')\n",
    "axs[1, 1].set_title('Degree of Malignancy')\n",
    "axs[1, 2].set_title('Breast')\n",
    "axs[1, 3].set_title('Breast Quadrant')\n",
    "axs[1, 4].set_title('Radiation Therapy')\n",
    "\n",
    "# Set the x-axis label for each subplot\n",
    "axs[0, 0].set_xlabel('count')\n",
    "axs[0, 1].set_xlabel('count')\n",
    "axs[0, 2].set_xlabel('count')\n",
    "axs[0, 3].set_xlabel('count')\n",
    "axs[0, 4].set_xlabel('count')\n",
    "axs[1, 0].set_xlabel('count')\n",
    "axs[1, 1].set_xlabel('count')\n",
    "axs[1, 2].set_xlabel('count')\n",
    "axs[1, 3].set_xlabel('count')\n",
    "axs[1, 4].set_xlabel('count')\n",
    "\n",
    "legend_label = ['Target Attribute']\n",
    "axs[0, 0].legend(legend_label, loc='upper right', fontsize='small')\n",
    "\n",
    "plt.subplots_adjust(hspace=1, wspace=0.3)\n",
    "plt.show()"
   ]
  },
  {
   "cell_type": "markdown",
   "metadata": {},
   "source": [
    "About 70% of the dataset includes patients that didn't experience a recurrence of the disease. This means, and it is clearly shown, that the target attribute is heavily **unbalanced**. Machine learning models assume the data is balanced and perform poorly on imbalanced data, often predicting the majority value more frequently than the minority value. Some sampling might be necessary later on in the data processing step."
   ]
  },
  {
   "cell_type": "markdown",
   "metadata": {},
   "source": [
    "#### Compute correlation between the attributes using Chi2"
   ]
  },
  {
   "cell_type": "code",
   "execution_count": 18,
   "metadata": {},
   "outputs": [],
   "source": [
    "def chisquare(data, groups, categories, show=True, correction=True): #chi-square test for independence\n",
    "    \"\"\"Run chi-square test using `stats.chi2_contingency`.\n",
    "\n",
    "    Parameters\n",
    "    ----------\n",
    "    data : pandas.DataFrame\n",
    "        Dataframe with variables in columns, cases in rows\n",
    "    groups: str\n",
    "        column name of groups in `data`\n",
    "    categories: str\n",
    "        column name of categories in `data`\n",
    "    show: bool (default: True)\n",
    "        Whether to print the results of the analysis\n",
    "    correction: bool (default: True)\n",
    "        Whether to apply the Yates' correction for continuity\n",
    "\n",
    "    Returns\n",
    "    -------\n",
    "    pd.DataFrame\n",
    "        Data frame with columns ['test-type', 'grouping-var', 'categories', 'chi-square', 'df', 'p-value', 'stat-sign']\n",
    "\n",
    "    Examples\n",
    "    --------\n",
    "    >>> tips = sns.load_dataset('tips')\n",
    "    >>> chisquare(tips, 'smoker', 'sex')\n",
    "\n",
    "    \"\"\"\n",
    "    ct = pd.crosstab(data[groups], data[categories])\n",
    "    chi2, p_value, degrees_freedom, expected = stats.chi2_contingency(ct, correction=correction)\n",
    "\n",
    "    if show:\n",
    "        print(f\"=== Chi-square test: groups = *{groups}* | categories = *{categories}* ===\\n\")\n",
    "        print(f\"chi2 = {chi2:.2f}\"), print(f\"p-value = {p_value:.3f}\"), print(\n",
    "            f\"df = {degrees_freedom:.2f}\"\n",
    "        )\n",
    "        print(\"\\nExpected frequencies\")\n",
    "        print(pd.DataFrame(data=expected, columns=ct.columns, index=ct.index).round(3))\n",
    "        print(\"\\nOriginal data\")\n",
    "        print(ct)\n",
    "\n",
    "    # return result on a row data frame\n",
    "    dict_result = {\n",
    "        \"test-type\": \"chisquare\",\n",
    "        \"grouping-var\": groups,\n",
    "        \"categories\": categories,\n",
    "        \"chi-square\": chi2,\n",
    "        \"df\": degrees_freedom,\n",
    "        \"p-value\": p_value,\n",
    "        \"stat-sign\": (p_value < 0.05),\n",
    "    }\n",
    "\n",
    "    df_result = pd.DataFrame(data=dict_result, index=[0])\n",
    "\n",
    "    if 1 in ct.shape:\n",
    "        warnings.warn(\n",
    "            f\"One of {groups} and {categories} consisted of a single value\",\n",
    "            stacklevel=2,\n",
    "        )\n",
    "    if (ct < 5).any(axis=None):\n",
    "        warnings.warn(\n",
    "            \"At least one observed frequency is < 5 so test should not be used\",\n",
    "            stacklevel=2,\n",
    "        )\n",
    "    if (expected < 5).any(axis=None):\n",
    "        warnings.warn(\n",
    "            \"At least one expected frequency is < 5 so test should not be used\",\n",
    "            stacklevel=2,\n",
    "        )\n",
    "\n",
    "    return df_result"
   ]
  },
  {
   "cell_type": "code",
   "execution_count": 19,
   "metadata": {},
   "outputs": [
    {
     "name": "stdout",
     "output_type": "stream",
     "text": [
      "Citation Request:\n",
      "   This breast cancer domain was obtained from the University Medical Centre,\n",
      "   Institute of Oncology, Ljubljana, Yugoslavia.  Thanks go to M. Zwitter and \n",
      "   M. Soklic for providing the data.  Please include this citation if you plan\n",
      "   to use this database.\n",
      "\n",
      "1. Title: Breast cancer data (Michalski has used this)\n",
      "\n",
      "2. Sources: \n",
      "   -- Matjaz Zwitter & Milan Soklic (physicians)\n",
      "      Institute of Oncology \n",
      "      University Medical Center\n",
      "      Ljubljana, Yugoslavia\n",
      "   -- Donors: Ming Tan and Jeff Schlimmer (Jeffrey.Schlimmer@a.gp.cs.cmu.edu)\n",
      "   -- Date: 11 July 1988\n",
      "\n",
      "3. Past Usage: (Several: here are some)\n",
      "     -- Michalski,R.S., Mozetic,I., Hong,J., & Lavrac,N. (1986). The \n",
      "        Multi-Purpose Incremental Learning System AQ15 and its Testing \n",
      "        Application to Three Medical Domains.  In Proceedings of the \n",
      "        Fifth National Conference on Artificial Intelligence, 1041-1045,\n",
      "        Philadelphia, PA: Morgan Kaufmann.\n",
      "        -- accuracy range: 66%-72%\n",
      "     -- Clark,P. & Niblett,T. (1987). Induction in Noisy Domains.  In \n",
      "        Progress in Machine Learning (from the Proceedings of the 2nd\n",
      "        European Working Session on Learning), 11-30, Bled, \n",
      "        Yugoslavia: Sigma Press.\n",
      "        -- 8 test results given: 65%-72% accuracy range\n",
      "     -- Tan, M., & Eshelman, L. (1988). Using weighted networks to \n",
      "        represent classification knowledge in noisy domains.  Proceedings \n",
      "        of the Fifth International Conference on Machine Learning, 121-134,\n",
      "        Ann Arbor, MI.\n",
      "        -- 4 systems tested: accuracy range was 68%-73.5%\n",
      "    -- Cestnik,G., Konenenko,I, & Bratko,I. (1987). Assistant-86: A\n",
      "       Knowledge-Elicitation Tool for Sophisticated Users.  In I.Bratko\n",
      "       & N.Lavrac (Eds.) Progress in Machine Learning, 31-45, Sigma Press.\n",
      "       -- Assistant-86: 78% accuracy\n",
      "\n",
      "4. Relevant Information:\n",
      "     This is one of three domains provided by the Oncology Institute\n",
      "     that has repeatedly appeared in the machine learning literature.\n",
      "     (See also lymphography and primary-tumor.)\n",
      "\n",
      "     This data set includes 201 instances of one class and 85 instances of\n",
      "     another class.  The instances are described by 9 attributes, some of\n",
      "     which are linear and some are nominal.\n",
      "\n",
      "5. Number of Instances: 286\n",
      "\n",
      "6. Number of Attributes: 9 + the class attribute\n",
      "\n",
      "7. Attribute Information:\n",
      "   1. Class: no-recurrence-events, recurrence-events\n",
      "   2. age: 10-19, 20-29, 30-39, 40-49, 50-59, 60-69, 70-79, 80-89, 90-99.\n",
      "   3. menopause: lt40, ge40, premeno.\n",
      "   4. tumor-size: 0-4, 5-9, 10-14, 15-19, 20-24, 25-29, 30-34, 35-39, 40-44,\n",
      "                  45-49, 50-54, 55-59.\n",
      "   5. inv-nodes: 0-2, 3-5, 6-8, 9-11, 12-14, 15-17, 18-20, 21-23, 24-26,\n",
      "                 27-29, 30-32, 33-35, 36-39.\n",
      "   6. node-caps: yes, no.\n",
      "   7. deg-malig: 1, 2, 3.\n",
      "   8. breast: left, right.\n",
      "   9. breast-quad: left-up, left-low, right-up,\tright-low, central.\n",
      "  10. irradiat:\tyes, no.\n",
      "\n",
      "8. Missing Attribute Values: (denoted by \"?\")\n",
      "   Attribute #:  Number of instances with missing values:\n",
      "   6.             8\n",
      "   9.             1.\n",
      "\n",
      "9. Class Distribution:\n",
      "    1. no-recurrence-events: 201 instances\n",
      "    2. recurrence-events: 85 instances\n",
      "\n"
     ]
    }
   ],
   "source": [
    "# preview the informations provided with the dataset\n",
    "data_info = open(\"./dataset/breast-cancer.names\").read()\n",
    "print(data_info)"
   ]
  },
  {
   "cell_type": "markdown",
   "metadata": {},
   "source": [
    "Variables in this dataset are:\n",
    "\n",
    "***Class***: whether or not there has been a recurrence of cancer<br>\n",
    "***Age***: patient's age at the time of diagnosis<br>\n",
    "***Menopause***: menopausal status of the patient at the time of diagnosis, pre-menopausal (*premeno*) or post-menopausal (*ge40*, *lt40*) at the time of diagnosis:<br>\n",
    "***Tumour Size***: the size of the tumour (mm) at the time of diagnosis<br>\n",
    "***Invasive Nodes***: the total number of lymph nodes confirming Breast Cancer at the time of the histological examination<br>\n",
    "***Node Caps***: whether the tumour penetrated in the lymph node capsule<br>\n",
    "***Degree of Malignancy***: divided into 1 -2 or 3, depending on the malignancy of the tumour<br>\n",
    "***Breast***: the position of the tumour (left or right breast)<br>\n",
    "***Breast Quadrant***: the quadrant of the breast where the tumour is present<br>\n",
    "***Irradiation***: whether radiation therapy has been used as a treatment to destroy cancer cells<br>"
   ]
  },
  {
   "cell_type": "markdown",
   "metadata": {},
   "source": [
    "Chi2 relation between ```'class'``` and ```'age'```"
   ]
  },
  {
   "cell_type": "code",
   "execution_count": 20,
   "metadata": {},
   "outputs": [
    {
     "data": {
      "text/plain": [
       "50-59    67\n",
       "40-49    60\n",
       "60-69    44\n",
       "30-39    25\n",
       "70-79     4\n",
       "Name: age, dtype: int64"
      ]
     },
     "execution_count": 20,
     "metadata": {},
     "output_type": "execute_result"
    }
   ],
   "source": [
    "age_"
   ]
  },
  {
   "cell_type": "code",
   "execution_count": 21,
   "metadata": {},
   "outputs": [
    {
     "data": {
      "text/plain": [
       "50-59    67\n",
       "40-49    60\n",
       "60-79    48\n",
       "30-39    25\n",
       "Name: age, dtype: int64"
      ]
     },
     "execution_count": 21,
     "metadata": {},
     "output_type": "execute_result"
    }
   ],
   "source": [
    "data_train['age'].replace({'60-69': '60-79',  \n",
    "                           '70-79': '60-79',\n",
    "                            },\n",
    "                            inplace=True\n",
    "                            )\n",
    "                            \n",
    "data_train['age'].value_counts()"
   ]
  },
  {
   "cell_type": "code",
   "execution_count": 22,
   "metadata": {},
   "outputs": [
    {
     "name": "stdout",
     "output_type": "stream",
     "text": [
      "=== Chi-square test: groups = *class* | categories = *age* ===\n",
      "\n",
      "chi2 = 0.84\n",
      "p-value = 0.840\n",
      "df = 3.00\n",
      "\n",
      "Expected frequencies\n",
      "age                    30-39  40-49   50-59  60-79\n",
      "class                                             \n",
      "no-recurrence-events  17.625   42.3  47.235  33.84\n",
      "recurrence-events      7.375   17.7  19.765  14.16\n",
      "\n",
      "Original data\n",
      "age                   30-39  40-49  50-59  60-79\n",
      "class                                           \n",
      "no-recurrence-events     16     43     49     33\n",
      "recurrence-events         9     17     18     15\n"
     ]
    },
    {
     "data": {
      "text/html": [
       "<div>\n",
       "<style scoped>\n",
       "    .dataframe tbody tr th:only-of-type {\n",
       "        vertical-align: middle;\n",
       "    }\n",
       "\n",
       "    .dataframe tbody tr th {\n",
       "        vertical-align: top;\n",
       "    }\n",
       "\n",
       "    .dataframe thead th {\n",
       "        text-align: right;\n",
       "    }\n",
       "</style>\n",
       "<table border=\"1\" class=\"dataframe\">\n",
       "  <thead>\n",
       "    <tr style=\"text-align: right;\">\n",
       "      <th></th>\n",
       "      <th>test-type</th>\n",
       "      <th>grouping-var</th>\n",
       "      <th>categories</th>\n",
       "      <th>chi-square</th>\n",
       "      <th>df</th>\n",
       "      <th>p-value</th>\n",
       "      <th>stat-sign</th>\n",
       "    </tr>\n",
       "  </thead>\n",
       "  <tbody>\n",
       "    <tr>\n",
       "      <th>0</th>\n",
       "      <td>chisquare</td>\n",
       "      <td>class</td>\n",
       "      <td>age</td>\n",
       "      <td>0.841387</td>\n",
       "      <td>3</td>\n",
       "      <td>0.839544</td>\n",
       "      <td>False</td>\n",
       "    </tr>\n",
       "  </tbody>\n",
       "</table>\n",
       "</div>"
      ],
      "text/plain": [
       "   test-type grouping-var categories  chi-square  df   p-value  stat-sign\n",
       "0  chisquare        class        age    0.841387   3  0.839544      False"
      ]
     },
     "execution_count": 22,
     "metadata": {},
     "output_type": "execute_result"
    }
   ],
   "source": [
    "chisquare(data=data_train,\n",
    "            groups='class',\n",
    "            categories='age',\n",
    "            show=True,\n",
    "            correction=True\n",
    "        )"
   ]
  },
  {
   "cell_type": "code",
   "execution_count": 23,
   "metadata": {},
   "outputs": [
    {
     "data": {
      "text/plain": [
       "30-34    41\n",
       "25-29    36\n",
       "20-24    36\n",
       "10-14    22\n",
       "15-19    20\n",
       "40-44    14\n",
       "35-39    13\n",
       "0-4       7\n",
       "50-54     6\n",
       "45-49     3\n",
       "5-9       2\n",
       "Name: tumour_size, dtype: int64"
      ]
     },
     "execution_count": 23,
     "metadata": {},
     "output_type": "execute_result"
    }
   ],
   "source": [
    "tumour_size_"
   ]
  },
  {
   "cell_type": "code",
   "execution_count": 24,
   "metadata": {},
   "outputs": [
    {
     "data": {
      "text/plain": [
       "30-34    41\n",
       "25-29    36\n",
       "20-24    36\n",
       "10-14    22\n",
       "15-19    20\n",
       "40-44    14\n",
       "35-39    13\n",
       "0-9       9\n",
       "45-54     9\n",
       "Name: tumour_size, dtype: int64"
      ]
     },
     "execution_count": 24,
     "metadata": {},
     "output_type": "execute_result"
    }
   ],
   "source": [
    "# Mitigate facet imbalance otherwise p-value > 0.5\n",
    "data_train['tumour_size'].replace({'45-49': '45-54',  # cluster together '45-49' and '50-54' in '45-54'\n",
    "                             '50-54': '45-54',\n",
    "                             '0-4': '0-9',\n",
    "                             '5-9': '0-9'\n",
    "                             },\n",
    "                            inplace=True\n",
    "                            )\n",
    "\n",
    "data_train['tumour_size'].value_counts()"
   ]
  },
  {
   "cell_type": "code",
   "execution_count": 25,
   "metadata": {},
   "outputs": [
    {
     "name": "stdout",
     "output_type": "stream",
     "text": [
      "=== Chi-square test: groups = *class* | categories = *tumour_size* ===\n",
      "\n",
      "chi2 = 11.12\n",
      "p-value = 0.195\n",
      "df = 8.00\n",
      "\n",
      "Expected frequencies\n",
      "tumour_size             0-9  10-14  15-19  20-24  25-29   30-34  35-39  40-44  \\\n",
      "class                                                                           \n",
      "no-recurrence-events  6.345  15.51   14.1  25.38  25.38  28.905  9.165   9.87   \n",
      "recurrence-events     2.655   6.49    5.9  10.62  10.62  12.095  3.835   4.13   \n",
      "\n",
      "tumour_size           45-54  \n",
      "class                        \n",
      "no-recurrence-events  6.345  \n",
      "recurrence-events     2.655  \n",
      "\n",
      "Original data\n",
      "tumour_size           0-9  10-14  15-19  20-24  25-29  30-34  35-39  40-44  \\\n",
      "class                                                                        \n",
      "no-recurrence-events    8     21     15     23     24     25      9     10   \n",
      "recurrence-events       1      1      5     13     12     16      4      4   \n",
      "\n",
      "tumour_size           45-54  \n",
      "class                        \n",
      "no-recurrence-events      6  \n",
      "recurrence-events         3  \n"
     ]
    },
    {
     "name": "stderr",
     "output_type": "stream",
     "text": [
      "C:\\Users\\datac\\AppData\\Local\\Temp\\ipykernel_17924\\164701267.py:1: UserWarning: At least one observed frequency is < 5 so test should not be used\n",
      "  chisquare(data=data_train,\n",
      "C:\\Users\\datac\\AppData\\Local\\Temp\\ipykernel_17924\\164701267.py:1: UserWarning: At least one expected frequency is < 5 so test should not be used\n",
      "  chisquare(data=data_train,\n"
     ]
    },
    {
     "data": {
      "text/html": [
       "<div>\n",
       "<style scoped>\n",
       "    .dataframe tbody tr th:only-of-type {\n",
       "        vertical-align: middle;\n",
       "    }\n",
       "\n",
       "    .dataframe tbody tr th {\n",
       "        vertical-align: top;\n",
       "    }\n",
       "\n",
       "    .dataframe thead th {\n",
       "        text-align: right;\n",
       "    }\n",
       "</style>\n",
       "<table border=\"1\" class=\"dataframe\">\n",
       "  <thead>\n",
       "    <tr style=\"text-align: right;\">\n",
       "      <th></th>\n",
       "      <th>test-type</th>\n",
       "      <th>grouping-var</th>\n",
       "      <th>categories</th>\n",
       "      <th>chi-square</th>\n",
       "      <th>df</th>\n",
       "      <th>p-value</th>\n",
       "      <th>stat-sign</th>\n",
       "    </tr>\n",
       "  </thead>\n",
       "  <tbody>\n",
       "    <tr>\n",
       "      <th>0</th>\n",
       "      <td>chisquare</td>\n",
       "      <td>class</td>\n",
       "      <td>tumour_size</td>\n",
       "      <td>11.12412</td>\n",
       "      <td>8</td>\n",
       "      <td>0.194765</td>\n",
       "      <td>False</td>\n",
       "    </tr>\n",
       "  </tbody>\n",
       "</table>\n",
       "</div>"
      ],
      "text/plain": [
       "   test-type grouping-var   categories  chi-square  df   p-value  stat-sign\n",
       "0  chisquare        class  tumour_size    11.12412   8  0.194765      False"
      ]
     },
     "execution_count": 25,
     "metadata": {},
     "output_type": "execute_result"
    }
   ],
   "source": [
    "chisquare(data=data_train,\n",
    "            groups='class',\n",
    "            categories='tumour_size',\n",
    "            show=True,\n",
    "            correction=False\n",
    "        )"
   ]
  },
  {
   "cell_type": "code",
   "execution_count": 26,
   "metadata": {},
   "outputs": [
    {
     "data": {
      "text/plain": [
       "no     152\n",
       "yes     41\n",
       "Name: node_caps, dtype: int64"
      ]
     },
     "execution_count": 26,
     "metadata": {},
     "output_type": "execute_result"
    }
   ],
   "source": [
    "node_caps_"
   ]
  },
  {
   "cell_type": "code",
   "execution_count": 27,
   "metadata": {},
   "outputs": [
    {
     "name": "stdout",
     "output_type": "stream",
     "text": [
      "=== Chi-square test: groups = *class* | categories = *node_caps* ===\n",
      "\n",
      "chi2 = 18.54\n",
      "p-value = 0.000\n",
      "df = 1.00\n",
      "\n",
      "Expected frequencies\n",
      "node_caps                  no     yes\n",
      "class                                \n",
      "no-recurrence-events  107.896  29.104\n",
      "recurrence-events      44.104  11.896\n",
      "\n",
      "Original data\n",
      "node_caps              no  yes\n",
      "class                         \n",
      "no-recurrence-events  119   18\n",
      "recurrence-events      33   23\n"
     ]
    },
    {
     "data": {
      "text/html": [
       "<div>\n",
       "<style scoped>\n",
       "    .dataframe tbody tr th:only-of-type {\n",
       "        vertical-align: middle;\n",
       "    }\n",
       "\n",
       "    .dataframe tbody tr th {\n",
       "        vertical-align: top;\n",
       "    }\n",
       "\n",
       "    .dataframe thead th {\n",
       "        text-align: right;\n",
       "    }\n",
       "</style>\n",
       "<table border=\"1\" class=\"dataframe\">\n",
       "  <thead>\n",
       "    <tr style=\"text-align: right;\">\n",
       "      <th></th>\n",
       "      <th>test-type</th>\n",
       "      <th>grouping-var</th>\n",
       "      <th>categories</th>\n",
       "      <th>chi-square</th>\n",
       "      <th>df</th>\n",
       "      <th>p-value</th>\n",
       "      <th>stat-sign</th>\n",
       "    </tr>\n",
       "  </thead>\n",
       "  <tbody>\n",
       "    <tr>\n",
       "      <th>0</th>\n",
       "      <td>chisquare</td>\n",
       "      <td>class</td>\n",
       "      <td>node_caps</td>\n",
       "      <td>18.538117</td>\n",
       "      <td>1</td>\n",
       "      <td>0.000017</td>\n",
       "      <td>True</td>\n",
       "    </tr>\n",
       "  </tbody>\n",
       "</table>\n",
       "</div>"
      ],
      "text/plain": [
       "   test-type grouping-var categories  chi-square  df   p-value  stat-sign\n",
       "0  chisquare        class  node_caps   18.538117   1  0.000017       True"
      ]
     },
     "execution_count": 27,
     "metadata": {},
     "output_type": "execute_result"
    }
   ],
   "source": [
    "chisquare(data=data_train,\n",
    "            groups='class',\n",
    "            categories='node_caps',\n",
    "            show=True,\n",
    "            correction=False\n",
    "        )"
   ]
  },
  {
   "cell_type": "code",
   "execution_count": 28,
   "metadata": {},
   "outputs": [
    {
     "data": {
      "text/plain": [
       "premeno    106\n",
       "ge40        89\n",
       "lt40         5\n",
       "Name: menopause, dtype: int64"
      ]
     },
     "execution_count": 28,
     "metadata": {},
     "output_type": "execute_result"
    }
   ],
   "source": [
    "menopause_"
   ]
  },
  {
   "cell_type": "code",
   "execution_count": 29,
   "metadata": {},
   "outputs": [
    {
     "data": {
      "text/plain": [
       "premeno       106\n",
       "no-premeno     94\n",
       "Name: menopause, dtype: int64"
      ]
     },
     "execution_count": 29,
     "metadata": {},
     "output_type": "execute_result"
    }
   ],
   "source": [
    "data_train['menopause'].replace({'ge40': 'no-premeno',  \n",
    "                           'lt40': 'no-premeno',\n",
    "                            },\n",
    "                            inplace=True\n",
    "                            )\n",
    "                            \n",
    "data_train['menopause'].value_counts()"
   ]
  },
  {
   "cell_type": "code",
   "execution_count": 30,
   "metadata": {},
   "outputs": [
    {
     "name": "stdout",
     "output_type": "stream",
     "text": [
      "=== Chi-square test: groups = *class* | categories = *menopause* ===\n",
      "\n",
      "chi2 = 0.05\n",
      "p-value = 0.821\n",
      "df = 1.00\n",
      "\n",
      "Expected frequencies\n",
      "menopause             no-premeno  premeno\n",
      "class                                    \n",
      "no-recurrence-events       66.27    74.73\n",
      "recurrence-events          27.73    31.27\n",
      "\n",
      "Original data\n",
      "menopause             no-premeno  premeno\n",
      "class                                    \n",
      "no-recurrence-events          67       74\n",
      "recurrence-events             27       32\n"
     ]
    },
    {
     "data": {
      "text/html": [
       "<div>\n",
       "<style scoped>\n",
       "    .dataframe tbody tr th:only-of-type {\n",
       "        vertical-align: middle;\n",
       "    }\n",
       "\n",
       "    .dataframe tbody tr th {\n",
       "        vertical-align: top;\n",
       "    }\n",
       "\n",
       "    .dataframe thead th {\n",
       "        text-align: right;\n",
       "    }\n",
       "</style>\n",
       "<table border=\"1\" class=\"dataframe\">\n",
       "  <thead>\n",
       "    <tr style=\"text-align: right;\">\n",
       "      <th></th>\n",
       "      <th>test-type</th>\n",
       "      <th>grouping-var</th>\n",
       "      <th>categories</th>\n",
       "      <th>chi-square</th>\n",
       "      <th>df</th>\n",
       "      <th>p-value</th>\n",
       "      <th>stat-sign</th>\n",
       "    </tr>\n",
       "  </thead>\n",
       "  <tbody>\n",
       "    <tr>\n",
       "      <th>0</th>\n",
       "      <td>chisquare</td>\n",
       "      <td>class</td>\n",
       "      <td>menopause</td>\n",
       "      <td>0.051432</td>\n",
       "      <td>1</td>\n",
       "      <td>0.82059</td>\n",
       "      <td>False</td>\n",
       "    </tr>\n",
       "  </tbody>\n",
       "</table>\n",
       "</div>"
      ],
      "text/plain": [
       "   test-type grouping-var categories  chi-square  df  p-value  stat-sign\n",
       "0  chisquare        class  menopause    0.051432   1  0.82059      False"
      ]
     },
     "execution_count": 30,
     "metadata": {},
     "output_type": "execute_result"
    }
   ],
   "source": [
    "chisquare(data=data_train,\n",
    "            groups='class',\n",
    "            categories='menopause',\n",
    "            show=True,\n",
    "            correction=False\n",
    "        )"
   ]
  },
  {
   "cell_type": "code",
   "execution_count": 31,
   "metadata": {},
   "outputs": [
    {
     "data": {
      "text/plain": [
       "0-2      146\n",
       "3-5       29\n",
       "6-8       13\n",
       "9-11       6\n",
       "15-17      4\n",
       "12-14      2\n",
       "Name: inv_nodes, dtype: int64"
      ]
     },
     "execution_count": 31,
     "metadata": {},
     "output_type": "execute_result"
    }
   ],
   "source": [
    "inv_nodes_"
   ]
  },
  {
   "cell_type": "code",
   "execution_count": 32,
   "metadata": {},
   "outputs": [
    {
     "data": {
      "text/plain": [
       "0-2     146\n",
       "3-5      29\n",
       "6-8      13\n",
       "9-17     12\n",
       "Name: inv_nodes, dtype: int64"
      ]
     },
     "execution_count": 32,
     "metadata": {},
     "output_type": "execute_result"
    }
   ],
   "source": [
    "# Mitigate facet imbalance otherwise p-value > 0.5\n",
    "data_train['inv_nodes'].replace({'9-11': '9-17',  # cluster together '45-49' and '50-54' in '45-54'\n",
    "                             '12-14': '9-17',\n",
    "                             '15-17': '9-17'\n",
    "                             },\n",
    "                            inplace=True\n",
    "                            )\n",
    "\n",
    "data_train['inv_nodes'].value_counts()"
   ]
  },
  {
   "cell_type": "code",
   "execution_count": 33,
   "metadata": {},
   "outputs": [
    {
     "name": "stdout",
     "output_type": "stream",
     "text": [
      "=== Chi-square test: groups = *class* | categories = *inv_nodes* ===\n",
      "\n",
      "chi2 = 17.68\n",
      "p-value = 0.001\n",
      "df = 3.00\n",
      "\n",
      "Expected frequencies\n",
      "inv_nodes                0-2     3-5    6-8  9-17\n",
      "class                                            \n",
      "no-recurrence-events  102.93  20.445  9.165  8.46\n",
      "recurrence-events      43.07   8.555  3.835  3.54\n",
      "\n",
      "Original data\n",
      "inv_nodes             0-2  3-5  6-8  9-17\n",
      "class                                    \n",
      "no-recurrence-events  114   17    6     4\n",
      "recurrence-events      32   12    7     8\n"
     ]
    },
    {
     "name": "stderr",
     "output_type": "stream",
     "text": [
      "C:\\Users\\datac\\AppData\\Local\\Temp\\ipykernel_17924\\2861377883.py:1: UserWarning: At least one observed frequency is < 5 so test should not be used\n",
      "  chisquare(data=data_train,\n",
      "C:\\Users\\datac\\AppData\\Local\\Temp\\ipykernel_17924\\2861377883.py:1: UserWarning: At least one expected frequency is < 5 so test should not be used\n",
      "  chisquare(data=data_train,\n"
     ]
    },
    {
     "data": {
      "text/html": [
       "<div>\n",
       "<style scoped>\n",
       "    .dataframe tbody tr th:only-of-type {\n",
       "        vertical-align: middle;\n",
       "    }\n",
       "\n",
       "    .dataframe tbody tr th {\n",
       "        vertical-align: top;\n",
       "    }\n",
       "\n",
       "    .dataframe thead th {\n",
       "        text-align: right;\n",
       "    }\n",
       "</style>\n",
       "<table border=\"1\" class=\"dataframe\">\n",
       "  <thead>\n",
       "    <tr style=\"text-align: right;\">\n",
       "      <th></th>\n",
       "      <th>test-type</th>\n",
       "      <th>grouping-var</th>\n",
       "      <th>categories</th>\n",
       "      <th>chi-square</th>\n",
       "      <th>df</th>\n",
       "      <th>p-value</th>\n",
       "      <th>stat-sign</th>\n",
       "    </tr>\n",
       "  </thead>\n",
       "  <tbody>\n",
       "    <tr>\n",
       "      <th>0</th>\n",
       "      <td>chisquare</td>\n",
       "      <td>class</td>\n",
       "      <td>inv_nodes</td>\n",
       "      <td>17.678952</td>\n",
       "      <td>3</td>\n",
       "      <td>0.000512</td>\n",
       "      <td>True</td>\n",
       "    </tr>\n",
       "  </tbody>\n",
       "</table>\n",
       "</div>"
      ],
      "text/plain": [
       "   test-type grouping-var categories  chi-square  df   p-value  stat-sign\n",
       "0  chisquare        class  inv_nodes   17.678952   3  0.000512       True"
      ]
     },
     "execution_count": 33,
     "metadata": {},
     "output_type": "execute_result"
    }
   ],
   "source": [
    "chisquare(data=data_train,\n",
    "            groups='class',\n",
    "            categories='inv_nodes',\n",
    "            show=True,\n",
    "            correction=False\n",
    "        )"
   ]
  },
  {
   "cell_type": "code",
   "execution_count": 34,
   "metadata": {},
   "outputs": [
    {
     "data": {
      "text/plain": [
       "left_low     74\n",
       "left_up      68\n",
       "right_up     22\n",
       "central      18\n",
       "right_low    17\n",
       "Name: breast_quad, dtype: int64"
      ]
     },
     "execution_count": 34,
     "metadata": {},
     "output_type": "execute_result"
    }
   ],
   "source": [
    "breast_quad_"
   ]
  },
  {
   "cell_type": "code",
   "execution_count": 35,
   "metadata": {},
   "outputs": [
    {
     "name": "stdout",
     "output_type": "stream",
     "text": [
      "=== Chi-square test: groups = *class* | categories = *breast_quad* ===\n",
      "\n",
      "chi2 = 6.57\n",
      "p-value = 0.160\n",
      "df = 4.00\n",
      "\n",
      "Expected frequencies\n",
      "breast_quad           central  left_low  left_up  right_low  right_up\n",
      "class                                                                \n",
      "no-recurrence-events   12.754    52.432   48.181     12.045    15.588\n",
      "recurrence-events       5.246    21.568   19.819      4.955     6.412\n",
      "\n",
      "Original data\n",
      "breast_quad           central  left_low  left_up  right_low  right_up\n",
      "class                                                                \n",
      "no-recurrence-events       15        52       51         12        11\n",
      "recurrence-events           3        22       17          5        11\n"
     ]
    },
    {
     "name": "stderr",
     "output_type": "stream",
     "text": [
      "C:\\Users\\datac\\AppData\\Local\\Temp\\ipykernel_17924\\1067163976.py:1: UserWarning: At least one observed frequency is < 5 so test should not be used\n",
      "  chisquare(data=data_train,\n",
      "C:\\Users\\datac\\AppData\\Local\\Temp\\ipykernel_17924\\1067163976.py:1: UserWarning: At least one expected frequency is < 5 so test should not be used\n",
      "  chisquare(data=data_train,\n"
     ]
    },
    {
     "data": {
      "text/html": [
       "<div>\n",
       "<style scoped>\n",
       "    .dataframe tbody tr th:only-of-type {\n",
       "        vertical-align: middle;\n",
       "    }\n",
       "\n",
       "    .dataframe tbody tr th {\n",
       "        vertical-align: top;\n",
       "    }\n",
       "\n",
       "    .dataframe thead th {\n",
       "        text-align: right;\n",
       "    }\n",
       "</style>\n",
       "<table border=\"1\" class=\"dataframe\">\n",
       "  <thead>\n",
       "    <tr style=\"text-align: right;\">\n",
       "      <th></th>\n",
       "      <th>test-type</th>\n",
       "      <th>grouping-var</th>\n",
       "      <th>categories</th>\n",
       "      <th>chi-square</th>\n",
       "      <th>df</th>\n",
       "      <th>p-value</th>\n",
       "      <th>stat-sign</th>\n",
       "    </tr>\n",
       "  </thead>\n",
       "  <tbody>\n",
       "    <tr>\n",
       "      <th>0</th>\n",
       "      <td>chisquare</td>\n",
       "      <td>class</td>\n",
       "      <td>breast_quad</td>\n",
       "      <td>6.569205</td>\n",
       "      <td>4</td>\n",
       "      <td>0.160482</td>\n",
       "      <td>False</td>\n",
       "    </tr>\n",
       "  </tbody>\n",
       "</table>\n",
       "</div>"
      ],
      "text/plain": [
       "   test-type grouping-var   categories  chi-square  df   p-value  stat-sign\n",
       "0  chisquare        class  breast_quad    6.569205   4  0.160482      False"
      ]
     },
     "execution_count": 35,
     "metadata": {},
     "output_type": "execute_result"
    }
   ],
   "source": [
    "chisquare(data=data_train,\n",
    "            groups='class',\n",
    "            categories='breast_quad',\n",
    "            show=True,\n",
    "            correction=False\n",
    "        )"
   ]
  },
  {
   "cell_type": "code",
   "execution_count": 36,
   "metadata": {},
   "outputs": [
    {
     "name": "stdout",
     "output_type": "stream",
     "text": [
      "=== Chi-square test: groups = *age* | categories = *menopause* ===\n",
      "\n",
      "chi2 = 109.04\n",
      "p-value = 0.000\n",
      "df = 3.00\n",
      "\n",
      "Expected frequencies\n",
      "menopause  no-premeno  premeno\n",
      "age                           \n",
      "30-39           11.75    13.25\n",
      "40-49           28.20    31.80\n",
      "50-59           31.49    35.51\n",
      "60-79           22.56    25.44\n",
      "\n",
      "Original data\n",
      "menopause  no-premeno  premeno\n",
      "age                           \n",
      "30-39               1       24\n",
      "40-49               6       54\n",
      "50-59              39       28\n",
      "60-79              48        0\n"
     ]
    },
    {
     "name": "stderr",
     "output_type": "stream",
     "text": [
      "C:\\Users\\datac\\AppData\\Local\\Temp\\ipykernel_17924\\1763449645.py:1: UserWarning: At least one observed frequency is < 5 so test should not be used\n",
      "  chisquare(data=data_train,\n"
     ]
    },
    {
     "data": {
      "text/html": [
       "<div>\n",
       "<style scoped>\n",
       "    .dataframe tbody tr th:only-of-type {\n",
       "        vertical-align: middle;\n",
       "    }\n",
       "\n",
       "    .dataframe tbody tr th {\n",
       "        vertical-align: top;\n",
       "    }\n",
       "\n",
       "    .dataframe thead th {\n",
       "        text-align: right;\n",
       "    }\n",
       "</style>\n",
       "<table border=\"1\" class=\"dataframe\">\n",
       "  <thead>\n",
       "    <tr style=\"text-align: right;\">\n",
       "      <th></th>\n",
       "      <th>test-type</th>\n",
       "      <th>grouping-var</th>\n",
       "      <th>categories</th>\n",
       "      <th>chi-square</th>\n",
       "      <th>df</th>\n",
       "      <th>p-value</th>\n",
       "      <th>stat-sign</th>\n",
       "    </tr>\n",
       "  </thead>\n",
       "  <tbody>\n",
       "    <tr>\n",
       "      <th>0</th>\n",
       "      <td>chisquare</td>\n",
       "      <td>age</td>\n",
       "      <td>menopause</td>\n",
       "      <td>109.038509</td>\n",
       "      <td>3</td>\n",
       "      <td>1.767047e-23</td>\n",
       "      <td>True</td>\n",
       "    </tr>\n",
       "  </tbody>\n",
       "</table>\n",
       "</div>"
      ],
      "text/plain": [
       "   test-type grouping-var categories  chi-square  df       p-value  stat-sign\n",
       "0  chisquare          age  menopause  109.038509   3  1.767047e-23       True"
      ]
     },
     "execution_count": 36,
     "metadata": {},
     "output_type": "execute_result"
    }
   ],
   "source": [
    "chisquare(data=data_train,\n",
    "            groups='age',\n",
    "            categories='menopause',\n",
    "            show=True,\n",
    "            correction=False\n",
    "        )"
   ]
  },
  {
   "cell_type": "code",
   "execution_count": 37,
   "metadata": {},
   "outputs": [
    {
     "name": "stdout",
     "output_type": "stream",
     "text": [
      "=== Chi-square test: groups = *inv_nodes* | categories = *node_caps* ===\n",
      "\n",
      "chi2 = 82.55\n",
      "p-value = 0.000\n",
      "df = 3.00\n",
      "\n",
      "Expected frequencies\n",
      "node_caps       no     yes\n",
      "inv_nodes                 \n",
      "0-2        112.622  30.378\n",
      "3-5         21.264   5.736\n",
      "6-8         10.238   2.762\n",
      "9-17         7.876   2.124\n",
      "\n",
      "Original data\n",
      "node_caps   no  yes\n",
      "inv_nodes          \n",
      "0-2        135    8\n",
      "3-5         11   16\n",
      "6-8          3   10\n",
      "9-17         3    7\n"
     ]
    },
    {
     "name": "stderr",
     "output_type": "stream",
     "text": [
      "C:\\Users\\datac\\AppData\\Local\\Temp\\ipykernel_17924\\3663164029.py:1: UserWarning: At least one observed frequency is < 5 so test should not be used\n",
      "  chisquare(data=data_train,\n",
      "C:\\Users\\datac\\AppData\\Local\\Temp\\ipykernel_17924\\3663164029.py:1: UserWarning: At least one expected frequency is < 5 so test should not be used\n",
      "  chisquare(data=data_train,\n"
     ]
    },
    {
     "data": {
      "text/html": [
       "<div>\n",
       "<style scoped>\n",
       "    .dataframe tbody tr th:only-of-type {\n",
       "        vertical-align: middle;\n",
       "    }\n",
       "\n",
       "    .dataframe tbody tr th {\n",
       "        vertical-align: top;\n",
       "    }\n",
       "\n",
       "    .dataframe thead th {\n",
       "        text-align: right;\n",
       "    }\n",
       "</style>\n",
       "<table border=\"1\" class=\"dataframe\">\n",
       "  <thead>\n",
       "    <tr style=\"text-align: right;\">\n",
       "      <th></th>\n",
       "      <th>test-type</th>\n",
       "      <th>grouping-var</th>\n",
       "      <th>categories</th>\n",
       "      <th>chi-square</th>\n",
       "      <th>df</th>\n",
       "      <th>p-value</th>\n",
       "      <th>stat-sign</th>\n",
       "    </tr>\n",
       "  </thead>\n",
       "  <tbody>\n",
       "    <tr>\n",
       "      <th>0</th>\n",
       "      <td>chisquare</td>\n",
       "      <td>inv_nodes</td>\n",
       "      <td>node_caps</td>\n",
       "      <td>82.552063</td>\n",
       "      <td>3</td>\n",
       "      <td>8.700012e-18</td>\n",
       "      <td>True</td>\n",
       "    </tr>\n",
       "  </tbody>\n",
       "</table>\n",
       "</div>"
      ],
      "text/plain": [
       "   test-type grouping-var categories  chi-square  df       p-value  stat-sign\n",
       "0  chisquare    inv_nodes  node_caps   82.552063   3  8.700012e-18       True"
      ]
     },
     "execution_count": 37,
     "metadata": {},
     "output_type": "execute_result"
    }
   ],
   "source": [
    "chisquare(data=data_train,\n",
    "            groups='inv_nodes',\n",
    "            categories='node_caps',\n",
    "            show=True,\n",
    "            correction=False\n",
    "        )"
   ]
  },
  {
   "cell_type": "code",
   "execution_count": 49,
   "metadata": {},
   "outputs": [
    {
     "name": "stderr",
     "output_type": "stream",
     "text": [
      "C:\\Users\\datac\\AppData\\Local\\Temp\\ipykernel_17924\\945547170.py:10: UserWarning: At least one observed frequency is < 5 so test should not be used\n",
      "  result = chisquare(data=data_train,\n",
      "C:\\Users\\datac\\AppData\\Local\\Temp\\ipykernel_17924\\945547170.py:10: UserWarning: At least one expected frequency is < 5 so test should not be used\n",
      "  result = chisquare(data=data_train,\n",
      "C:\\Users\\datac\\AppData\\Local\\Temp\\ipykernel_17924\\945547170.py:10: UserWarning: At least one observed frequency is < 5 so test should not be used\n",
      "  result = chisquare(data=data_train,\n",
      "C:\\Users\\datac\\AppData\\Local\\Temp\\ipykernel_17924\\945547170.py:10: UserWarning: At least one expected frequency is < 5 so test should not be used\n",
      "  result = chisquare(data=data_train,\n",
      "C:\\Users\\datac\\AppData\\Local\\Temp\\ipykernel_17924\\945547170.py:10: UserWarning: At least one observed frequency is < 5 so test should not be used\n",
      "  result = chisquare(data=data_train,\n",
      "C:\\Users\\datac\\AppData\\Local\\Temp\\ipykernel_17924\\945547170.py:10: UserWarning: At least one expected frequency is < 5 so test should not be used\n",
      "  result = chisquare(data=data_train,\n"
     ]
    },
    {
     "data": {
      "text/html": [
       "<div>\n",
       "<style scoped>\n",
       "    .dataframe tbody tr th:only-of-type {\n",
       "        vertical-align: middle;\n",
       "    }\n",
       "\n",
       "    .dataframe tbody tr th {\n",
       "        vertical-align: top;\n",
       "    }\n",
       "\n",
       "    .dataframe thead th {\n",
       "        text-align: right;\n",
       "    }\n",
       "</style>\n",
       "<table border=\"1\" class=\"dataframe\">\n",
       "  <thead>\n",
       "    <tr style=\"text-align: right;\">\n",
       "      <th></th>\n",
       "      <th>test-type</th>\n",
       "      <th>grouping-var</th>\n",
       "      <th>categories</th>\n",
       "      <th>chi-square</th>\n",
       "      <th>df</th>\n",
       "      <th>p-value</th>\n",
       "      <th>stat-sign</th>\n",
       "    </tr>\n",
       "  </thead>\n",
       "  <tbody>\n",
       "    <tr>\n",
       "      <th>0</th>\n",
       "      <td>chisquare</td>\n",
       "      <td>class</td>\n",
       "      <td>age</td>\n",
       "      <td>0.841387</td>\n",
       "      <td>3</td>\n",
       "      <td>0.839544</td>\n",
       "      <td>False</td>\n",
       "    </tr>\n",
       "    <tr>\n",
       "      <th>1</th>\n",
       "      <td>chisquare</td>\n",
       "      <td>class</td>\n",
       "      <td>menopause</td>\n",
       "      <td>0.051432</td>\n",
       "      <td>1</td>\n",
       "      <td>0.820590</td>\n",
       "      <td>False</td>\n",
       "    </tr>\n",
       "    <tr>\n",
       "      <th>2</th>\n",
       "      <td>chisquare</td>\n",
       "      <td>class</td>\n",
       "      <td>tumour_size</td>\n",
       "      <td>11.124120</td>\n",
       "      <td>8</td>\n",
       "      <td>0.194765</td>\n",
       "      <td>False</td>\n",
       "    </tr>\n",
       "    <tr>\n",
       "      <th>3</th>\n",
       "      <td>chisquare</td>\n",
       "      <td>class</td>\n",
       "      <td>inv_nodes</td>\n",
       "      <td>17.678952</td>\n",
       "      <td>3</td>\n",
       "      <td>0.000512</td>\n",
       "      <td>True</td>\n",
       "    </tr>\n",
       "    <tr>\n",
       "      <th>4</th>\n",
       "      <td>chisquare</td>\n",
       "      <td>class</td>\n",
       "      <td>node_caps</td>\n",
       "      <td>18.538117</td>\n",
       "      <td>1</td>\n",
       "      <td>0.000017</td>\n",
       "      <td>True</td>\n",
       "    </tr>\n",
       "    <tr>\n",
       "      <th>5</th>\n",
       "      <td>chisquare</td>\n",
       "      <td>class</td>\n",
       "      <td>breast</td>\n",
       "      <td>0.167827</td>\n",
       "      <td>1</td>\n",
       "      <td>0.682050</td>\n",
       "      <td>False</td>\n",
       "    </tr>\n",
       "    <tr>\n",
       "      <th>6</th>\n",
       "      <td>chisquare</td>\n",
       "      <td>class</td>\n",
       "      <td>breast_quad</td>\n",
       "      <td>6.569205</td>\n",
       "      <td>4</td>\n",
       "      <td>0.160482</td>\n",
       "      <td>False</td>\n",
       "    </tr>\n",
       "    <tr>\n",
       "      <th>7</th>\n",
       "      <td>chisquare</td>\n",
       "      <td>class</td>\n",
       "      <td>irrad</td>\n",
       "      <td>10.970870</td>\n",
       "      <td>1</td>\n",
       "      <td>0.000926</td>\n",
       "      <td>True</td>\n",
       "    </tr>\n",
       "  </tbody>\n",
       "</table>\n",
       "</div>"
      ],
      "text/plain": [
       "   test-type grouping-var   categories  chi-square  df   p-value  stat-sign\n",
       "0  chisquare        class          age    0.841387   3  0.839544      False\n",
       "1  chisquare        class    menopause    0.051432   1  0.820590      False\n",
       "2  chisquare        class  tumour_size   11.124120   8  0.194765      False\n",
       "3  chisquare        class    inv_nodes   17.678952   3  0.000512       True\n",
       "4  chisquare        class    node_caps   18.538117   1  0.000017       True\n",
       "5  chisquare        class       breast    0.167827   1  0.682050      False\n",
       "6  chisquare        class  breast_quad    6.569205   4  0.160482      False\n",
       "7  chisquare        class        irrad   10.970870   1  0.000926       True"
      ]
     },
     "execution_count": 49,
     "metadata": {},
     "output_type": "execute_result"
    }
   ],
   "source": [
    "import os\n",
    "import contextlib\n",
    "\n",
    "categor = ['age', 'menopause', 'tumour_size', 'inv_nodes', 'node_caps', 'breast', 'breast_quad', 'irrad']\n",
    "\n",
    "results = []\n",
    "\n",
    "with contextlib.redirect_stdout(open(os.devnull, 'w')):\n",
    "    for cat in categor:\n",
    "        result = chisquare(data=data_train,\n",
    "                           groups='class',\n",
    "                           categories=cat,\n",
    "                           show=True,\n",
    "                           correction=False\n",
    "                          )\n",
    "        results.append(result)\n",
    "\n",
    "results_df = pd.concat(results, ignore_index=True)\n",
    "\n",
    "results_df\n"
   ]
  },
  {
   "cell_type": "markdown",
   "metadata": {},
   "source": [
    "Based on the correlation analysis between the categorical features, I will exclude ```'age'``` and ```'menopause'``` from the model training due to high and significant correlation which could result in multicollinearity. Notice also a high and significant correlation between ```'inv_nodes'``` and ```'node_caps'``` but I believe they will be usefull for training the model due to their significant correlation with the target feature.\n",
    "\n",
    "Some significant correlation worth looking at are:\n",
    "- ```'class'``` with ```'inv_nodes'```, ```'node_caps'```, ```'irrad'``` and ```'deg_malig'```\n",
    "- ```'tumour_size'``` with ```'breast_quad'```\n",
    "- ```'inv_nodes'``` with ```'node_caps'``` and ```'irrad'```\n",
    "- ```'node_caps'``` with ```'irrad'```\n",
    "\n",
    "For obvious reasons I believe ```'breast'``` and ```'breast_quad'``` represent the same concept and ```'breast'``` might be worth not including it in the training of the ML model"
   ]
  },
  {
   "cell_type": "code",
   "execution_count": 39,
   "metadata": {},
   "outputs": [],
   "source": [
    "# create a crosstab function for analysis\n",
    "def crosstab(x,y):\n",
    "    crosstab = pd.crosstab(\n",
    "                    data[x],\n",
    "                    data[y],\n",
    "                    margins=True,\n",
    "                    normalize=True,\n",
    "                )\n",
    "    crosstab = crosstab.style.highlight_between(left=0.5, right=0.99, color=\"#276221\")\n",
    "    return crosstab\n",
    "\n",
    "\n",
    "\n",
    "# function to calculate proportion based on attribute values\n",
    "def proportion(x,x_n,y,y_n,data):\n",
    "    tot = data[data[x]==x_n]\n",
    "    part = tot[tot[y]==y_n]\n",
    "    part = part[x].value_counts()\n",
    "    tot = tot[x].value_counts()\n",
    "    result = round(((part / tot) *100), 2)\n",
    "    result = float(result)\n",
    "    return result"
   ]
  },
  {
   "cell_type": "code",
   "execution_count": 40,
   "metadata": {},
   "outputs": [
    {
     "data": {
      "text/html": [
       "<style type=\"text/css\">\n",
       "#T_c6c72_row0_col0, #T_c6c72_row0_col7, #T_c6c72_row2_col0 {\n",
       "  background-color: #276221;\n",
       "}\n",
       "</style>\n",
       "<table id=\"T_c6c72_\">\n",
       "  <thead>\n",
       "    <tr>\n",
       "      <th class=\"index_name level0\" >inv_nodes</th>\n",
       "      <th class=\"col_heading level0 col0\" >0-2</th>\n",
       "      <th class=\"col_heading level0 col1\" >12-14</th>\n",
       "      <th class=\"col_heading level0 col2\" >15-17</th>\n",
       "      <th class=\"col_heading level0 col3\" >24-26</th>\n",
       "      <th class=\"col_heading level0 col4\" >3-5</th>\n",
       "      <th class=\"col_heading level0 col5\" >6-8</th>\n",
       "      <th class=\"col_heading level0 col6\" >9-11</th>\n",
       "      <th class=\"col_heading level0 col7\" >All</th>\n",
       "    </tr>\n",
       "    <tr>\n",
       "      <th class=\"index_name level0\" >class</th>\n",
       "      <th class=\"blank col0\" >&nbsp;</th>\n",
       "      <th class=\"blank col1\" >&nbsp;</th>\n",
       "      <th class=\"blank col2\" >&nbsp;</th>\n",
       "      <th class=\"blank col3\" >&nbsp;</th>\n",
       "      <th class=\"blank col4\" >&nbsp;</th>\n",
       "      <th class=\"blank col5\" >&nbsp;</th>\n",
       "      <th class=\"blank col6\" >&nbsp;</th>\n",
       "      <th class=\"blank col7\" >&nbsp;</th>\n",
       "    </tr>\n",
       "  </thead>\n",
       "  <tbody>\n",
       "    <tr>\n",
       "      <th id=\"T_c6c72_level0_row0\" class=\"row_heading level0 row0\" >no-recurrence-events</th>\n",
       "      <td id=\"T_c6c72_row0_col0\" class=\"data row0 col0\" >0.583916</td>\n",
       "      <td id=\"T_c6c72_row0_col1\" class=\"data row0 col1\" >0.003497</td>\n",
       "      <td id=\"T_c6c72_row0_col2\" class=\"data row0 col2\" >0.010490</td>\n",
       "      <td id=\"T_c6c72_row0_col3\" class=\"data row0 col3\" >0.000000</td>\n",
       "      <td id=\"T_c6c72_row0_col4\" class=\"data row0 col4\" >0.066434</td>\n",
       "      <td id=\"T_c6c72_row0_col5\" class=\"data row0 col5\" >0.024476</td>\n",
       "      <td id=\"T_c6c72_row0_col6\" class=\"data row0 col6\" >0.013986</td>\n",
       "      <td id=\"T_c6c72_row0_col7\" class=\"data row0 col7\" >0.702797</td>\n",
       "    </tr>\n",
       "    <tr>\n",
       "      <th id=\"T_c6c72_level0_row1\" class=\"row_heading level0 row1\" >recurrence-events</th>\n",
       "      <td id=\"T_c6c72_row1_col0\" class=\"data row1 col0\" >0.160839</td>\n",
       "      <td id=\"T_c6c72_row1_col1\" class=\"data row1 col1\" >0.006993</td>\n",
       "      <td id=\"T_c6c72_row1_col2\" class=\"data row1 col2\" >0.010490</td>\n",
       "      <td id=\"T_c6c72_row1_col3\" class=\"data row1 col3\" >0.003497</td>\n",
       "      <td id=\"T_c6c72_row1_col4\" class=\"data row1 col4\" >0.059441</td>\n",
       "      <td id=\"T_c6c72_row1_col5\" class=\"data row1 col5\" >0.034965</td>\n",
       "      <td id=\"T_c6c72_row1_col6\" class=\"data row1 col6\" >0.020979</td>\n",
       "      <td id=\"T_c6c72_row1_col7\" class=\"data row1 col7\" >0.297203</td>\n",
       "    </tr>\n",
       "    <tr>\n",
       "      <th id=\"T_c6c72_level0_row2\" class=\"row_heading level0 row2\" >All</th>\n",
       "      <td id=\"T_c6c72_row2_col0\" class=\"data row2 col0\" >0.744755</td>\n",
       "      <td id=\"T_c6c72_row2_col1\" class=\"data row2 col1\" >0.010490</td>\n",
       "      <td id=\"T_c6c72_row2_col2\" class=\"data row2 col2\" >0.020979</td>\n",
       "      <td id=\"T_c6c72_row2_col3\" class=\"data row2 col3\" >0.003497</td>\n",
       "      <td id=\"T_c6c72_row2_col4\" class=\"data row2 col4\" >0.125874</td>\n",
       "      <td id=\"T_c6c72_row2_col5\" class=\"data row2 col5\" >0.059441</td>\n",
       "      <td id=\"T_c6c72_row2_col6\" class=\"data row2 col6\" >0.034965</td>\n",
       "      <td id=\"T_c6c72_row2_col7\" class=\"data row2 col7\" >1.000000</td>\n",
       "    </tr>\n",
       "  </tbody>\n",
       "</table>\n"
      ],
      "text/plain": [
       "<pandas.io.formats.style.Styler at 0x19aac1e2430>"
      ]
     },
     "execution_count": 40,
     "metadata": {},
     "output_type": "execute_result"
    }
   ],
   "source": [
    "# run the functions\n",
    "crosstab('class', 'inv_nodes')"
   ]
  },
  {
   "cell_type": "code",
   "execution_count": 41,
   "metadata": {},
   "outputs": [
    {
     "data": {
      "text/html": [
       "<style type=\"text/css\">\n",
       "#T_eb8d9_row0_col0, #T_eb8d9_row0_col2, #T_eb8d9_row2_col0 {\n",
       "  background-color: #276221;\n",
       "}\n",
       "</style>\n",
       "<table id=\"T_eb8d9_\">\n",
       "  <thead>\n",
       "    <tr>\n",
       "      <th class=\"index_name level0\" >node_caps</th>\n",
       "      <th class=\"col_heading level0 col0\" >no</th>\n",
       "      <th class=\"col_heading level0 col1\" >yes</th>\n",
       "      <th class=\"col_heading level0 col2\" >All</th>\n",
       "    </tr>\n",
       "    <tr>\n",
       "      <th class=\"index_name level0\" >class</th>\n",
       "      <th class=\"blank col0\" >&nbsp;</th>\n",
       "      <th class=\"blank col1\" >&nbsp;</th>\n",
       "      <th class=\"blank col2\" >&nbsp;</th>\n",
       "    </tr>\n",
       "  </thead>\n",
       "  <tbody>\n",
       "    <tr>\n",
       "      <th id=\"T_eb8d9_level0_row0\" class=\"row_heading level0 row0\" >no-recurrence-events</th>\n",
       "      <td id=\"T_eb8d9_row0_col0\" class=\"data row0 col0\" >0.615108</td>\n",
       "      <td id=\"T_eb8d9_row0_col1\" class=\"data row0 col1\" >0.089928</td>\n",
       "      <td id=\"T_eb8d9_row0_col2\" class=\"data row0 col2\" >0.705036</td>\n",
       "    </tr>\n",
       "    <tr>\n",
       "      <th id=\"T_eb8d9_level0_row1\" class=\"row_heading level0 row1\" >recurrence-events</th>\n",
       "      <td id=\"T_eb8d9_row1_col0\" class=\"data row1 col0\" >0.183453</td>\n",
       "      <td id=\"T_eb8d9_row1_col1\" class=\"data row1 col1\" >0.111511</td>\n",
       "      <td id=\"T_eb8d9_row1_col2\" class=\"data row1 col2\" >0.294964</td>\n",
       "    </tr>\n",
       "    <tr>\n",
       "      <th id=\"T_eb8d9_level0_row2\" class=\"row_heading level0 row2\" >All</th>\n",
       "      <td id=\"T_eb8d9_row2_col0\" class=\"data row2 col0\" >0.798561</td>\n",
       "      <td id=\"T_eb8d9_row2_col1\" class=\"data row2 col1\" >0.201439</td>\n",
       "      <td id=\"T_eb8d9_row2_col2\" class=\"data row2 col2\" >1.000000</td>\n",
       "    </tr>\n",
       "  </tbody>\n",
       "</table>\n"
      ],
      "text/plain": [
       "<pandas.io.formats.style.Styler at 0x19aac1e25e0>"
      ]
     },
     "execution_count": 41,
     "metadata": {},
     "output_type": "execute_result"
    }
   ],
   "source": [
    "crosstab('class', 'node_caps')"
   ]
  },
  {
   "cell_type": "code",
   "execution_count": 42,
   "metadata": {},
   "outputs": [
    {
     "data": {
      "text/html": [
       "<style type=\"text/css\">\n",
       "#T_068cc_row0_col0, #T_068cc_row0_col2, #T_068cc_row2_col0 {\n",
       "  background-color: #276221;\n",
       "}\n",
       "</style>\n",
       "<table id=\"T_068cc_\">\n",
       "  <thead>\n",
       "    <tr>\n",
       "      <th class=\"index_name level0\" >irrad</th>\n",
       "      <th class=\"col_heading level0 col0\" >no</th>\n",
       "      <th class=\"col_heading level0 col1\" >yes</th>\n",
       "      <th class=\"col_heading level0 col2\" >All</th>\n",
       "    </tr>\n",
       "    <tr>\n",
       "      <th class=\"index_name level0\" >class</th>\n",
       "      <th class=\"blank col0\" >&nbsp;</th>\n",
       "      <th class=\"blank col1\" >&nbsp;</th>\n",
       "      <th class=\"blank col2\" >&nbsp;</th>\n",
       "    </tr>\n",
       "  </thead>\n",
       "  <tbody>\n",
       "    <tr>\n",
       "      <th id=\"T_068cc_level0_row0\" class=\"row_heading level0 row0\" >no-recurrence-events</th>\n",
       "      <td id=\"T_068cc_row0_col0\" class=\"data row0 col0\" >0.573427</td>\n",
       "      <td id=\"T_068cc_row0_col1\" class=\"data row0 col1\" >0.129371</td>\n",
       "      <td id=\"T_068cc_row0_col2\" class=\"data row0 col2\" >0.702797</td>\n",
       "    </tr>\n",
       "    <tr>\n",
       "      <th id=\"T_068cc_level0_row1\" class=\"row_heading level0 row1\" >recurrence-events</th>\n",
       "      <td id=\"T_068cc_row1_col0\" class=\"data row1 col0\" >0.188811</td>\n",
       "      <td id=\"T_068cc_row1_col1\" class=\"data row1 col1\" >0.108392</td>\n",
       "      <td id=\"T_068cc_row1_col2\" class=\"data row1 col2\" >0.297203</td>\n",
       "    </tr>\n",
       "    <tr>\n",
       "      <th id=\"T_068cc_level0_row2\" class=\"row_heading level0 row2\" >All</th>\n",
       "      <td id=\"T_068cc_row2_col0\" class=\"data row2 col0\" >0.762238</td>\n",
       "      <td id=\"T_068cc_row2_col1\" class=\"data row2 col1\" >0.237762</td>\n",
       "      <td id=\"T_068cc_row2_col2\" class=\"data row2 col2\" >1.000000</td>\n",
       "    </tr>\n",
       "  </tbody>\n",
       "</table>\n"
      ],
      "text/plain": [
       "<pandas.io.formats.style.Styler at 0x19aac5a49d0>"
      ]
     },
     "execution_count": 42,
     "metadata": {},
     "output_type": "execute_result"
    }
   ],
   "source": [
    "crosstab('class', 'irrad')"
   ]
  },
  {
   "cell_type": "code",
   "execution_count": 43,
   "metadata": {},
   "outputs": [
    {
     "data": {
      "text/html": [
       "<style type=\"text/css\">\n",
       "#T_da89d_row0_col3 {\n",
       "  background-color: #276221;\n",
       "}\n",
       "</style>\n",
       "<table id=\"T_da89d_\">\n",
       "  <thead>\n",
       "    <tr>\n",
       "      <th class=\"index_name level0\" >deg_malig</th>\n",
       "      <th class=\"col_heading level0 col0\" >1</th>\n",
       "      <th class=\"col_heading level0 col1\" >2</th>\n",
       "      <th class=\"col_heading level0 col2\" >3</th>\n",
       "      <th class=\"col_heading level0 col3\" >All</th>\n",
       "    </tr>\n",
       "    <tr>\n",
       "      <th class=\"index_name level0\" >class</th>\n",
       "      <th class=\"blank col0\" >&nbsp;</th>\n",
       "      <th class=\"blank col1\" >&nbsp;</th>\n",
       "      <th class=\"blank col2\" >&nbsp;</th>\n",
       "      <th class=\"blank col3\" >&nbsp;</th>\n",
       "    </tr>\n",
       "  </thead>\n",
       "  <tbody>\n",
       "    <tr>\n",
       "      <th id=\"T_da89d_level0_row0\" class=\"row_heading level0 row0\" >no-recurrence-events</th>\n",
       "      <td id=\"T_da89d_row0_col0\" class=\"data row0 col0\" >0.206294</td>\n",
       "      <td id=\"T_da89d_row0_col1\" class=\"data row0 col1\" >0.356643</td>\n",
       "      <td id=\"T_da89d_row0_col2\" class=\"data row0 col2\" >0.139860</td>\n",
       "      <td id=\"T_da89d_row0_col3\" class=\"data row0 col3\" >0.702797</td>\n",
       "    </tr>\n",
       "    <tr>\n",
       "      <th id=\"T_da89d_level0_row1\" class=\"row_heading level0 row1\" >recurrence-events</th>\n",
       "      <td id=\"T_da89d_row1_col0\" class=\"data row1 col0\" >0.041958</td>\n",
       "      <td id=\"T_da89d_row1_col1\" class=\"data row1 col1\" >0.097902</td>\n",
       "      <td id=\"T_da89d_row1_col2\" class=\"data row1 col2\" >0.157343</td>\n",
       "      <td id=\"T_da89d_row1_col3\" class=\"data row1 col3\" >0.297203</td>\n",
       "    </tr>\n",
       "    <tr>\n",
       "      <th id=\"T_da89d_level0_row2\" class=\"row_heading level0 row2\" >All</th>\n",
       "      <td id=\"T_da89d_row2_col0\" class=\"data row2 col0\" >0.248252</td>\n",
       "      <td id=\"T_da89d_row2_col1\" class=\"data row2 col1\" >0.454545</td>\n",
       "      <td id=\"T_da89d_row2_col2\" class=\"data row2 col2\" >0.297203</td>\n",
       "      <td id=\"T_da89d_row2_col3\" class=\"data row2 col3\" >1.000000</td>\n",
       "    </tr>\n",
       "  </tbody>\n",
       "</table>\n"
      ],
      "text/plain": [
       "<pandas.io.formats.style.Styler at 0x19aadb13160>"
      ]
     },
     "execution_count": 43,
     "metadata": {},
     "output_type": "execute_result"
    }
   ],
   "source": [
    "crosstab('class', 'deg_malig')"
   ]
  },
  {
   "cell_type": "code",
   "execution_count": 44,
   "metadata": {},
   "outputs": [
    {
     "ename": "NameError",
     "evalue": "name 'corr' is not defined",
     "output_type": "error",
     "traceback": [
      "\u001b[1;31m---------------------------------------------------------------------------\u001b[0m",
      "\u001b[1;31mNameError\u001b[0m                                 Traceback (most recent call last)",
      "Cell \u001b[1;32mIn[44], line 1\u001b[0m\n\u001b[1;32m----> 1\u001b[0m corr[\u001b[39m'\u001b[39m\u001b[39minv_nodes\u001b[39m\u001b[39m'\u001b[39m] \u001b[39m=\u001b[39m corr[\u001b[39m'\u001b[39m\u001b[39minv_nodes\u001b[39m\u001b[39m'\u001b[39m]\u001b[39m.\u001b[39mreplace([\u001b[39m'\u001b[39m\u001b[39m0-2\u001b[39m\u001b[39m'\u001b[39m,\u001b[39m'\u001b[39m\u001b[39m3-5\u001b[39m\u001b[39m'\u001b[39m,\u001b[39m'\u001b[39m\u001b[39m6-8\u001b[39m\u001b[39m'\u001b[39m,\u001b[39m'\u001b[39m\u001b[39m9-11\u001b[39m\u001b[39m'\u001b[39m,\u001b[39m'\u001b[39m\u001b[39m12-14\u001b[39m\u001b[39m'\u001b[39m,\u001b[39m'\u001b[39m\u001b[39m15-17\u001b[39m\u001b[39m'\u001b[39m,\u001b[39m'\u001b[39m\u001b[39m24-26\u001b[39m\u001b[39m'\u001b[39m],[\u001b[39m0\u001b[39m,\u001b[39m1\u001b[39m,\u001b[39m2\u001b[39m,\u001b[39m3\u001b[39m,\u001b[39m4\u001b[39m,\u001b[39m5\u001b[39m,\u001b[39m6\u001b[39m])\n\u001b[0;32m      3\u001b[0m \u001b[39m# run through a while loop to iterate proportion() for 7 times\u001b[39;00m\n\u001b[0;32m      4\u001b[0m count \u001b[39m=\u001b[39m \u001b[39m0\u001b[39m  \n",
      "\u001b[1;31mNameError\u001b[0m: name 'corr' is not defined"
     ]
    }
   ],
   "source": [
    "corr['inv_nodes'] = corr['inv_nodes'].replace(['0-2','3-5','6-8','9-11','12-14','15-17','24-26'],[0,1,2,3,4,5,6])\n",
    "\n",
    "# run through a while loop to iterate proportion() for 7 times\n",
    "count = 0  \n",
    "lis = [] # list to append results and plot later\n",
    "\n",
    "while count < 7:\n",
    "    res = proportion('inv_nodes',count,'class','recurrence-events',corr)\n",
    "    lis.append(res)\n",
    "    count +=1\n",
    "\n",
    "yax3 = np.array(lis)\n",
    "\n",
    "\n",
    "bp1_1 = proportion('node_caps','yes','class','recurrence-events',data)\n",
    "bp2_1 = proportion('node_caps','no','class','recurrence-events',data)\n",
    "bp3_1 = proportion('node_caps','yes','class','no-recurrence-events',data)\n",
    "\n",
    "bp1_2 = proportion('deg_malig',3,'class','recurrence-events',data)\n",
    "bp2_2 = proportion('deg_malig',1,'class','no-recurrence-events',data)\n",
    "bp3_2 = proportion('deg_malig',2,'class','no-recurrence-events',data)\n",
    "\n",
    "bp1_3 = proportion('irrad','yes','class','recurrence-events',data)\n",
    "bp2_3 = proportion('irrad','no','class','recurrence-events',data)\n",
    "bp3_3 = proportion('irrad','yes','class','no-recurrence-events',data)"
   ]
  },
  {
   "cell_type": "code",
   "execution_count": null,
   "metadata": {},
   "outputs": [
    {
     "data": {
      "image/png": "[encoded data removed]",
      "text/plain": [
       "<Figure size 800x1800 with 4 Axes>"
      ]
     },
     "metadata": {},
     "output_type": "display_data"
    }
   ],
   "source": [
    "# create a subplot layout with three subplots\n",
    "fig, (ax2, ax3, ax4, ax5) = plt.subplots(4, 1, gridspec_kw={'height_ratios': [10,10,10,10]})\n",
    "fig.set_size_inches(8,18)\n",
    "\n",
    "\n",
    "# add each of the individual plots to its corresponding subplot\n",
    "\n",
    "ax2.barh(['yes perforated lymph node, yes recurrence','no perforated lymph node, yes recurrence', 'yes perforated lymph node, no recurrence'], [bp1_1,bp2_1,bp3_1], color='maroon')\n",
    "ax3.plot(yax3, color = 'r')\n",
    "ax4.barh(['high malignancy, yes recurrence','lowest malignancy, no recurrence', 'medium malignancy, no recurrence'], [bp1_2,bp2_2,bp3_2], color='maroon')\n",
    "ax5.barh(['yes radiation therapy, yes recurrence','no radiation therapy, yes recurrence', 'yes radiation therapy, no recurrence'], [bp1_3,bp2_3,bp3_3], color='maroon')\n",
    "\n",
    "\n",
    "ax2.set_title(r'Patients $\\bf{distribution}$ based on \"Class\" and \"Lymph Nodes have Perforated Capsule\" Conditions')\n",
    "ax3.set_title(r'Patients that experienced a $\\bf{Recurrence}$ Event by the $\\bf{Number}$ of Invaded Lymph Nodes')\n",
    "ax4.set_title(r'Patients $\\bf{distribution}$ based on \"Class\" and \"Degree of Malignancy\" Conditions')\n",
    "ax5.set_title(r'Patients $\\bf{distribution}$ based on \"Class\" and \"Radiation Therapy\" Conditions')\n",
    "\n",
    "\n",
    "ax2.set_xlabel('Proportion (in %)')\n",
    "ax2.set_xlim(0, 100)\n",
    "\n",
    "ax3.set_xlabel('Count of Invaded Lymph Nodes')\n",
    "ax3.set_ylabel('Count of Patients')\n",
    "ax3.set_xticks([0,1,2,3,4,5,6])\n",
    "ax3_labels = ['0-2','3-5','6-8','9-11','12-14','15-17','24-26']\n",
    "ax3.set_xticklabels(ax3_labels)\n",
    "\n",
    "ax4.set_xlabel('Proportion (in %)')\n",
    "ax4.set_xlim(0, 100)\n",
    "\n",
    "ax5.set_xlabel('Proportion (in %)')\n",
    "ax5.set_xlim(0, 100)\n",
    "\n",
    "# show the figure\n",
    "plt.subplots_adjust(hspace=0.8, wspace=0.6)\n",
    "plt.show()"
   ]
  },
  {
   "cell_type": "markdown",
   "metadata": {},
   "source": [
    "Patients that experience a recurrence event were more likely to have perforated lymph nodes.<br>\n",
    "Patients that experienced a recurrence event and did have radiation therapy as a prevention method or part of treating the disease where little less than half, also to note that little more than half of patients that had radiation therapy didn't experience a recurrence. Meaning that radiation therapy can be considered a prevention factor but not totally, there is still an interesting correlation. <br>\n",
    "Little more than half of the patients that had higher degree of malignancy experienced a recurrence later on. There is a correlation between degree of malignancy and recurrence events."
   ]
  },
  {
   "cell_type": "code",
   "execution_count": null,
   "metadata": {},
   "outputs": [
    {
     "data": {
      "text/html": [
       "<style type=\"text/css\">\n",
       "</style>\n",
       "<table id=\"T_0b07a_\">\n",
       "  <thead>\n",
       "    <tr>\n",
       "      <th class=\"index_name level0\" >breast_quad</th>\n",
       "      <th class=\"col_heading level0 col0\" >central</th>\n",
       "      <th class=\"col_heading level0 col1\" >left_low</th>\n",
       "      <th class=\"col_heading level0 col2\" >left_up</th>\n",
       "      <th class=\"col_heading level0 col3\" >right_low</th>\n",
       "      <th class=\"col_heading level0 col4\" >right_up</th>\n",
       "      <th class=\"col_heading level0 col5\" >All</th>\n",
       "    </tr>\n",
       "    <tr>\n",
       "      <th class=\"index_name level0\" >tumour_size</th>\n",
       "      <th class=\"blank col0\" >&nbsp;</th>\n",
       "      <th class=\"blank col1\" >&nbsp;</th>\n",
       "      <th class=\"blank col2\" >&nbsp;</th>\n",
       "      <th class=\"blank col3\" >&nbsp;</th>\n",
       "      <th class=\"blank col4\" >&nbsp;</th>\n",
       "      <th class=\"blank col5\" >&nbsp;</th>\n",
       "    </tr>\n",
       "  </thead>\n",
       "  <tbody>\n",
       "    <tr>\n",
       "      <th id=\"T_0b07a_level0_row0\" class=\"row_heading level0 row0\" >0-4</th>\n",
       "      <td id=\"T_0b07a_row0_col0\" class=\"data row0 col0\" >0.017544</td>\n",
       "      <td id=\"T_0b07a_row0_col1\" class=\"data row0 col1\" >0.003509</td>\n",
       "      <td id=\"T_0b07a_row0_col2\" class=\"data row0 col2\" >0.000000</td>\n",
       "      <td id=\"T_0b07a_row0_col3\" class=\"data row0 col3\" >0.007018</td>\n",
       "      <td id=\"T_0b07a_row0_col4\" class=\"data row0 col4\" >0.000000</td>\n",
       "      <td id=\"T_0b07a_row0_col5\" class=\"data row0 col5\" >0.028070</td>\n",
       "    </tr>\n",
       "    <tr>\n",
       "      <th id=\"T_0b07a_level0_row1\" class=\"row_heading level0 row1\" >10-14</th>\n",
       "      <td id=\"T_0b07a_row1_col0\" class=\"data row1 col0\" >0.003509</td>\n",
       "      <td id=\"T_0b07a_row1_col1\" class=\"data row1 col1\" >0.042105</td>\n",
       "      <td id=\"T_0b07a_row1_col2\" class=\"data row1 col2\" >0.042105</td>\n",
       "      <td id=\"T_0b07a_row1_col3\" class=\"data row1 col3\" >0.007018</td>\n",
       "      <td id=\"T_0b07a_row1_col4\" class=\"data row1 col4\" >0.003509</td>\n",
       "      <td id=\"T_0b07a_row1_col5\" class=\"data row1 col5\" >0.098246</td>\n",
       "    </tr>\n",
       "    <tr>\n",
       "      <th id=\"T_0b07a_level0_row2\" class=\"row_heading level0 row2\" >15-19</th>\n",
       "      <td id=\"T_0b07a_row2_col0\" class=\"data row2 col0\" >0.010526</td>\n",
       "      <td id=\"T_0b07a_row2_col1\" class=\"data row2 col1\" >0.052632</td>\n",
       "      <td id=\"T_0b07a_row2_col2\" class=\"data row2 col2\" >0.028070</td>\n",
       "      <td id=\"T_0b07a_row2_col3\" class=\"data row2 col3\" >0.010526</td>\n",
       "      <td id=\"T_0b07a_row2_col4\" class=\"data row2 col4\" >0.003509</td>\n",
       "      <td id=\"T_0b07a_row2_col5\" class=\"data row2 col5\" >0.105263</td>\n",
       "    </tr>\n",
       "    <tr>\n",
       "      <th id=\"T_0b07a_level0_row3\" class=\"row_heading level0 row3\" >20-24</th>\n",
       "      <td id=\"T_0b07a_row3_col0\" class=\"data row3 col0\" >0.014035</td>\n",
       "      <td id=\"T_0b07a_row3_col1\" class=\"data row3 col1\" >0.066667</td>\n",
       "      <td id=\"T_0b07a_row3_col2\" class=\"data row3 col2\" >0.070175</td>\n",
       "      <td id=\"T_0b07a_row3_col3\" class=\"data row3 col3\" >0.010526</td>\n",
       "      <td id=\"T_0b07a_row3_col4\" class=\"data row3 col4\" >0.014035</td>\n",
       "      <td id=\"T_0b07a_row3_col5\" class=\"data row3 col5\" >0.175439</td>\n",
       "    </tr>\n",
       "    <tr>\n",
       "      <th id=\"T_0b07a_level0_row4\" class=\"row_heading level0 row4\" >25-29</th>\n",
       "      <td id=\"T_0b07a_row4_col0\" class=\"data row4 col0\" >0.007018</td>\n",
       "      <td id=\"T_0b07a_row4_col1\" class=\"data row4 col1\" >0.077193</td>\n",
       "      <td id=\"T_0b07a_row4_col2\" class=\"data row4 col2\" >0.059649</td>\n",
       "      <td id=\"T_0b07a_row4_col3\" class=\"data row4 col3\" >0.028070</td>\n",
       "      <td id=\"T_0b07a_row4_col4\" class=\"data row4 col4\" >0.017544</td>\n",
       "      <td id=\"T_0b07a_row4_col5\" class=\"data row4 col5\" >0.189474</td>\n",
       "    </tr>\n",
       "    <tr>\n",
       "      <th id=\"T_0b07a_level0_row5\" class=\"row_heading level0 row5\" >30-34</th>\n",
       "      <td id=\"T_0b07a_row5_col0\" class=\"data row5 col0\" >0.014035</td>\n",
       "      <td id=\"T_0b07a_row5_col1\" class=\"data row5 col1\" >0.063158</td>\n",
       "      <td id=\"T_0b07a_row5_col2\" class=\"data row5 col2\" >0.073684</td>\n",
       "      <td id=\"T_0b07a_row5_col3\" class=\"data row5 col3\" >0.017544</td>\n",
       "      <td id=\"T_0b07a_row5_col4\" class=\"data row5 col4\" >0.038596</td>\n",
       "      <td id=\"T_0b07a_row5_col5\" class=\"data row5 col5\" >0.207018</td>\n",
       "    </tr>\n",
       "    <tr>\n",
       "      <th id=\"T_0b07a_level0_row6\" class=\"row_heading level0 row6\" >35-39</th>\n",
       "      <td id=\"T_0b07a_row6_col0\" class=\"data row6 col0\" >0.000000</td>\n",
       "      <td id=\"T_0b07a_row6_col1\" class=\"data row6 col1\" >0.031579</td>\n",
       "      <td id=\"T_0b07a_row6_col2\" class=\"data row6 col2\" >0.021053</td>\n",
       "      <td id=\"T_0b07a_row6_col3\" class=\"data row6 col3\" >0.000000</td>\n",
       "      <td id=\"T_0b07a_row6_col4\" class=\"data row6 col4\" >0.014035</td>\n",
       "      <td id=\"T_0b07a_row6_col5\" class=\"data row6 col5\" >0.066667</td>\n",
       "    </tr>\n",
       "    <tr>\n",
       "      <th id=\"T_0b07a_level0_row7\" class=\"row_heading level0 row7\" >40-44</th>\n",
       "      <td id=\"T_0b07a_row7_col0\" class=\"data row7 col0\" >0.000000</td>\n",
       "      <td id=\"T_0b07a_row7_col1\" class=\"data row7 col1\" >0.031579</td>\n",
       "      <td id=\"T_0b07a_row7_col2\" class=\"data row7 col2\" >0.031579</td>\n",
       "      <td id=\"T_0b07a_row7_col3\" class=\"data row7 col3\" >0.000000</td>\n",
       "      <td id=\"T_0b07a_row7_col4\" class=\"data row7 col4\" >0.014035</td>\n",
       "      <td id=\"T_0b07a_row7_col5\" class=\"data row7 col5\" >0.077193</td>\n",
       "    </tr>\n",
       "    <tr>\n",
       "      <th id=\"T_0b07a_level0_row8\" class=\"row_heading level0 row8\" >45-49</th>\n",
       "      <td id=\"T_0b07a_row8_col0\" class=\"data row8 col0\" >0.003509</td>\n",
       "      <td id=\"T_0b07a_row8_col1\" class=\"data row8 col1\" >0.003509</td>\n",
       "      <td id=\"T_0b07a_row8_col2\" class=\"data row8 col2\" >0.000000</td>\n",
       "      <td id=\"T_0b07a_row8_col3\" class=\"data row8 col3\" >0.000000</td>\n",
       "      <td id=\"T_0b07a_row8_col4\" class=\"data row8 col4\" >0.003509</td>\n",
       "      <td id=\"T_0b07a_row8_col5\" class=\"data row8 col5\" >0.010526</td>\n",
       "    </tr>\n",
       "    <tr>\n",
       "      <th id=\"T_0b07a_level0_row9\" class=\"row_heading level0 row9\" >5-9</th>\n",
       "      <td id=\"T_0b07a_row9_col0\" class=\"data row9 col0\" >0.003509</td>\n",
       "      <td id=\"T_0b07a_row9_col1\" class=\"data row9 col1\" >0.003509</td>\n",
       "      <td id=\"T_0b07a_row9_col2\" class=\"data row9 col2\" >0.000000</td>\n",
       "      <td id=\"T_0b07a_row9_col3\" class=\"data row9 col3\" >0.003509</td>\n",
       "      <td id=\"T_0b07a_row9_col4\" class=\"data row9 col4\" >0.003509</td>\n",
       "      <td id=\"T_0b07a_row9_col5\" class=\"data row9 col5\" >0.014035</td>\n",
       "    </tr>\n",
       "    <tr>\n",
       "      <th id=\"T_0b07a_level0_row10\" class=\"row_heading level0 row10\" >50-54</th>\n",
       "      <td id=\"T_0b07a_row10_col0\" class=\"data row10 col0\" >0.000000</td>\n",
       "      <td id=\"T_0b07a_row10_col1\" class=\"data row10 col1\" >0.010526</td>\n",
       "      <td id=\"T_0b07a_row10_col2\" class=\"data row10 col2\" >0.014035</td>\n",
       "      <td id=\"T_0b07a_row10_col3\" class=\"data row10 col3\" >0.000000</td>\n",
       "      <td id=\"T_0b07a_row10_col4\" class=\"data row10 col4\" >0.003509</td>\n",
       "      <td id=\"T_0b07a_row10_col5\" class=\"data row10 col5\" >0.028070</td>\n",
       "    </tr>\n",
       "    <tr>\n",
       "      <th id=\"T_0b07a_level0_row11\" class=\"row_heading level0 row11\" >All</th>\n",
       "      <td id=\"T_0b07a_row11_col0\" class=\"data row11 col0\" >0.073684</td>\n",
       "      <td id=\"T_0b07a_row11_col1\" class=\"data row11 col1\" >0.385965</td>\n",
       "      <td id=\"T_0b07a_row11_col2\" class=\"data row11 col2\" >0.340351</td>\n",
       "      <td id=\"T_0b07a_row11_col3\" class=\"data row11 col3\" >0.084211</td>\n",
       "      <td id=\"T_0b07a_row11_col4\" class=\"data row11 col4\" >0.115789</td>\n",
       "      <td id=\"T_0b07a_row11_col5\" class=\"data row11 col5\" >1.000000</td>\n",
       "    </tr>\n",
       "  </tbody>\n",
       "</table>\n"
      ],
      "text/plain": [
       "<pandas.io.formats.style.Styler at 0x1d5af7f6c40>"
      ]
     },
     "execution_count": 32,
     "metadata": {},
     "output_type": "execute_result"
    }
   ],
   "source": [
    "crosstab('tumour_size', 'breast_quad')"
   ]
  },
  {
   "cell_type": "code",
   "execution_count": null,
   "metadata": {},
   "outputs": [
    {
     "data": {
      "text/html": [
       "<style type=\"text/css\">\n",
       "#T_f4d99_row0_col0, #T_f4d99_row0_col2, #T_f4d99_row7_col0 {\n",
       "  background-color: #276221;\n",
       "}\n",
       "</style>\n",
       "<table id=\"T_f4d99_\">\n",
       "  <thead>\n",
       "    <tr>\n",
       "      <th class=\"index_name level0\" >node_caps</th>\n",
       "      <th class=\"col_heading level0 col0\" >no</th>\n",
       "      <th class=\"col_heading level0 col1\" >yes</th>\n",
       "      <th class=\"col_heading level0 col2\" >All</th>\n",
       "    </tr>\n",
       "    <tr>\n",
       "      <th class=\"index_name level0\" >inv_nodes</th>\n",
       "      <th class=\"blank col0\" >&nbsp;</th>\n",
       "      <th class=\"blank col1\" >&nbsp;</th>\n",
       "      <th class=\"blank col2\" >&nbsp;</th>\n",
       "    </tr>\n",
       "  </thead>\n",
       "  <tbody>\n",
       "    <tr>\n",
       "      <th id=\"T_f4d99_level0_row0\" class=\"row_heading level0 row0\" >0-2</th>\n",
       "      <td id=\"T_f4d99_row0_col0\" class=\"data row0 col0\" >0.723022</td>\n",
       "      <td id=\"T_f4d99_row0_col1\" class=\"data row0 col1\" >0.032374</td>\n",
       "      <td id=\"T_f4d99_row0_col2\" class=\"data row0 col2\" >0.755396</td>\n",
       "    </tr>\n",
       "    <tr>\n",
       "      <th id=\"T_f4d99_level0_row1\" class=\"row_heading level0 row1\" >12-14</th>\n",
       "      <td id=\"T_f4d99_row1_col0\" class=\"data row1 col0\" >0.003597</td>\n",
       "      <td id=\"T_f4d99_row1_col1\" class=\"data row1 col1\" >0.007194</td>\n",
       "      <td id=\"T_f4d99_row1_col2\" class=\"data row1 col2\" >0.010791</td>\n",
       "    </tr>\n",
       "    <tr>\n",
       "      <th id=\"T_f4d99_level0_row2\" class=\"row_heading level0 row2\" >15-17</th>\n",
       "      <td id=\"T_f4d99_row2_col0\" class=\"data row2 col0\" >0.003597</td>\n",
       "      <td id=\"T_f4d99_row2_col1\" class=\"data row2 col1\" >0.017986</td>\n",
       "      <td id=\"T_f4d99_row2_col2\" class=\"data row2 col2\" >0.021583</td>\n",
       "    </tr>\n",
       "    <tr>\n",
       "      <th id=\"T_f4d99_level0_row3\" class=\"row_heading level0 row3\" >24-26</th>\n",
       "      <td id=\"T_f4d99_row3_col0\" class=\"data row3 col0\" >0.000000</td>\n",
       "      <td id=\"T_f4d99_row3_col1\" class=\"data row3 col1\" >0.003597</td>\n",
       "      <td id=\"T_f4d99_row3_col2\" class=\"data row3 col2\" >0.003597</td>\n",
       "    </tr>\n",
       "    <tr>\n",
       "      <th id=\"T_f4d99_level0_row4\" class=\"row_heading level0 row4\" >3-5</th>\n",
       "      <td id=\"T_f4d99_row4_col0\" class=\"data row4 col0\" >0.053957</td>\n",
       "      <td id=\"T_f4d99_row4_col1\" class=\"data row4 col1\" >0.068345</td>\n",
       "      <td id=\"T_f4d99_row4_col2\" class=\"data row4 col2\" >0.122302</td>\n",
       "    </tr>\n",
       "    <tr>\n",
       "      <th id=\"T_f4d99_level0_row5\" class=\"row_heading level0 row5\" >6-8</th>\n",
       "      <td id=\"T_f4d99_row5_col0\" class=\"data row5 col0\" >0.010791</td>\n",
       "      <td id=\"T_f4d99_row5_col1\" class=\"data row5 col1\" >0.050360</td>\n",
       "      <td id=\"T_f4d99_row5_col2\" class=\"data row5 col2\" >0.061151</td>\n",
       "    </tr>\n",
       "    <tr>\n",
       "      <th id=\"T_f4d99_level0_row6\" class=\"row_heading level0 row6\" >9-11</th>\n",
       "      <td id=\"T_f4d99_row6_col0\" class=\"data row6 col0\" >0.003597</td>\n",
       "      <td id=\"T_f4d99_row6_col1\" class=\"data row6 col1\" >0.021583</td>\n",
       "      <td id=\"T_f4d99_row6_col2\" class=\"data row6 col2\" >0.025180</td>\n",
       "    </tr>\n",
       "    <tr>\n",
       "      <th id=\"T_f4d99_level0_row7\" class=\"row_heading level0 row7\" >All</th>\n",
       "      <td id=\"T_f4d99_row7_col0\" class=\"data row7 col0\" >0.798561</td>\n",
       "      <td id=\"T_f4d99_row7_col1\" class=\"data row7 col1\" >0.201439</td>\n",
       "      <td id=\"T_f4d99_row7_col2\" class=\"data row7 col2\" >1.000000</td>\n",
       "    </tr>\n",
       "  </tbody>\n",
       "</table>\n"
      ],
      "text/plain": [
       "<pandas.io.formats.style.Styler at 0x1d5afdd2c40>"
      ]
     },
     "execution_count": 33,
     "metadata": {},
     "output_type": "execute_result"
    }
   ],
   "source": [
    "crosstab('inv_nodes', 'node_caps')"
   ]
  },
  {
   "cell_type": "code",
   "execution_count": null,
   "metadata": {},
   "outputs": [
    {
     "data": {
      "text/html": [
       "<style type=\"text/css\">\n",
       "#T_0f3ce_row0_col0, #T_0f3ce_row0_col2, #T_0f3ce_row7_col0 {\n",
       "  background-color: #276221;\n",
       "}\n",
       "</style>\n",
       "<table id=\"T_0f3ce_\">\n",
       "  <thead>\n",
       "    <tr>\n",
       "      <th class=\"index_name level0\" >irrad</th>\n",
       "      <th class=\"col_heading level0 col0\" >no</th>\n",
       "      <th class=\"col_heading level0 col1\" >yes</th>\n",
       "      <th class=\"col_heading level0 col2\" >All</th>\n",
       "    </tr>\n",
       "    <tr>\n",
       "      <th class=\"index_name level0\" >inv_nodes</th>\n",
       "      <th class=\"blank col0\" >&nbsp;</th>\n",
       "      <th class=\"blank col1\" >&nbsp;</th>\n",
       "      <th class=\"blank col2\" >&nbsp;</th>\n",
       "    </tr>\n",
       "  </thead>\n",
       "  <tbody>\n",
       "    <tr>\n",
       "      <th id=\"T_0f3ce_level0_row0\" class=\"row_heading level0 row0\" >0-2</th>\n",
       "      <td id=\"T_0f3ce_row0_col0\" class=\"data row0 col0\" >0.639860</td>\n",
       "      <td id=\"T_0f3ce_row0_col1\" class=\"data row0 col1\" >0.104895</td>\n",
       "      <td id=\"T_0f3ce_row0_col2\" class=\"data row0 col2\" >0.744755</td>\n",
       "    </tr>\n",
       "    <tr>\n",
       "      <th id=\"T_0f3ce_level0_row1\" class=\"row_heading level0 row1\" >12-14</th>\n",
       "      <td id=\"T_0f3ce_row1_col0\" class=\"data row1 col0\" >0.000000</td>\n",
       "      <td id=\"T_0f3ce_row1_col1\" class=\"data row1 col1\" >0.010490</td>\n",
       "      <td id=\"T_0f3ce_row1_col2\" class=\"data row1 col2\" >0.010490</td>\n",
       "    </tr>\n",
       "    <tr>\n",
       "      <th id=\"T_0f3ce_level0_row2\" class=\"row_heading level0 row2\" >15-17</th>\n",
       "      <td id=\"T_0f3ce_row2_col0\" class=\"data row2 col0\" >0.017483</td>\n",
       "      <td id=\"T_0f3ce_row2_col1\" class=\"data row2 col1\" >0.003497</td>\n",
       "      <td id=\"T_0f3ce_row2_col2\" class=\"data row2 col2\" >0.020979</td>\n",
       "    </tr>\n",
       "    <tr>\n",
       "      <th id=\"T_0f3ce_level0_row3\" class=\"row_heading level0 row3\" >24-26</th>\n",
       "      <td id=\"T_0f3ce_row3_col0\" class=\"data row3 col0\" >0.000000</td>\n",
       "      <td id=\"T_0f3ce_row3_col1\" class=\"data row3 col1\" >0.003497</td>\n",
       "      <td id=\"T_0f3ce_row3_col2\" class=\"data row3 col2\" >0.003497</td>\n",
       "    </tr>\n",
       "    <tr>\n",
       "      <th id=\"T_0f3ce_level0_row4\" class=\"row_heading level0 row4\" >3-5</th>\n",
       "      <td id=\"T_0f3ce_row4_col0\" class=\"data row4 col0\" >0.066434</td>\n",
       "      <td id=\"T_0f3ce_row4_col1\" class=\"data row4 col1\" >0.059441</td>\n",
       "      <td id=\"T_0f3ce_row4_col2\" class=\"data row4 col2\" >0.125874</td>\n",
       "    </tr>\n",
       "    <tr>\n",
       "      <th id=\"T_0f3ce_level0_row5\" class=\"row_heading level0 row5\" >6-8</th>\n",
       "      <td id=\"T_0f3ce_row5_col0\" class=\"data row5 col0\" >0.027972</td>\n",
       "      <td id=\"T_0f3ce_row5_col1\" class=\"data row5 col1\" >0.031469</td>\n",
       "      <td id=\"T_0f3ce_row5_col2\" class=\"data row5 col2\" >0.059441</td>\n",
       "    </tr>\n",
       "    <tr>\n",
       "      <th id=\"T_0f3ce_level0_row6\" class=\"row_heading level0 row6\" >9-11</th>\n",
       "      <td id=\"T_0f3ce_row6_col0\" class=\"data row6 col0\" >0.010490</td>\n",
       "      <td id=\"T_0f3ce_row6_col1\" class=\"data row6 col1\" >0.024476</td>\n",
       "      <td id=\"T_0f3ce_row6_col2\" class=\"data row6 col2\" >0.034965</td>\n",
       "    </tr>\n",
       "    <tr>\n",
       "      <th id=\"T_0f3ce_level0_row7\" class=\"row_heading level0 row7\" >All</th>\n",
       "      <td id=\"T_0f3ce_row7_col0\" class=\"data row7 col0\" >0.762238</td>\n",
       "      <td id=\"T_0f3ce_row7_col1\" class=\"data row7 col1\" >0.237762</td>\n",
       "      <td id=\"T_0f3ce_row7_col2\" class=\"data row7 col2\" >1.000000</td>\n",
       "    </tr>\n",
       "  </tbody>\n",
       "</table>\n"
      ],
      "text/plain": [
       "<pandas.io.formats.style.Styler at 0x1d5afdd29d0>"
      ]
     },
     "execution_count": 34,
     "metadata": {},
     "output_type": "execute_result"
    }
   ],
   "source": [
    "crosstab('inv_nodes', 'irrad')"
   ]
  },
  {
   "cell_type": "code",
   "execution_count": null,
   "metadata": {},
   "outputs": [
    {
     "data": {
      "text/html": [
       "<style type=\"text/css\">\n",
       "#T_b9c0e_row0_col0, #T_b9c0e_row0_col2, #T_b9c0e_row2_col0 {\n",
       "  background-color: #276221;\n",
       "}\n",
       "</style>\n",
       "<table id=\"T_b9c0e_\">\n",
       "  <thead>\n",
       "    <tr>\n",
       "      <th class=\"index_name level0\" >irrad</th>\n",
       "      <th class=\"col_heading level0 col0\" >no</th>\n",
       "      <th class=\"col_heading level0 col1\" >yes</th>\n",
       "      <th class=\"col_heading level0 col2\" >All</th>\n",
       "    </tr>\n",
       "    <tr>\n",
       "      <th class=\"index_name level0\" >node_caps</th>\n",
       "      <th class=\"blank col0\" >&nbsp;</th>\n",
       "      <th class=\"blank col1\" >&nbsp;</th>\n",
       "      <th class=\"blank col2\" >&nbsp;</th>\n",
       "    </tr>\n",
       "  </thead>\n",
       "  <tbody>\n",
       "    <tr>\n",
       "      <th id=\"T_b9c0e_level0_row0\" class=\"row_heading level0 row0\" >no</th>\n",
       "      <td id=\"T_b9c0e_row0_col0\" class=\"data row0 col0\" >0.676259</td>\n",
       "      <td id=\"T_b9c0e_row0_col1\" class=\"data row0 col1\" >0.122302</td>\n",
       "      <td id=\"T_b9c0e_row0_col2\" class=\"data row0 col2\" >0.798561</td>\n",
       "    </tr>\n",
       "    <tr>\n",
       "      <th id=\"T_b9c0e_level0_row1\" class=\"row_heading level0 row1\" >yes</th>\n",
       "      <td id=\"T_b9c0e_row1_col0\" class=\"data row1 col0\" >0.100719</td>\n",
       "      <td id=\"T_b9c0e_row1_col1\" class=\"data row1 col1\" >0.100719</td>\n",
       "      <td id=\"T_b9c0e_row1_col2\" class=\"data row1 col2\" >0.201439</td>\n",
       "    </tr>\n",
       "    <tr>\n",
       "      <th id=\"T_b9c0e_level0_row2\" class=\"row_heading level0 row2\" >All</th>\n",
       "      <td id=\"T_b9c0e_row2_col0\" class=\"data row2 col0\" >0.776978</td>\n",
       "      <td id=\"T_b9c0e_row2_col1\" class=\"data row2 col1\" >0.223022</td>\n",
       "      <td id=\"T_b9c0e_row2_col2\" class=\"data row2 col2\" >1.000000</td>\n",
       "    </tr>\n",
       "  </tbody>\n",
       "</table>\n"
      ],
      "text/plain": [
       "<pandas.io.formats.style.Styler at 0x1d5af8a4910>"
      ]
     },
     "execution_count": 35,
     "metadata": {},
     "output_type": "execute_result"
    }
   ],
   "source": [
    "crosstab('node_caps', 'irrad')"
   ]
  },
  {
   "cell_type": "code",
   "execution_count": null,
   "metadata": {},
   "outputs": [],
   "source": [
    "corr['tumour_size'] = corr['tumour_size'].replace(['0-4','5-9','10-14','15-19','20-24','25-29','30-34','35-39','40-44','45-49','50-54'],[0,1,2,3,4,5,6,7,8,9,10])\n",
    "\n",
    "# run through a while loop to iterate proportion() for 7 times\n",
    "count = 0  \n",
    "lis = [] # list to append results and plot later\n",
    "\n",
    "while count < 11:\n",
    "    res = proportion('tumour_size',count,'breast_quad','central',corr)\n",
    "    lis.append(res)\n",
    "    count +=1\n",
    "yax7 = np.array(lis)\n",
    "\n",
    "\n",
    "count = 0  \n",
    "lis = [] # list to append results and plot later\n",
    "\n",
    "while count < 11:\n",
    "    res = proportion('tumour_size',count,'breast_quad','left_low',corr)\n",
    "    lis.append(res)\n",
    "    count +=1\n",
    "yax8 = np.array(lis)\n",
    "\n",
    "\n",
    "count = 0  \n",
    "lis = [] # list to append results and plot later\n",
    "\n",
    "while count < 11:\n",
    "    res = proportion('tumour_size',count,'breast_quad','left_up',corr)\n",
    "    lis.append(res)\n",
    "    count +=1\n",
    "yax9 = np.array(lis)\n",
    "\n",
    "count = 0  \n",
    "lis = [] # list to append results and plot later\n",
    "\n",
    "while count < 11:\n",
    "    res = proportion('tumour_size',count,'breast_quad','right_low',corr)\n",
    "    lis.append(res)\n",
    "    count +=1\n",
    "yax10 = np.array(lis)\n",
    "\n",
    "count = 0  \n",
    "lis = [] # list to append results and plot later\n",
    "\n",
    "while count < 11:\n",
    "    res = proportion('tumour_size',count,'breast_quad','right_up',corr)\n",
    "    lis.append(res)\n",
    "    count +=1\n",
    "yax11 = np.array(lis)\n",
    "\n",
    "\n",
    "\n",
    "# run through a while loop to iterate proportion() for 7 times\n",
    "count = 0  \n",
    "lis = [] # list to append results and plot later\n",
    "\n",
    "while count < 7:\n",
    "    res = proportion('inv_nodes',count,'node_caps','yes',corr)\n",
    "    lis.append(res)\n",
    "    count +=1\n",
    "\n",
    "yax2 = np.array(lis)\n",
    "\n",
    "\n",
    "\n",
    "# run through a while loop to iterate proportion() for 7 times\n",
    "count = 0  \n",
    "lis = [] # list to append results and plot later\n",
    "\n",
    "while count < 7:\n",
    "    res = proportion('inv_nodes',count,'irrad','yes',corr)\n",
    "    lis.append(res)\n",
    "    count +=1\n",
    "yax12 = np.array(lis)"
   ]
  },
  {
   "cell_type": "code",
   "execution_count": null,
   "metadata": {},
   "outputs": [
    {
     "data": {
      "image/png": "[encoded data removed]",
      "text/plain": [
       "<Figure size 800x1800 with 3 Axes>"
      ]
     },
     "metadata": {},
     "output_type": "display_data"
    }
   ],
   "source": [
    "# create a subplot layout with three subplots\n",
    "fig, (ax2, ax3, ax4) = plt.subplots(3, 1, gridspec_kw={'height_ratios': [10,10,10]})\n",
    "fig.set_size_inches(8,18)\n",
    "\n",
    "\n",
    "ax2.plot(yax7, color = 'r', label='central quadrant')\n",
    "ax2.plot(yax8, color = 'b', label='left_low quadrant')\n",
    "ax2.plot(yax9, color = 'g', label='left_up quadrant')\n",
    "ax2.plot(yax10, color = 'c', label='right_low quadrant')\n",
    "ax2.plot(yax11, color = 'm', label='right_up quadrant')\n",
    "ax2.legend(loc = 'upper right')\n",
    "\n",
    "ax3.plot(yax2, color = 'r')\n",
    "\n",
    "ax4.plot(yax12, color = 'r')\n",
    "\n",
    "\n",
    "\n",
    "ax2.set_title(r\"Patient's Tumour $\\bf{Size}$ by the $\\bf{Quadrant}$ of Breast\")\n",
    "ax3.set_title(r\"Patient's $\\bf{Number}$ of Invaded Lymph Nodes by $\\bf{Pierced}$ Lymph Nodes Diagnosis\")\n",
    "ax4.set_title(r\"Patient's $\\bf{Number}$ of Invaded Lymph Nodes by $\\bf{Radiation}$ Therapy as a Treatment\")\n",
    "\n",
    "\n",
    "\n",
    "ax2.set_xlabel('Size of Tumour (in mm)')\n",
    "ax2.set_ylabel('Count of Patients')\n",
    "ax2.set_xticks([0,1,2,3,4,5,6,7,8,9,10])\n",
    "ax2_labels = ['0-4','5-9','10-14','15-19','20-24','25-29','30-34','35-39','40-44','45-49','50-54']\n",
    "ax2.set_xticklabels(ax2_labels, rotation=45)\n",
    "\n",
    "ax3.set_xlabel('Number of Invaded Lymph Nodes')\n",
    "ax3.set_ylabel('Count of Patients')\n",
    "ax3.set_xticks([0,1,2,3,4,5,6])\n",
    "ax3_labels = ['0-2','3-5','6-8','9-11','12-14','15-17','24-26']\n",
    "ax3.set_xticklabels(ax3_labels, rotation=45)\n",
    "\n",
    "ax4.set_xlabel('Number of Invaded Lymph Nodes')\n",
    "ax4.set_ylabel('Count of Patients')\n",
    "ax4.set_xticks([0,1,2,3,4,5,6])\n",
    "ax4_labels = ['0-2','3-5','6-8','9-11','12-14','15-17','24-26']\n",
    "ax4.set_xticklabels(ax3_labels, rotation=45)\n",
    "\n",
    "# show the figure\n",
    "plt.subplots_adjust(hspace=0.8, wspace=0.6)\n",
    "plt.show()"
   ]
  },
  {
   "cell_type": "markdown",
   "metadata": {},
   "source": [
    "There is in fact a clear positive correlation between number of invaded lymph nodes and wether their capsule has been perforated or not."
   ]
  },
  {
   "cell_type": "markdown",
   "metadata": {},
   "source": [
    "##### Heuristic methodology\n",
    "\n",
    "Using a *Heuristic methodology* based on the correlation analysis between the features I would predict if a patient is subject to have a recurrence event by looking at the degree of malignancy,tumour size as well as the number of invaded lymph nodes and wether their capsule resulted perforated.<br>\n",
    "To make the *Heuristic methodology* more effective, I would compute an additional feature **Tumour Aggressivness**.\n",
    "\n",
    "The degree of malignancy of a tumor is a measure of how abnormal the cells in the tumor are and how likely they are to spread to other parts of the body. It is usually based on the tumor's appearance under a microscope and other factors such as its size, location, and the presence of certain genetic mutations. Tumors that are more malignant are more likely to spread and be harder to treat.\n",
    "\n",
    "The aggressiveness rate of a tumor, on the other hand, typically refers to how quickly a tumor is growing and spreading. It can also take into account factors such as the tumor's response to treatment and the likelihood of recurrence. Tumors that are more aggressive may be more likely to grow and spread rapidly, making them more difficult to treat."
   ]
  }
 ],
 "metadata": {
  "kernelspec": {
   "display_name": "Python 3",
   "language": "python",
   "name": "python3"
  },
  "language_info": {
   "codemirror_mode": {
    "name": "ipython",
    "version": 3
   },
   "file_extension": ".py",
   "mimetype": "text/x-python",
   "name": "python",
   "nbconvert_exporter": "python",
   "pygments_lexer": "ipython3",
   "version": "3.9.6"
  },
  "orig_nbformat": 4,
  "vscode": {
   "interpreter": {
    "hash": "bd87b69d6fc76c572fede75f7bc461ac068fdc8b40cdeead53c03d51dc6c0c1e"
   }
  }
 },
 "nbformat": 4,
 "nbformat_minor": 2
}
